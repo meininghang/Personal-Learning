{
 "cells": [
  {
   "cell_type": "code",
   "execution_count": 1,
   "metadata": {},
   "outputs": [],
   "source": [
    "import numpy as np"
   ]
  },
  {
   "cell_type": "code",
   "execution_count": 3,
   "metadata": {},
   "outputs": [
    {
     "data": {
      "text/plain": [
       "array([ 5,  7,  9, 20])"
      ]
     },
     "execution_count": 3,
     "metadata": {},
     "output_type": "execute_result"
    }
   ],
   "source": [
    "data1 = [5, 7, 9, 20]\n",
    "arr1 = np.array(data1)\n",
    "arr1"
   ]
  },
  {
   "cell_type": "code",
   "execution_count": 4,
   "metadata": {},
   "outputs": [
    {
     "data": {
      "text/plain": [
       "array([ 5,  7,  9, 20])"
      ]
     },
     "execution_count": 4,
     "metadata": {},
     "output_type": "execute_result"
    }
   ],
   "source": [
    "data2 = (5, 7, 9, 20)\n",
    "arr2 = np.array(data2)\n",
    "arr2"
   ]
  },
  {
   "cell_type": "code",
   "execution_count": 5,
   "metadata": {},
   "outputs": [
    {
     "data": {
      "text/plain": [
       "array([[1, 2, 3, 4],\n",
       "       [5, 6, 7, 8]])"
      ]
     },
     "execution_count": 5,
     "metadata": {},
     "output_type": "execute_result"
    }
   ],
   "source": [
    "data3 = [[1, 2, 3, 4,], [5, 6, 7, 8]]\n",
    "arr3 = np.array(data3)\n",
    "arr3"
   ]
  },
  {
   "cell_type": "code",
   "execution_count": 6,
   "metadata": {},
   "outputs": [
    {
     "data": {
      "text/plain": [
       "(2, 4)"
      ]
     },
     "execution_count": 6,
     "metadata": {},
     "output_type": "execute_result"
    }
   ],
   "source": [
    "arr3.shape"
   ]
  },
  {
   "cell_type": "code",
   "execution_count": 7,
   "metadata": {},
   "outputs": [
    {
     "data": {
      "text/plain": [
       "dtype('int64')"
      ]
     },
     "execution_count": 7,
     "metadata": {},
     "output_type": "execute_result"
    }
   ],
   "source": [
    "arr3.dtype"
   ]
  },
  {
   "cell_type": "code",
   "execution_count": 12,
   "metadata": {},
   "outputs": [
    {
     "data": {
      "text/plain": [
       "array([0., 0., 0., 0., 0., 0., 0., 0.])"
      ]
     },
     "execution_count": 12,
     "metadata": {},
     "output_type": "execute_result"
    }
   ],
   "source": [
    "np.zeros(8)"
   ]
  },
  {
   "cell_type": "code",
   "execution_count": 13,
   "metadata": {},
   "outputs": [
    {
     "data": {
      "text/plain": [
       "array([1., 1., 1., 1., 1., 1., 1., 1.])"
      ]
     },
     "execution_count": 13,
     "metadata": {},
     "output_type": "execute_result"
    }
   ],
   "source": [
    "np.ones(8)"
   ]
  },
  {
   "cell_type": "code",
   "execution_count": 14,
   "metadata": {},
   "outputs": [
    {
     "data": {
      "text/plain": [
       "array([1., 1., 1., 1., 1., 1., 1., 1.])"
      ]
     },
     "execution_count": 14,
     "metadata": {},
     "output_type": "execute_result"
    }
   ],
   "source": [
    "np.empty(8)"
   ]
  },
  {
   "cell_type": "code",
   "execution_count": 15,
   "metadata": {},
   "outputs": [
    {
     "data": {
      "text/plain": [
       "array([[-2.68156159e+154, -2.00389689e+000],\n",
       "       [ 2.37663529e-312,  2.78134232e-309]])"
      ]
     },
     "execution_count": 15,
     "metadata": {},
     "output_type": "execute_result"
    }
   ],
   "source": [
    "np.empty((2,2))"
   ]
  },
  {
   "cell_type": "code",
   "execution_count": 16,
   "metadata": {},
   "outputs": [
    {
     "data": {
      "text/plain": [
       "array([[[1., 1.],\n",
       "        [1., 1.]],\n",
       "\n",
       "       [[1., 1.],\n",
       "        [1., 1.]]])"
      ]
     },
     "execution_count": 16,
     "metadata": {},
     "output_type": "execute_result"
    }
   ],
   "source": [
    "np.empty((2,2,2))"
   ]
  },
  {
   "cell_type": "code",
   "execution_count": 17,
   "metadata": {},
   "outputs": [
    {
     "data": {
      "text/plain": [
       "array([0, 1, 2, 3, 4, 5, 6, 7])"
      ]
     },
     "execution_count": 17,
     "metadata": {},
     "output_type": "execute_result"
    }
   ],
   "source": [
    "np.arange(8)"
   ]
  },
  {
   "cell_type": "code",
   "execution_count": 18,
   "metadata": {},
   "outputs": [
    {
     "name": "stdout",
     "output_type": "stream",
     "text": [
      "0\n",
      "1\n",
      "2\n",
      "3\n",
      "4\n",
      "5\n",
      "6\n",
      "7\n"
     ]
    }
   ],
   "source": [
    "for i in np.arange(8):\n",
    "    print(i)"
   ]
  },
  {
   "cell_type": "code",
   "execution_count": 19,
   "metadata": {},
   "outputs": [
    {
     "data": {
      "text/plain": [
       "[0, 1, 2, 3, 4, 5, 6, 7]"
      ]
     },
     "execution_count": 19,
     "metadata": {},
     "output_type": "execute_result"
    }
   ],
   "source": [
    "[i for i in np.arange(8)]"
   ]
  },
  {
   "cell_type": "code",
   "execution_count": 20,
   "metadata": {},
   "outputs": [
    {
     "data": {
      "text/plain": [
       "{0: 0, 1: 1, 2: 2, 3: 3, 4: 4, 5: 5, 6: 6, 7: 7}"
      ]
     },
     "execution_count": 20,
     "metadata": {},
     "output_type": "execute_result"
    }
   ],
   "source": [
    "{i:k for k, i in enumerate(np.arange(8))}"
   ]
  },
  {
   "cell_type": "code",
   "execution_count": 21,
   "metadata": {},
   "outputs": [
    {
     "data": {
      "text/plain": [
       "array([[1, 1, 1, 1],\n",
       "       [1, 1, 1, 1]])"
      ]
     },
     "execution_count": 21,
     "metadata": {},
     "output_type": "execute_result"
    }
   ],
   "source": [
    "arr4 = np.ones_like(arr3)\n",
    "arr4"
   ]
  },
  {
   "cell_type": "code",
   "execution_count": 22,
   "metadata": {},
   "outputs": [
    {
     "data": {
      "text/plain": [
       "array([[0, 0, 0, 0],\n",
       "       [0, 0, 0, 0]])"
      ]
     },
     "execution_count": 22,
     "metadata": {},
     "output_type": "execute_result"
    }
   ],
   "source": [
    "arr5 = np.zeros_like(arr4)\n",
    "arr5"
   ]
  },
  {
   "cell_type": "code",
   "execution_count": 23,
   "metadata": {},
   "outputs": [
    {
     "data": {
      "text/plain": [
       "dtype('int64')"
      ]
     },
     "execution_count": 23,
     "metadata": {},
     "output_type": "execute_result"
    }
   ],
   "source": [
    "arr5.dtype"
   ]
  },
  {
   "cell_type": "code",
   "execution_count": 24,
   "metadata": {},
   "outputs": [
    {
     "data": {
      "text/plain": [
       "array([[2, 4, 5],\n",
       "       [3, 5, 7]])"
      ]
     },
     "execution_count": 24,
     "metadata": {},
     "output_type": "execute_result"
    }
   ],
   "source": [
    "data = [[2, 4, 5], [3, 5, 7]]\n",
    "arr = np.array(data)\n",
    "arr"
   ]
  },
  {
   "cell_type": "code",
   "execution_count": 26,
   "metadata": {},
   "outputs": [
    {
     "data": {
      "text/plain": [
       "2"
      ]
     },
     "execution_count": 26,
     "metadata": {},
     "output_type": "execute_result"
    }
   ],
   "source": [
    "arr.ndim #数据轴的个数,秩"
   ]
  },
  {
   "cell_type": "code",
   "execution_count": 27,
   "metadata": {},
   "outputs": [
    {
     "data": {
      "text/plain": [
       "(2, 3)"
      ]
     },
     "execution_count": 27,
     "metadata": {},
     "output_type": "execute_result"
    }
   ],
   "source": [
    "arr.shape #维度"
   ]
  },
  {
   "cell_type": "code",
   "execution_count": 28,
   "metadata": {},
   "outputs": [
    {
     "data": {
      "text/plain": [
       "6"
      ]
     },
     "execution_count": 28,
     "metadata": {},
     "output_type": "execute_result"
    }
   ],
   "source": [
    "arr.size #元素个数"
   ]
  },
  {
   "cell_type": "code",
   "execution_count": 29,
   "metadata": {},
   "outputs": [
    {
     "data": {
      "text/plain": [
       "8"
      ]
     },
     "execution_count": 29,
     "metadata": {},
     "output_type": "execute_result"
    }
   ],
   "source": [
    "arr.itemsize #数组中每个元素的字节大小"
   ]
  },
  {
   "cell_type": "code",
   "execution_count": 30,
   "metadata": {},
   "outputs": [
    {
     "data": {
      "text/plain": [
       "dtype('int64')"
      ]
     },
     "execution_count": 30,
     "metadata": {},
     "output_type": "execute_result"
    }
   ],
   "source": [
    "arr.dtype #数据类型"
   ]
  },
  {
   "cell_type": "code",
   "execution_count": 31,
   "metadata": {},
   "outputs": [
    {
     "data": {
      "text/plain": [
       "array([0., 1., 2., 3., 4.])"
      ]
     },
     "execution_count": 31,
     "metadata": {},
     "output_type": "execute_result"
    }
   ],
   "source": [
    "arr2 = np.arange(5, dtype='float64')\n",
    "arr2"
   ]
  },
  {
   "cell_type": "code",
   "execution_count": 32,
   "metadata": {},
   "outputs": [
    {
     "data": {
      "text/plain": [
       "array([0, 1, 2, 3, 4, 5])"
      ]
     },
     "execution_count": 32,
     "metadata": {},
     "output_type": "execute_result"
    }
   ],
   "source": [
    "arr1 = np.arange(6)\n",
    "arr1"
   ]
  },
  {
   "cell_type": "code",
   "execution_count": 33,
   "metadata": {},
   "outputs": [
    {
     "data": {
      "text/plain": [
       "dtype('int64')"
      ]
     },
     "execution_count": 33,
     "metadata": {},
     "output_type": "execute_result"
    }
   ],
   "source": [
    "arr1.dtype"
   ]
  },
  {
   "cell_type": "code",
   "execution_count": 34,
   "metadata": {},
   "outputs": [
    {
     "data": {
      "text/plain": [
       "array([0., 1., 2., 3., 4., 5.])"
      ]
     },
     "execution_count": 34,
     "metadata": {},
     "output_type": "execute_result"
    }
   ],
   "source": [
    "arr2 = arr1.astype(np.float64)\n",
    "arr2"
   ]
  },
  {
   "cell_type": "code",
   "execution_count": 35,
   "metadata": {},
   "outputs": [
    {
     "data": {
      "text/plain": [
       "dtype('float64')"
      ]
     },
     "execution_count": 35,
     "metadata": {},
     "output_type": "execute_result"
    }
   ],
   "source": [
    "arr2.dtype"
   ]
  },
  {
   "cell_type": "code",
   "execution_count": 36,
   "metadata": {},
   "outputs": [
    {
     "data": {
      "text/plain": [
       "array([b'0', b'1', b'2', b'3', b'4', b'5'], dtype='|S21')"
      ]
     },
     "execution_count": 36,
     "metadata": {},
     "output_type": "execute_result"
    }
   ],
   "source": [
    "arr3 = arr1.astype('string_')\n",
    "arr3"
   ]
  },
  {
   "cell_type": "code",
   "execution_count": 37,
   "metadata": {},
   "outputs": [
    {
     "data": {
      "text/plain": [
       "dtype('S21')"
      ]
     },
     "execution_count": 37,
     "metadata": {},
     "output_type": "execute_result"
    }
   ],
   "source": [
    "arr3.dtype"
   ]
  },
  {
   "cell_type": "code",
   "execution_count": 38,
   "metadata": {},
   "outputs": [
    {
     "data": {
      "text/plain": [
       "array([2.3, 7.5, 5.6, 9.8])"
      ]
     },
     "execution_count": 38,
     "metadata": {},
     "output_type": "execute_result"
    }
   ],
   "source": [
    "arr = np.array([2.3, 7.5, 5.6, 9.8])\n",
    "arr"
   ]
  },
  {
   "cell_type": "code",
   "execution_count": 39,
   "metadata": {},
   "outputs": [
    {
     "data": {
      "text/plain": [
       "array([2, 7, 5, 9])"
      ]
     },
     "execution_count": 39,
     "metadata": {},
     "output_type": "execute_result"
    }
   ],
   "source": [
    "arr.astype('int64')"
   ]
  },
  {
   "cell_type": "code",
   "execution_count": 40,
   "metadata": {},
   "outputs": [
    {
     "data": {
      "text/plain": [
       "array([b'0', b'1', b'2', b'3', b'4', b'5'], dtype='|S21')"
      ]
     },
     "execution_count": 40,
     "metadata": {},
     "output_type": "execute_result"
    }
   ],
   "source": [
    "arr3"
   ]
  },
  {
   "cell_type": "code",
   "execution_count": 41,
   "metadata": {},
   "outputs": [
    {
     "data": {
      "text/plain": [
       "array([0, 1, 2, 3, 4, 5])"
      ]
     },
     "execution_count": 41,
     "metadata": {},
     "output_type": "execute_result"
    }
   ],
   "source": [
    "arr3.astype(np.int64)"
   ]
  },
  {
   "cell_type": "code",
   "execution_count": 42,
   "metadata": {},
   "outputs": [
    {
     "data": {
      "text/plain": [
       "dtype('float64')"
      ]
     },
     "execution_count": 42,
     "metadata": {},
     "output_type": "execute_result"
    }
   ],
   "source": [
    "arr1 = np.arange(10)\n",
    "arr.dtype"
   ]
  },
  {
   "cell_type": "code",
   "execution_count": 43,
   "metadata": {},
   "outputs": [
    {
     "data": {
      "text/plain": [
       "dtype('float64')"
      ]
     },
     "execution_count": 43,
     "metadata": {},
     "output_type": "execute_result"
    }
   ],
   "source": [
    "arr2 = np.ones(5)\n",
    "arr2.dtype"
   ]
  },
  {
   "cell_type": "code",
   "execution_count": 44,
   "metadata": {},
   "outputs": [
    {
     "data": {
      "text/plain": [
       "array([0., 1., 2., 3., 4., 5., 6., 7., 8., 9.])"
      ]
     },
     "execution_count": 44,
     "metadata": {},
     "output_type": "execute_result"
    }
   ],
   "source": [
    "arr3 = arr1.astype(arr2.dtype)\n",
    "arr3"
   ]
  },
  {
   "cell_type": "code",
   "execution_count": 45,
   "metadata": {},
   "outputs": [
    {
     "data": {
      "text/plain": [
       "array([0, 1, 2, 3, 4, 5, 6, 7, 8])"
      ]
     },
     "execution_count": 45,
     "metadata": {},
     "output_type": "execute_result"
    }
   ],
   "source": [
    "arr = np.arange(9)\n",
    "arr"
   ]
  },
  {
   "cell_type": "code",
   "execution_count": 46,
   "metadata": {},
   "outputs": [
    {
     "data": {
      "text/plain": [
       "array([[0, 1, 2],\n",
       "       [3, 4, 5],\n",
       "       [6, 7, 8]])"
      ]
     },
     "execution_count": 46,
     "metadata": {},
     "output_type": "execute_result"
    }
   ],
   "source": [
    "arr.reshape((3,3))"
   ]
  },
  {
   "cell_type": "code",
   "execution_count": 47,
   "metadata": {},
   "outputs": [
    {
     "data": {
      "text/plain": [
       "array([[0],\n",
       "       [1],\n",
       "       [2],\n",
       "       [3],\n",
       "       [4],\n",
       "       [5],\n",
       "       [6],\n",
       "       [7],\n",
       "       [8]])"
      ]
     },
     "execution_count": 47,
     "metadata": {},
     "output_type": "execute_result"
    }
   ],
   "source": [
    "arr.reshape((9,1))"
   ]
  },
  {
   "cell_type": "code",
   "execution_count": 48,
   "metadata": {},
   "outputs": [
    {
     "data": {
      "text/plain": [
       "array([[0, 1, 2, 3, 4, 5, 6, 7, 8]])"
      ]
     },
     "execution_count": 48,
     "metadata": {},
     "output_type": "execute_result"
    }
   ],
   "source": [
    "arr.reshape((1,9))"
   ]
  },
  {
   "cell_type": "code",
   "execution_count": 49,
   "metadata": {},
   "outputs": [
    {
     "ename": "ValueError",
     "evalue": "cannot reshape array of size 9 into shape (6,7)",
     "output_type": "error",
     "traceback": [
      "\u001b[0;31m---------------------------------------------------------------------------\u001b[0m",
      "\u001b[0;31mValueError\u001b[0m                                Traceback (most recent call last)",
      "\u001b[0;32m<ipython-input-49-ce51e7088901>\u001b[0m in \u001b[0;36m<module>\u001b[0;34m\u001b[0m\n\u001b[0;32m----> 1\u001b[0;31m \u001b[0marr\u001b[0m\u001b[0;34m.\u001b[0m\u001b[0mreshape\u001b[0m\u001b[0;34m(\u001b[0m\u001b[0;34m(\u001b[0m\u001b[0;36m6\u001b[0m\u001b[0;34m,\u001b[0m\u001b[0;36m7\u001b[0m\u001b[0;34m)\u001b[0m\u001b[0;34m)\u001b[0m\u001b[0;34m\u001b[0m\u001b[0;34m\u001b[0m\u001b[0m\n\u001b[0m",
      "\u001b[0;31mValueError\u001b[0m: cannot reshape array of size 9 into shape (6,7)"
     ]
    }
   ],
   "source": [
    "arr.reshape((6,7))"
   ]
  },
  {
   "cell_type": "code",
   "execution_count": 50,
   "metadata": {},
   "outputs": [
    {
     "data": {
      "text/plain": [
       "array([[0, 1, 2],\n",
       "       [3, 4, 5],\n",
       "       [6, 7, 8]])"
      ]
     },
     "execution_count": 50,
     "metadata": {},
     "output_type": "execute_result"
    }
   ],
   "source": [
    "arr.reshape((3,-1))"
   ]
  },
  {
   "cell_type": "code",
   "execution_count": 53,
   "metadata": {},
   "outputs": [
    {
     "data": {
      "text/plain": [
       "array([[0, 1, 2, 3, 4, 5, 6, 7, 8]])"
      ]
     },
     "execution_count": 53,
     "metadata": {},
     "output_type": "execute_result"
    }
   ],
   "source": [
    "arr.reshape((-1,9))"
   ]
  },
  {
   "cell_type": "code",
   "execution_count": 55,
   "metadata": {},
   "outputs": [
    {
     "data": {
      "text/plain": [
       "array([[0, 1, 2],\n",
       "       [3, 4, 5],\n",
       "       [6, 7, 8]])"
      ]
     },
     "execution_count": 55,
     "metadata": {},
     "output_type": "execute_result"
    }
   ],
   "source": [
    "arr.reshape((3,-1))"
   ]
  },
  {
   "cell_type": "code",
   "execution_count": 57,
   "metadata": {},
   "outputs": [],
   "source": [
    "arr2 = arr.reshape((3,-1))"
   ]
  },
  {
   "cell_type": "code",
   "execution_count": 58,
   "metadata": {},
   "outputs": [
    {
     "data": {
      "text/plain": [
       "array([[0, 1, 2],\n",
       "       [3, 4, 5],\n",
       "       [6, 7, 8]])"
      ]
     },
     "execution_count": 58,
     "metadata": {},
     "output_type": "execute_result"
    }
   ],
   "source": [
    "arr2"
   ]
  },
  {
   "cell_type": "code",
   "execution_count": 59,
   "metadata": {},
   "outputs": [
    {
     "data": {
      "text/plain": [
       "array([0, 1, 2, 3, 4, 5, 6, 7, 8])"
      ]
     },
     "execution_count": 59,
     "metadata": {},
     "output_type": "execute_result"
    }
   ],
   "source": [
    "arr2.flatten()"
   ]
  },
  {
   "cell_type": "code",
   "execution_count": 60,
   "metadata": {},
   "outputs": [
    {
     "data": {
      "text/plain": [
       "array([[0, 1, 2],\n",
       "       [3, 4, 5],\n",
       "       [6, 7, 8]])"
      ]
     },
     "execution_count": 60,
     "metadata": {},
     "output_type": "execute_result"
    }
   ],
   "source": [
    "arr2"
   ]
  },
  {
   "cell_type": "code",
   "execution_count": 61,
   "metadata": {},
   "outputs": [
    {
     "data": {
      "text/plain": [
       "array([0, 1, 2, 3, 4, 5, 6, 7, 8])"
      ]
     },
     "execution_count": 61,
     "metadata": {},
     "output_type": "execute_result"
    }
   ],
   "source": [
    "arr2.ravel()"
   ]
  },
  {
   "cell_type": "code",
   "execution_count": 62,
   "metadata": {},
   "outputs": [
    {
     "data": {
      "text/plain": [
       "array([0, 1, 2, 3, 4, 5, 6, 7, 8, 9])"
      ]
     },
     "execution_count": 62,
     "metadata": {},
     "output_type": "execute_result"
    }
   ],
   "source": [
    "arr1"
   ]
  },
  {
   "cell_type": "code",
   "execution_count": 63,
   "metadata": {},
   "outputs": [
    {
     "data": {
      "text/plain": [
       "array([[0, 1, 2],\n",
       "       [3, 4, 5],\n",
       "       [6, 7, 8]])"
      ]
     },
     "execution_count": 63,
     "metadata": {},
     "output_type": "execute_result"
    }
   ],
   "source": [
    "arr2"
   ]
  },
  {
   "cell_type": "code",
   "execution_count": 77,
   "metadata": {},
   "outputs": [
    {
     "data": {
      "text/plain": [
       "array([[ 9, 10, 11],\n",
       "       [12, 13, 14],\n",
       "       [15, 16, 17]])"
      ]
     },
     "execution_count": 77,
     "metadata": {},
     "output_type": "execute_result"
    }
   ],
   "source": [
    "arr3 = np.arange(9,18).reshape(3,-1)\n",
    "arr3"
   ]
  },
  {
   "cell_type": "code",
   "execution_count": 82,
   "metadata": {},
   "outputs": [
    {
     "data": {
      "text/plain": [
       "array([[ 0,  1,  2],\n",
       "       [ 3,  4,  5],\n",
       "       [ 6,  7,  8],\n",
       "       [ 9, 10, 11],\n",
       "       [12, 13, 14],\n",
       "       [15, 16, 17]])"
      ]
     },
     "execution_count": 82,
     "metadata": {},
     "output_type": "execute_result"
    }
   ],
   "source": [
    "np.concatenate([arr2,arr3])"
   ]
  },
  {
   "cell_type": "code",
   "execution_count": 83,
   "metadata": {},
   "outputs": [
    {
     "data": {
      "text/plain": [
       "array([[ 0,  1,  2,  9, 10, 11],\n",
       "       [ 3,  4,  5, 12, 13, 14],\n",
       "       [ 6,  7,  8, 15, 16, 17]])"
      ]
     },
     "execution_count": 83,
     "metadata": {},
     "output_type": "execute_result"
    }
   ],
   "source": [
    "np.concatenate([arr2, arr3], axis=1)"
   ]
  },
  {
   "cell_type": "code",
   "execution_count": 87,
   "metadata": {},
   "outputs": [
    {
     "data": {
      "text/plain": [
       "array([[ 0,  1,  2],\n",
       "       [ 3,  4,  5],\n",
       "       [ 6,  7,  8],\n",
       "       [ 9, 10, 11],\n",
       "       [12, 13, 14],\n",
       "       [15, 16, 17]])"
      ]
     },
     "execution_count": 87,
     "metadata": {},
     "output_type": "execute_result"
    }
   ],
   "source": [
    "arr4 = np.vstack((arr2, arr3))\n",
    "arr4"
   ]
  },
  {
   "cell_type": "code",
   "execution_count": 88,
   "metadata": {},
   "outputs": [
    {
     "data": {
      "text/plain": [
       "array([[ 0,  1,  2,  9, 10, 11],\n",
       "       [ 3,  4,  5, 12, 13, 14],\n",
       "       [ 6,  7,  8, 15, 16, 17]])"
      ]
     },
     "execution_count": 88,
     "metadata": {},
     "output_type": "execute_result"
    }
   ],
   "source": [
    "arr5 = np.hstack((arr2, arr3))\n",
    "arr5"
   ]
  },
  {
   "cell_type": "code",
   "execution_count": 90,
   "metadata": {},
   "outputs": [
    {
     "data": {
      "text/plain": [
       "[array([[ 0,  1,  2],\n",
       "        [ 3,  4,  5],\n",
       "        [ 6,  7,  8],\n",
       "        [ 9, 10, 11],\n",
       "        [12, 13, 14],\n",
       "        [15, 16, 17]]),\n",
       " array([], shape=(0, 3), dtype=int64),\n",
       " array([[ 6,  7,  8],\n",
       "        [ 9, 10, 11],\n",
       "        [12, 13, 14],\n",
       "        [15, 16, 17]])]"
      ]
     },
     "execution_count": 90,
     "metadata": {},
     "output_type": "execute_result"
    }
   ],
   "source": [
    "np.split(arr4,[9,2])"
   ]
  },
  {
   "cell_type": "code",
   "execution_count": 101,
   "metadata": {},
   "outputs": [
    {
     "data": {
      "text/plain": [
       "[array([[0, 1, 2]]),\n",
       " array([[3, 4, 5]]),\n",
       " array([[6, 7, 8]]),\n",
       " array([[ 9, 10, 11]]),\n",
       " array([[12, 13, 14]]),\n",
       " array([[15, 16, 17]])]"
      ]
     },
     "execution_count": 101,
     "metadata": {},
     "output_type": "execute_result"
    }
   ],
   "source": [
    "np.vsplit(arr4, 6)"
   ]
  },
  {
   "cell_type": "code",
   "execution_count": 104,
   "metadata": {},
   "outputs": [
    {
     "data": {
      "text/plain": [
       "[array([[ 0],\n",
       "        [ 3],\n",
       "        [ 6],\n",
       "        [ 9],\n",
       "        [12],\n",
       "        [15]]),\n",
       " array([[ 1],\n",
       "        [ 4],\n",
       "        [ 7],\n",
       "        [10],\n",
       "        [13],\n",
       "        [16]]),\n",
       " array([[ 2],\n",
       "        [ 5],\n",
       "        [ 8],\n",
       "        [11],\n",
       "        [14],\n",
       "        [17]])]"
      ]
     },
     "execution_count": 104,
     "metadata": {},
     "output_type": "execute_result"
    }
   ],
   "source": [
    "np.hsplit(arr4, 3)"
   ]
  },
  {
   "cell_type": "code",
   "execution_count": 105,
   "metadata": {},
   "outputs": [
    {
     "data": {
      "text/plain": [
       "array([0, 1, 2, 3, 4, 5, 6, 7, 8])"
      ]
     },
     "execution_count": 105,
     "metadata": {},
     "output_type": "execute_result"
    }
   ],
   "source": [
    "arr"
   ]
  },
  {
   "cell_type": "code",
   "execution_count": 106,
   "metadata": {},
   "outputs": [
    {
     "data": {
      "text/plain": [
       "array([0, 1, 2, 3, 4, 5, 6, 7, 8])"
      ]
     },
     "execution_count": 106,
     "metadata": {},
     "output_type": "execute_result"
    }
   ],
   "source": [
    "arr.T"
   ]
  },
  {
   "cell_type": "code",
   "execution_count": 107,
   "metadata": {},
   "outputs": [
    {
     "data": {
      "text/plain": [
       "array([[ 0,  1,  2],\n",
       "       [ 3,  4,  5],\n",
       "       [ 6,  7,  8],\n",
       "       [ 9, 10, 11],\n",
       "       [12, 13, 14],\n",
       "       [15, 16, 17]])"
      ]
     },
     "execution_count": 107,
     "metadata": {},
     "output_type": "execute_result"
    }
   ],
   "source": [
    "arr4"
   ]
  },
  {
   "cell_type": "code",
   "execution_count": 109,
   "metadata": {},
   "outputs": [
    {
     "data": {
      "text/plain": [
       "array([[ 0,  3,  6,  9, 12, 15],\n",
       "       [ 1,  4,  7, 10, 13, 16],\n",
       "       [ 2,  5,  8, 11, 14, 17]])"
      ]
     },
     "execution_count": 109,
     "metadata": {},
     "output_type": "execute_result"
    }
   ],
   "source": [
    "arr4.T"
   ]
  },
  {
   "cell_type": "code",
   "execution_count": 110,
   "metadata": {},
   "outputs": [],
   "source": [
    "arr = np.random.randint(100, 200, size=(5,4))"
   ]
  },
  {
   "cell_type": "code",
   "execution_count": 111,
   "metadata": {},
   "outputs": [
    {
     "data": {
      "text/plain": [
       "array([[194, 144, 182, 120],\n",
       "       [102, 166, 164, 192],\n",
       "       [164, 163, 197, 155],\n",
       "       [187, 192, 151, 120],\n",
       "       [199, 174, 190, 127]])"
      ]
     },
     "execution_count": 111,
     "metadata": {},
     "output_type": "execute_result"
    }
   ],
   "source": [
    "arr"
   ]
  },
  {
   "cell_type": "code",
   "execution_count": 112,
   "metadata": {},
   "outputs": [],
   "source": [
    "arr = np.random.randn(2, 3, 5)"
   ]
  },
  {
   "cell_type": "code",
   "execution_count": 113,
   "metadata": {},
   "outputs": [
    {
     "data": {
      "text/plain": [
       "array([[[ 0.10647448,  0.8683132 ,  0.36207672,  0.66342718,\n",
       "         -0.33220032],\n",
       "        [-1.10587958, -3.10163856,  0.29673772, -0.10972036,\n",
       "          1.3001411 ],\n",
       "        [-1.47636562, -0.59587421, -0.37770021, -0.84822111,\n",
       "          0.1953895 ]],\n",
       "\n",
       "       [[-1.12875575, -0.80896808,  1.06596737, -0.38138352,\n",
       "         -1.79544642],\n",
       "        [-0.30419824,  0.14071556,  1.17336448,  1.51449042,\n",
       "         -1.06712342],\n",
       "        [-0.06277782, -0.88731533, -1.30976877, -0.40636206,\n",
       "          0.89625019]]])"
      ]
     },
     "execution_count": 113,
     "metadata": {},
     "output_type": "execute_result"
    }
   ],
   "source": [
    "arr"
   ]
  },
  {
   "cell_type": "code",
   "execution_count": 115,
   "metadata": {},
   "outputs": [
    {
     "data": {
      "text/plain": [
       "array([[ 7.60888453,  1.52240974,  2.37946063,  7.37379272, 10.31187716],\n",
       "       [14.09480556,  9.03631847,  2.29821262,  3.16511629,  5.8708284 ],\n",
       "       [14.0179529 ,  3.48497113,  5.80648827,  5.19418371,  2.22006669]])"
      ]
     },
     "execution_count": 115,
     "metadata": {},
     "output_type": "execute_result"
    }
   ],
   "source": [
    "arr = np.random.normal(4, 5, size=(3,5)) #指定均值和标准差的随机数\n",
    "arr"
   ]
  },
  {
   "cell_type": "code",
   "execution_count": 116,
   "metadata": {},
   "outputs": [
    {
     "data": {
      "text/plain": [
       "array([[109, 168, 148, 157],\n",
       "       [195, 111, 117, 119],\n",
       "       [192, 103, 109, 175],\n",
       "       [167, 171, 101, 161],\n",
       "       [182, 194, 164, 136]])"
      ]
     },
     "execution_count": 116,
     "metadata": {},
     "output_type": "execute_result"
    }
   ],
   "source": [
    "arr = np.random.randint(100, 200 ,(5,4))\n",
    "arr"
   ]
  },
  {
   "cell_type": "code",
   "execution_count": 117,
   "metadata": {},
   "outputs": [
    {
     "data": {
      "text/plain": [
       "array([[109, 168, 148, 157],\n",
       "       [195, 111, 117, 119],\n",
       "       [182, 194, 164, 136],\n",
       "       [192, 103, 109, 175],\n",
       "       [167, 171, 101, 161]])"
      ]
     },
     "execution_count": 117,
     "metadata": {},
     "output_type": "execute_result"
    }
   ],
   "source": [
    "np.random.permutation(arr)"
   ]
  },
  {
   "cell_type": "code",
   "execution_count": 118,
   "metadata": {},
   "outputs": [
    {
     "data": {
      "text/plain": [
       "array([[109, 168, 148, 157],\n",
       "       [195, 111, 117, 119],\n",
       "       [192, 103, 109, 175],\n",
       "       [167, 171, 101, 161],\n",
       "       [182, 194, 164, 136]])"
      ]
     },
     "execution_count": 118,
     "metadata": {},
     "output_type": "execute_result"
    }
   ],
   "source": [
    "arr"
   ]
  },
  {
   "cell_type": "code",
   "execution_count": 119,
   "metadata": {},
   "outputs": [],
   "source": [
    "np.random.shuffle(arr)"
   ]
  },
  {
   "cell_type": "code",
   "execution_count": 120,
   "metadata": {},
   "outputs": [
    {
     "data": {
      "text/plain": [
       "array([[192, 103, 109, 175],\n",
       "       [109, 168, 148, 157],\n",
       "       [167, 171, 101, 161],\n",
       "       [195, 111, 117, 119],\n",
       "       [182, 194, 164, 136]])"
      ]
     },
     "execution_count": 120,
     "metadata": {},
     "output_type": "execute_result"
    }
   ],
   "source": [
    "arr"
   ]
  },
  {
   "cell_type": "markdown",
   "metadata": {},
   "source": [
    "# 数组的索引和切片"
   ]
  },
  {
   "cell_type": "markdown",
   "metadata": {},
   "source": [
    "## 数组的索引"
   ]
  },
  {
   "cell_type": "code",
   "execution_count": 121,
   "metadata": {},
   "outputs": [],
   "source": [
    "import numpy as np"
   ]
  },
  {
   "cell_type": "markdown",
   "metadata": {},
   "source": [
    "> 一维略"
   ]
  },
  {
   "cell_type": "code",
   "execution_count": 128,
   "metadata": {},
   "outputs": [],
   "source": [
    "arr = np.arange(15).reshape(3,5)"
   ]
  },
  {
   "cell_type": "code",
   "execution_count": 129,
   "metadata": {},
   "outputs": [
    {
     "data": {
      "text/plain": [
       "array([[ 0,  1,  2,  3,  4],\n",
       "       [ 5,  6,  7,  8,  9],\n",
       "       [10, 11, 12, 13, 14]])"
      ]
     },
     "execution_count": 129,
     "metadata": {},
     "output_type": "execute_result"
    }
   ],
   "source": [
    "arr"
   ]
  },
  {
   "cell_type": "code",
   "execution_count": 130,
   "metadata": {},
   "outputs": [
    {
     "data": {
      "text/plain": [
       "array([0, 1, 2, 3, 4])"
      ]
     },
     "execution_count": 130,
     "metadata": {},
     "output_type": "execute_result"
    }
   ],
   "source": [
    "arr[0]"
   ]
  },
  {
   "cell_type": "code",
   "execution_count": 131,
   "metadata": {},
   "outputs": [
    {
     "data": {
      "text/plain": [
       "0"
      ]
     },
     "execution_count": 131,
     "metadata": {},
     "output_type": "execute_result"
    }
   ],
   "source": [
    "arr[0][0]"
   ]
  },
  {
   "cell_type": "code",
   "execution_count": 132,
   "metadata": {},
   "outputs": [
    {
     "data": {
      "text/plain": [
       "0"
      ]
     },
     "execution_count": 132,
     "metadata": {},
     "output_type": "execute_result"
    }
   ],
   "source": [
    "arr[0,0]"
   ]
  },
  {
   "cell_type": "code",
   "execution_count": 133,
   "metadata": {},
   "outputs": [],
   "source": [
    "arr = np.arange(12).reshape(3,4,1)"
   ]
  },
  {
   "cell_type": "code",
   "execution_count": 134,
   "metadata": {},
   "outputs": [
    {
     "data": {
      "text/plain": [
       "array([[[ 0],\n",
       "        [ 1],\n",
       "        [ 2],\n",
       "        [ 3]],\n",
       "\n",
       "       [[ 4],\n",
       "        [ 5],\n",
       "        [ 6],\n",
       "        [ 7]],\n",
       "\n",
       "       [[ 8],\n",
       "        [ 9],\n",
       "        [10],\n",
       "        [11]]])"
      ]
     },
     "execution_count": 134,
     "metadata": {},
     "output_type": "execute_result"
    }
   ],
   "source": [
    "arr"
   ]
  },
  {
   "cell_type": "code",
   "execution_count": 136,
   "metadata": {},
   "outputs": [
    {
     "data": {
      "text/plain": [
       "array([[[ 0,  1],\n",
       "        [ 2,  3]],\n",
       "\n",
       "       [[ 4,  5],\n",
       "        [ 6,  7]],\n",
       "\n",
       "       [[ 8,  9],\n",
       "        [10, 11]]])"
      ]
     },
     "execution_count": 136,
     "metadata": {},
     "output_type": "execute_result"
    }
   ],
   "source": [
    "arr2 = np.arange(12).reshape(3,2,2)\n",
    "arr2"
   ]
  },
  {
   "cell_type": "code",
   "execution_count": 137,
   "metadata": {},
   "outputs": [
    {
     "data": {
      "text/plain": [
       "array([[0],\n",
       "       [1],\n",
       "       [2],\n",
       "       [3]])"
      ]
     },
     "execution_count": 137,
     "metadata": {},
     "output_type": "execute_result"
    }
   ],
   "source": [
    "arr[0]"
   ]
  },
  {
   "cell_type": "code",
   "execution_count": 139,
   "metadata": {},
   "outputs": [
    {
     "data": {
      "text/plain": [
       "0"
      ]
     },
     "execution_count": 139,
     "metadata": {},
     "output_type": "execute_result"
    }
   ],
   "source": [
    "arr[0][0][0]"
   ]
  },
  {
   "cell_type": "code",
   "execution_count": 140,
   "metadata": {},
   "outputs": [
    {
     "data": {
      "text/plain": [
       "array([[[0],\n",
       "        [1],\n",
       "        [2],\n",
       "        [3]],\n",
       "\n",
       "       [[4],\n",
       "        [5],\n",
       "        [6],\n",
       "        [7]]])"
      ]
     },
     "execution_count": 140,
     "metadata": {},
     "output_type": "execute_result"
    }
   ],
   "source": [
    "arr[:2]"
   ]
  },
  {
   "cell_type": "code",
   "execution_count": 148,
   "metadata": {},
   "outputs": [
    {
     "data": {
      "text/plain": [
       "4"
      ]
     },
     "execution_count": 148,
     "metadata": {},
     "output_type": "execute_result"
    }
   ],
   "source": [
    "arr[:2][1:][0][:2][0][0]"
   ]
  },
  {
   "cell_type": "code",
   "execution_count": 155,
   "metadata": {},
   "outputs": [
    {
     "data": {
      "text/plain": [
       "array([[1, 2, 3],\n",
       "       [5, 6, 7]])"
      ]
     },
     "execution_count": 155,
     "metadata": {},
     "output_type": "execute_result"
    }
   ],
   "source": [
    "arr[:2,1:,0,]"
   ]
  },
  {
   "cell_type": "code",
   "execution_count": 156,
   "metadata": {},
   "outputs": [
    {
     "ename": "IndexError",
     "evalue": "too many indices for array",
     "output_type": "error",
     "traceback": [
      "\u001b[0;31m---------------------------------------------------------------------------\u001b[0m",
      "\u001b[0;31mIndexError\u001b[0m                                Traceback (most recent call last)",
      "\u001b[0;32m<ipython-input-156-2f1fc5afcccc>\u001b[0m in \u001b[0;36m<module>\u001b[0;34m\u001b[0m\n\u001b[0;32m----> 1\u001b[0;31m \u001b[0marr\u001b[0m\u001b[0;34m[\u001b[0m\u001b[0;34m:\u001b[0m\u001b[0;36m2\u001b[0m\u001b[0;34m,\u001b[0m\u001b[0;36m1\u001b[0m\u001b[0;34m:\u001b[0m\u001b[0;34m,\u001b[0m\u001b[0;36m0\u001b[0m\u001b[0;34m,\u001b[0m\u001b[0;36m0\u001b[0m\u001b[0;34m]\u001b[0m\u001b[0;34m\u001b[0m\u001b[0;34m\u001b[0m\u001b[0m\n\u001b[0m",
      "\u001b[0;31mIndexError\u001b[0m: too many indices for array"
     ]
    }
   ],
   "source": [
    "arr[:2,1:,0,0]"
   ]
  },
  {
   "cell_type": "code",
   "execution_count": 162,
   "metadata": {},
   "outputs": [
    {
     "data": {
      "text/plain": [
       "array([[ 1, -1, -1,  2,  2],\n",
       "       [ 1,  2, -1, -1, -1],\n",
       "       [ 0,  0, -1, -1,  1],\n",
       "       [ 0,  2,  1,  0, -1],\n",
       "       [ 2,  2,  1,  2, -1],\n",
       "       [ 1, -1,  0,  1,  0],\n",
       "       [ 0,  1,  1,  0, -1]])"
      ]
     },
     "execution_count": 162,
     "metadata": {},
     "output_type": "execute_result"
    }
   ],
   "source": [
    "datas = np.random.randint(-1, 3, size=(7,5))\n",
    "datas"
   ]
  },
  {
   "cell_type": "code",
   "execution_count": 163,
   "metadata": {},
   "outputs": [],
   "source": [
    "datas[datas==0] = 1"
   ]
  },
  {
   "cell_type": "code",
   "execution_count": 164,
   "metadata": {},
   "outputs": [
    {
     "data": {
      "text/plain": [
       "array([[ 1, -1, -1,  2,  2],\n",
       "       [ 1,  2, -1, -1, -1],\n",
       "       [ 1,  1, -1, -1,  1],\n",
       "       [ 1,  2,  1,  1, -1],\n",
       "       [ 2,  2,  1,  2, -1],\n",
       "       [ 1, -1,  1,  1,  1],\n",
       "       [ 1,  1,  1,  1, -1]])"
      ]
     },
     "execution_count": 164,
     "metadata": {},
     "output_type": "execute_result"
    }
   ],
   "source": [
    "datas"
   ]
  },
  {
   "cell_type": "markdown",
   "metadata": {},
   "source": [
    "# 数组运算"
   ]
  },
  {
   "cell_type": "code",
   "execution_count": 166,
   "metadata": {},
   "outputs": [
    {
     "data": {
      "text/plain": [
       "[10, 20, 30]"
      ]
     },
     "execution_count": 166,
     "metadata": {},
     "output_type": "execute_result"
    }
   ],
   "source": [
    "a = [1,2,3]\n",
    "b = [x*10 for x in a]\n",
    "b"
   ]
  },
  {
   "cell_type": "code",
   "execution_count": 167,
   "metadata": {},
   "outputs": [
    {
     "data": {
      "text/plain": [
       "array([1, 2, 3])"
      ]
     },
     "execution_count": 167,
     "metadata": {},
     "output_type": "execute_result"
    }
   ],
   "source": [
    "arr = np.array([1,2,3])\n",
    "arr"
   ]
  },
  {
   "cell_type": "code",
   "execution_count": 171,
   "metadata": {},
   "outputs": [
    {
     "data": {
      "text/plain": [
       "array([ True,  True,  True])"
      ]
     },
     "execution_count": 171,
     "metadata": {},
     "output_type": "execute_result"
    }
   ],
   "source": [
    "arr != 100000"
   ]
  },
  {
   "cell_type": "code",
   "execution_count": 173,
   "metadata": {},
   "outputs": [
    {
     "data": {
      "text/plain": [
       "array([1, 2, 3])"
      ]
     },
     "execution_count": 173,
     "metadata": {},
     "output_type": "execute_result"
    }
   ],
   "source": [
    "np.abs(arr)"
   ]
  },
  {
   "cell_type": "code",
   "execution_count": 174,
   "metadata": {},
   "outputs": [
    {
     "data": {
      "text/plain": [
       "array([1.        , 1.41421356, 1.73205081])"
      ]
     },
     "execution_count": 174,
     "metadata": {},
     "output_type": "execute_result"
    }
   ],
   "source": [
    "np.sqrt(arr)"
   ]
  },
  {
   "cell_type": "code",
   "execution_count": 175,
   "metadata": {},
   "outputs": [
    {
     "data": {
      "text/plain": [
       "array([1, 4, 9])"
      ]
     },
     "execution_count": 175,
     "metadata": {},
     "output_type": "execute_result"
    }
   ],
   "source": [
    "np.square(arr)"
   ]
  },
  {
   "cell_type": "code",
   "execution_count": 178,
   "metadata": {},
   "outputs": [
    {
     "data": {
      "text/plain": [
       "array([[-5.61236941e-01,  3.39565541e+00,  1.10779157e+00,\n",
       "         8.18373741e+00,  1.13310458e+01,  1.13535542e+01,\n",
       "         1.87502945e+00,  4.18492929e+00,  2.91401307e-02,\n",
       "         3.56587439e+00,  5.64309465e+00, -5.52209596e+00,\n",
       "         5.34688869e+00,  2.09774688e+00,  1.01571411e+01,\n",
       "         3.63475347e-01,  1.30709320e+01,  4.48031753e+00,\n",
       "        -7.30163515e-01,  6.10545233e+00,  1.46374607e+00,\n",
       "         3.92317416e+00,  4.79440876e+00,  4.18705507e+00,\n",
       "         3.01144804e-01,  2.80038652e+00,  4.87042885e+00,\n",
       "         2.68287074e+00,  7.17242938e+00,  5.66102983e+00,\n",
       "         1.87317973e+00,  5.78877308e+00,  1.35754535e+01,\n",
       "         3.12282511e+00,  9.15689382e-01,  3.50473333e+00,\n",
       "         1.95641324e+00,  4.97653567e+00,  6.18792743e+00,\n",
       "         4.60273605e+00, -9.54288791e-01,  2.66973079e+00,\n",
       "         2.58301810e+00,  5.40194309e+00,  8.19386232e+00,\n",
       "        -1.10775381e+00,  1.17176966e+01, -2.36078923e+00,\n",
       "         7.34258314e-02,  7.69605286e-01,  5.19249334e+00,\n",
       "         6.36273709e+00,  7.02912003e+00, -8.34070929e-01,\n",
       "         4.30447607e-01,  1.07473222e+01,  1.06504663e+01,\n",
       "        -4.39930679e-01,  5.28745961e-01,  9.80975616e+00,\n",
       "         3.75153925e+00,  2.73622595e+00,  5.67109226e+00,\n",
       "        -1.85816142e+00,  8.41714847e+00,  5.56687079e+00,\n",
       "         4.78524436e+00, -4.10714271e+00,  5.19716943e+00,\n",
       "         3.04647516e+00,  1.20570950e+00,  7.71679651e+00,\n",
       "         3.46370239e+00, -2.31718970e+00,  1.25317333e+01,\n",
       "         1.06790492e+01,  1.21948658e+01,  2.66700834e+00,\n",
       "        -2.83329252e+00,  9.03523139e+00, -1.73017962e-01,\n",
       "         5.32928202e+00,  5.69307356e+00,  7.78373037e+00,\n",
       "         5.15506471e+00, -1.05724398e-01,  6.69439100e+00,\n",
       "         4.43680031e-01,  2.18637723e+00],\n",
       "       [ 1.79950830e+00,  8.86061619e+00,  3.44852378e+00,\n",
       "         8.52655493e+00,  5.43721276e+00,  5.77032038e+00,\n",
       "         2.29419276e+00,  1.24384350e+00,  9.37909866e-01,\n",
       "        -1.52349833e+00,  3.51438947e+00,  5.45268055e+00,\n",
       "        -3.06112598e+00,  3.40981610e+00,  3.94495929e+00,\n",
       "         4.25064259e+00,  6.98285418e+00,  6.47266922e+00,\n",
       "         1.91780393e+00, -3.27568385e+00,  7.05098507e+00,\n",
       "         7.44636127e+00,  2.73202042e+00,  6.85474878e+00,\n",
       "         9.85675770e+00,  1.78449734e+00,  6.58117594e+00,\n",
       "        -9.46332171e-02,  8.49250628e+00, -5.67022169e+00,\n",
       "        -1.63211464e+00,  2.48924442e+00,  7.52670443e+00,\n",
       "         7.00164753e+00, -7.48645312e+00,  2.55001133e+00,\n",
       "         2.55013490e+00,  4.39320195e+00, -7.38069575e-01,\n",
       "         1.75253787e+00,  3.84897617e+00,  1.43354953e+01,\n",
       "         5.91400818e+00,  1.35334878e+00,  4.95111937e+00,\n",
       "        -2.46761312e+00,  4.70972756e+00, -8.44727316e-02,\n",
       "         9.56323545e+00, -1.53967571e+00,  6.89901521e+00,\n",
       "         2.04394667e+00,  6.60165246e+00,  6.75539296e+00,\n",
       "         2.52920461e+00, -4.21955153e+00,  3.68439107e+00,\n",
       "         1.58545421e+00, -1.99382949e+00, -6.86465304e-01,\n",
       "         2.01771406e+00, -3.05656049e+00,  3.29056093e+00,\n",
       "         7.97973347e+00,  7.26507293e-01,  8.10088290e+00,\n",
       "         8.26348218e+00,  8.74271133e+00, -2.60827093e+00,\n",
       "         4.14481896e-01, -3.58469393e+00,  3.51552629e+00,\n",
       "         7.04553464e+00,  3.65692317e+00,  1.04465772e+00,\n",
       "         1.36755400e-01,  6.32312128e-02,  8.12918846e+00,\n",
       "         2.49177032e+00, -3.35648230e-01, -3.13867630e+00,\n",
       "         1.23045889e+01,  8.06915967e+00,  6.97165397e+00,\n",
       "         5.34620008e-01, -5.44605946e+00,  6.47496786e+00,\n",
       "        -2.59536216e+00,  7.19541866e+00],\n",
       "       [-3.16715790e-01, -1.48192150e+00,  6.33728224e+00,\n",
       "         1.21109605e+00,  1.73741386e+00,  1.05159591e+01,\n",
       "         6.68118879e+00,  1.09136163e+01,  3.56664585e+00,\n",
       "        -7.79976502e-01,  6.22082534e+00,  5.78575412e+00,\n",
       "         2.42353082e+00,  2.97795742e+00,  7.64685968e+00,\n",
       "         1.51075685e+01,  2.38558116e+00,  5.30425590e+00,\n",
       "         1.11725452e+00,  6.10424100e+00, -2.89259224e+00,\n",
       "        -1.18271365e+00,  2.47365421e+00,  8.13070406e+00,\n",
       "         4.06649613e+00, -1.11336412e+00, -9.29354691e-02,\n",
       "         1.07024570e+01,  7.51228328e+00,  3.05372815e+00,\n",
       "         4.56544831e+00,  9.63233810e-01,  4.94183029e+00,\n",
       "        -3.58591499e+00, -2.39346022e+00, -3.17117397e+00,\n",
       "         4.04581393e+00,  5.24564299e+00,  4.03470060e+00,\n",
       "         5.44184245e+00,  4.24015891e+00,  2.12079658e+00,\n",
       "        -3.43959488e+00,  7.56791175e-01,  1.22568836e+00,\n",
       "         4.10175299e-01,  3.24809996e+00,  4.53133584e+00,\n",
       "         6.82644453e+00,  1.78183857e+00,  5.25974778e+00,\n",
       "         8.31875682e+00,  4.34140501e+00, -1.62439799e+00,\n",
       "         1.20205795e+01,  1.11247254e+01,  2.68017880e+00,\n",
       "         5.81394309e+00,  1.11058524e+00, -1.70895461e+00,\n",
       "         1.86987559e+00,  5.18805660e+00, -5.44130183e-01,\n",
       "        -5.00021766e+00, -9.18390444e-02, -2.87781862e+00,\n",
       "        -4.35506559e+00,  6.07043016e-01,  3.62387467e+00,\n",
       "         5.56561354e+00,  7.23908792e+00,  6.54239811e+00,\n",
       "         1.64718377e+00,  3.21959426e+00,  4.64582745e+00,\n",
       "         4.17173954e+00,  9.15418566e+00,  4.19223578e+00,\n",
       "         6.30285801e+00,  1.37948830e+00,  6.34785580e+00,\n",
       "         3.80783927e+00,  5.89906149e+00, -3.32491765e-02,\n",
       "         8.92051730e+00,  2.97294902e+00,  8.65881481e+00,\n",
       "         4.24181289e+00, -1.60820534e-01],\n",
       "       [ 4.90314367e-01,  9.27523265e+00,  2.75535324e+00,\n",
       "         5.82020443e+00,  6.30853883e-01,  8.36113814e-01,\n",
       "         3.01864753e+00,  2.51502179e-01,  4.91223493e+00,\n",
       "         8.35434045e+00,  2.76698930e+00,  1.63039110e+00,\n",
       "        -5.49706802e+00, -2.11623676e+00,  5.06282334e+00,\n",
       "         5.18841718e+00,  4.07169616e-01,  1.14709316e+01,\n",
       "         3.65195125e+00,  1.01706257e+00, -4.57433183e+00,\n",
       "         6.66310152e+00,  6.35236915e+00, -1.07593055e+00,\n",
       "        -1.01851536e-02,  5.01818358e+00,  5.42425416e+00,\n",
       "         5.19980089e+00,  6.50466176e+00,  4.25985919e+00,\n",
       "         4.83886925e+00,  4.95941619e-01,  6.84591906e-01,\n",
       "         5.99861691e+00,  4.05411174e+00,  2.02468226e+00,\n",
       "         3.75732293e+00,  6.80391708e+00,  2.20647921e+00,\n",
       "         6.01942445e+00,  1.41094986e+00,  1.09904402e+00,\n",
       "         6.56296003e-02, -3.44171694e-01,  5.03091690e+00,\n",
       "         4.66797916e+00,  5.17937975e+00,  1.94756922e+00,\n",
       "         2.15248045e+00,  1.06915547e+01,  9.09263677e+00,\n",
       "         4.10184051e+00,  2.88185672e+00,  1.01671150e+00,\n",
       "         1.14103027e+01,  4.82746092e+00,  6.98224515e+00,\n",
       "        -1.11909886e+00,  1.01180497e+01,  1.05527896e+01,\n",
       "         5.96804798e+00,  3.04441289e+00,  5.76274897e+00,\n",
       "        -1.11899875e-01,  4.11072245e+00,  8.60754185e+00,\n",
       "         3.28943971e-02,  5.80929930e+00, -1.42074556e-01,\n",
       "         7.85085533e+00, -3.76269912e+00,  6.08011600e+00,\n",
       "         1.04196906e+01,  1.12558077e+00, -5.10707441e+00,\n",
       "         2.78756936e+00,  7.95280299e+00, -2.66189347e+00,\n",
       "         8.05933332e+00, -6.38051769e-01, -4.57077547e+00,\n",
       "         5.07907113e+00, -1.52244137e+00,  5.00614100e-01,\n",
       "         6.97613845e+00, -1.31312650e+00,  1.50137652e+00,\n",
       "         4.16968945e+00,  1.18082982e+00],\n",
       "       [ 2.75050614e+00, -1.41262674e+00,  1.93103359e+00,\n",
       "         7.34823379e+00,  7.85722181e+00, -2.77972003e+00,\n",
       "         1.12428276e-01, -7.20711028e+00, -7.68687968e-02,\n",
       "         6.57675725e+00,  3.50256505e+00,  3.49867402e-01,\n",
       "        -1.71422443e+00,  4.18743799e+00, -8.43043625e-01,\n",
       "         7.97964114e+00,  6.24261380e+00,  2.80205536e-01,\n",
       "         3.06244597e+00, -2.97309038e+00,  1.16402427e+00,\n",
       "         6.14463928e+00,  1.22533846e+01,  2.53286786e+00,\n",
       "         3.90657938e+00, -3.78210881e-01,  5.94059476e-01,\n",
       "        -5.63917965e+00,  1.18733428e+00,  5.65469385e+00,\n",
       "         8.01595037e+00,  1.61798201e+00,  7.47681549e+00,\n",
       "        -1.37431653e+00,  8.73536027e+00, -1.25528161e+00,\n",
       "         8.44238781e-01, -2.05387159e+00,  3.46234917e+00,\n",
       "        -6.28523117e+00,  4.18854667e+00,  5.33435017e+00,\n",
       "         1.32094785e+01, -4.03039967e-01,  9.74898368e+00,\n",
       "         4.23723133e+00,  2.23343856e+00, -7.55145355e-01,\n",
       "         2.27304969e+00, -2.46552700e+00,  3.67371103e+00,\n",
       "        -2.34265978e+00,  2.22184838e+00,  8.64250616e+00,\n",
       "         3.94581771e+00,  2.70532989e+00,  5.15540619e+00,\n",
       "         8.24597182e+00,  1.59046279e+00,  5.73398977e+00,\n",
       "         1.97519541e+00,  2.77158330e+00, -4.26938586e+00,\n",
       "         7.53548984e+00,  4.76726639e+00,  8.94740963e+00,\n",
       "         3.45721668e+00,  8.52307536e+00,  1.75777182e+00,\n",
       "         2.00467846e+00, -8.44498929e-01,  4.15580239e+00,\n",
       "         6.27474117e+00,  1.60881633e+00, -3.60156625e+00,\n",
       "         6.94505587e+00,  5.37835953e-01,  7.45705362e+00,\n",
       "         2.81783864e+00,  1.67243962e+00,  9.21313397e+00,\n",
       "         5.27616940e+00,  4.22394285e+00,  3.54621253e+00,\n",
       "         5.10291479e+00,  5.87294108e+00,  3.20998659e+00,\n",
       "         3.44532348e+00,  4.27549296e+00],\n",
       "       [ 9.57706584e+00,  7.18593379e+00,  8.57995488e+00,\n",
       "        -2.80715883e+00,  1.79029477e+00,  9.28886681e+00,\n",
       "         4.02110580e+00,  7.87060507e-01, -2.78421913e+00,\n",
       "         3.86768905e+00,  3.21861453e+00,  1.02934854e+01,\n",
       "         1.89595138e+00, -2.23540719e-01,  8.14983147e+00,\n",
       "         9.04873123e+00,  5.71524817e-01,  5.53206348e+00,\n",
       "         3.30231122e+00,  1.70053741e+00,  3.45021146e+00,\n",
       "         4.63750768e+00,  3.34327108e+00,  1.21619876e+00,\n",
       "        -4.66358001e+00,  3.83445860e+00, -5.11839677e-01,\n",
       "        -2.40722563e+00, -1.24542716e+00,  1.38272073e+01,\n",
       "         5.72246631e+00, -4.85988512e-01,  5.22212074e+00,\n",
       "        -1.81026264e+00,  3.90735619e+00,  2.35207649e+00,\n",
       "         5.35845317e-01,  2.80963556e+00,  2.51510774e+00,\n",
       "        -4.64416135e+00, -1.08389947e+00, -1.66440648e+00,\n",
       "         6.23671894e+00, -3.88181512e+00, -1.49826389e+00,\n",
       "         8.73083917e+00,  2.42451082e+00, -3.43601388e+00,\n",
       "         7.15892474e+00, -5.55610249e+00,  2.85490787e+00,\n",
       "        -1.00448056e+00,  4.36975708e-01, -8.06454893e+00,\n",
       "         3.28657044e+00,  9.05016373e+00,  4.96635109e-01,\n",
       "         4.14481313e+00,  2.56305412e+00,  2.04095024e-01,\n",
       "        -1.35966517e+00,  6.32577090e+00, -1.80060565e+00,\n",
       "         2.00719711e+00,  5.29601197e+00,  3.13493403e+00,\n",
       "         4.30252225e+00,  8.19077832e+00,  1.70851436e+00,\n",
       "        -3.47084218e+00,  8.59299101e+00,  4.34647282e+00,\n",
       "         5.90073693e+00,  1.73954461e+00,  3.25868953e+00,\n",
       "        -4.81113818e+00,  9.85475856e+00, -2.49718081e+00,\n",
       "         3.65666687e+00,  2.55294884e+00,  4.46746364e+00,\n",
       "         1.76943487e+00,  4.14423144e+00, -2.98681138e+00,\n",
       "         8.64987007e-03,  4.11883461e+00,  1.76453034e+00,\n",
       "         3.38980201e+00,  5.62633244e+00],\n",
       "       [ 1.62277614e+00, -1.12041012e+00,  2.43611451e+00,\n",
       "         5.39148945e+00, -7.47417935e+00,  2.78563669e+00,\n",
       "         1.97551847e+00,  1.44913101e+01, -4.28564927e+00,\n",
       "         2.43571012e+00,  4.33481874e+00,  1.92837896e+00,\n",
       "        -1.03936863e+01, -1.11315385e+00,  7.34537329e+00,\n",
       "         4.57436036e+00,  1.14582051e+01, -1.49758155e-01,\n",
       "         3.24418072e+00,  6.81850211e+00, -3.52254423e+00,\n",
       "         7.14497999e+00, -8.46594265e-02,  4.04028358e+00,\n",
       "         4.37014180e+00,  7.49864102e+00,  6.24898877e+00,\n",
       "         6.57159179e+00,  5.35730238e+00,  4.11974829e+00,\n",
       "         3.17761395e+00,  4.62901232e+00,  3.36758987e+00,\n",
       "         9.75902999e+00,  1.70608440e+00,  3.61746410e+00,\n",
       "         3.32720838e+00,  5.39838625e-01,  3.05253735e+00,\n",
       "         2.45407227e+00,  8.55087291e+00,  8.20712499e+00,\n",
       "         7.01377730e+00,  5.17596984e+00,  3.08817980e+00,\n",
       "         4.57705919e-01,  5.27565944e+00,  2.43016298e+00,\n",
       "         1.23412505e+01,  3.37806463e+00,  5.38891076e+00,\n",
       "         2.79574139e+00,  4.61853961e+00, -2.65418006e+00,\n",
       "         1.38184406e+00,  3.36339647e+00, -2.96928891e+00,\n",
       "        -2.07586442e+00,  5.91151203e+00,  8.50331010e+00,\n",
       "         6.09501543e+00, -9.63128927e-02,  6.32157437e+00,\n",
       "        -1.43073882e+00, -6.86372911e-01, -6.40706817e+00,\n",
       "         2.47537385e+00,  1.11913699e+00,  8.04662975e+00,\n",
       "         8.16096044e+00, -2.47161078e+00, -1.19045737e+00,\n",
       "         2.64518208e-01,  1.97216448e+00,  3.59656511e-01,\n",
       "         1.99127835e+00,  7.35407448e+00,  4.21959077e+00,\n",
       "         7.72215053e+00,  3.20041963e+00,  5.30922585e+00,\n",
       "         3.30902862e+00,  8.93752177e+00,  4.02937107e+00,\n",
       "        -4.57402936e+00,  7.02612010e+00, -1.56135708e+00,\n",
       "         3.33736331e+00,  5.63053782e+00],\n",
       "       [ 5.09168036e+00, -2.34501436e+00,  2.76556904e+00,\n",
       "        -6.09023382e+00,  4.29259169e+00,  2.30051018e+00,\n",
       "         9.83523723e+00,  2.30398163e+00, -7.63253684e-01,\n",
       "        -1.10835936e+00,  3.32302669e+00,  7.59469159e+00,\n",
       "        -3.57947308e-01,  2.14684234e+00,  2.82696673e+00,\n",
       "         4.97541708e+00, -3.45391950e+00,  1.84829537e+00,\n",
       "         1.80340895e+00,  3.29064217e-01, -6.59123292e-01,\n",
       "         1.17740337e-01,  1.36605206e+00,  8.13272986e-01,\n",
       "         2.27181414e+00,  4.90599135e+00,  8.99235959e+00,\n",
       "        -6.29300662e-02,  3.69076015e+00, -1.65767398e+00,\n",
       "        -9.91342647e-01, -2.55966720e+00,  2.11662114e+00,\n",
       "        -2.42102377e+00,  7.28157885e+00,  4.99545235e+00,\n",
       "         2.01046297e+00,  6.86513393e+00,  1.69664007e+00,\n",
       "         4.70006228e+00,  2.58524956e+00,  3.97060751e+00,\n",
       "         7.82475237e+00,  1.15540648e+01,  6.78524269e+00,\n",
       "         3.05462813e+00,  2.51301161e+00,  8.75211127e+00,\n",
       "         2.88541679e+00,  4.08984222e+00,  2.17147923e+00,\n",
       "         2.60240911e+00,  4.42632064e+00,  1.33979629e+01,\n",
       "         1.41703788e+01,  8.37867435e+00,  9.90625598e+00,\n",
       "         1.09685338e-01,  6.50310195e+00,  9.56004059e+00,\n",
       "         3.18909639e-01, -2.34895751e-01, -5.21760662e-01,\n",
       "         1.21448938e+00,  1.04131014e+01,  6.34980350e+00,\n",
       "         7.70385978e+00,  7.14959061e+00, -5.91595623e+00,\n",
       "         6.02374429e+00,  2.69277081e+00,  1.70698202e+00,\n",
       "        -7.37970719e-02,  6.15104837e+00, -9.46795959e-01,\n",
       "         8.13129205e+00,  6.35285743e-02,  3.38951425e+00,\n",
       "        -1.05072066e+00,  4.41804112e+00,  8.68748380e+00,\n",
       "        -2.77464331e-01,  4.39147803e+00,  8.70153401e+00,\n",
       "         2.05592686e+00,  2.62177079e+00,  2.71739199e+00,\n",
       "         2.33271966e+00,  5.85348197e-01],\n",
       "       [ 6.76759042e+00,  2.67760815e+00,  1.10359251e-01,\n",
       "         1.51999933e+00,  1.09999318e+01,  1.29157865e+01,\n",
       "         5.14617402e+00,  9.57612264e+00,  1.40801172e+00,\n",
       "         9.39488320e+00, -1.42783691e+00,  9.80855145e+00,\n",
       "        -1.84906387e+00, -6.26772227e-01, -3.43286145e-01,\n",
       "         2.52698460e+00, -6.09348353e-01,  5.07771696e+00,\n",
       "         6.34113559e+00,  3.11351222e+00,  6.05250799e+00,\n",
       "         1.09171574e+01,  9.11788300e+00,  2.56819187e+00,\n",
       "         1.21752838e+01, -3.15110947e+00,  5.77995624e+00,\n",
       "        -6.07965518e-01,  9.17471871e+00, -5.13849043e-01,\n",
       "         6.58548607e+00,  5.64524288e+00,  3.91101700e+00,\n",
       "         5.38908165e+00,  5.27177154e+00,  5.45883833e+00,\n",
       "         1.53348551e+00,  4.63267532e+00,  1.40204204e+01,\n",
       "         9.73199445e+00,  4.29158510e-01,  6.81161078e-01,\n",
       "         5.09041390e+00, -1.21009351e+00,  4.76245614e+00,\n",
       "         4.99025413e+00, -2.80708135e+00,  8.88925553e+00,\n",
       "         1.42454739e+01, -3.07272845e+00,  1.09403056e+01,\n",
       "         3.69997477e+00,  4.11967082e-02,  4.39522407e+00,\n",
       "         7.97054592e-01,  4.34239399e+00,  5.46898223e+00,\n",
       "        -3.93969706e+00,  9.42822736e-01,  2.75208678e+00,\n",
       "         2.67171919e+00,  2.63021353e+00, -1.43624932e+00,\n",
       "        -6.60971372e-01, -6.64248336e+00,  7.32814559e+00,\n",
       "        -1.02806231e-01,  4.10832920e-01,  2.66206362e+00,\n",
       "         2.17343303e+00, -3.59870130e+00,  3.46008634e+00,\n",
       "         4.77959351e+00,  5.46429109e+00,  2.15679463e+00,\n",
       "         4.76142134e+00,  2.15946289e+00, -3.00414321e+00,\n",
       "         2.48324899e+00,  1.57932286e+00,  9.98639803e+00,\n",
       "         5.64564250e+00,  1.03070081e+01,  5.29731453e+00,\n",
       "        -4.13239735e+00,  7.12165509e+00,  2.51012227e+00,\n",
       "         7.74842965e+00, -2.58975050e+00]])"
      ]
     },
     "execution_count": 178,
     "metadata": {},
     "output_type": "execute_result"
    }
   ],
   "source": [
    "arr = np.random.normal(3,4,size=(9,89))\n",
    "arr"
   ]
  },
  {
   "cell_type": "code",
   "execution_count": 179,
   "metadata": {},
   "outputs": [
    {
     "data": {
      "text/plain": [
       "(array([[-5.61236941e-01,  3.95655409e-01,  1.07791569e-01,\n",
       "          1.83737413e-01,  3.31045797e-01,  3.53554172e-01,\n",
       "          8.75029454e-01,  1.84929287e-01,  2.91401307e-02,\n",
       "          5.65874387e-01,  6.43094650e-01, -5.22095963e-01,\n",
       "          3.46888689e-01,  9.77468776e-02,  1.57141091e-01,\n",
       "          3.63475347e-01,  7.09320233e-02,  4.80317535e-01,\n",
       "         -7.30163515e-01,  1.05452331e-01,  4.63746069e-01,\n",
       "          9.23174157e-01,  7.94408758e-01,  1.87055068e-01,\n",
       "          3.01144804e-01,  8.00386522e-01,  8.70428849e-01,\n",
       "          6.82870739e-01,  1.72429381e-01,  6.61029833e-01,\n",
       "          8.73179734e-01,  7.88773079e-01,  5.75453528e-01,\n",
       "          1.22825114e-01,  9.15689382e-01,  5.04733327e-01,\n",
       "          9.56413239e-01,  9.76535665e-01,  1.87927427e-01,\n",
       "          6.02736050e-01, -9.54288791e-01,  6.69730790e-01,\n",
       "          5.83018102e-01,  4.01943091e-01,  1.93862321e-01,\n",
       "         -1.07753811e-01,  7.17696576e-01, -3.60789229e-01,\n",
       "          7.34258314e-02,  7.69605286e-01,  1.92493342e-01,\n",
       "          3.62737087e-01,  2.91200342e-02, -8.34070929e-01,\n",
       "          4.30447607e-01,  7.47322203e-01,  6.50466321e-01,\n",
       "         -4.39930679e-01,  5.28745961e-01,  8.09756164e-01,\n",
       "          7.51539245e-01,  7.36225951e-01,  6.71092257e-01,\n",
       "         -8.58161422e-01,  4.17148470e-01,  5.66870789e-01,\n",
       "          7.85244357e-01, -1.07142708e-01,  1.97169430e-01,\n",
       "          4.64751589e-02,  2.05709503e-01,  7.16796508e-01,\n",
       "          4.63702387e-01, -3.17189699e-01,  5.31733286e-01,\n",
       "          6.79049199e-01,  1.94865806e-01,  6.67008344e-01,\n",
       "         -8.33292523e-01,  3.52313902e-02, -1.73017962e-01,\n",
       "          3.29282016e-01,  6.93073559e-01,  7.83730373e-01,\n",
       "          1.55064709e-01, -1.05724398e-01,  6.94390997e-01,\n",
       "          4.43680031e-01,  1.86377229e-01],\n",
       "        [ 7.99508302e-01,  8.60616187e-01,  4.48523782e-01,\n",
       "          5.26554925e-01,  4.37212762e-01,  7.70320379e-01,\n",
       "          2.94192759e-01,  2.43843504e-01,  9.37909866e-01,\n",
       "         -5.23498331e-01,  5.14389470e-01,  4.52680552e-01,\n",
       "         -6.11259849e-02,  4.09816101e-01,  9.44959289e-01,\n",
       "          2.50642590e-01,  9.82854176e-01,  4.72669219e-01,\n",
       "          9.17803928e-01, -2.75683852e-01,  5.09850694e-02,\n",
       "          4.46361268e-01,  7.32020423e-01,  8.54748775e-01,\n",
       "          8.56757702e-01,  7.84497339e-01,  5.81175943e-01,\n",
       "         -9.46332171e-02,  4.92506282e-01, -6.70221690e-01,\n",
       "         -6.32114639e-01,  4.89244424e-01,  5.26704429e-01,\n",
       "          1.64753378e-03, -4.86453116e-01,  5.50011331e-01,\n",
       "          5.50134895e-01,  3.93201949e-01, -7.38069575e-01,\n",
       "          7.52537865e-01,  8.48976171e-01,  3.35495272e-01,\n",
       "          9.14008176e-01,  3.53348776e-01,  9.51119373e-01,\n",
       "         -4.67613123e-01,  7.09727557e-01, -8.44727316e-02,\n",
       "          5.63235450e-01, -5.39675711e-01,  8.99015212e-01,\n",
       "          4.39466663e-02,  6.01652456e-01,  7.55392960e-01,\n",
       "          5.29204611e-01, -2.19551534e-01,  6.84391073e-01,\n",
       "          5.85454212e-01, -9.93829495e-01, -6.86465304e-01,\n",
       "          1.77140598e-02, -5.65604913e-02,  2.90560925e-01,\n",
       "          9.79733471e-01,  7.26507293e-01,  1.00882898e-01,\n",
       "          2.63482184e-01,  7.42711335e-01, -6.08270927e-01,\n",
       "          4.14481896e-01, -5.84693927e-01,  5.15526291e-01,\n",
       "          4.55346369e-02,  6.56923172e-01,  4.46577223e-02,\n",
       "          1.36755400e-01,  6.32312128e-02,  1.29188462e-01,\n",
       "          4.91770318e-01, -3.35648230e-01, -1.38676304e-01,\n",
       "          3.04588902e-01,  6.91596662e-02,  9.71653967e-01,\n",
       "          5.34620008e-01, -4.46059459e-01,  4.74967864e-01,\n",
       "         -5.95362156e-01,  1.95418658e-01],\n",
       "        [-3.16715790e-01, -4.81921500e-01,  3.37282242e-01,\n",
       "          2.11096051e-01,  7.37413862e-01,  5.15959070e-01,\n",
       "          6.81188794e-01,  9.13616259e-01,  5.66645847e-01,\n",
       "         -7.79976502e-01,  2.20825344e-01,  7.85754116e-01,\n",
       "          4.23530818e-01,  9.77957423e-01,  6.46859680e-01,\n",
       "          1.07568518e-01,  3.85581159e-01,  3.04255899e-01,\n",
       "          1.17254523e-01,  1.04240998e-01, -8.92592241e-01,\n",
       "         -1.82713646e-01,  4.73654208e-01,  1.30704056e-01,\n",
       "          6.64961348e-02, -1.13364124e-01, -9.29354691e-02,\n",
       "          7.02457050e-01,  5.12283278e-01,  5.37281471e-02,\n",
       "          5.65448306e-01,  9.63233810e-01,  9.41830293e-01,\n",
       "         -5.85914995e-01, -3.93460218e-01, -1.71173973e-01,\n",
       "          4.58139337e-02,  2.45642986e-01,  3.47005972e-02,\n",
       "          4.41842452e-01,  2.40158915e-01,  1.20796578e-01,\n",
       "         -4.39594877e-01,  7.56791175e-01,  2.25688363e-01,\n",
       "          4.10175299e-01,  2.48099956e-01,  5.31335844e-01,\n",
       "          8.26444527e-01,  7.81838570e-01,  2.59747784e-01,\n",
       "          3.18756823e-01,  3.41405012e-01, -6.24397990e-01,\n",
       "          2.05795164e-02,  1.24725405e-01,  6.80178797e-01,\n",
       "          8.13943089e-01,  1.10585245e-01, -7.08954611e-01,\n",
       "          8.69875590e-01,  1.88056596e-01, -5.44130183e-01,\n",
       "         -2.17663815e-04, -9.18390444e-02, -8.77818617e-01,\n",
       "         -3.55065593e-01,  6.07043016e-01,  6.23874670e-01,\n",
       "          5.65613539e-01,  2.39087916e-01,  5.42398111e-01,\n",
       "          6.47183774e-01,  2.19594263e-01,  6.45827453e-01,\n",
       "          1.71739544e-01,  1.54185663e-01,  1.92235776e-01,\n",
       "          3.02858006e-01,  3.79488297e-01,  3.47855805e-01,\n",
       "          8.07839269e-01,  8.99061486e-01, -3.32491765e-02,\n",
       "          9.20517303e-01,  9.72949018e-01,  6.58814809e-01,\n",
       "          2.41812890e-01, -1.60820534e-01],\n",
       "        [ 4.90314367e-01,  2.75232648e-01,  7.55353238e-01,\n",
       "          8.20204432e-01,  6.30853883e-01,  8.36113814e-01,\n",
       "          1.86475336e-02,  2.51502179e-01,  9.12234935e-01,\n",
       "          3.54340446e-01,  7.66989297e-01,  6.30391101e-01,\n",
       "         -4.97068024e-01, -1.16236760e-01,  6.28233431e-02,\n",
       "          1.88417182e-01,  4.07169616e-01,  4.70931609e-01,\n",
       "          6.51951252e-01,  1.70625703e-02, -5.74331833e-01,\n",
       "          6.63101522e-01,  3.52369148e-01, -7.59305529e-02,\n",
       "         -1.01851536e-02,  1.81835780e-02,  4.24254164e-01,\n",
       "          1.99800888e-01,  5.04661763e-01,  2.59859186e-01,\n",
       "          8.38869253e-01,  4.95941619e-01,  6.84591906e-01,\n",
       "          9.98616906e-01,  5.41117423e-02,  2.46822629e-02,\n",
       "          7.57322928e-01,  8.03917075e-01,  2.06479211e-01,\n",
       "          1.94244505e-02,  4.10949862e-01,  9.90440177e-02,\n",
       "          6.56296003e-02, -3.44171694e-01,  3.09169036e-02,\n",
       "          6.67979155e-01,  1.79379746e-01,  9.47569224e-01,\n",
       "          1.52480452e-01,  6.91554691e-01,  9.26367734e-02,\n",
       "          1.01840512e-01,  8.81856721e-01,  1.67115044e-02,\n",
       "          4.10302655e-01,  8.27460925e-01,  9.82245151e-01,\n",
       "         -1.19098863e-01,  1.18049656e-01,  5.52789642e-01,\n",
       "          9.68047978e-01,  4.44128904e-02,  7.62748965e-01,\n",
       "         -1.11899875e-01,  1.10722448e-01,  6.07541850e-01,\n",
       "          3.28943971e-02,  8.09299299e-01, -1.42074556e-01,\n",
       "          8.50855328e-01, -7.62699118e-01,  8.01159968e-02,\n",
       "          4.19690630e-01,  1.25580770e-01, -1.07074411e-01,\n",
       "          7.87569361e-01,  9.52802994e-01, -6.61893472e-01,\n",
       "          5.93333232e-02, -6.38051769e-01, -5.70775468e-01,\n",
       "          7.90711279e-02, -5.22441373e-01,  5.00614100e-01,\n",
       "          9.76138452e-01, -3.13126498e-01,  5.01376523e-01,\n",
       "          1.69689452e-01,  1.80829822e-01],\n",
       "        [ 7.50506142e-01, -4.12626743e-01,  9.31033595e-01,\n",
       "          3.48233791e-01,  8.57221811e-01, -7.79720028e-01,\n",
       "          1.12428276e-01, -2.07110280e-01, -7.68687968e-02,\n",
       "          5.76757252e-01,  5.02565048e-01,  3.49867402e-01,\n",
       "         -7.14224425e-01,  1.87437985e-01, -8.43043625e-01,\n",
       "          9.79641136e-01,  2.42613802e-01,  2.80205536e-01,\n",
       "          6.24459699e-02, -9.73090379e-01,  1.64024271e-01,\n",
       "          1.44639280e-01,  2.53384593e-01,  5.32867857e-01,\n",
       "          9.06579384e-01, -3.78210881e-01,  5.94059476e-01,\n",
       "         -6.39179651e-01,  1.87334280e-01,  6.54693854e-01,\n",
       "          1.59503747e-02,  6.17982009e-01,  4.76815488e-01,\n",
       "         -3.74316527e-01,  7.35360265e-01, -2.55281613e-01,\n",
       "          8.44238781e-01, -5.38715921e-02,  4.62349167e-01,\n",
       "         -2.85231167e-01,  1.88546674e-01,  3.34350166e-01,\n",
       "          2.09478540e-01, -4.03039967e-01,  7.48983683e-01,\n",
       "          2.37231326e-01,  2.33438560e-01, -7.55145355e-01,\n",
       "          2.73049688e-01, -4.65527005e-01,  6.73711031e-01,\n",
       "         -3.42659776e-01,  2.21848384e-01,  6.42506161e-01,\n",
       "          9.45817714e-01,  7.05329895e-01,  1.55406188e-01,\n",
       "          2.45971822e-01,  5.90462791e-01,  7.33989773e-01,\n",
       "          9.75195408e-01,  7.71583302e-01, -2.69385864e-01,\n",
       "          5.35489838e-01,  7.67266388e-01,  9.47409625e-01,\n",
       "          4.57216677e-01,  5.23075364e-01,  7.57771824e-01,\n",
       "          4.67846324e-03, -8.44498929e-01,  1.55802391e-01,\n",
       "          2.74741170e-01,  6.08816327e-01, -6.01566251e-01,\n",
       "          9.45055866e-01,  5.37835953e-01,  4.57053625e-01,\n",
       "          8.17838643e-01,  6.72439619e-01,  2.13133966e-01,\n",
       "          2.76169403e-01,  2.23942852e-01,  5.46212526e-01,\n",
       "          1.02914790e-01,  8.72941084e-01,  2.09986593e-01,\n",
       "          4.45323476e-01,  2.75492964e-01],\n",
       "        [ 5.77065837e-01,  1.85933793e-01,  5.79954882e-01,\n",
       "         -8.07158834e-01,  7.90294767e-01,  2.88866806e-01,\n",
       "          2.11058047e-02,  7.87060507e-01, -7.84219134e-01,\n",
       "          8.67689051e-01,  2.18614534e-01,  2.93485350e-01,\n",
       "          8.95951382e-01, -2.23540719e-01,  1.49831470e-01,\n",
       "          4.87312302e-02,  5.71524817e-01,  5.32063479e-01,\n",
       "          3.02311219e-01,  7.00537405e-01,  4.50211457e-01,\n",
       "          6.37507682e-01,  3.43271076e-01,  2.16198757e-01,\n",
       "         -6.63580011e-01,  8.34458595e-01, -5.11839677e-01,\n",
       "         -4.07225632e-01, -2.45427157e-01,  8.27207293e-01,\n",
       "          7.22466306e-01, -4.85988512e-01,  2.22120739e-01,\n",
       "         -8.10262637e-01,  9.07356189e-01,  3.52076492e-01,\n",
       "          5.35845317e-01,  8.09635556e-01,  5.15107742e-01,\n",
       "         -6.44161355e-01, -8.38994685e-02, -6.64406477e-01,\n",
       "          2.36718942e-01, -8.81815117e-01, -4.98263887e-01,\n",
       "          7.30839167e-01,  4.24510815e-01, -4.36013884e-01,\n",
       "          1.58924739e-01, -5.56102486e-01,  8.54907871e-01,\n",
       "         -4.48055926e-03,  4.36975708e-01, -6.45489268e-02,\n",
       "          2.86570440e-01,  5.01637266e-02,  4.96635109e-01,\n",
       "          1.44813132e-01,  5.63054118e-01,  2.04095024e-01,\n",
       "         -3.59665174e-01,  3.25770901e-01, -8.00605647e-01,\n",
       "          7.19711133e-03,  2.96011974e-01,  1.34934031e-01,\n",
       "          3.02522251e-01,  1.90778323e-01,  7.08514359e-01,\n",
       "         -4.70842178e-01,  5.92991012e-01,  3.46472816e-01,\n",
       "          9.00736928e-01,  7.39544611e-01,  2.58689535e-01,\n",
       "         -8.11138184e-01,  8.54758557e-01, -4.97180809e-01,\n",
       "          6.56666875e-01,  5.52948841e-01,  4.67463643e-01,\n",
       "          7.69434869e-01,  1.44231436e-01, -9.86811383e-01,\n",
       "          8.64987007e-03,  1.18834614e-01,  7.64530341e-01,\n",
       "          3.89802006e-01,  6.26332436e-01],\n",
       "        [ 6.22776138e-01, -1.20410122e-01,  4.36114507e-01,\n",
       "          3.91489450e-01, -4.74179354e-01,  7.85636688e-01,\n",
       "          9.75518465e-01,  4.91310093e-01, -2.85649275e-01,\n",
       "          4.35710121e-01,  3.34818743e-01,  9.28378963e-01,\n",
       "         -3.93686291e-01, -1.13153847e-01,  3.45373292e-01,\n",
       "          5.74360365e-01,  4.58205055e-01, -1.49758155e-01,\n",
       "          2.44180722e-01,  8.18502108e-01, -5.22544231e-01,\n",
       "          1.44979988e-01, -8.46594265e-02,  4.02835770e-02,\n",
       "          3.70141804e-01,  4.98641024e-01,  2.48988772e-01,\n",
       "          5.71591789e-01,  3.57302380e-01,  1.19748287e-01,\n",
       "          1.77613954e-01,  6.29012321e-01,  3.67589874e-01,\n",
       "          7.59029993e-01,  7.06084405e-01,  6.17464096e-01,\n",
       "          3.27208377e-01,  5.39838625e-01,  5.25373483e-02,\n",
       "          4.54072267e-01,  5.50872912e-01,  2.07124994e-01,\n",
       "          1.37772963e-02,  1.75969839e-01,  8.81798006e-02,\n",
       "          4.57705919e-01,  2.75659438e-01,  4.30162982e-01,\n",
       "          3.41250496e-01,  3.78064627e-01,  3.88910758e-01,\n",
       "          7.95741388e-01,  6.18539611e-01, -6.54180062e-01,\n",
       "          3.81844059e-01,  3.63396467e-01, -9.69288913e-01,\n",
       "         -7.58644242e-02,  9.11512027e-01,  5.03310104e-01,\n",
       "          9.50154312e-02, -9.63128927e-02,  3.21574373e-01,\n",
       "         -4.30738819e-01, -6.86372911e-01, -4.07068173e-01,\n",
       "          4.75373851e-01,  1.19136989e-01,  4.66297457e-02,\n",
       "          1.60960444e-01, -4.71610779e-01, -1.90457372e-01,\n",
       "          2.64518208e-01,  9.72164484e-01,  3.59656511e-01,\n",
       "          9.91278349e-01,  3.54074484e-01,  2.19590770e-01,\n",
       "          7.22150528e-01,  2.00419626e-01,  3.09225852e-01,\n",
       "          3.09028622e-01,  9.37521773e-01,  2.93710726e-02,\n",
       "         -5.74029362e-01,  2.61200979e-02, -5.61357077e-01,\n",
       "          3.37363309e-01,  6.30537825e-01],\n",
       "        [ 9.16803557e-02, -3.45014365e-01,  7.65569045e-01,\n",
       "         -9.02338158e-02,  2.92591692e-01,  3.00510176e-01,\n",
       "          8.35237232e-01,  3.03981630e-01, -7.63253684e-01,\n",
       "         -1.08359363e-01,  3.23026688e-01,  5.94691594e-01,\n",
       "         -3.57947308e-01,  1.46842343e-01,  8.26966727e-01,\n",
       "          9.75417076e-01, -4.53919498e-01,  8.48295367e-01,\n",
       "          8.03408951e-01,  3.29064217e-01, -6.59123292e-01,\n",
       "          1.17740337e-01,  3.66052065e-01,  8.13272986e-01,\n",
       "          2.71814137e-01,  9.05991349e-01,  9.92359586e-01,\n",
       "         -6.29300662e-02,  6.90760151e-01, -6.57673976e-01,\n",
       "         -9.91342647e-01, -5.59667202e-01,  1.16621137e-01,\n",
       "         -4.21023775e-01,  2.81578849e-01,  9.95452349e-01,\n",
       "          1.04629661e-02,  8.65133926e-01,  6.96640068e-01,\n",
       "          7.00062276e-01,  5.85249557e-01,  9.70607514e-01,\n",
       "          8.24752374e-01,  5.54064837e-01,  7.85242691e-01,\n",
       "          5.46281315e-02,  5.13011611e-01,  7.52111271e-01,\n",
       "          8.85416791e-01,  8.98422159e-02,  1.71479230e-01,\n",
       "          6.02409113e-01,  4.26320635e-01,  3.97962851e-01,\n",
       "          1.70378839e-01,  3.78674354e-01,  9.06255977e-01,\n",
       "          1.09685338e-01,  5.03101954e-01,  5.60040593e-01,\n",
       "          3.18909639e-01, -2.34895751e-01, -5.21760662e-01,\n",
       "          2.14489377e-01,  4.13101428e-01,  3.49803500e-01,\n",
       "          7.03859776e-01,  1.49590613e-01, -9.15956227e-01,\n",
       "          2.37442872e-02,  6.92770806e-01,  7.06982023e-01,\n",
       "         -7.37970719e-02,  1.51048374e-01, -9.46795959e-01,\n",
       "          1.31292054e-01,  6.35285743e-02,  3.89514254e-01,\n",
       "         -5.07206560e-02,  4.18041118e-01,  6.87483800e-01,\n",
       "         -2.77464331e-01,  3.91478034e-01,  7.01534007e-01,\n",
       "          5.59268578e-02,  6.21770788e-01,  7.17391988e-01,\n",
       "          3.32719659e-01,  5.85348197e-01],\n",
       "        [ 7.67590416e-01,  6.77608151e-01,  1.10359251e-01,\n",
       "          5.19999332e-01,  9.99931758e-01,  9.15786511e-01,\n",
       "          1.46174024e-01,  5.76122639e-01,  4.08011718e-01,\n",
       "          3.94883200e-01, -4.27836907e-01,  8.08551445e-01,\n",
       "         -8.49063874e-01, -6.26772227e-01, -3.43286145e-01,\n",
       "          5.26984605e-01, -6.09348353e-01,  7.77169631e-02,\n",
       "          3.41135592e-01,  1.13512219e-01,  5.25079894e-02,\n",
       "          9.17157442e-01,  1.17882999e-01,  5.68191868e-01,\n",
       "          1.75283812e-01, -1.51109468e-01,  7.79956235e-01,\n",
       "         -6.07965518e-01,  1.74718708e-01, -5.13849043e-01,\n",
       "          5.85486074e-01,  6.45242884e-01,  9.11016998e-01,\n",
       "          3.89081648e-01,  2.71771543e-01,  4.58838325e-01,\n",
       "          5.33485511e-01,  6.32675324e-01,  2.04204048e-02,\n",
       "          7.31994450e-01,  4.29158510e-01,  6.81161078e-01,\n",
       "          9.04138977e-02, -2.10093513e-01,  7.62456142e-01,\n",
       "          9.90254131e-01, -8.07081349e-01,  8.89255531e-01,\n",
       "          2.45473861e-01, -7.27284462e-02,  9.40305565e-01,\n",
       "          6.99974772e-01,  4.11967082e-02,  3.95224070e-01,\n",
       "          7.97054592e-01,  3.42393993e-01,  4.68982227e-01,\n",
       "         -9.39697060e-01,  9.42822736e-01,  7.52086780e-01,\n",
       "          6.71719190e-01,  6.30213525e-01, -4.36249323e-01,\n",
       "         -6.60971372e-01, -6.42483364e-01,  3.28145591e-01,\n",
       "         -1.02806231e-01,  4.10832920e-01,  6.62063623e-01,\n",
       "          1.73433033e-01, -5.98701297e-01,  4.60086339e-01,\n",
       "          7.79593505e-01,  4.64291088e-01,  1.56794634e-01,\n",
       "          7.61421345e-01,  1.59462885e-01, -4.14320503e-03,\n",
       "          4.83248989e-01,  5.79322865e-01,  9.86398028e-01,\n",
       "          6.45642496e-01,  3.07008106e-01,  2.97314533e-01,\n",
       "         -1.32397348e-01,  1.21655088e-01,  5.10122266e-01,\n",
       "          7.48429651e-01, -5.89750495e-01]]),\n",
       " array([[ -0.,   3.,   1.,   8.,  11.,  11.,   1.,   4.,   0.,   3.,   5.,\n",
       "          -5.,   5.,   2.,  10.,   0.,  13.,   4.,  -0.,   6.,   1.,   3.,\n",
       "           4.,   4.,   0.,   2.,   4.,   2.,   7.,   5.,   1.,   5.,  13.,\n",
       "           3.,   0.,   3.,   1.,   4.,   6.,   4.,  -0.,   2.,   2.,   5.,\n",
       "           8.,  -1.,  11.,  -2.,   0.,   0.,   5.,   6.,   7.,  -0.,   0.,\n",
       "          10.,  10.,  -0.,   0.,   9.,   3.,   2.,   5.,  -1.,   8.,   5.,\n",
       "           4.,  -4.,   5.,   3.,   1.,   7.,   3.,  -2.,  12.,  10.,  12.,\n",
       "           2.,  -2.,   9.,  -0.,   5.,   5.,   7.,   5.,  -0.,   6.,   0.,\n",
       "           2.],\n",
       "        [  1.,   8.,   3.,   8.,   5.,   5.,   2.,   1.,   0.,  -1.,   3.,\n",
       "           5.,  -3.,   3.,   3.,   4.,   6.,   6.,   1.,  -3.,   7.,   7.,\n",
       "           2.,   6.,   9.,   1.,   6.,  -0.,   8.,  -5.,  -1.,   2.,   7.,\n",
       "           7.,  -7.,   2.,   2.,   4.,  -0.,   1.,   3.,  14.,   5.,   1.,\n",
       "           4.,  -2.,   4.,  -0.,   9.,  -1.,   6.,   2.,   6.,   6.,   2.,\n",
       "          -4.,   3.,   1.,  -1.,  -0.,   2.,  -3.,   3.,   7.,   0.,   8.,\n",
       "           8.,   8.,  -2.,   0.,  -3.,   3.,   7.,   3.,   1.,   0.,   0.,\n",
       "           8.,   2.,  -0.,  -3.,  12.,   8.,   6.,   0.,  -5.,   6.,  -2.,\n",
       "           7.],\n",
       "        [ -0.,  -1.,   6.,   1.,   1.,  10.,   6.,  10.,   3.,  -0.,   6.,\n",
       "           5.,   2.,   2.,   7.,  15.,   2.,   5.,   1.,   6.,  -2.,  -1.,\n",
       "           2.,   8.,   4.,  -1.,  -0.,  10.,   7.,   3.,   4.,   0.,   4.,\n",
       "          -3.,  -2.,  -3.,   4.,   5.,   4.,   5.,   4.,   2.,  -3.,   0.,\n",
       "           1.,   0.,   3.,   4.,   6.,   1.,   5.,   8.,   4.,  -1.,  12.,\n",
       "          11.,   2.,   5.,   1.,  -1.,   1.,   5.,  -0.,  -5.,  -0.,  -2.,\n",
       "          -4.,   0.,   3.,   5.,   7.,   6.,   1.,   3.,   4.,   4.,   9.,\n",
       "           4.,   6.,   1.,   6.,   3.,   5.,  -0.,   8.,   2.,   8.,   4.,\n",
       "          -0.],\n",
       "        [  0.,   9.,   2.,   5.,   0.,   0.,   3.,   0.,   4.,   8.,   2.,\n",
       "           1.,  -5.,  -2.,   5.,   5.,   0.,  11.,   3.,   1.,  -4.,   6.,\n",
       "           6.,  -1.,  -0.,   5.,   5.,   5.,   6.,   4.,   4.,   0.,   0.,\n",
       "           5.,   4.,   2.,   3.,   6.,   2.,   6.,   1.,   1.,   0.,  -0.,\n",
       "           5.,   4.,   5.,   1.,   2.,  10.,   9.,   4.,   2.,   1.,  11.,\n",
       "           4.,   6.,  -1.,  10.,  10.,   5.,   3.,   5.,  -0.,   4.,   8.,\n",
       "           0.,   5.,  -0.,   7.,  -3.,   6.,  10.,   1.,  -5.,   2.,   7.,\n",
       "          -2.,   8.,  -0.,  -4.,   5.,  -1.,   0.,   6.,  -1.,   1.,   4.,\n",
       "           1.],\n",
       "        [  2.,  -1.,   1.,   7.,   7.,  -2.,   0.,  -7.,  -0.,   6.,   3.,\n",
       "           0.,  -1.,   4.,  -0.,   7.,   6.,   0.,   3.,  -2.,   1.,   6.,\n",
       "          12.,   2.,   3.,  -0.,   0.,  -5.,   1.,   5.,   8.,   1.,   7.,\n",
       "          -1.,   8.,  -1.,   0.,  -2.,   3.,  -6.,   4.,   5.,  13.,  -0.,\n",
       "           9.,   4.,   2.,  -0.,   2.,  -2.,   3.,  -2.,   2.,   8.,   3.,\n",
       "           2.,   5.,   8.,   1.,   5.,   1.,   2.,  -4.,   7.,   4.,   8.,\n",
       "           3.,   8.,   1.,   2.,  -0.,   4.,   6.,   1.,  -3.,   6.,   0.,\n",
       "           7.,   2.,   1.,   9.,   5.,   4.,   3.,   5.,   5.,   3.,   3.,\n",
       "           4.],\n",
       "        [  9.,   7.,   8.,  -2.,   1.,   9.,   4.,   0.,  -2.,   3.,   3.,\n",
       "          10.,   1.,  -0.,   8.,   9.,   0.,   5.,   3.,   1.,   3.,   4.,\n",
       "           3.,   1.,  -4.,   3.,  -0.,  -2.,  -1.,  13.,   5.,  -0.,   5.,\n",
       "          -1.,   3.,   2.,   0.,   2.,   2.,  -4.,  -1.,  -1.,   6.,  -3.,\n",
       "          -1.,   8.,   2.,  -3.,   7.,  -5.,   2.,  -1.,   0.,  -8.,   3.,\n",
       "           9.,   0.,   4.,   2.,   0.,  -1.,   6.,  -1.,   2.,   5.,   3.,\n",
       "           4.,   8.,   1.,  -3.,   8.,   4.,   5.,   1.,   3.,  -4.,   9.,\n",
       "          -2.,   3.,   2.,   4.,   1.,   4.,  -2.,   0.,   4.,   1.,   3.,\n",
       "           5.],\n",
       "        [  1.,  -1.,   2.,   5.,  -7.,   2.,   1.,  14.,  -4.,   2.,   4.,\n",
       "           1., -10.,  -1.,   7.,   4.,  11.,  -0.,   3.,   6.,  -3.,   7.,\n",
       "          -0.,   4.,   4.,   7.,   6.,   6.,   5.,   4.,   3.,   4.,   3.,\n",
       "           9.,   1.,   3.,   3.,   0.,   3.,   2.,   8.,   8.,   7.,   5.,\n",
       "           3.,   0.,   5.,   2.,  12.,   3.,   5.,   2.,   4.,  -2.,   1.,\n",
       "           3.,  -2.,  -2.,   5.,   8.,   6.,  -0.,   6.,  -1.,  -0.,  -6.,\n",
       "           2.,   1.,   8.,   8.,  -2.,  -1.,   0.,   1.,   0.,   1.,   7.,\n",
       "           4.,   7.,   3.,   5.,   3.,   8.,   4.,  -4.,   7.,  -1.,   3.,\n",
       "           5.],\n",
       "        [  5.,  -2.,   2.,  -6.,   4.,   2.,   9.,   2.,  -0.,  -1.,   3.,\n",
       "           7.,  -0.,   2.,   2.,   4.,  -3.,   1.,   1.,   0.,  -0.,   0.,\n",
       "           1.,   0.,   2.,   4.,   8.,  -0.,   3.,  -1.,  -0.,  -2.,   2.,\n",
       "          -2.,   7.,   4.,   2.,   6.,   1.,   4.,   2.,   3.,   7.,  11.,\n",
       "           6.,   3.,   2.,   8.,   2.,   4.,   2.,   2.,   4.,  13.,  14.,\n",
       "           8.,   9.,   0.,   6.,   9.,   0.,  -0.,  -0.,   1.,  10.,   6.,\n",
       "           7.,   7.,  -5.,   6.,   2.,   1.,  -0.,   6.,  -0.,   8.,   0.,\n",
       "           3.,  -1.,   4.,   8.,  -0.,   4.,   8.,   2.,   2.,   2.,   2.,\n",
       "           0.],\n",
       "        [  6.,   2.,   0.,   1.,  10.,  12.,   5.,   9.,   1.,   9.,  -1.,\n",
       "           9.,  -1.,  -0.,  -0.,   2.,  -0.,   5.,   6.,   3.,   6.,  10.,\n",
       "           9.,   2.,  12.,  -3.,   5.,  -0.,   9.,  -0.,   6.,   5.,   3.,\n",
       "           5.,   5.,   5.,   1.,   4.,  14.,   9.,   0.,   0.,   5.,  -1.,\n",
       "           4.,   4.,  -2.,   8.,  14.,  -3.,  10.,   3.,   0.,   4.,   0.,\n",
       "           4.,   5.,  -3.,   0.,   2.,   2.,   2.,  -1.,  -0.,  -6.,   7.,\n",
       "          -0.,   0.,   2.,   2.,  -3.,   3.,   4.,   5.,   2.,   4.,   2.,\n",
       "          -3.,   2.,   1.,   9.,   5.,  10.,   5.,  -4.,   7.,   2.,   7.,\n",
       "          -2.]]))"
      ]
     },
     "execution_count": 179,
     "metadata": {},
     "output_type": "execute_result"
    }
   ],
   "source": [
    "np.modf(arr)"
   ]
  },
  {
   "cell_type": "code",
   "execution_count": 180,
   "metadata": {},
   "outputs": [],
   "source": [
    "arr1 = np.array([1, 2, 3, 4])\n",
    "arr2 = np.array([5, 6, 7, 8])\n",
    "arr3 = np.array([True, False, False, True])"
   ]
  },
  {
   "cell_type": "code",
   "execution_count": 181,
   "metadata": {},
   "outputs": [],
   "source": [
    "result = np.where(arr3, arr1, arr2)"
   ]
  },
  {
   "cell_type": "code",
   "execution_count": 182,
   "metadata": {},
   "outputs": [
    {
     "data": {
      "text/plain": [
       "array([1, 6, 7, 4])"
      ]
     },
     "execution_count": 182,
     "metadata": {},
     "output_type": "execute_result"
    }
   ],
   "source": [
    "result"
   ]
  },
  {
   "cell_type": "code",
   "execution_count": 183,
   "metadata": {},
   "outputs": [
    {
     "data": {
      "text/plain": [
       "array([[ 1.33414141, -0.40011312, -0.41062148, -0.15768015],\n",
       "       [-0.82061156, -0.65279401,  0.48769189, -0.89187311],\n",
       "       [ 0.00810894, -1.45415802,  0.9723724 ,  1.14816049],\n",
       "       [ 0.23720891, -1.4760781 ,  0.7771395 ,  0.02476203]])"
      ]
     },
     "execution_count": 183,
     "metadata": {},
     "output_type": "execute_result"
    }
   ],
   "source": [
    "arr = np.random.randn(4,4)\n",
    "arr"
   ]
  },
  {
   "cell_type": "code",
   "execution_count": 184,
   "metadata": {},
   "outputs": [],
   "source": [
    "new_arr = np.where(arr>0, 1, -1)"
   ]
  },
  {
   "cell_type": "code",
   "execution_count": 185,
   "metadata": {},
   "outputs": [
    {
     "data": {
      "text/plain": [
       "array([[ 1, -1, -1, -1],\n",
       "       [-1, -1,  1, -1],\n",
       "       [ 1, -1,  1,  1],\n",
       "       [ 1, -1,  1,  1]])"
      ]
     },
     "execution_count": 185,
     "metadata": {},
     "output_type": "execute_result"
    }
   ],
   "source": [
    "new_arr"
   ]
  },
  {
   "cell_type": "code",
   "execution_count": 186,
   "metadata": {},
   "outputs": [
    {
     "data": {
      "text/plain": [
       "-1.2743439814995217"
      ]
     },
     "execution_count": 186,
     "metadata": {},
     "output_type": "execute_result"
    }
   ],
   "source": [
    "arr.sum()"
   ]
  },
  {
   "cell_type": "code",
   "execution_count": 187,
   "metadata": {},
   "outputs": [
    {
     "data": {
      "text/plain": [
       "-0.0796464988437201"
      ]
     },
     "execution_count": 187,
     "metadata": {},
     "output_type": "execute_result"
    }
   ],
   "source": [
    "arr.mean()"
   ]
  },
  {
   "cell_type": "code",
   "execution_count": 189,
   "metadata": {},
   "outputs": [
    {
     "data": {
      "text/plain": [
       "0.8434630865001602"
      ]
     },
     "execution_count": 189,
     "metadata": {},
     "output_type": "execute_result"
    }
   ],
   "source": [
    "arr.std()"
   ]
  },
  {
   "cell_type": "code",
   "execution_count": 192,
   "metadata": {},
   "outputs": [
    {
     "data": {
      "text/plain": [
       "0.7114299782883768"
      ]
     },
     "execution_count": 192,
     "metadata": {},
     "output_type": "execute_result"
    }
   ],
   "source": [
    "arr.var()"
   ]
  },
  {
   "cell_type": "code",
   "execution_count": 193,
   "metadata": {},
   "outputs": [
    {
     "data": {
      "text/plain": [
       "array([ 0.09143166, -0.4693967 ,  0.16862095, -0.10924192])"
      ]
     },
     "execution_count": 193,
     "metadata": {},
     "output_type": "execute_result"
    }
   ],
   "source": [
    "arr.mean(1)"
   ]
  },
  {
   "cell_type": "code",
   "execution_count": 196,
   "metadata": {},
   "outputs": [
    {
     "data": {
      "text/plain": [
       "array([ 0.09143166, -0.4693967 ,  0.16862095, -0.10924192])"
      ]
     },
     "execution_count": 196,
     "metadata": {},
     "output_type": "execute_result"
    }
   ],
   "source": [
    "arr.mean(axis=1)"
   ]
  },
  {
   "cell_type": "code",
   "execution_count": 197,
   "metadata": {},
   "outputs": [
    {
     "data": {
      "text/plain": [
       "array([0, 0, 2, 2])"
      ]
     },
     "execution_count": 197,
     "metadata": {},
     "output_type": "execute_result"
    }
   ],
   "source": [
    "arr.argmax(0)"
   ]
  },
  {
   "cell_type": "code",
   "execution_count": 198,
   "metadata": {},
   "outputs": [
    {
     "data": {
      "text/plain": [
       "array([0, 2, 3, 2])"
      ]
     },
     "execution_count": 198,
     "metadata": {},
     "output_type": "execute_result"
    }
   ],
   "source": [
    "arr.argmax(1)"
   ]
  },
  {
   "cell_type": "code",
   "execution_count": 199,
   "metadata": {},
   "outputs": [
    {
     "data": {
      "text/plain": [
       "True"
      ]
     },
     "execution_count": 199,
     "metadata": {},
     "output_type": "execute_result"
    }
   ],
   "source": [
    "arr.any()"
   ]
  },
  {
   "cell_type": "code",
   "execution_count": 200,
   "metadata": {},
   "outputs": [
    {
     "data": {
      "text/plain": [
       "True"
      ]
     },
     "execution_count": 200,
     "metadata": {},
     "output_type": "execute_result"
    }
   ],
   "source": [
    "arr.all()"
   ]
  },
  {
   "cell_type": "code",
   "execution_count": 201,
   "metadata": {},
   "outputs": [],
   "source": [
    "arr.sort()"
   ]
  },
  {
   "cell_type": "code",
   "execution_count": 202,
   "metadata": {},
   "outputs": [
    {
     "data": {
      "text/plain": [
       "array([[-0.41062148, -0.40011312, -0.15768015,  1.33414141],\n",
       "       [-0.89187311, -0.82061156, -0.65279401,  0.48769189],\n",
       "       [-1.45415802,  0.00810894,  0.9723724 ,  1.14816049],\n",
       "       [-1.4760781 ,  0.02476203,  0.23720891,  0.7771395 ]])"
      ]
     },
     "execution_count": 202,
     "metadata": {},
     "output_type": "execute_result"
    }
   ],
   "source": [
    "arr"
   ]
  },
  {
   "cell_type": "code",
   "execution_count": 203,
   "metadata": {},
   "outputs": [],
   "source": [
    "arr.sort(1)"
   ]
  },
  {
   "cell_type": "code",
   "execution_count": 204,
   "metadata": {},
   "outputs": [
    {
     "data": {
      "text/plain": [
       "array([[-0.41062148, -0.40011312, -0.15768015,  1.33414141],\n",
       "       [-0.89187311, -0.82061156, -0.65279401,  0.48769189],\n",
       "       [-1.45415802,  0.00810894,  0.9723724 ,  1.14816049],\n",
       "       [-1.4760781 ,  0.02476203,  0.23720891,  0.7771395 ]])"
      ]
     },
     "execution_count": 204,
     "metadata": {},
     "output_type": "execute_result"
    }
   ],
   "source": [
    "arr"
   ]
  },
  {
   "cell_type": "code",
   "execution_count": 205,
   "metadata": {},
   "outputs": [
    {
     "data": {
      "text/plain": [
       "array([-1.4760781 , -1.45415802, -0.89187311, -0.82061156, -0.65279401,\n",
       "       -0.41062148, -0.40011312, -0.15768015,  0.00810894,  0.02476203,\n",
       "        0.23720891,  0.48769189,  0.7771395 ,  0.9723724 ,  1.14816049,\n",
       "        1.33414141])"
      ]
     },
     "execution_count": 205,
     "metadata": {},
     "output_type": "execute_result"
    }
   ],
   "source": [
    "np.unique(arr)"
   ]
  },
  {
   "cell_type": "markdown",
   "metadata": {},
   "source": [
    "# 图像处理"
   ]
  },
  {
   "cell_type": "code",
   "execution_count": 209,
   "metadata": {},
   "outputs": [],
   "source": [
    "from PIL import Image"
   ]
  },
  {
   "cell_type": "code",
   "execution_count": 208,
   "metadata": {},
   "outputs": [
    {
     "name": "stdout",
     "output_type": "stream",
     "text": [
      "Collecting Pillow\n",
      "  Downloading Pillow-7.0.0-cp37-cp37m-macosx_10_6_intel.whl (3.9 MB)\n",
      "\u001b[K     |████████████████████████████████| 3.9 MB 671 kB/s eta 0:00:01\n",
      "\u001b[?25hInstalling collected packages: Pillow\n",
      "Successfully installed Pillow-7.0.0\n"
     ]
    }
   ],
   "source": [
    "!pip3 install Pillow"
   ]
  },
  {
   "cell_type": "code",
   "execution_count": 210,
   "metadata": {},
   "outputs": [
    {
     "data": {
      "text/plain": [
       "(620, 762, 4)"
      ]
     },
     "execution_count": 210,
     "metadata": {},
     "output_type": "execute_result"
    }
   ],
   "source": [
    "im = np.array(Image.open('/Users/meininghang/test.png'))\n",
    "im.shape"
   ]
  },
  {
   "cell_type": "code",
   "execution_count": 211,
   "metadata": {},
   "outputs": [
    {
     "data": {
      "text/plain": [
       "dtype('uint8')"
      ]
     },
     "execution_count": 211,
     "metadata": {},
     "output_type": "execute_result"
    }
   ],
   "source": [
    "im.dtype"
   ]
  },
  {
   "cell_type": "code",
   "execution_count": 212,
   "metadata": {
    "collapsed": true
   },
   "outputs": [
    {
     "data": {
      "text/plain": [
       "array([[[0, 0, 0, 0],\n",
       "        [0, 0, 0, 0],\n",
       "        [0, 0, 0, 0],\n",
       "        ...,\n",
       "        [0, 0, 0, 0],\n",
       "        [0, 0, 0, 0],\n",
       "        [0, 0, 0, 0]],\n",
       "\n",
       "       [[0, 0, 0, 0],\n",
       "        [0, 0, 0, 0],\n",
       "        [0, 0, 0, 0],\n",
       "        ...,\n",
       "        [0, 0, 0, 0],\n",
       "        [0, 0, 0, 0],\n",
       "        [0, 0, 0, 0]],\n",
       "\n",
       "       [[0, 0, 0, 0],\n",
       "        [0, 0, 0, 0],\n",
       "        [0, 0, 0, 0],\n",
       "        ...,\n",
       "        [0, 0, 0, 0],\n",
       "        [0, 0, 0, 0],\n",
       "        [0, 0, 0, 0]],\n",
       "\n",
       "       ...,\n",
       "\n",
       "       [[0, 0, 0, 0],\n",
       "        [0, 0, 0, 0],\n",
       "        [0, 0, 0, 0],\n",
       "        ...,\n",
       "        [0, 0, 0, 0],\n",
       "        [0, 0, 0, 0],\n",
       "        [0, 0, 0, 0]],\n",
       "\n",
       "       [[0, 0, 0, 0],\n",
       "        [0, 0, 0, 0],\n",
       "        [0, 0, 0, 0],\n",
       "        ...,\n",
       "        [0, 0, 0, 0],\n",
       "        [0, 0, 0, 0],\n",
       "        [0, 0, 0, 0]],\n",
       "\n",
       "       [[0, 0, 0, 0],\n",
       "        [0, 0, 0, 0],\n",
       "        [0, 0, 0, 0],\n",
       "        ...,\n",
       "        [0, 0, 0, 0],\n",
       "        [0, 0, 0, 0],\n",
       "        [0, 0, 0, 0]]], dtype=uint8)"
      ]
     },
     "execution_count": 212,
     "metadata": {},
     "output_type": "execute_result"
    }
   ],
   "source": [
    "im"
   ]
  },
  {
   "cell_type": "code",
   "execution_count": 214,
   "metadata": {},
   "outputs": [],
   "source": [
    "b = [255, 255, 255, 255] - im"
   ]
  },
  {
   "cell_type": "code",
   "execution_count": 217,
   "metadata": {},
   "outputs": [],
   "source": [
    "new_im = Image.fromarray(b.astype('uint8'))\n",
    "new_im.save('/Users/meininghang/test2.png')"
   ]
  },
  {
   "cell_type": "code",
   "execution_count": null,
   "metadata": {},
   "outputs": [],
   "source": []
  }
 ],
 "metadata": {
  "kernelspec": {
   "display_name": "Python 3.7.7 64-bit",
   "language": "python",
   "name": "python37764bit3b7b5d42d44946a88de85840a9791756"
  },
  "language_info": {
   "codemirror_mode": {
    "name": "ipython",
    "version": 3
   },
   "file_extension": ".py",
   "mimetype": "text/x-python",
   "name": "python",
   "nbconvert_exporter": "python",
   "pygments_lexer": "ipython3",
   "version": "3.7.7"
  }
 },
 "nbformat": 4,
 "nbformat_minor": 4
}
