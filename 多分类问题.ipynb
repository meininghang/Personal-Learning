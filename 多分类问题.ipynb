{
 "cells": [
  {
   "cell_type": "code",
   "execution_count": 1,
   "metadata": {},
   "outputs": [],
   "source": [
    "import tensorflow as tf\n",
    "import tensorflow.keras as keras\n",
    "from tensorflow.keras import models,layers,optimizers,losses,metrics\n",
    "import pandas as pd\n",
    "import numpy as np\n",
    "import matplotlib.pyplot as plt\n",
    "%matplotlib inline"
   ]
  },
  {
   "cell_type": "code",
   "execution_count": 2,
   "metadata": {},
   "outputs": [],
   "source": [
    "(train_data,train_labels),(test_data,test_labels) = keras.datasets.reuters.load_data(num_words=10000)"
   ]
  },
  {
   "cell_type": "code",
   "execution_count": 3,
   "metadata": {},
   "outputs": [
    {
     "data": {
      "text/plain": [
       "[1,\n",
       " 2,\n",
       " 2,\n",
       " 8,\n",
       " 43,\n",
       " 10,\n",
       " 447,\n",
       " 5,\n",
       " 25,\n",
       " 207,\n",
       " 270,\n",
       " 5,\n",
       " 3095,\n",
       " 111,\n",
       " 16,\n",
       " 369,\n",
       " 186,\n",
       " 90,\n",
       " 67,\n",
       " 7,\n",
       " 89,\n",
       " 5,\n",
       " 19,\n",
       " 102,\n",
       " 6,\n",
       " 19,\n",
       " 124,\n",
       " 15,\n",
       " 90,\n",
       " 67,\n",
       " 84,\n",
       " 22,\n",
       " 482,\n",
       " 26,\n",
       " 7,\n",
       " 48,\n",
       " 4,\n",
       " 49,\n",
       " 8,\n",
       " 864,\n",
       " 39,\n",
       " 209,\n",
       " 154,\n",
       " 6,\n",
       " 151,\n",
       " 6,\n",
       " 83,\n",
       " 11,\n",
       " 15,\n",
       " 22,\n",
       " 155,\n",
       " 11,\n",
       " 15,\n",
       " 7,\n",
       " 48,\n",
       " 9,\n",
       " 4579,\n",
       " 1005,\n",
       " 504,\n",
       " 6,\n",
       " 258,\n",
       " 6,\n",
       " 272,\n",
       " 11,\n",
       " 15,\n",
       " 22,\n",
       " 134,\n",
       " 44,\n",
       " 11,\n",
       " 15,\n",
       " 16,\n",
       " 8,\n",
       " 197,\n",
       " 1245,\n",
       " 90,\n",
       " 67,\n",
       " 52,\n",
       " 29,\n",
       " 209,\n",
       " 30,\n",
       " 32,\n",
       " 132,\n",
       " 6,\n",
       " 109,\n",
       " 15,\n",
       " 17,\n",
       " 12]"
      ]
     },
     "execution_count": 3,
     "metadata": {},
     "output_type": "execute_result"
    }
   ],
   "source": [
    "train_data[0]"
   ]
  },
  {
   "cell_type": "code",
   "execution_count": 4,
   "metadata": {},
   "outputs": [
    {
     "data": {
      "text/plain": [
       "array([ 3,  4,  3, ..., 25,  3, 25])"
      ]
     },
     "execution_count": 4,
     "metadata": {},
     "output_type": "execute_result"
    }
   ],
   "source": [
    "train_labels"
   ]
  },
  {
   "cell_type": "code",
   "execution_count": 5,
   "metadata": {},
   "outputs": [
    {
     "data": {
      "text/plain": [
       "[1,\n",
       " 4,\n",
       " 1378,\n",
       " 2025,\n",
       " 9,\n",
       " 697,\n",
       " 4622,\n",
       " 111,\n",
       " 8,\n",
       " 25,\n",
       " 109,\n",
       " 29,\n",
       " 3650,\n",
       " 11,\n",
       " 150,\n",
       " 244,\n",
       " 364,\n",
       " 33,\n",
       " 30,\n",
       " 30,\n",
       " 1398,\n",
       " 333,\n",
       " 6,\n",
       " 2,\n",
       " 159,\n",
       " 9,\n",
       " 1084,\n",
       " 363,\n",
       " 13,\n",
       " 2,\n",
       " 71,\n",
       " 9,\n",
       " 2,\n",
       " 71,\n",
       " 117,\n",
       " 4,\n",
       " 225,\n",
       " 78,\n",
       " 206,\n",
       " 10,\n",
       " 9,\n",
       " 1214,\n",
       " 8,\n",
       " 4,\n",
       " 270,\n",
       " 5,\n",
       " 2,\n",
       " 7,\n",
       " 748,\n",
       " 48,\n",
       " 9,\n",
       " 2,\n",
       " 7,\n",
       " 207,\n",
       " 1451,\n",
       " 966,\n",
       " 1864,\n",
       " 793,\n",
       " 97,\n",
       " 133,\n",
       " 336,\n",
       " 7,\n",
       " 4,\n",
       " 493,\n",
       " 98,\n",
       " 273,\n",
       " 104,\n",
       " 284,\n",
       " 25,\n",
       " 39,\n",
       " 338,\n",
       " 22,\n",
       " 905,\n",
       " 220,\n",
       " 3465,\n",
       " 644,\n",
       " 59,\n",
       " 20,\n",
       " 6,\n",
       " 119,\n",
       " 61,\n",
       " 11,\n",
       " 15,\n",
       " 58,\n",
       " 579,\n",
       " 26,\n",
       " 10,\n",
       " 67,\n",
       " 7,\n",
       " 4,\n",
       " 738,\n",
       " 98,\n",
       " 43,\n",
       " 88,\n",
       " 333,\n",
       " 722,\n",
       " 12,\n",
       " 20,\n",
       " 6,\n",
       " 19,\n",
       " 746,\n",
       " 35,\n",
       " 15,\n",
       " 10,\n",
       " 9,\n",
       " 1214,\n",
       " 855,\n",
       " 129,\n",
       " 783,\n",
       " 21,\n",
       " 4,\n",
       " 2280,\n",
       " 244,\n",
       " 364,\n",
       " 51,\n",
       " 16,\n",
       " 299,\n",
       " 452,\n",
       " 16,\n",
       " 515,\n",
       " 4,\n",
       " 99,\n",
       " 29,\n",
       " 5,\n",
       " 4,\n",
       " 364,\n",
       " 281,\n",
       " 48,\n",
       " 10,\n",
       " 9,\n",
       " 1214,\n",
       " 23,\n",
       " 644,\n",
       " 47,\n",
       " 20,\n",
       " 324,\n",
       " 27,\n",
       " 56,\n",
       " 2,\n",
       " 2,\n",
       " 5,\n",
       " 192,\n",
       " 510,\n",
       " 17,\n",
       " 12]"
      ]
     },
     "execution_count": 5,
     "metadata": {},
     "output_type": "execute_result"
    }
   ],
   "source": [
    "test_data[0]"
   ]
  },
  {
   "cell_type": "code",
   "execution_count": 6,
   "metadata": {},
   "outputs": [
    {
     "data": {
      "text/plain": [
       "array([ 3, 10,  1, ...,  3,  3, 24])"
      ]
     },
     "execution_count": 6,
     "metadata": {},
     "output_type": "execute_result"
    }
   ],
   "source": [
    "test_labels"
   ]
  },
  {
   "cell_type": "code",
   "execution_count": 7,
   "metadata": {},
   "outputs": [
    {
     "data": {
      "text/plain": [
       "8982"
      ]
     },
     "execution_count": 7,
     "metadata": {},
     "output_type": "execute_result"
    }
   ],
   "source": [
    "len(train_data)"
   ]
  },
  {
   "cell_type": "code",
   "execution_count": 8,
   "metadata": {},
   "outputs": [
    {
     "data": {
      "text/plain": [
       "2246"
      ]
     },
     "execution_count": 8,
     "metadata": {},
     "output_type": "execute_result"
    }
   ],
   "source": [
    "len(test_data)"
   ]
  },
  {
   "cell_type": "code",
   "execution_count": 9,
   "metadata": {},
   "outputs": [],
   "source": [
    "def vectorize_sequences(sequences, dimension=10000):\n",
    "    results = np.zeros((len(sequences), dimension))\n",
    "    for i, sequence in enumerate(sequences):\n",
    "        results[i, sequence] = 1.\n",
    "    return results\n",
    "\n",
    "\n",
    "x_train = vectorize_sequences(train_data)\n",
    "x_test = vectorize_sequences(test_data)"
   ]
  },
  {
   "cell_type": "code",
   "execution_count": 10,
   "metadata": {},
   "outputs": [],
   "source": [
    "y_train = keras.utils.to_categorical(train_labels)\n",
    "y_test = keras.utils.to_categorical(test_labels)"
   ]
  },
  {
   "cell_type": "code",
   "execution_count": 11,
   "metadata": {},
   "outputs": [],
   "source": [
    "model = models.Sequential()\n",
    "model.add(layers.Dense(64,activation=tf.nn.relu,input_shape=(10000,)))\n",
    "model.add(layers.Dense(64,activation=tf.nn.relu,))\n",
    "model.add(layers.Dense(46,activation=tf.nn.softmax))"
   ]
  },
  {
   "cell_type": "code",
   "execution_count": 12,
   "metadata": {},
   "outputs": [],
   "source": [
    "model.compile(loss=losses.categorical_crossentropy,\n",
    "              optimizer=optimizers.RMSprop(),\n",
    "             metrics=['accuracy'])"
   ]
  },
  {
   "cell_type": "code",
   "execution_count": 13,
   "metadata": {},
   "outputs": [],
   "source": [
    "x_val = x_train[:1000]\n",
    "part_x_train = x_train[1000:]\n",
    "\n",
    "y_val = y_train[:1000]\n",
    "part_y_train = y_train[1000:]"
   ]
  },
  {
   "cell_type": "code",
   "execution_count": 15,
   "metadata": {},
   "outputs": [
    {
     "name": "stdout",
     "output_type": "stream",
     "text": [
      "Train on 7982 samples, validate on 1000 samples\n",
      "Epoch 1/20\n",
      "7982/7982 [==============================] - 2s 216us/sample - loss: 2.8193 - accuracy: 0.5199 - val_loss: 1.8654 - val_accuracy: 0.6400\n",
      "Epoch 2/20\n",
      "7982/7982 [==============================] - 1s 122us/sample - loss: 1.4698 - accuracy: 0.7068 - val_loss: 1.3075 - val_accuracy: 0.7250\n",
      "Epoch 3/20\n",
      "7982/7982 [==============================] - 1s 133us/sample - loss: 1.0451 - accuracy: 0.7803 - val_loss: 1.1276 - val_accuracy: 0.7600\n",
      "Epoch 4/20\n",
      "7982/7982 [==============================] - 1s 117us/sample - loss: 0.8128 - accuracy: 0.8290 - val_loss: 1.0168 - val_accuracy: 0.7810\n",
      "Epoch 5/20\n",
      "7982/7982 [==============================] - 1s 101us/sample - loss: 0.6468 - accuracy: 0.8653 - val_loss: 0.9528 - val_accuracy: 0.8000\n",
      "Epoch 6/20\n",
      "7982/7982 [==============================] - 1s 105us/sample - loss: 0.5177 - accuracy: 0.8911 - val_loss: 0.9144 - val_accuracy: 0.8040\n",
      "Epoch 7/20\n",
      "7982/7982 [==============================] - 1s 107us/sample - loss: 0.4199 - accuracy: 0.9143 - val_loss: 0.8797 - val_accuracy: 0.8090\n",
      "Epoch 8/20\n",
      "7982/7982 [==============================] - 1s 110us/sample - loss: 0.3448 - accuracy: 0.9273 - val_loss: 0.8895 - val_accuracy: 0.8140\n",
      "Epoch 9/20\n",
      "7982/7982 [==============================] - 1s 99us/sample - loss: 0.2858 - accuracy: 0.9386 - val_loss: 0.8723 - val_accuracy: 0.8150\n",
      "Epoch 10/20\n",
      "7982/7982 [==============================] - 1s 104us/sample - loss: 0.2457 - accuracy: 0.9425 - val_loss: 0.9307 - val_accuracy: 0.8050\n",
      "Epoch 11/20\n",
      "7982/7982 [==============================] - 1s 100us/sample - loss: 0.2072 - accuracy: 0.9476 - val_loss: 0.9400 - val_accuracy: 0.8020\n",
      "Epoch 12/20\n",
      "7982/7982 [==============================] - 1s 111us/sample - loss: 0.1864 - accuracy: 0.9504 - val_loss: 0.9038 - val_accuracy: 0.8160\n",
      "Epoch 13/20\n",
      "7982/7982 [==============================] - 1s 101us/sample - loss: 0.1640 - accuracy: 0.9533 - val_loss: 0.9670 - val_accuracy: 0.8100\n",
      "Epoch 14/20\n",
      "7982/7982 [==============================] - 1s 99us/sample - loss: 0.1520 - accuracy: 0.9558 - val_loss: 0.9326 - val_accuracy: 0.8150\n",
      "Epoch 15/20\n",
      "7982/7982 [==============================] - 1s 96us/sample - loss: 0.1400 - accuracy: 0.9555 - val_loss: 0.9559 - val_accuracy: 0.8140\n",
      "Epoch 16/20\n",
      "7982/7982 [==============================] - 1s 103us/sample - loss: 0.1339 - accuracy: 0.9558 - val_loss: 1.0040 - val_accuracy: 0.8070\n",
      "Epoch 17/20\n",
      "7982/7982 [==============================] - 1s 110us/sample - loss: 0.1318 - accuracy: 0.9567 - val_loss: 1.0024 - val_accuracy: 0.8090\n",
      "Epoch 18/20\n",
      "7982/7982 [==============================] - 1s 120us/sample - loss: 0.1184 - accuracy: 0.9567 - val_loss: 1.0387 - val_accuracy: 0.8120\n",
      "Epoch 19/20\n",
      "7982/7982 [==============================] - 1s 117us/sample - loss: 0.1178 - accuracy: 0.9580 - val_loss: 1.0238 - val_accuracy: 0.8070\n",
      "Epoch 20/20\n",
      "7982/7982 [==============================] - 1s 119us/sample - loss: 0.1137 - accuracy: 0.9575 - val_loss: 1.0596 - val_accuracy: 0.8040\n"
     ]
    }
   ],
   "source": [
    "history = model.fit(part_x_train,part_y_train,epochs=20,batch_size=512,validation_data=(x_val,y_val))"
   ]
  },
  {
   "cell_type": "code",
   "execution_count": 17,
   "metadata": {},
   "outputs": [],
   "source": [
    "loss =history.history['loss']\n",
    "val_loss = history.history['val_loss']\n",
    "\n",
    "acc = history.history['accuracy']\n",
    "val_acc = history.history['val_accuracy']\n",
    "\n",
    "epochs = range(1,21)"
   ]
  },
  {
   "cell_type": "code",
   "execution_count": 18,
   "metadata": {},
   "outputs": [
    {
     "data": {
      "text/plain": [
       "<matplotlib.legend.Legend at 0x16da69d10>"
      ]
     },
     "execution_count": 18,
     "metadata": {},
     "output_type": "execute_result"
    },
    {
     "data": {
      "image/png": "[encoded data removed]",
      "text/plain": [
       "<Figure size 432x288 with 1 Axes>"
      ]
     },
     "metadata": {
      "needs_background": "light"
     },
     "output_type": "display_data"
    }
   ],
   "source": [
    "plt.plot(epochs,loss,'bo',label='T')\n",
    "plt.plot(epochs,val_loss,'b',label='V')\n",
    "plt.title('T & V loss')\n",
    "plt.xlabel('Epochs')\n",
    "plt.ylabel('Loss')\n",
    "plt.legend()"
   ]
  },
  {
   "cell_type": "code",
   "execution_count": null,
   "metadata": {},
   "outputs": [],
   "source": []
  }
 ],
 "metadata": {
  "kernelspec": {
   "display_name": "Python 3.7.7 64-bit",
   "language": "python",
   "name": "python37764bit3b7b5d42d44946a88de85840a9791756"
  },
  "language_info": {
   "codemirror_mode": {
    "name": "ipython",
    "version": 3
   },
   "file_extension": ".py",
   "mimetype": "text/x-python",
   "name": "python",
   "nbconvert_exporter": "python",
   "pygments_lexer": "ipython3",
   "version": "3.7.7"
  }
 },
 "nbformat": 4,
 "nbformat_minor": 4
}
