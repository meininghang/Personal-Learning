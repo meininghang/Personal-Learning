{
 "cells": [
  {
   "cell_type": "markdown",
   "id": "371240ca-bd2f-4e80-a35a-f22bfd5cb58c",
   "metadata": {},
   "source": [
    "# 第6章：有监督学习：分类"
   ]
  },
  {
   "cell_type": "code",
   "execution_count": null,
   "id": "096c18a1-e399-4a75-ae71-160279b792cf",
   "metadata": {},
   "outputs": [],
   "source": []
  }
 ],
 "metadata": {
  "kernelspec": {
   "display_name": "Python 3",
   "language": "python",
   "name": "python3"
  },
  "language_info": {
   "codemirror_mode": {
    "name": "ipython",
    "version": 3
   },
   "file_extension": ".py",
   "mimetype": "text/x-python",
   "name": "python",
   "nbconvert_exporter": "python",
   "pygments_lexer": "ipython3",
   "version": "3.8.2"
  }
 },
 "nbformat": 4,
 "nbformat_minor": 5
}
