{
 "nbformat": 4,
 "nbformat_minor": 2,
 "metadata": {
  "language_info": {
   "name": "python",
   "codemirror_mode": {
    "name": "ipython",
    "version": 3
   },
   "version": "3.7.6-final"
  },
  "orig_nbformat": 2,
  "file_extension": ".py",
  "mimetype": "text/x-python",
  "name": "python",
  "npconvert_exporter": "python",
  "pygments_lexer": "ipython3",
  "version": 3,
  "kernelspec": {
   "name": "python37664bite85f1bbfaff24b40a6cf630e0ec7f72e",
   "display_name": "Python 3.7.6 64-bit"
  },
  "pycharm": {
   "stem_cell": {
    "cell_type": "raw",
    "source": [],
    "metadata": {
     "collapsed": false
    }
   }
  }
 },
 "cells": [
  {
   "cell_type": "code",
   "execution_count": 104,
   "metadata": {},
   "outputs": [],
   "source": [
    "import pandas as pd\n",
    "import numpy as np\n",
    "import matplotlib.pyplot as plt\n",
    "%matplotlib inline\n",
    "pd.options.display.max_rows = 10"
   ]
  },
  {
   "cell_type": "code",
   "execution_count": 105,
   "metadata": {},
   "outputs": [
    {
     "name": "stdout",
     "output_type": "stream",
     "text": "11118 8449\n"
    }
   ],
   "source": [
    "weibo_content_raw = pd.read_csv('/Users/meininghang/shanghai_weibo_content.csv')\n",
    "df_official = weibo_content_raw[weibo_content_raw['认证类型']=='微博官方认证']\n",
    "df_personal = weibo_content_raw[weibo_content_raw['认证类型']=='微博个人认证']\n",
    "print(len(df_official),len(df_personal),) #分别统计官方认证和个人认证数量"
   ]
  },
  {
   "cell_type": "code",
   "execution_count": 106,
   "metadata": {},
   "outputs": [
    {
     "data": {
      "text/plain": "3855"
     },
     "execution_count": 106,
     "metadata": {},
     "output_type": "execute_result"
    }
   ],
   "source": [
    "int(len(weibo_content_raw)) - (11118 + 8449) #计算二者和总数的差额,对差额进行剔除"
   ]
  },
  {
   "cell_type": "code",
   "execution_count": 107,
   "metadata": {},
   "outputs": [
    {
     "data": {
      "text/html": "<div>\n<style scoped>\n    .dataframe tbody tr th:only-of-type {\n        vertical-align: middle;\n    }\n\n    .dataframe tbody tr th {\n        vertical-align: top;\n    }\n\n    .dataframe thead th {\n        text-align: right;\n    }\n</style>\n<table border=\"1\" class=\"dataframe\">\n  <thead>\n    <tr style=\"text-align: right;\">\n      <th></th>\n      <th>ID</th>\n      <th>正文</th>\n      <th>微博发布时间</th>\n    </tr>\n  </thead>\n  <tbody>\n    <tr>\n      <th>0</th>\n      <td>2</td>\n      <td>#胡歌上海旅游形象大使#今日，上海市旅游局正式聘任上海籍演员@胡歌 担任上海旅游形象大使。胡...</td>\n      <td>2016年01月04日 18:59</td>\n    </tr>\n    <tr>\n      <th>1</th>\n      <td>3</td>\n      <td>【胡歌受聘担任上海旅游形象大使】1月4日，上海市旅游局在上海国际会议中心举行仪式，正式聘任上...</td>\n      <td>2016年01月04日 22:10</td>\n    </tr>\n    <tr>\n      <th>2</th>\n      <td>4</td>\n      <td>【胡歌受聘担任上海旅游形象大使】1月4日，上海市旅游局在上海国际会议中心举行仪式，正式聘任上...</td>\n      <td>2016年01月04日 17:11</td>\n    </tr>\n    <tr>\n      <th>3</th>\n      <td>5</td>\n      <td>由北京时代峰峻文化艺术发展有限公司、鼎炫(北京)影视传媒有限公司和上海时创影视有限公司共同出...</td>\n      <td>2016年01月04日 15:32</td>\n    </tr>\n    <tr>\n      <th>4</th>\n      <td>6</td>\n      <td>喜欢一座城，不是因为它的繁华，而是因为你在那座城里让我牵挂。我在我生活的这座城市里，每天对你...</td>\n      <td>2016年01月04日 11:35</td>\n    </tr>\n    <tr>\n      <th>...</th>\n      <td>...</td>\n      <td>...</td>\n      <td>...</td>\n    </tr>\n    <tr>\n      <th>11113</th>\n      <td>23409</td>\n      <td>【想去静安区做老师？987个岗位今起招人】#劳动保障#静安区教育系统2019年第一批教师招聘...</td>\n      <td>2018年12月27日 21:45</td>\n    </tr>\n    <tr>\n      <th>11114</th>\n      <td>23411</td>\n      <td>海报星图今日汤唯现身上海，出席由电影《地球最后的夜晚》的宣传活动，黑白西服套装尽显优雅知...</td>\n      <td>2018年12月27日 20:19</td>\n    </tr>\n    <tr>\n      <th>11115</th>\n      <td>23416</td>\n      <td>【日媒关注的硅谷四大挑战者，全在中国】“硅谷面临的4个挑战者，都在中国！”随着中国初创公司如...</td>\n      <td>2018年12月27日 13:30</td>\n    </tr>\n    <tr>\n      <th>11116</th>\n      <td>23418</td>\n      <td>【男子酒驾被查得知要拘留 竟对警察扬言“我要越狱”】12月24日晚，上海杨浦警方巡逻至国和路...</td>\n      <td>2018年12月27日 09:21</td>\n    </tr>\n    <tr>\n      <th>11117</th>\n      <td>23421</td>\n      <td>【#权健奖励制度#曝光：每拉1人拿910元】12月26日，澎湃新闻走访上海“权健火疗总部”。...</td>\n      <td>2018年12月27日 09:20</td>\n    </tr>\n  </tbody>\n</table>\n<p>11118 rows × 3 columns</p>\n</div>",
      "text/plain": "          ID                                                 正文  \\\n0          2  #胡歌上海旅游形象大使#今日，上海市旅游局正式聘任上海籍演员@胡歌 担任上海旅游形象大使。胡...   \n1          3  【胡歌受聘担任上海旅游形象大使】1月4日，上海市旅游局在上海国际会议中心举行仪式，正式聘任上...   \n2          4  【胡歌受聘担任上海旅游形象大使】1月4日，上海市旅游局在上海国际会议中心举行仪式，正式聘任上...   \n3          5  由北京时代峰峻文化艺术发展有限公司、鼎炫(北京)影视传媒有限公司和上海时创影视有限公司共同出...   \n4          6  喜欢一座城，不是因为它的繁华，而是因为你在那座城里让我牵挂。我在我生活的这座城市里，每天对你...   \n...      ...                                                ...   \n11113  23409  【想去静安区做老师？987个岗位今起招人】#劳动保障#静安区教育系统2019年第一批教师招聘...   \n11114  23411  海报星图今日汤唯现身上海，出席由电影《地球最后的夜晚》的宣传活动，黑白西服套装尽显优雅知...   \n11115  23416  【日媒关注的硅谷四大挑战者，全在中国】“硅谷面临的4个挑战者，都在中国！”随着中国初创公司如...   \n11116  23418  【男子酒驾被查得知要拘留 竟对警察扬言“我要越狱”】12月24日晚，上海杨浦警方巡逻至国和路...   \n11117  23421  【#权健奖励制度#曝光：每拉1人拿910元】12月26日，澎湃新闻走访上海“权健火疗总部”。...   \n\n                    微博发布时间  \n0       2016年01月04日 18:59   \n1       2016年01月04日 22:10   \n2       2016年01月04日 17:11   \n3       2016年01月04日 15:32   \n4       2016年01月04日 11:35   \n...                    ...  \n11113   2018年12月27日 21:45   \n11114   2018年12月27日 20:19   \n11115   2018年12月27日 13:30   \n11116   2018年12月27日 09:21   \n11117   2018年12月27日 09:20   \n\n[11118 rows x 3 columns]"
     },
     "execution_count": 107,
     "metadata": {},
     "output_type": "execute_result"
    }
   ],
   "source": [
    "df_official = df_official[['ID','正文','微博发布时间']]\n",
    "df_official.index = range(11118)\n",
    "df_official"
   ]
  },
  {
   "cell_type": "code",
   "execution_count": 108,
   "metadata": {},
   "outputs": [
    {
     "data": {
      "text/html": "<div>\n<style scoped>\n    .dataframe tbody tr th:only-of-type {\n        vertical-align: middle;\n    }\n\n    .dataframe tbody tr th {\n        vertical-align: top;\n    }\n\n    .dataframe thead th {\n        text-align: right;\n    }\n</style>\n<table border=\"1\" class=\"dataframe\">\n  <thead>\n    <tr style=\"text-align: right;\">\n      <th></th>\n      <th>ID</th>\n      <th>正文</th>\n      <th>微博发布时间</th>\n    </tr>\n  </thead>\n  <tbody>\n    <tr>\n      <th>0</th>\n      <td>1</td>\n      <td>《暗恋桃花源》1986年第一次在台北演出，到今年整整三十周年，我和黄老师也在内地巡演到第十年...</td>\n      <td>2016年01月04日 20:11</td>\n    </tr>\n    <tr>\n      <th>1</th>\n      <td>10</td>\n      <td>#SUPER JUNIOR-K.R.Y.#第二轮亚洲巡演圆满结束！SUPER JUNIOR-...</td>\n      <td>2016年01月04日 10:39</td>\n    </tr>\n    <tr>\n      <th>2</th>\n      <td>12</td>\n      <td>看凤爪女如此嚣张！我们必须写首歌骂它！你这只凤！爪！女！@陳俊豪JH @米可儿_Miko @...</td>\n      <td>2016年01月04日 20:23</td>\n    </tr>\n    <tr>\n      <th>3</th>\n      <td>14</td>\n      <td>#胡歌上海旅游形象大使# #胡歌#“我生于斯长于斯，是一个地道的上海人，我热爱养育我的这座城...</td>\n      <td>2016年01月04日 17:39</td>\n    </tr>\n    <tr>\n      <th>4</th>\n      <td>15</td>\n      <td>【tvreport】[Gary亚洲巡演��式启动“1月热力开唱~”]4日所属社表示“歌手Ga...</td>\n      <td>2016年01月04日 10:16</td>\n    </tr>\n    <tr>\n      <th>...</th>\n      <td>...</td>\n      <td>...</td>\n      <td>...</td>\n    </tr>\n    <tr>\n      <th>8444</th>\n      <td>23410</td>\n      <td>黄子韬#黄子韬1227出道七周年#  他是《夏天，19岁的肖像》中阳光帅气，球技高超的康乔...</td>\n      <td>2018年12月27日 12:02</td>\n    </tr>\n    <tr>\n      <th>8445</th>\n      <td>23412</td>\n      <td>相聚是短暂但及其快乐的！期待31号和大家在上海新天地合体跨年了！约吗？ 微博视频 ​</td>\n      <td>2018年12月27日 10:46</td>\n    </tr>\n    <tr>\n      <th>8446</th>\n      <td>23413</td>\n      <td>官宣#上海电视台新娱乐频道与星尚频道合并为“都市”频道。?????? ​</td>\n      <td>2018年12月27日 16:57</td>\n    </tr>\n    <tr>\n      <th>8447</th>\n      <td>23420</td>\n      <td>日本逗比美妆达人まあたそ的唠嗑时光。一边教你如何快速卷发，一边吐槽曾因为化妆的缘故，被上海海...</td>\n      <td>2018年12月27日 17:27</td>\n    </tr>\n    <tr>\n      <th>8448</th>\n      <td>23422</td>\n      <td>鲸鱼与洲喵  洲洲中学上海戏剧学院附属高中 大学中国戏曲学院 这个京剧亮相似乎只有刚出道时...</td>\n      <td>2018年12月27日 11:06</td>\n    </tr>\n  </tbody>\n</table>\n<p>8449 rows × 3 columns</p>\n</div>",
      "text/plain": "         ID                                                 正文  \\\n0         1  《暗恋桃花源》1986年第一次在台北演出，到今年整整三十周年，我和黄老师也在内地巡演到第十年...   \n1        10  #SUPER JUNIOR-K.R.Y.#第二轮亚洲巡演圆满结束！SUPER JUNIOR-...   \n2        12  看凤爪女如此嚣张！我们必须写首歌骂它！你这只凤！爪！女！@陳俊豪JH @米可儿_Miko @...   \n3        14  #胡歌上海旅游形象大使# #胡歌#“我生于斯长于斯，是一个地道的上海人，我热爱养育我的这座城...   \n4        15  【tvreport】[Gary亚洲巡演��式启动“1月热力开唱~”]4日所属社表示“歌手Ga...   \n...     ...                                                ...   \n8444  23410  黄子韬#黄子韬1227出道七周年#  他是《夏天，19岁的肖像》中阳光帅气，球技高超的康乔...   \n8445  23412         相聚是短暂但及其快乐的！期待31号和大家在上海新天地合体跨年了！约吗？ 微博视频 ​   \n8446  23413               官宣#上海电视台新娱乐频道与星尚频道合并为“都市”频道。?????? ​   \n8447  23420  日本逗比美妆达人まあたそ的唠嗑时光。一边教你如何快速卷发，一边吐槽曾因为化妆的缘故，被上海海...   \n8448  23422  鲸鱼与洲喵  洲洲中学上海戏剧学院附属高中 大学中国戏曲学院 这个京剧亮相似乎只有刚出道时...   \n\n                   微博发布时间  \n0      2016年01月04日 20:11   \n1      2016年01月04日 10:39   \n2      2016年01月04日 20:23   \n3      2016年01月04日 17:39   \n4      2016年01月04日 10:16   \n...                   ...  \n8444   2018年12月27日 12:02   \n8445   2018年12月27日 10:46   \n8446   2018年12月27日 16:57   \n8447   2018年12月27日 17:27   \n8448   2018年12月27日 11:06   \n\n[8449 rows x 3 columns]"
     },
     "execution_count": 108,
     "metadata": {},
     "output_type": "execute_result"
    }
   ],
   "source": [
    "df_personal = df_personal[['ID','正文','微博发布时间']]\n",
    "df_personal.index = range(8449)\n",
    "df_personal"
   ]
  },
  {
   "cell_type": "code",
   "execution_count": null,
   "metadata": {},
   "outputs": [],
   "source": []
  }
 ]
}