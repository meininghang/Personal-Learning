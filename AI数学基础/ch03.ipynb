{
 "cells": [
  {
   "cell_type": "markdown",
   "metadata": {},
   "source": [
    "定积分"
   ]
  },
  {
   "cell_type": "code",
   "execution_count": 4,
   "metadata": {},
   "outputs": [
    {
     "name": "stdout",
     "output_type": "stream",
     "text": [
      "(1.296467785724373, 1.397797186265988e-09)\n"
     ]
    }
   ],
   "source": [
    "import numpy as np\n",
    "from scipy.integrate import quad\n",
    "func = lambda x : np.cos(np.exp(x)) ** 2\n",
    "solution = quad(func,0,3)\n",
    "print(solution) #利用原函数求定积分"
   ]
  },
  {
   "cell_type": "code",
   "execution_count": 5,
   "metadata": {},
   "outputs": [],
   "source": [
    "#利用定义求解定积分\n",
    "from numpy import *\n",
    "a,b = 0,3\n",
    "def f(x):\n",
    "    return cos(exp(x))**2\n",
    "def trape(n):#数值计算\n",
    "    h=(b-a)/n\n",
    "    x=a\n",
    "    sum=0\n",
    "    for i in range(1,n):\n",
    "        x2 = a+i*h\n",
    "        sum = sum+(f(x)+f(x2))*h/2\n",
    "        x=x2\n",
    "    return sum"
   ]
  },
  {
   "cell_type": "code",
   "execution_count": 6,
   "metadata": {},
   "outputs": [
    {
     "data": {
      "text/plain": [
       "1.2964674617360648"
      ]
     },
     "execution_count": 6,
     "metadata": {},
     "output_type": "execute_result"
    }
   ],
   "source": [
    "trape(1000000)"
   ]
  },
  {
   "cell_type": "code",
   "execution_count": 3,
   "metadata": {},
   "outputs": [
    {
     "name": "stdout",
     "output_type": "stream",
     "text": [
      "0.7853981633974476 1.3753098510218528e-08\n"
     ]
    }
   ],
   "source": [
    "import numpy as np\n",
    "from scipy.integrate import dblquad\n",
    "def integrand(x,y):\n",
    "    return np.exp(-x**2-y**2)\n",
    "x_a=0\n",
    "x_b=10\n",
    "y_a=0\n",
    "y_b=10\n",
    "solution,abserr = dblquad(integrand,x_a,x_b,lambda x:y_a,lambda x:y_b)\n",
    "print(solution,abserr)"
   ]
  },
  {
   "cell_type": "markdown",
   "metadata": {},
   "source": [
    "习题"
   ]
  },
  {
   "cell_type": "code",
   "execution_count": 7,
   "metadata": {},
   "outputs": [
    {
     "data": {
      "text/plain": [
       "(2.625, 2.914335439641036e-14)"
      ]
     },
     "execution_count": 7,
     "metadata": {},
     "output_type": "execute_result"
    }
   ],
   "source": [
    "import numpy as np\n",
    "from scipy.integrate import quad\n",
    "func = lambda x:x**2+1/x**4\n",
    "solution = quad(func,1,2)\n",
    "solution"
   ]
  },
  {
   "cell_type": "code",
   "execution_count": 9,
   "metadata": {},
   "outputs": [
    {
     "data": {
      "text/plain": [
       "(1.7853981633974483, 1.9821901491273144e-14)"
      ]
     },
     "execution_count": 9,
     "metadata": {},
     "output_type": "execute_result"
    }
   ],
   "source": [
    "import numpy as np\n",
    "from scipy.integrate import quad\n",
    "func = lambda x:(3*x**4 + 3*x**2 + 1) / (x*x + 1)\n",
    "solution = quad(func,-1,0)\n",
    "solution"
   ]
  },
  {
   "cell_type": "code",
   "execution_count": null,
   "metadata": {},
   "outputs": [],
   "source": []
  }
 ],
 "metadata": {
  "kernelspec": {
   "display_name": "Python 3",
   "language": "python",
   "name": "python3"
  },
  "language_info": {
   "codemirror_mode": {
    "name": "ipython",
    "version": 3
   },
   "file_extension": ".py",
   "mimetype": "text/x-python",
   "name": "python",
   "nbconvert_exporter": "python",
   "pygments_lexer": "ipython3",
   "version": "3.8.5"
  }
 },
 "nbformat": 4,
 "nbformat_minor": 4
}
