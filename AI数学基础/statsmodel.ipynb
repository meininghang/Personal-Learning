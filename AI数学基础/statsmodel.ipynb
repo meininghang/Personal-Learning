{
 "cells": [
  {
   "cell_type": "code",
   "execution_count": 3,
   "id": "1f2dbb14-3bcc-4dcb-acb8-48110fa1fb17",
   "metadata": {},
   "outputs": [
    {
     "data": {
      "text/plain": [
       "array([ 0.        ,  0.52631579,  1.05263158,  1.57894737,  2.10526316,\n",
       "        2.63157895,  3.15789474,  3.68421053,  4.21052632,  4.73684211,\n",
       "        5.26315789,  5.78947368,  6.31578947,  6.84210526,  7.36842105,\n",
       "        7.89473684,  8.42105263,  8.94736842,  9.47368421, 10.        ])"
      ]
     },
     "execution_count": 3,
     "metadata": {},
     "output_type": "execute_result"
    }
   ],
   "source": [
    "import matplotlib.pyplot as plt\n",
    "import statsmodels.api as sm\n",
    "import numpy as np\n",
    "\n",
    "nsample = 20\n",
    "x = np.linspace(0,10,nsample)\n",
    "x"
   ]
  },
  {
   "cell_type": "markdown",
   "id": "dd605907-3d2d-4ff1-9465-87148358d843",
   "metadata": {},
   "source": [
    "# 一元线性回归"
   ]
  },
  {
   "cell_type": "code",
   "execution_count": 4,
   "id": "0d441e7f-e1d4-4db8-ab90-88b2baebf4bf",
   "metadata": {},
   "outputs": [
    {
     "data": {
      "text/plain": [
       "array([[ 1.        ,  0.        ],\n",
       "       [ 1.        ,  0.52631579],\n",
       "       [ 1.        ,  1.05263158],\n",
       "       [ 1.        ,  1.57894737],\n",
       "       [ 1.        ,  2.10526316],\n",
       "       [ 1.        ,  2.63157895],\n",
       "       [ 1.        ,  3.15789474],\n",
       "       [ 1.        ,  3.68421053],\n",
       "       [ 1.        ,  4.21052632],\n",
       "       [ 1.        ,  4.73684211],\n",
       "       [ 1.        ,  5.26315789],\n",
       "       [ 1.        ,  5.78947368],\n",
       "       [ 1.        ,  6.31578947],\n",
       "       [ 1.        ,  6.84210526],\n",
       "       [ 1.        ,  7.36842105],\n",
       "       [ 1.        ,  7.89473684],\n",
       "       [ 1.        ,  8.42105263],\n",
       "       [ 1.        ,  8.94736842],\n",
       "       [ 1.        ,  9.47368421],\n",
       "       [ 1.        , 10.        ]])"
      ]
     },
     "execution_count": 4,
     "metadata": {},
     "output_type": "execute_result"
    }
   ],
   "source": [
    "X = sm.add_constant(x)\n",
    "X"
   ]
  },
  {
   "cell_type": "code",
   "execution_count": 5,
   "id": "ed4432e0-7071-4fc1-9880-c5b8c9fa5461",
   "metadata": {},
   "outputs": [
    {
     "data": {
      "text/plain": [
       "array([2, 5])"
      ]
     },
     "execution_count": 5,
     "metadata": {},
     "output_type": "execute_result"
    }
   ],
   "source": [
    "beta = np.array([2,5])\n",
    "beta #参数"
   ]
  },
  {
   "cell_type": "code",
   "execution_count": 6,
   "id": "7aacbbda-f13b-45ec-813c-f7956333f53f",
   "metadata": {},
   "outputs": [
    {
     "data": {
      "text/plain": [
       "array([ 1.32212576,  0.46709057, -0.33122932, -0.30068926, -2.39846059,\n",
       "       -2.07488707, -1.84419173, -0.38573817, -2.07966381,  1.03960771,\n",
       "       -2.03651471,  0.92310125, -0.73859084, -1.65201137, -0.68001177,\n",
       "       -0.00825046, -1.04031684,  0.94718668, -0.82884972,  0.28601459])"
      ]
     },
     "execution_count": 6,
     "metadata": {},
     "output_type": "execute_result"
    }
   ],
   "source": [
    "e = np.random.normal(size=nsample)\n",
    "e #残差"
   ]
  },
  {
   "cell_type": "code",
   "execution_count": 7,
   "id": "169b275f-aa34-4e19-9b11-99d4b5677a9b",
   "metadata": {},
   "outputs": [
    {
     "data": {
      "text/plain": [
       "array([ 3.32212576,  5.09866952,  6.93192858,  9.59404758, 10.1278552 ,\n",
       "       13.08300767, 15.94528195, 20.03531447, 20.97296777, 26.72381824,\n",
       "       26.27927476, 31.87046967, 32.84035653, 34.55851495, 38.1620935 ,\n",
       "       41.46543375, 43.06494632, 47.68402878, 48.53957133, 52.28601459])"
      ]
     },
     "execution_count": 7,
     "metadata": {},
     "output_type": "execute_result"
    }
   ],
   "source": [
    "y = np.dot(X,beta) + e\n",
    "y"
   ]
  },
  {
   "cell_type": "code",
   "execution_count": 8,
   "id": "c52b9f77-7875-41b2-bc0d-e116bf0b3d8e",
   "metadata": {},
   "outputs": [],
   "source": [
    "model = sm.OLS(y,X)"
   ]
  },
  {
   "cell_type": "code",
   "execution_count": 9,
   "id": "fb87171c-1c11-4ed8-aad1-a73a6f2b8836",
   "metadata": {},
   "outputs": [],
   "source": [
    "res = model.fit()"
   ]
  },
  {
   "cell_type": "code",
   "execution_count": 10,
   "id": "d9326325-92a7-4e41-b36b-d66bb144b6db",
   "metadata": {},
   "outputs": [
    {
     "data": {
      "text/plain": [
       "array([1.34211929, 5.01743335])"
      ]
     },
     "execution_count": 10,
     "metadata": {},
     "output_type": "execute_result"
    }
   ],
   "source": [
    "res.params #回归系数"
   ]
  },
  {
   "cell_type": "code",
   "execution_count": 11,
   "id": "c3f5263c-3c65-4d15-9f97-e1252b898228",
   "metadata": {},
   "outputs": [
    {
     "data": {
      "text/html": [
       "<table class=\"simpletable\">\n",
       "<caption>OLS Regression Results</caption>\n",
       "<tr>\n",
       "  <th>Dep. Variable:</th>            <td>y</td>        <th>  R-squared:         </th> <td>   0.994</td>\n",
       "</tr>\n",
       "<tr>\n",
       "  <th>Model:</th>                   <td>OLS</td>       <th>  Adj. R-squared:    </th> <td>   0.994</td>\n",
       "</tr>\n",
       "<tr>\n",
       "  <th>Method:</th>             <td>Least Squares</td>  <th>  F-statistic:       </th> <td>   3199.</td>\n",
       "</tr>\n",
       "<tr>\n",
       "  <th>Date:</th>             <td>Thu, 14 Jul 2022</td> <th>  Prob (F-statistic):</th> <td>1.00e-21</td>\n",
       "</tr>\n",
       "<tr>\n",
       "  <th>Time:</th>                 <td>05:11:31</td>     <th>  Log-Likelihood:    </th> <td> -31.039</td>\n",
       "</tr>\n",
       "<tr>\n",
       "  <th>No. Observations:</th>      <td>    20</td>      <th>  AIC:               </th> <td>   66.08</td>\n",
       "</tr>\n",
       "<tr>\n",
       "  <th>Df Residuals:</th>          <td>    18</td>      <th>  BIC:               </th> <td>   68.07</td>\n",
       "</tr>\n",
       "<tr>\n",
       "  <th>Df Model:</th>              <td>     1</td>      <th>                     </th>     <td> </td>   \n",
       "</tr>\n",
       "<tr>\n",
       "  <th>Covariance Type:</th>      <td>nonrobust</td>    <th>                     </th>     <td> </td>   \n",
       "</tr>\n",
       "</table>\n",
       "<table class=\"simpletable\">\n",
       "<tr>\n",
       "    <td></td>       <th>coef</th>     <th>std err</th>      <th>t</th>      <th>P>|t|</th>  <th>[0.025</th>    <th>0.975]</th>  \n",
       "</tr>\n",
       "<tr>\n",
       "  <th>const</th> <td>    1.3421</td> <td>    0.519</td> <td>    2.587</td> <td> 0.019</td> <td>    0.252</td> <td>    2.432</td>\n",
       "</tr>\n",
       "<tr>\n",
       "  <th>x1</th>    <td>    5.0174</td> <td>    0.089</td> <td>   56.559</td> <td> 0.000</td> <td>    4.831</td> <td>    5.204</td>\n",
       "</tr>\n",
       "</table>\n",
       "<table class=\"simpletable\">\n",
       "<tr>\n",
       "  <th>Omnibus:</th>       <td> 2.759</td> <th>  Durbin-Watson:     </th> <td>   2.043</td>\n",
       "</tr>\n",
       "<tr>\n",
       "  <th>Prob(Omnibus):</th> <td> 0.252</td> <th>  Jarque-Bera (JB):  </th> <td>   1.190</td>\n",
       "</tr>\n",
       "<tr>\n",
       "  <th>Skew:</th>          <td> 0.052</td> <th>  Prob(JB):          </th> <td>   0.552</td>\n",
       "</tr>\n",
       "<tr>\n",
       "  <th>Kurtosis:</th>      <td> 1.809</td> <th>  Cond. No.          </th> <td>    11.5</td>\n",
       "</tr>\n",
       "</table><br/><br/>Notes:<br/>[1] Standard Errors assume that the covariance matrix of the errors is correctly specified."
      ],
      "text/plain": [
       "<class 'statsmodels.iolib.summary.Summary'>\n",
       "\"\"\"\n",
       "                            OLS Regression Results                            \n",
       "==============================================================================\n",
       "Dep. Variable:                      y   R-squared:                       0.994\n",
       "Model:                            OLS   Adj. R-squared:                  0.994\n",
       "Method:                 Least Squares   F-statistic:                     3199.\n",
       "Date:                Thu, 14 Jul 2022   Prob (F-statistic):           1.00e-21\n",
       "Time:                        05:11:31   Log-Likelihood:                -31.039\n",
       "No. Observations:                  20   AIC:                             66.08\n",
       "Df Residuals:                      18   BIC:                             68.07\n",
       "Df Model:                           1                                         \n",
       "Covariance Type:            nonrobust                                         \n",
       "==============================================================================\n",
       "                 coef    std err          t      P>|t|      [0.025      0.975]\n",
       "------------------------------------------------------------------------------\n",
       "const          1.3421      0.519      2.587      0.019       0.252       2.432\n",
       "x1             5.0174      0.089     56.559      0.000       4.831       5.204\n",
       "==============================================================================\n",
       "Omnibus:                        2.759   Durbin-Watson:                   2.043\n",
       "Prob(Omnibus):                  0.252   Jarque-Bera (JB):                1.190\n",
       "Skew:                           0.052   Prob(JB):                        0.552\n",
       "Kurtosis:                       1.809   Cond. No.                         11.5\n",
       "==============================================================================\n",
       "\n",
       "Notes:\n",
       "[1] Standard Errors assume that the covariance matrix of the errors is correctly specified.\n",
       "\"\"\""
      ]
     },
     "execution_count": 11,
     "metadata": {},
     "output_type": "execute_result"
    }
   ],
   "source": [
    "res.summary()"
   ]
  },
  {
   "cell_type": "code",
   "execution_count": 12,
   "id": "41f05883-0612-47ca-a887-956aa8b6986a",
   "metadata": {},
   "outputs": [
    {
     "data": {
      "text/html": [
       "<table class=\"simpletable\">\n",
       "<tr>\n",
       "        <td>Model:</td>               <td>OLS</td>         <td>Adj. R-squared:</td>     <td>0.994</td> \n",
       "</tr>\n",
       "<tr>\n",
       "  <td>Dependent Variable:</td>         <td>y</td>               <td>AIC:</td>          <td>66.0772</td>\n",
       "</tr>\n",
       "<tr>\n",
       "         <td>Date:</td>        <td>2022-07-14 05:11</td>        <td>BIC:</td>          <td>68.0687</td>\n",
       "</tr>\n",
       "<tr>\n",
       "   <td>No. Observations:</td>         <td>20</td>          <td>Log-Likelihood:</td>    <td>-31.039</td>\n",
       "</tr>\n",
       "<tr>\n",
       "       <td>Df Model:</td>              <td>1</td>           <td>F-statistic:</td>       <td>3199.</td> \n",
       "</tr>\n",
       "<tr>\n",
       "     <td>Df Residuals:</td>           <td>18</td>        <td>Prob (F-statistic):</td> <td>1.00e-21</td>\n",
       "</tr>\n",
       "<tr>\n",
       "      <td>R-squared:</td>            <td>0.994</td>            <td>Scale:</td>         <td>1.4497</td> \n",
       "</tr>\n",
       "</table>\n",
       "<table class=\"simpletable\">\n",
       "<tr>\n",
       "    <td></td>     <th>Coef.</th> <th>Std.Err.</th>    <th>t</th>     <th>P>|t|</th> <th>[0.025</th> <th>0.975]</th>\n",
       "</tr>\n",
       "<tr>\n",
       "  <th>const</th> <td>1.3421</td>  <td>0.5189</td>  <td>2.5866</td>  <td>0.0186</td> <td>0.2520</td> <td>2.4322</td>\n",
       "</tr>\n",
       "<tr>\n",
       "  <th>x1</th>    <td>5.0174</td>  <td>0.0887</td>  <td>56.5591</td> <td>0.0000</td> <td>4.8311</td> <td>5.2038</td>\n",
       "</tr>\n",
       "</table>\n",
       "<table class=\"simpletable\">\n",
       "<tr>\n",
       "     <td>Omnibus:</td>    <td>2.759</td>  <td>Durbin-Watson:</td>   <td>2.043</td>\n",
       "</tr>\n",
       "<tr>\n",
       "  <td>Prob(Omnibus):</td> <td>0.252</td> <td>Jarque-Bera (JB):</td> <td>1.190</td>\n",
       "</tr>\n",
       "<tr>\n",
       "       <td>Skew:</td>     <td>0.052</td>     <td>Prob(JB):</td>     <td>0.552</td>\n",
       "</tr>\n",
       "<tr>\n",
       "     <td>Kurtosis:</td>   <td>1.809</td>  <td>Condition No.:</td>    <td>12</td>  \n",
       "</tr>\n",
       "</table>"
      ],
      "text/plain": [
       "<class 'statsmodels.iolib.summary2.Summary'>\n",
       "\"\"\"\n",
       "                 Results: Ordinary least squares\n",
       "=================================================================\n",
       "Model:              OLS              Adj. R-squared:     0.994   \n",
       "Dependent Variable: y                AIC:                66.0772 \n",
       "Date:               2022-07-14 05:11 BIC:                68.0687 \n",
       "No. Observations:   20               Log-Likelihood:     -31.039 \n",
       "Df Model:           1                F-statistic:        3199.   \n",
       "Df Residuals:       18               Prob (F-statistic): 1.00e-21\n",
       "R-squared:          0.994            Scale:              1.4497  \n",
       "--------------------------------------------------------------------\n",
       "         Coef.     Std.Err.       t       P>|t|     [0.025    0.975]\n",
       "--------------------------------------------------------------------\n",
       "const    1.3421      0.5189     2.5866    0.0186    0.2520    2.4322\n",
       "x1       5.0174      0.0887    56.5591    0.0000    4.8311    5.2038\n",
       "-----------------------------------------------------------------\n",
       "Omnibus:              2.759        Durbin-Watson:           2.043\n",
       "Prob(Omnibus):        0.252        Jarque-Bera (JB):        1.190\n",
       "Skew:                 0.052        Prob(JB):                0.552\n",
       "Kurtosis:             1.809        Condition No.:           12   \n",
       "=================================================================\n",
       "\n",
       "\"\"\""
      ]
     },
     "execution_count": 12,
     "metadata": {},
     "output_type": "execute_result"
    }
   ],
   "source": [
    "res.summary2()"
   ]
  },
  {
   "cell_type": "code",
   "execution_count": 13,
   "id": "2b652e51-d2a9-4b10-b341-722683239332",
   "metadata": {},
   "outputs": [
    {
     "data": {
      "text/plain": [
       "array([ 1.34211929,  3.98287369,  6.62362808,  9.26438248, 11.90513687,\n",
       "       14.54589127, 17.18664566, 19.82740006, 22.46815445, 25.10890885,\n",
       "       27.74966324, 30.39041764, 33.03117203, 35.67192643, 38.31268082,\n",
       "       40.95343522, 43.59418961, 46.23494401, 48.8756984 , 51.5164528 ])"
      ]
     },
     "execution_count": 13,
     "metadata": {},
     "output_type": "execute_result"
    }
   ],
   "source": [
    "#拟合的估计值\n",
    "y_ = res.fittedvalues\n",
    "y_"
   ]
  },
  {
   "cell_type": "code",
   "execution_count": 14,
   "id": "4b32821b-1834-4606-a1a3-3fdff1967c13",
   "metadata": {},
   "outputs": [
    {
     "data": {
      "image/png": "[encoded data removed]",
      "text/plain": [
       "<Figure size 1080x540 with 1 Axes>"
      ]
     },
     "metadata": {
      "needs_background": "light"
     },
     "output_type": "display_data"
    }
   ],
   "source": [
    "fig,ax = plt.subplots(figsize=(15,7.5))\n",
    "ax.plot(x,y,'o',label='data') #原始数据\n",
    "ax.plot(x,y_,'r--.',label='test')#拟合数据\n",
    "ax.legend(loc='best')\n",
    "plt.show()"
   ]
  },
  {
   "cell_type": "markdown",
   "id": "b9aa40d1-0f24-4ba0-a300-ed04044528ad",
   "metadata": {},
   "source": [
    "# 高阶回归"
   ]
  },
  {
   "cell_type": "code",
   "execution_count": 15,
   "id": "94402955-5b22-4e57-8218-5acbf8530d50",
   "metadata": {},
   "outputs": [],
   "source": [
    "# Y=5+2X+3X^2\n",
    "\n",
    "nsample = 50\n",
    "x = np.linspace(0,10,nsample)\n",
    "X = np.column_stack((x,x**2))\n",
    "X = sm.add_constant(X)"
   ]
  },
  {
   "cell_type": "code",
   "execution_count": 16,
   "id": "1bc01597-ffc2-4f3a-9bdc-e41f670e3521",
   "metadata": {},
   "outputs": [
    {
     "data": {
      "text/plain": [
       "array([4.78329581, 2.0645644 , 2.99688495])"
      ]
     },
     "execution_count": 16,
     "metadata": {},
     "output_type": "execute_result"
    }
   ],
   "source": [
    "beta = np.array([5,2,3])\n",
    "e = np.random.normal(size=nsample)\n",
    "y = np.dot(X,beta) + e\n",
    "model = sm.OLS(y,X)\n",
    "results = model.fit()\n",
    "results.params"
   ]
  },
  {
   "cell_type": "code",
   "execution_count": 17,
   "id": "6d0ce1ed-c6d0-431b-a18b-600622965cfe",
   "metadata": {},
   "outputs": [
    {
     "data": {
      "text/html": [
       "<table class=\"simpletable\">\n",
       "<caption>OLS Regression Results</caption>\n",
       "<tr>\n",
       "  <th>Dep. Variable:</th>            <td>y</td>        <th>  R-squared:         </th> <td>   1.000</td> \n",
       "</tr>\n",
       "<tr>\n",
       "  <th>Model:</th>                   <td>OLS</td>       <th>  Adj. R-squared:    </th> <td>   1.000</td> \n",
       "</tr>\n",
       "<tr>\n",
       "  <th>Method:</th>             <td>Least Squares</td>  <th>  F-statistic:       </th> <td>1.907e+05</td>\n",
       "</tr>\n",
       "<tr>\n",
       "  <th>Date:</th>             <td>Thu, 14 Jul 2022</td> <th>  Prob (F-statistic):</th> <td>1.35e-92</td> \n",
       "</tr>\n",
       "<tr>\n",
       "  <th>Time:</th>                 <td>05:11:40</td>     <th>  Log-Likelihood:    </th> <td> -74.729</td> \n",
       "</tr>\n",
       "<tr>\n",
       "  <th>No. Observations:</th>      <td>    50</td>      <th>  AIC:               </th> <td>   155.5</td> \n",
       "</tr>\n",
       "<tr>\n",
       "  <th>Df Residuals:</th>          <td>    47</td>      <th>  BIC:               </th> <td>   161.2</td> \n",
       "</tr>\n",
       "<tr>\n",
       "  <th>Df Model:</th>              <td>     2</td>      <th>                     </th>     <td> </td>    \n",
       "</tr>\n",
       "<tr>\n",
       "  <th>Covariance Type:</th>      <td>nonrobust</td>    <th>                     </th>     <td> </td>    \n",
       "</tr>\n",
       "</table>\n",
       "<table class=\"simpletable\">\n",
       "<tr>\n",
       "    <td></td>       <th>coef</th>     <th>std err</th>      <th>t</th>      <th>P>|t|</th>  <th>[0.025</th>    <th>0.975]</th>  \n",
       "</tr>\n",
       "<tr>\n",
       "  <th>const</th> <td>    4.7833</td> <td>    0.454</td> <td>   10.543</td> <td> 0.000</td> <td>    3.871</td> <td>    5.696</td>\n",
       "</tr>\n",
       "<tr>\n",
       "  <th>x1</th>    <td>    2.0646</td> <td>    0.210</td> <td>    9.839</td> <td> 0.000</td> <td>    1.642</td> <td>    2.487</td>\n",
       "</tr>\n",
       "<tr>\n",
       "  <th>x2</th>    <td>    2.9969</td> <td>    0.020</td> <td>  147.689</td> <td> 0.000</td> <td>    2.956</td> <td>    3.038</td>\n",
       "</tr>\n",
       "</table>\n",
       "<table class=\"simpletable\">\n",
       "<tr>\n",
       "  <th>Omnibus:</th>       <td> 4.186</td> <th>  Durbin-Watson:     </th> <td>   2.177</td>\n",
       "</tr>\n",
       "<tr>\n",
       "  <th>Prob(Omnibus):</th> <td> 0.123</td> <th>  Jarque-Bera (JB):  </th> <td>   3.623</td>\n",
       "</tr>\n",
       "<tr>\n",
       "  <th>Skew:</th>          <td>-0.659</td> <th>  Prob(JB):          </th> <td>   0.163</td>\n",
       "</tr>\n",
       "<tr>\n",
       "  <th>Kurtosis:</th>      <td> 3.030</td> <th>  Cond. No.          </th> <td>    142.</td>\n",
       "</tr>\n",
       "</table><br/><br/>Notes:<br/>[1] Standard Errors assume that the covariance matrix of the errors is correctly specified."
      ],
      "text/plain": [
       "<class 'statsmodels.iolib.summary.Summary'>\n",
       "\"\"\"\n",
       "                            OLS Regression Results                            \n",
       "==============================================================================\n",
       "Dep. Variable:                      y   R-squared:                       1.000\n",
       "Model:                            OLS   Adj. R-squared:                  1.000\n",
       "Method:                 Least Squares   F-statistic:                 1.907e+05\n",
       "Date:                Thu, 14 Jul 2022   Prob (F-statistic):           1.35e-92\n",
       "Time:                        05:11:40   Log-Likelihood:                -74.729\n",
       "No. Observations:                  50   AIC:                             155.5\n",
       "Df Residuals:                      47   BIC:                             161.2\n",
       "Df Model:                           2                                         \n",
       "Covariance Type:            nonrobust                                         \n",
       "==============================================================================\n",
       "                 coef    std err          t      P>|t|      [0.025      0.975]\n",
       "------------------------------------------------------------------------------\n",
       "const          4.7833      0.454     10.543      0.000       3.871       5.696\n",
       "x1             2.0646      0.210      9.839      0.000       1.642       2.487\n",
       "x2             2.9969      0.020    147.689      0.000       2.956       3.038\n",
       "==============================================================================\n",
       "Omnibus:                        4.186   Durbin-Watson:                   2.177\n",
       "Prob(Omnibus):                  0.123   Jarque-Bera (JB):                3.623\n",
       "Skew:                          -0.659   Prob(JB):                        0.163\n",
       "Kurtosis:                       3.030   Cond. No.                         142.\n",
       "==============================================================================\n",
       "\n",
       "Notes:\n",
       "[1] Standard Errors assume that the covariance matrix of the errors is correctly specified.\n",
       "\"\"\""
      ]
     },
     "execution_count": 17,
     "metadata": {},
     "output_type": "execute_result"
    }
   ],
   "source": [
    "results.summary()"
   ]
  },
  {
   "cell_type": "code",
   "execution_count": 18,
   "id": "f0d21e95-343f-4f95-a433-28f2c6891179",
   "metadata": {},
   "outputs": [
    {
     "data": {
      "image/png": "[encoded data removed]",
      "text/plain": [
       "<Figure size 1008x504 with 1 Axes>"
      ]
     },
     "metadata": {
      "needs_background": "light"
     },
     "output_type": "display_data"
    }
   ],
   "source": [
    "y_fitted = results.fittedvalues\n",
    "fig,ax = plt.subplots(figsize=(14,7))\n",
    "ax.plot(x,y,'o',label='data')\n",
    "ax.plot(x,y_fitted,'r--.',label='OLS')\n",
    "ax.legend(loc='best')\n",
    "plt.show()"
   ]
  },
  {
   "cell_type": "markdown",
   "id": "93f407fc-2711-45bc-a088-c07f5a14af1b",
   "metadata": {},
   "source": [
    "# 分类变量"
   ]
  },
  {
   "cell_type": "markdown",
   "id": "f450dca9-1106-4d33-b164-25d6e5b8325c",
   "metadata": {},
   "source": [
    "假设分类变量有3个取值（a,b,c)，比如考试等级有3个等级。那么a就是（1，0，0），b(0,1,0),c(0,0,1),这个时候就需要3个系数β0，β1，β2，也就是β0*0+β1*1+β2*2"
   ]
  },
  {
   "cell_type": "code",
   "execution_count": 19,
   "id": "7cd6cf0c-b004-4e37-ae51-90236cc8b6aa",
   "metadata": {},
   "outputs": [
    {
     "data": {
      "text/plain": [
       "array([0, 0, 0, 0, 0, 0, 0, 0, 0, 0, 0, 0, 0, 0, 0, 0, 0, 0, 0, 0, 0, 0,\n",
       "       0, 0, 0, 0, 0, 0, 0, 0, 0, 0, 0, 0, 0, 0, 0, 0, 0, 0, 0, 0, 0, 0,\n",
       "       0, 0, 0, 0, 0, 0])"
      ]
     },
     "execution_count": 19,
     "metadata": {},
     "output_type": "execute_result"
    }
   ],
   "source": [
    "nsample = 50\n",
    "groups = np.zeros(nsample,int)\n",
    "groups"
   ]
  },
  {
   "cell_type": "code",
   "execution_count": 20,
   "id": "2c86e51e-365d-49eb-b53a-085b8829272f",
   "metadata": {},
   "outputs": [
    {
     "name": "stderr",
     "output_type": "stream",
     "text": [
      "/Users/duoduoyu/virtual_environment/lib/python3.8/site-packages/statsmodels/tools/tools.py:152: FutureWarning: categorical is deprecated. Use pandas Categorical to represent categorical data and can get_dummies to construct dummy arrays. It will be removed after release 0.13.\n",
      "  warnings.warn(\n"
     ]
    },
    {
     "data": {
      "text/plain": [
       "array([[1., 0., 0.],\n",
       "       [1., 0., 0.],\n",
       "       [1., 0., 0.],\n",
       "       [1., 0., 0.],\n",
       "       [1., 0., 0.],\n",
       "       [1., 0., 0.],\n",
       "       [1., 0., 0.],\n",
       "       [1., 0., 0.],\n",
       "       [1., 0., 0.],\n",
       "       [1., 0., 0.],\n",
       "       [1., 0., 0.],\n",
       "       [1., 0., 0.],\n",
       "       [1., 0., 0.],\n",
       "       [1., 0., 0.],\n",
       "       [1., 0., 0.],\n",
       "       [1., 0., 0.],\n",
       "       [1., 0., 0.],\n",
       "       [1., 0., 0.],\n",
       "       [1., 0., 0.],\n",
       "       [1., 0., 0.],\n",
       "       [0., 1., 0.],\n",
       "       [0., 1., 0.],\n",
       "       [0., 1., 0.],\n",
       "       [0., 1., 0.],\n",
       "       [0., 1., 0.],\n",
       "       [0., 1., 0.],\n",
       "       [0., 1., 0.],\n",
       "       [0., 1., 0.],\n",
       "       [0., 1., 0.],\n",
       "       [0., 1., 0.],\n",
       "       [0., 1., 0.],\n",
       "       [0., 1., 0.],\n",
       "       [0., 1., 0.],\n",
       "       [0., 1., 0.],\n",
       "       [0., 1., 0.],\n",
       "       [0., 1., 0.],\n",
       "       [0., 1., 0.],\n",
       "       [0., 1., 0.],\n",
       "       [0., 1., 0.],\n",
       "       [0., 1., 0.],\n",
       "       [0., 0., 1.],\n",
       "       [0., 0., 1.],\n",
       "       [0., 0., 1.],\n",
       "       [0., 0., 1.],\n",
       "       [0., 0., 1.],\n",
       "       [0., 0., 1.],\n",
       "       [0., 0., 1.],\n",
       "       [0., 0., 1.],\n",
       "       [0., 0., 1.],\n",
       "       [0., 0., 1.]])"
      ]
     },
     "execution_count": 20,
     "metadata": {},
     "output_type": "execute_result"
    }
   ],
   "source": [
    "import pandas as pd\n",
    "groups[20:40] = 1\n",
    "groups[40:] = 2\n",
    "dummy = sm.categorical(groups,drop=True)\n",
    "dummy"
   ]
  },
  {
   "cell_type": "code",
   "execution_count": 21,
   "id": "4507e5a2-b10a-4880-a6c4-03345ae39e30",
   "metadata": {},
   "outputs": [
    {
     "data": {
      "text/html": [
       "<table class=\"simpletable\">\n",
       "<caption>OLS Regression Results</caption>\n",
       "<tr>\n",
       "  <th>Dep. Variable:</th>            <td>y</td>        <th>  R-squared:         </th> <td>   0.995</td>\n",
       "</tr>\n",
       "<tr>\n",
       "  <th>Model:</th>                   <td>OLS</td>       <th>  Adj. R-squared:    </th> <td>   0.995</td>\n",
       "</tr>\n",
       "<tr>\n",
       "  <th>Method:</th>             <td>Least Squares</td>  <th>  F-statistic:       </th> <td>   3252.</td>\n",
       "</tr>\n",
       "<tr>\n",
       "  <th>Date:</th>             <td>Thu, 14 Jul 2022</td> <th>  Prob (F-statistic):</th> <td>1.53e-53</td>\n",
       "</tr>\n",
       "<tr>\n",
       "  <th>Time:</th>                 <td>05:11:59</td>     <th>  Log-Likelihood:    </th> <td> -69.323</td>\n",
       "</tr>\n",
       "<tr>\n",
       "  <th>No. Observations:</th>      <td>    50</td>      <th>  AIC:               </th> <td>   146.6</td>\n",
       "</tr>\n",
       "<tr>\n",
       "  <th>Df Residuals:</th>          <td>    46</td>      <th>  BIC:               </th> <td>   154.3</td>\n",
       "</tr>\n",
       "<tr>\n",
       "  <th>Df Model:</th>              <td>     3</td>      <th>                     </th>     <td> </td>   \n",
       "</tr>\n",
       "<tr>\n",
       "  <th>Covariance Type:</th>      <td>nonrobust</td>    <th>                     </th>     <td> </td>   \n",
       "</tr>\n",
       "</table>\n",
       "<table class=\"simpletable\">\n",
       "<tr>\n",
       "    <td></td>       <th>coef</th>     <th>std err</th>      <th>t</th>      <th>P>|t|</th>  <th>[0.025</th>    <th>0.975]</th>  \n",
       "</tr>\n",
       "<tr>\n",
       "  <th>const</th> <td>    8.2325</td> <td>    0.572</td> <td>   14.397</td> <td> 0.000</td> <td>    7.081</td> <td>    9.384</td>\n",
       "</tr>\n",
       "<tr>\n",
       "  <th>x1</th>    <td>    2.0042</td> <td>    0.066</td> <td>   30.462</td> <td> 0.000</td> <td>    1.872</td> <td>    2.137</td>\n",
       "</tr>\n",
       "<tr>\n",
       "  <th>x2</th>    <td>   -0.5401</td> <td>    0.363</td> <td>   -1.489</td> <td> 0.143</td> <td>   -1.270</td> <td>    0.190</td>\n",
       "</tr>\n",
       "<tr>\n",
       "  <th>x3</th>    <td>    2.8367</td> <td>    0.303</td> <td>    9.360</td> <td> 0.000</td> <td>    2.227</td> <td>    3.447</td>\n",
       "</tr>\n",
       "<tr>\n",
       "  <th>x4</th>    <td>    5.9359</td> <td>    0.683</td> <td>    8.694</td> <td> 0.000</td> <td>    4.562</td> <td>    7.310</td>\n",
       "</tr>\n",
       "</table>\n",
       "<table class=\"simpletable\">\n",
       "<tr>\n",
       "  <th>Omnibus:</th>       <td> 2.712</td> <th>  Durbin-Watson:     </th> <td>   2.361</td>\n",
       "</tr>\n",
       "<tr>\n",
       "  <th>Prob(Omnibus):</th> <td> 0.258</td> <th>  Jarque-Bera (JB):  </th> <td>   1.733</td>\n",
       "</tr>\n",
       "<tr>\n",
       "  <th>Skew:</th>          <td>-0.344</td> <th>  Prob(JB):          </th> <td>   0.420</td>\n",
       "</tr>\n",
       "<tr>\n",
       "  <th>Kurtosis:</th>      <td> 3.598</td> <th>  Cond. No.          </th> <td>1.68e+17</td>\n",
       "</tr>\n",
       "</table><br/><br/>Notes:<br/>[1] Standard Errors assume that the covariance matrix of the errors is correctly specified.<br/>[2] The smallest eigenvalue is 2.41e-31. This might indicate that there are<br/>strong multicollinearity problems or that the design matrix is singular."
      ],
      "text/plain": [
       "<class 'statsmodels.iolib.summary.Summary'>\n",
       "\"\"\"\n",
       "                            OLS Regression Results                            \n",
       "==============================================================================\n",
       "Dep. Variable:                      y   R-squared:                       0.995\n",
       "Model:                            OLS   Adj. R-squared:                  0.995\n",
       "Method:                 Least Squares   F-statistic:                     3252.\n",
       "Date:                Thu, 14 Jul 2022   Prob (F-statistic):           1.53e-53\n",
       "Time:                        05:11:59   Log-Likelihood:                -69.323\n",
       "No. Observations:                  50   AIC:                             146.6\n",
       "Df Residuals:                      46   BIC:                             154.3\n",
       "Df Model:                           3                                         \n",
       "Covariance Type:            nonrobust                                         \n",
       "==============================================================================\n",
       "                 coef    std err          t      P>|t|      [0.025      0.975]\n",
       "------------------------------------------------------------------------------\n",
       "const          8.2325      0.572     14.397      0.000       7.081       9.384\n",
       "x1             2.0042      0.066     30.462      0.000       1.872       2.137\n",
       "x2            -0.5401      0.363     -1.489      0.143      -1.270       0.190\n",
       "x3             2.8367      0.303      9.360      0.000       2.227       3.447\n",
       "x4             5.9359      0.683      8.694      0.000       4.562       7.310\n",
       "==============================================================================\n",
       "Omnibus:                        2.712   Durbin-Watson:                   2.361\n",
       "Prob(Omnibus):                  0.258   Jarque-Bera (JB):                1.733\n",
       "Skew:                          -0.344   Prob(JB):                        0.420\n",
       "Kurtosis:                       3.598   Cond. No.                     1.68e+17\n",
       "==============================================================================\n",
       "\n",
       "Notes:\n",
       "[1] Standard Errors assume that the covariance matrix of the errors is correctly specified.\n",
       "[2] The smallest eigenvalue is 2.41e-31. This might indicate that there are\n",
       "strong multicollinearity problems or that the design matrix is singular.\n",
       "\"\"\""
      ]
     },
     "execution_count": 21,
     "metadata": {},
     "output_type": "execute_result"
    }
   ],
   "source": [
    "#Y=5+2X+3Z1+6Z2+9Z3\n",
    "import statsmodels.api as sm\n",
    "x = np.linspace(0,20,nsample)\n",
    "X = np.column_stack((x,dummy))\n",
    "X = sm.add_constant(X)\n",
    "beta = [5,2,3,6,9]\n",
    "e = np.random.normal(size=nsample)\n",
    "y = np.dot(X,beta) + e\n",
    "result = sm.OLS(y,X).fit()\n",
    "result.summary()"
   ]
  }
 ],
 "metadata": {
  "kernelspec": {
   "display_name": "Python 3 (ipykernel)",
   "language": "python",
   "name": "python3"
  },
  "language_info": {
   "codemirror_mode": {
    "name": "ipython",
    "version": 3
   },
   "file_extension": ".py",
   "mimetype": "text/x-python",
   "name": "python",
   "nbconvert_exporter": "python",
   "pygments_lexer": "ipython3",
   "version": "3.8.9"
  }
 },
 "nbformat": 4,
 "nbformat_minor": 5
}
