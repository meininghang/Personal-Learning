{
 "cells": [
  {
   "metadata": {
    "ExecuteTime": {
     "end_time": "2025-02-17T07:06:31.583127Z",
     "start_time": "2025-02-17T07:06:31.579029Z"
    }
   },
   "cell_type": "code",
   "source": [
    "# 初始化列表\n",
    "# 🈚初始值\n",
    "\n",
    "nums1:list[int] = []\n",
    "\n",
    "# 有初始值\n",
    "nums:list[int] = [1,3,2,5,4]\n",
    "\n",
    "num:int = nums[1]\n",
    "\n"
   ],
   "id": "9067276856edf33b",
   "outputs": [],
   "execution_count": 1
  },
  {
   "metadata": {
    "ExecuteTime": {
     "end_time": "2025-02-17T07:06:40.076612Z",
     "start_time": "2025-02-17T07:06:40.067210Z"
    }
   },
   "cell_type": "code",
   "source": "num",
   "id": "d7a3b439aaf558cf",
   "outputs": [
    {
     "data": {
      "text/plain": [
       "3"
      ]
     },
     "execution_count": 2,
     "metadata": {},
     "output_type": "execute_result"
    }
   ],
   "execution_count": 2
  },
  {
   "metadata": {
    "ExecuteTime": {
     "end_time": "2025-02-17T07:06:58.472891Z",
     "start_time": "2025-02-17T07:06:58.469606Z"
    }
   },
   "cell_type": "code",
   "source": "nums[1] = 0",
   "id": "8a5379d36ee21633",
   "outputs": [],
   "execution_count": 3
  },
  {
   "metadata": {
    "ExecuteTime": {
     "end_time": "2025-02-17T07:07:01.115592Z",
     "start_time": "2025-02-17T07:07:01.110697Z"
    }
   },
   "cell_type": "code",
   "source": "nums",
   "id": "865513ed5598a882",
   "outputs": [
    {
     "data": {
      "text/plain": [
       "[1, 0, 2, 5, 4]"
      ]
     },
     "execution_count": 4,
     "metadata": {},
     "output_type": "execute_result"
    }
   ],
   "execution_count": 4
  },
  {
   "metadata": {
    "ExecuteTime": {
     "end_time": "2025-02-17T07:07:33.119935Z",
     "start_time": "2025-02-17T07:07:33.117269Z"
    }
   },
   "cell_type": "code",
   "source": [
    "# 清空列表\n",
    "nums.clear()"
   ],
   "id": "af6c5e8e333a577f",
   "outputs": [],
   "execution_count": 5
  },
  {
   "metadata": {
    "ExecuteTime": {
     "end_time": "2025-02-17T07:07:37.587456Z",
     "start_time": "2025-02-17T07:07:37.583852Z"
    }
   },
   "cell_type": "code",
   "source": "nums",
   "id": "22f78d37d42ba66b",
   "outputs": [
    {
     "data": {
      "text/plain": [
       "[]"
      ]
     },
     "execution_count": 6,
     "metadata": {},
     "output_type": "execute_result"
    }
   ],
   "execution_count": 6
  },
  {
   "metadata": {
    "ExecuteTime": {
     "end_time": "2025-02-17T07:08:29.784248Z",
     "start_time": "2025-02-17T07:08:29.776643Z"
    }
   },
   "cell_type": "code",
   "source": [
    "# 在尾部添加元素\n",
    "nums.append(1)\n",
    "nums.append(3)\n",
    "nums.append(2)\n",
    "nums.append(5)\n",
    "nums.append(4)\n",
    "\n",
    "nums"
   ],
   "id": "5e5a16953b1d8c98",
   "outputs": [
    {
     "data": {
      "text/plain": [
       "[1, 3, 2, 5, 4]"
      ]
     },
     "execution_count": 7,
     "metadata": {},
     "output_type": "execute_result"
    }
   ],
   "execution_count": 7
  },
  {
   "metadata": {
    "ExecuteTime": {
     "end_time": "2025-02-17T07:08:53.857198Z",
     "start_time": "2025-02-17T07:08:53.852198Z"
    }
   },
   "cell_type": "code",
   "source": [
    "# 中间插值\n",
    "nums.insert(3,6)\n",
    "nums"
   ],
   "id": "df4d47e33f8dbdba",
   "outputs": [
    {
     "data": {
      "text/plain": [
       "[1, 3, 2, 6, 5, 4]"
      ]
     },
     "execution_count": 8,
     "metadata": {},
     "output_type": "execute_result"
    }
   ],
   "execution_count": 8
  },
  {
   "metadata": {
    "ExecuteTime": {
     "end_time": "2025-02-17T07:09:17.722957Z",
     "start_time": "2025-02-17T07:09:17.718705Z"
    }
   },
   "cell_type": "code",
   "source": [
    "# 删除元素\n",
    "nums.pop(3)\n",
    "nums"
   ],
   "id": "5b42bb1c05284fbd",
   "outputs": [
    {
     "data": {
      "text/plain": [
       "[1, 3, 2, 5, 4]"
      ]
     },
     "execution_count": 9,
     "metadata": {},
     "output_type": "execute_result"
    }
   ],
   "execution_count": 9
  },
  {
   "metadata": {
    "ExecuteTime": {
     "end_time": "2025-02-17T07:11:36.480627Z",
     "start_time": "2025-02-17T07:11:36.477325Z"
    }
   },
   "cell_type": "code",
   "source": [
    "#通过索引遍历列表\n",
    "count = 0\n",
    "for  i in range(len(nums)):\n",
    "    count += nums[i]\n",
    "    print(count)"
   ],
   "id": "2e9e6dec86799a9",
   "outputs": [
    {
     "name": "stdout",
     "output_type": "stream",
     "text": [
      "1\n",
      "4\n",
      "6\n",
      "11\n",
      "15\n"
     ]
    }
   ],
   "execution_count": 13
  },
  {
   "metadata": {
    "ExecuteTime": {
     "end_time": "2025-02-17T07:12:04.836296Z",
     "start_time": "2025-02-17T07:12:04.832956Z"
    }
   },
   "cell_type": "code",
   "source": [
    "# 直接遍历列表元素\n",
    "for num in nums:\n",
    "    count += num\n",
    "    print(count)"
   ],
   "id": "b1554b72e0d70d1a",
   "outputs": [
    {
     "name": "stdout",
     "output_type": "stream",
     "text": [
      "16\n",
      "19\n",
      "21\n",
      "26\n",
      "30\n"
     ]
    }
   ],
   "execution_count": 14
  },
  {
   "metadata": {
    "ExecuteTime": {
     "end_time": "2025-02-17T07:12:46.802327Z",
     "start_time": "2025-02-17T07:12:46.798763Z"
    }
   },
   "cell_type": "code",
   "source": [
    "nums:list[int] = [6,8,7,10,9]\n",
    "nums += nums1\n",
    "nums"
   ],
   "id": "be0d11c2181c8ab8",
   "outputs": [
    {
     "data": {
      "text/plain": [
       "[6, 8, 7, 10, 9]"
      ]
     },
     "execution_count": 15,
     "metadata": {},
     "output_type": "execute_result"
    }
   ],
   "execution_count": 15
  },
  {
   "metadata": {
    "ExecuteTime": {
     "end_time": "2025-02-17T07:12:49.961182Z",
     "start_time": "2025-02-17T07:12:49.957424Z"
    }
   },
   "cell_type": "code",
   "source": "nums1",
   "id": "fd863b04c9e2d595",
   "outputs": [
    {
     "data": {
      "text/plain": [
       "[]"
      ]
     },
     "execution_count": 16,
     "metadata": {},
     "output_type": "execute_result"
    }
   ],
   "execution_count": 16
  },
  {
   "metadata": {
    "ExecuteTime": {
     "end_time": "2025-02-17T07:13:19.378261Z",
     "start_time": "2025-02-17T07:13:19.376463Z"
    }
   },
   "cell_type": "code",
   "source": [
    "a = nums.sort()\n",
    "a"
   ],
   "id": "dab095a8e635f74b",
   "outputs": [],
   "execution_count": 18
  },
  {
   "metadata": {
    "ExecuteTime": {
     "end_time": "2025-02-17T07:13:25.994886Z",
     "start_time": "2025-02-17T07:13:25.991614Z"
    }
   },
   "cell_type": "code",
   "source": "nums",
   "id": "704e3ab44b06c93e",
   "outputs": [
    {
     "data": {
      "text/plain": [
       "[6, 7, 8, 9, 10]"
      ]
     },
     "execution_count": 19,
     "metadata": {},
     "output_type": "execute_result"
    }
   ],
   "execution_count": 19
  },
  {
   "metadata": {
    "ExecuteTime": {
     "end_time": "2025-02-17T07:13:32.543957Z",
     "start_time": "2025-02-17T07:13:32.539764Z"
    }
   },
   "cell_type": "code",
   "source": "sorted(nums)",
   "id": "4f05ae305b631005",
   "outputs": [
    {
     "data": {
      "text/plain": [
       "[6, 7, 8, 9, 10]"
      ]
     },
     "execution_count": 20,
     "metadata": {},
     "output_type": "execute_result"
    }
   ],
   "execution_count": 20
  },
  {
   "metadata": {
    "ExecuteTime": {
     "end_time": "2025-02-17T07:13:45.257077Z",
     "start_time": "2025-02-17T07:13:45.253793Z"
    }
   },
   "cell_type": "code",
   "source": "a",
   "id": "ed69d180d7ed7d56",
   "outputs": [],
   "execution_count": 21
  },
  {
   "metadata": {},
   "cell_type": "code",
   "outputs": [],
   "execution_count": null,
   "source": "",
   "id": "e40c83da4a2897a4"
  }
 ],
 "metadata": {
  "kernelspec": {
   "name": "python3",
   "language": "python",
   "display_name": "Python 3 (ipykernel)"
  }
 },
 "nbformat": 5,
 "nbformat_minor": 9
}
