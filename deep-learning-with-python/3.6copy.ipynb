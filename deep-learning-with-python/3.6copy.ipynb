{
 "cells": [
  {
   "cell_type": "code",
   "execution_count": 26,
   "metadata": {},
   "outputs": [],
   "source": [
    "from keras import models,layers,optimizers,losses,metrics"
   ]
  },
  {
   "cell_type": "code",
   "execution_count": 27,
   "metadata": {},
   "outputs": [],
   "source": [
    "from keras.datasets import reuters"
   ]
  },
  {
   "cell_type": "markdown",
   "metadata": {},
   "source": [
    "## 数据集"
   ]
  },
  {
   "cell_type": "code",
   "execution_count": 28,
   "metadata": {},
   "outputs": [],
   "source": [
    "(train_data,train_labels),(test_data,test_labels)=reuters.load_data(num_words=10000)"
   ]
  },
  {
   "cell_type": "code",
   "execution_count": 29,
   "metadata": {},
   "outputs": [
    {
     "data": {
      "text/plain": [
       "8982"
      ]
     },
     "execution_count": 29,
     "metadata": {},
     "output_type": "execute_result"
    }
   ],
   "source": [
    "len(train_data)"
   ]
  },
  {
   "cell_type": "code",
   "execution_count": 30,
   "metadata": {},
   "outputs": [
    {
     "data": {
      "text/plain": [
       "2246"
      ]
     },
     "execution_count": 30,
     "metadata": {},
     "output_type": "execute_result"
    }
   ],
   "source": [
    "len(test_data)"
   ]
  },
  {
   "cell_type": "code",
   "execution_count": 31,
   "metadata": {},
   "outputs": [
    {
     "data": {
      "text/plain": [
       "[1,\n",
       " 245,\n",
       " 273,\n",
       " 207,\n",
       " 156,\n",
       " 53,\n",
       " 74,\n",
       " 160,\n",
       " 26,\n",
       " 14,\n",
       " 46,\n",
       " 296,\n",
       " 26,\n",
       " 39,\n",
       " 74,\n",
       " 2979,\n",
       " 3554,\n",
       " 14,\n",
       " 46,\n",
       " 4689,\n",
       " 4329,\n",
       " 86,\n",
       " 61,\n",
       " 3499,\n",
       " 4795,\n",
       " 14,\n",
       " 61,\n",
       " 451,\n",
       " 4329,\n",
       " 17,\n",
       " 12]"
      ]
     },
     "execution_count": 31,
     "metadata": {},
     "output_type": "execute_result"
    }
   ],
   "source": [
    "train_data[10]"
   ]
  },
  {
   "cell_type": "code",
   "execution_count": 32,
   "metadata": {},
   "outputs": [],
   "source": [
    "word_index = reuters.get_word_index()\n",
    "reverse_word_index = dict([(value,key) for (key,value) in word_index.items()])\n",
    "decoded_newswire = ' '.join([reverse_word_index.get(i-3,'?') for i in train_data[0]])"
   ]
  },
  {
   "cell_type": "code",
   "execution_count": 33,
   "metadata": {},
   "outputs": [
    {
     "data": {
      "text/plain": [
       "'? ? ? said as a result of its december acquisition of space co it expects earnings per share in 1987 of 1 15 to 1 30 dlrs per share up from 70 cts in 1986 the company said pretax net should rise to nine to 10 mln dlrs from six mln dlrs in 1986 and rental operation revenues to 19 to 22 mln dlrs from 12 5 mln dlrs it said cash flow per share this year should be 2 50 to three dlrs reuter 3'"
      ]
     },
     "execution_count": 33,
     "metadata": {},
     "output_type": "execute_result"
    }
   ],
   "source": [
    "decoded_newswire"
   ]
  },
  {
   "cell_type": "code",
   "execution_count": 34,
   "metadata": {},
   "outputs": [
    {
     "data": {
      "text/plain": [
       "3"
      ]
     },
     "execution_count": 34,
     "metadata": {},
     "output_type": "execute_result"
    }
   ],
   "source": [
    "train_labels[10]"
   ]
  },
  {
   "cell_type": "markdown",
   "metadata": {},
   "source": [
    "## 数据预处理"
   ]
  },
  {
   "cell_type": "code",
   "execution_count": 35,
   "metadata": {},
   "outputs": [],
   "source": [
    "import numpy as np"
   ]
  },
  {
   "cell_type": "code",
   "execution_count": 36,
   "metadata": {},
   "outputs": [],
   "source": [
    "def vectorize_sequences(sequences,dimension=10000):\n",
    "    results = np.zeros((len(sequences),dimension))\n",
    "    for i,sequence in enumerate(sequences):\n",
    "        results[i,sequence] = 1.\n",
    "    return results"
   ]
  },
  {
   "cell_type": "code",
   "execution_count": 37,
   "metadata": {},
   "outputs": [],
   "source": [
    "x_train = vectorize_sequences(train_data)\n",
    "x_test = vectorize_sequences(test_data)"
   ]
  },
  {
   "cell_type": "code",
   "execution_count": 40,
   "metadata": {},
   "outputs": [],
   "source": [
    "import keras\n",
    "one_hot_train_labels = keras.utils.np_utils.to_categorical(train_labels)\n",
    "one_hot_test_labels = keras.utils.np_utils.to_categorical(test_labels)"
   ]
  },
  {
   "cell_type": "markdown",
   "metadata": {},
   "source": [
    "## 建设自己的 NN"
   ]
  },
  {
   "cell_type": "code",
   "execution_count": 41,
   "metadata": {},
   "outputs": [],
   "source": [
    "model = models.Sequential()"
   ]
  },
  {
   "cell_type": "code",
   "execution_count": 42,
   "metadata": {},
   "outputs": [],
   "source": [
    "model.add(layers.Dense(64,activation='relu',input_shape=(10000,)))\n",
    "model.add(layers.Dense(64,activation='relu'))\n",
    "model.add(layers.Dense(46,activation='softmax'))"
   ]
  },
  {
   "cell_type": "code",
   "execution_count": 43,
   "metadata": {},
   "outputs": [],
   "source": [
    "model.compile(loss=losses.categorical_crossentropy,\n",
    "             optimizer=optimizers.RMSprop(lr=0.001),\n",
    "             metrics=[metrics.binary_accuracy])"
   ]
  },
  {
   "cell_type": "markdown",
   "metadata": {},
   "source": [
    "## 验证集"
   ]
  },
  {
   "cell_type": "code",
   "execution_count": 44,
   "metadata": {},
   "outputs": [
    {
     "name": "stdout",
     "output_type": "stream",
     "text": [
      "Train on 8083 samples, validate on 899 samples\n",
      "Epoch 1/20\n",
      "8083/8083 [==============================] - 3s 344us/step - loss: 2.6551 - binary_accuracy: 0.9798 - val_loss: 1.8710 - val_binary_accuracy: 0.9839\n",
      "Epoch 2/20\n",
      "8083/8083 [==============================] - 2s 197us/step - loss: 1.4540 - binary_accuracy: 0.9874 - val_loss: 1.4107 - val_binary_accuracy: 0.9885\n",
      "Epoch 3/20\n",
      "8083/8083 [==============================] - 1s 175us/step - loss: 1.0524 - binary_accuracy: 0.9909 - val_loss: 1.2594 - val_binary_accuracy: 0.9894\n",
      "Epoch 4/20\n",
      "8083/8083 [==============================] - 1s 151us/step - loss: 0.8188 - binary_accuracy: 0.9924 - val_loss: 1.1219 - val_binary_accuracy: 0.9900\n",
      "Epoch 5/20\n",
      "8083/8083 [==============================] - 1s 154us/step - loss: 0.6405 - binary_accuracy: 0.9938 - val_loss: 1.0460 - val_binary_accuracy: 0.9904\n",
      "Epoch 6/20\n",
      "8083/8083 [==============================] - 1s 150us/step - loss: 0.5080 - binary_accuracy: 0.9948 - val_loss: 1.0211 - val_binary_accuracy: 0.9910\n",
      "Epoch 7/20\n",
      "8083/8083 [==============================] - 1s 172us/step - loss: 0.4060 - binary_accuracy: 0.9957 - val_loss: 1.0224 - val_binary_accuracy: 0.9908\n",
      "Epoch 8/20\n",
      "8083/8083 [==============================] - 1s 163us/step - loss: 0.3330 - binary_accuracy: 0.9964 - val_loss: 1.0292 - val_binary_accuracy: 0.9908\n",
      "Epoch 9/20\n",
      "8083/8083 [==============================] - 1s 149us/step - loss: 0.2693 - binary_accuracy: 0.9970 - val_loss: 0.9741 - val_binary_accuracy: 0.9915\n",
      "Epoch 10/20\n",
      "8083/8083 [==============================] - 1s 146us/step - loss: 0.2264 - binary_accuracy: 0.9974 - val_loss: 1.0374 - val_binary_accuracy: 0.9910\n",
      "Epoch 11/20\n",
      "8083/8083 [==============================] - 1s 115us/step - loss: 0.2005 - binary_accuracy: 0.9976 - val_loss: 1.0119 - val_binary_accuracy: 0.9915\n",
      "Epoch 12/20\n",
      "8083/8083 [==============================] - 1s 149us/step - loss: 0.1756 - binary_accuracy: 0.9978 - val_loss: 1.0142 - val_binary_accuracy: 0.9917\n",
      "Epoch 13/20\n",
      "8083/8083 [==============================] - 1s 142us/step - loss: 0.1589 - binary_accuracy: 0.9979 - val_loss: 1.0759 - val_binary_accuracy: 0.9915\n",
      "Epoch 14/20\n",
      "8083/8083 [==============================] - 1s 144us/step - loss: 0.1454 - binary_accuracy: 0.9981 - val_loss: 1.1088 - val_binary_accuracy: 0.9913\n",
      "Epoch 15/20\n",
      "8083/8083 [==============================] - 1s 148us/step - loss: 0.1363 - binary_accuracy: 0.9981 - val_loss: 1.1965 - val_binary_accuracy: 0.9907\n",
      "Epoch 16/20\n",
      "8083/8083 [==============================] - 1s 144us/step - loss: 0.1286 - binary_accuracy: 0.9982 - val_loss: 1.1193 - val_binary_accuracy: 0.9910\n",
      "Epoch 17/20\n",
      "8083/8083 [==============================] - 1s 156us/step - loss: 0.1190 - binary_accuracy: 0.9982 - val_loss: 1.0748 - val_binary_accuracy: 0.9916\n",
      "Epoch 18/20\n",
      "8083/8083 [==============================] - 1s 151us/step - loss: 0.1188 - binary_accuracy: 0.9982 - val_loss: 1.2052 - val_binary_accuracy: 0.9910\n",
      "Epoch 19/20\n",
      "8083/8083 [==============================] - 1s 144us/step - loss: 0.1150 - binary_accuracy: 0.9982 - val_loss: 1.2041 - val_binary_accuracy: 0.9910\n",
      "Epoch 20/20\n",
      "8083/8083 [==============================] - 1s 159us/step - loss: 0.1074 - binary_accuracy: 0.9982 - val_loss: 1.2126 - val_binary_accuracy: 0.9911\n"
     ]
    }
   ],
   "source": [
    "history = model.fit(x_train,one_hot_train_labels,epochs=20,batch_size=512,validation_split=0.1)"
   ]
  },
  {
   "cell_type": "markdown",
   "metadata": {},
   "source": [
    "### 画出来看看"
   ]
  },
  {
   "cell_type": "code",
   "execution_count": 45,
   "metadata": {},
   "outputs": [],
   "source": [
    "import matplotlib.pyplot as plt"
   ]
  },
  {
   "cell_type": "code",
   "execution_count": 46,
   "metadata": {},
   "outputs": [],
   "source": [
    "loss = history.history['loss']\n",
    "val_loss = history.history['val_loss']\n",
    "\n",
    "epochs = range(1,21)\n",
    "\n",
    "acc = history.history['binary_accuracy']\n",
    "val_acc = history.history['val_binary_accuracy']"
   ]
  },
  {
   "cell_type": "code",
   "execution_count": 47,
   "metadata": {},
   "outputs": [
    {
     "data": {
      "image/png": "[encoded data removed]",
      "text/plain": [
       "<Figure size 432x288 with 1 Axes>"
      ]
     },
     "metadata": {
      "needs_background": "light"
     },
     "output_type": "display_data"
    }
   ],
   "source": [
    "plt.plot(epochs, loss, 'bo', label='Training loss')\n",
    "plt.plot(epochs, val_loss, 'b', label='Validation loss')\n",
    "plt.title('Training and validation loss')\n",
    "plt.xlabel('Epochs')\n",
    "plt.ylabel('Loss')\n",
    "plt.legend()\n",
    "\n",
    "plt.show()"
   ]
  },
  {
   "cell_type": "code",
   "execution_count": 48,
   "metadata": {},
   "outputs": [
    {
     "data": {
      "image/png": "[encoded data removed]",
      "text/plain": [
       "<Figure size 432x288 with 1 Axes>"
      ]
     },
     "metadata": {
      "needs_background": "light"
     },
     "output_type": "display_data"
    }
   ],
   "source": [
    "plt.plot(epochs, acc, 'bo', label='Training acc')\n",
    "plt.plot(epochs, val_acc, 'b', label='Validation acc')\n",
    "plt.title('Training and validation accuracy')\n",
    "plt.xlabel('Epochs')\n",
    "plt.ylabel('Loss')\n",
    "plt.legend()\n",
    "\n",
    "plt.show()"
   ]
  },
  {
   "cell_type": "markdown",
   "metadata": {},
   "source": [
    "- 应该是在第 8epoch 处过拟合"
   ]
  },
  {
   "cell_type": "markdown",
   "metadata": {},
   "source": [
    "- 所以将训练 epoch 改为 8 较为合适"
   ]
  },
  {
   "cell_type": "code",
   "execution_count": 49,
   "metadata": {},
   "outputs": [],
   "source": [
    "model = models.Sequential()"
   ]
  },
  {
   "cell_type": "code",
   "execution_count": 50,
   "metadata": {},
   "outputs": [],
   "source": [
    "model.add(layers.Dense(64,activation='relu',input_shape=(10000,)))\n",
    "model.add(layers.Dense(64,activation='relu'))\n",
    "model.add(layers.Dense(46,activation='softmax'))"
   ]
  },
  {
   "cell_type": "code",
   "execution_count": 51,
   "metadata": {},
   "outputs": [],
   "source": [
    "model.compile(loss=losses.categorical_crossentropy,\n",
    "             optimizer=optimizers.RMSprop(lr=0.001),\n",
    "             metrics=[metrics.binary_accuracy])"
   ]
  },
  {
   "cell_type": "code",
   "execution_count": 52,
   "metadata": {},
   "outputs": [
    {
     "name": "stdout",
     "output_type": "stream",
     "text": [
      "Train on 8083 samples, validate on 899 samples\n",
      "Epoch 1/8\n",
      "8083/8083 [==============================] - 4s 488us/step - loss: 1.4300 - binary_accuracy: 0.9886 - val_loss: 1.1463 - val_binary_accuracy: 0.9904\n",
      "Epoch 2/8\n",
      "8083/8083 [==============================] - 3s 389us/step - loss: 0.7537 - binary_accuracy: 0.9933 - val_loss: 1.0058 - val_binary_accuracy: 0.9911\n",
      "Epoch 3/8\n",
      "8083/8083 [==============================] - 3s 357us/step - loss: 0.4793 - binary_accuracy: 0.9954 - val_loss: 1.1071 - val_binary_accuracy: 0.9916\n",
      "Epoch 4/8\n",
      "8083/8083 [==============================] - 3s 361us/step - loss: 0.3306 - binary_accuracy: 0.9967 - val_loss: 1.0853 - val_binary_accuracy: 0.9913\n",
      "Epoch 5/8\n",
      "8083/8083 [==============================] - 3s 360us/step - loss: 0.2605 - binary_accuracy: 0.9974 - val_loss: 1.2130 - val_binary_accuracy: 0.9915\n",
      "Epoch 6/8\n",
      "8083/8083 [==============================] - 3s 357us/step - loss: 0.2129 - binary_accuracy: 0.9978 - val_loss: 1.3110 - val_binary_accuracy: 0.9910\n",
      "Epoch 7/8\n",
      "8083/8083 [==============================] - 3s 391us/step - loss: 0.1886 - binary_accuracy: 0.9979 - val_loss: 1.2246 - val_binary_accuracy: 0.9915\n",
      "Epoch 8/8\n",
      "8083/8083 [==============================] - 3s 377us/step - loss: 0.1725 - binary_accuracy: 0.9980 - val_loss: 1.4389 - val_binary_accuracy: 0.9911\n"
     ]
    },
    {
     "data": {
      "text/plain": [
       "<keras.callbacks.callbacks.History at 0x1459b8910>"
      ]
     },
     "execution_count": 52,
     "metadata": {},
     "output_type": "execute_result"
    }
   ],
   "source": [
    "model.fit(x_train,one_hot_train_labels,epochs=8,validation_split=0.1)"
   ]
  },
  {
   "cell_type": "code",
   "execution_count": 53,
   "metadata": {},
   "outputs": [
    {
     "name": "stdout",
     "output_type": "stream",
     "text": [
      "2246/2246 [==============================] - 1s 267us/step\n"
     ]
    }
   ],
   "source": [
    "results = model.evaluate(x_test,one_hot_test_labels)"
   ]
  },
  {
   "cell_type": "code",
   "execution_count": 54,
   "metadata": {},
   "outputs": [
    {
     "data": {
      "text/plain": [
       "[1.3562926473303343, 0.9914824962615967]"
      ]
     },
     "execution_count": 54,
     "metadata": {},
     "output_type": "execute_result"
    }
   ],
   "source": [
    "results"
   ]
  },
  {
   "cell_type": "markdown",
   "metadata": {},
   "source": [
    "## 试试效果"
   ]
  },
  {
   "cell_type": "code",
   "execution_count": 55,
   "metadata": {},
   "outputs": [],
   "source": [
    "predictions = model.predict(x_test)"
   ]
  },
  {
   "cell_type": "code",
   "execution_count": 56,
   "metadata": {},
   "outputs": [
    {
     "data": {
      "text/plain": [
       "array([8.1202103e-08, 6.8408019e-07, 1.8912794e-13, 4.3848515e-01,\n",
       "       5.5687249e-01, 1.7560653e-15, 9.8723507e-10, 4.0207673e-09,\n",
       "       5.3981389e-04, 3.3162127e-08, 1.5649995e-07, 1.2583407e-06,\n",
       "       6.1973533e-09, 4.7989841e-05, 8.8579023e-12, 7.7041030e-12,\n",
       "       2.2542677e-05, 7.5298240e-10, 1.8745063e-11, 2.8433215e-03,\n",
       "       1.1783325e-03, 1.5534960e-07, 1.7088641e-12, 4.9097043e-06,\n",
       "       2.5029875e-13, 5.3281575e-08, 6.4872578e-12, 1.9864740e-11,\n",
       "       4.8435964e-11, 7.1473383e-10, 2.6264930e-09, 3.1587301e-13,\n",
       "       8.5170475e-09, 3.8728579e-14, 2.3887264e-10, 8.8730533e-12,\n",
       "       3.0360059e-06, 4.5214290e-09, 4.4931125e-12, 1.3253344e-09,\n",
       "       3.1398513e-09, 1.7541441e-11, 9.9653501e-11, 1.8789323e-13,\n",
       "       2.1255865e-10, 9.1649216e-11], dtype=float32)"
      ]
     },
     "execution_count": 56,
     "metadata": {},
     "output_type": "execute_result"
    }
   ],
   "source": [
    "predictions[0]"
   ]
  },
  {
   "cell_type": "code",
   "execution_count": null,
   "metadata": {},
   "outputs": [],
   "source": []
  }
 ],
 "metadata": {
  "kernelspec": {
   "display_name": "Python 3.7.7 64-bit",
   "language": "python",
   "name": "python37764bit3b7b5d42d44946a88de85840a9791756"
  },
  "language_info": {
   "codemirror_mode": {
    "name": "ipython",
    "version": 3
   },
   "file_extension": ".py",
   "mimetype": "text/x-python",
   "name": "python",
   "nbconvert_exporter": "python",
   "pygments_lexer": "ipython3",
   "version": "3.7.7"
  }
 },
 "nbformat": 4,
 "nbformat_minor": 4
}
