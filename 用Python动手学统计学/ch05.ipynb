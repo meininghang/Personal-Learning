{
 "cells": [
  {
   "cell_type": "markdown",
   "id": "294e13d1-5cf8-4cde-9038-f9701eb49f0f",
   "metadata": {},
   "source": [
    "# 第5章 正态线性模型"
   ]
  },
  {
   "cell_type": "markdown",
   "id": "62f0b8e4-31fc-4248-a204-b3d3ef919b6c",
   "metadata": {},
   "source": [
    "## 5-1 一元回归模型"
   ]
  },
  {
   "cell_type": "markdown",
   "id": "ba54f276-b51e-4400-a550-212994771f21",
   "metadata": {},
   "source": [
    "即单个连续解释性变量的模型"
   ]
  },
  {
   "cell_type": "code",
   "execution_count": 1,
   "id": "345be8a4-ab0c-434a-a12a-1aec93d30924",
   "metadata": {},
   "outputs": [],
   "source": [
    "import pandas as pd\n",
    "import numpy as np\n",
    "import scipy as sp\n",
    "from scipy import stats\n",
    "import statsmodels.formula.api as smf\n",
    "import statsmodels.api as sm\n",
    "import matplotlib.pyplot as plt\n",
    "import seaborn as sns\n",
    "\n",
    "%precision 3\n",
    "%matplotlib inline"
   ]
  },
  {
   "cell_type": "code",
   "execution_count": 2,
   "id": "82285799-2c1c-46fe-af79-2459e3622455",
   "metadata": {},
   "outputs": [
    {
     "data": {
      "text/html": [
       "<div>\n",
       "<style scoped>\n",
       "    .dataframe tbody tr th:only-of-type {\n",
       "        vertical-align: middle;\n",
       "    }\n",
       "\n",
       "    .dataframe tbody tr th {\n",
       "        vertical-align: top;\n",
       "    }\n",
       "\n",
       "    .dataframe thead th {\n",
       "        text-align: right;\n",
       "    }\n",
       "</style>\n",
       "<table border=\"1\" class=\"dataframe\">\n",
       "  <thead>\n",
       "    <tr style=\"text-align: right;\">\n",
       "      <th></th>\n",
       "      <th>beer</th>\n",
       "      <th>temperature</th>\n",
       "    </tr>\n",
       "  </thead>\n",
       "  <tbody>\n",
       "    <tr>\n",
       "      <th>0</th>\n",
       "      <td>45.3</td>\n",
       "      <td>20.5</td>\n",
       "    </tr>\n",
       "    <tr>\n",
       "      <th>1</th>\n",
       "      <td>59.3</td>\n",
       "      <td>25.0</td>\n",
       "    </tr>\n",
       "    <tr>\n",
       "      <th>2</th>\n",
       "      <td>40.4</td>\n",
       "      <td>10.0</td>\n",
       "    </tr>\n",
       "    <tr>\n",
       "      <th>3</th>\n",
       "      <td>38.0</td>\n",
       "      <td>26.9</td>\n",
       "    </tr>\n",
       "    <tr>\n",
       "      <th>4</th>\n",
       "      <td>37.0</td>\n",
       "      <td>15.8</td>\n",
       "    </tr>\n",
       "  </tbody>\n",
       "</table>\n",
       "</div>"
      ],
      "text/plain": [
       "   beer  temperature\n",
       "0  45.3         20.5\n",
       "1  59.3         25.0\n",
       "2  40.4         10.0\n",
       "3  38.0         26.9\n",
       "4  37.0         15.8"
      ]
     },
     "execution_count": 2,
     "metadata": {},
     "output_type": "execute_result"
    }
   ],
   "source": [
    "beer = pd.read_csv('/Users/meininghang/Downloads/【源码】用Python动手学统计学/5-1-1-beer.csv')\n",
    "beer.head()"
   ]
  },
  {
   "cell_type": "code",
   "execution_count": 3,
   "id": "f4e886ae-af86-4a0b-b3c3-72c6733b88c2",
   "metadata": {},
   "outputs": [
    {
     "data": {
      "text/plain": [
       "<seaborn.axisgrid.JointGrid at 0x7f8e40f746a0>"
      ]
     },
     "execution_count": 3,
     "metadata": {},
     "output_type": "execute_result"
    },
    {
     "data": {
      "image/png": "[encoded data removed]",
      "text/plain": [
       "<Figure size 432x432 with 3 Axes>"
      ]
     },
     "metadata": {
      "needs_background": "light"
     },
     "output_type": "display_data"
    }
   ],
   "source": [
    "sns.jointplot(x='temperature',y='beer',data=beer,color='g')"
   ]
  },
  {
   "cell_type": "markdown",
   "id": "fa6c4db2-a4b3-4d91-85ee-c0b67a05242e",
   "metadata": {},
   "source": [
    "### 5-1-4 使用statsmodels实现模型化"
   ]
  },
  {
   "cell_type": "code",
   "execution_count": 4,
   "id": "050a5ff0-5b9a-4733-a976-dd675ed03374",
   "metadata": {},
   "outputs": [],
   "source": [
    "#OLS最小二乘法\n",
    "lm_model = smf.ols(formula='beer~temperature',data=beer).fit()"
   ]
  },
  {
   "cell_type": "markdown",
   "id": "cdcf75e1-63b1-4fd0-86e0-0d99bfcafa1f",
   "metadata": {},
   "source": [
    "### 5-1-5 打印估计结果并检验系数"
   ]
  },
  {
   "cell_type": "code",
   "execution_count": 5,
   "id": "6ab32413-347d-486d-8d1d-4861585f0625",
   "metadata": {},
   "outputs": [
    {
     "data": {
      "text/html": [
       "<table class=\"simpletable\">\n",
       "<caption>OLS Regression Results</caption>\n",
       "<tr>\n",
       "  <th>Dep. Variable:</th>          <td>beer</td>       <th>  R-squared:         </th> <td>   0.504</td>\n",
       "</tr>\n",
       "<tr>\n",
       "  <th>Model:</th>                   <td>OLS</td>       <th>  Adj. R-squared:    </th> <td>   0.486</td>\n",
       "</tr>\n",
       "<tr>\n",
       "  <th>Method:</th>             <td>Least Squares</td>  <th>  F-statistic:       </th> <td>   28.45</td>\n",
       "</tr>\n",
       "<tr>\n",
       "  <th>Date:</th>             <td>Sat, 29 May 2021</td> <th>  Prob (F-statistic):</th> <td>1.11e-05</td>\n",
       "</tr>\n",
       "<tr>\n",
       "  <th>Time:</th>                 <td>17:35:31</td>     <th>  Log-Likelihood:    </th> <td> -102.45</td>\n",
       "</tr>\n",
       "<tr>\n",
       "  <th>No. Observations:</th>      <td>    30</td>      <th>  AIC:               </th> <td>   208.9</td>\n",
       "</tr>\n",
       "<tr>\n",
       "  <th>Df Residuals:</th>          <td>    28</td>      <th>  BIC:               </th> <td>   211.7</td>\n",
       "</tr>\n",
       "<tr>\n",
       "  <th>Df Model:</th>              <td>     1</td>      <th>                     </th>     <td> </td>   \n",
       "</tr>\n",
       "<tr>\n",
       "  <th>Covariance Type:</th>      <td>nonrobust</td>    <th>                     </th>     <td> </td>   \n",
       "</tr>\n",
       "</table>\n",
       "<table class=\"simpletable\">\n",
       "<tr>\n",
       "       <td></td>          <th>coef</th>     <th>std err</th>      <th>t</th>      <th>P>|t|</th>  <th>[0.025</th>    <th>0.975]</th>  \n",
       "</tr>\n",
       "<tr>\n",
       "  <th>Intercept</th>   <td>   34.6102</td> <td>    3.235</td> <td>   10.699</td> <td> 0.000</td> <td>   27.984</td> <td>   41.237</td>\n",
       "</tr>\n",
       "<tr>\n",
       "  <th>temperature</th> <td>    0.7654</td> <td>    0.144</td> <td>    5.334</td> <td> 0.000</td> <td>    0.471</td> <td>    1.059</td>\n",
       "</tr>\n",
       "</table>\n",
       "<table class=\"simpletable\">\n",
       "<tr>\n",
       "  <th>Omnibus:</th>       <td> 0.587</td> <th>  Durbin-Watson:     </th> <td>   1.960</td>\n",
       "</tr>\n",
       "<tr>\n",
       "  <th>Prob(Omnibus):</th> <td> 0.746</td> <th>  Jarque-Bera (JB):  </th> <td>   0.290</td>\n",
       "</tr>\n",
       "<tr>\n",
       "  <th>Skew:</th>          <td>-0.240</td> <th>  Prob(JB):          </th> <td>   0.865</td>\n",
       "</tr>\n",
       "<tr>\n",
       "  <th>Kurtosis:</th>      <td> 2.951</td> <th>  Cond. No.          </th> <td>    52.5</td>\n",
       "</tr>\n",
       "</table><br/><br/>Notes:<br/>[1] Standard Errors assume that the covariance matrix of the errors is correctly specified."
      ],
      "text/plain": [
       "<class 'statsmodels.iolib.summary.Summary'>\n",
       "\"\"\"\n",
       "                            OLS Regression Results                            \n",
       "==============================================================================\n",
       "Dep. Variable:                   beer   R-squared:                       0.504\n",
       "Model:                            OLS   Adj. R-squared:                  0.486\n",
       "Method:                 Least Squares   F-statistic:                     28.45\n",
       "Date:                Sat, 29 May 2021   Prob (F-statistic):           1.11e-05\n",
       "Time:                        17:35:31   Log-Likelihood:                -102.45\n",
       "No. Observations:                  30   AIC:                             208.9\n",
       "Df Residuals:                      28   BIC:                             211.7\n",
       "Df Model:                           1                                         \n",
       "Covariance Type:            nonrobust                                         \n",
       "===============================================================================\n",
       "                  coef    std err          t      P>|t|      [0.025      0.975]\n",
       "-------------------------------------------------------------------------------\n",
       "Intercept      34.6102      3.235     10.699      0.000      27.984      41.237\n",
       "temperature     0.7654      0.144      5.334      0.000       0.471       1.059\n",
       "==============================================================================\n",
       "Omnibus:                        0.587   Durbin-Watson:                   1.960\n",
       "Prob(Omnibus):                  0.746   Jarque-Bera (JB):                0.290\n",
       "Skew:                          -0.240   Prob(JB):                        0.865\n",
       "Kurtosis:                       2.951   Cond. No.                         52.5\n",
       "==============================================================================\n",
       "\n",
       "Notes:\n",
       "[1] Standard Errors assume that the covariance matrix of the errors is correctly specified.\n",
       "\"\"\""
      ]
     },
     "execution_count": 5,
     "metadata": {},
     "output_type": "execute_result"
    }
   ],
   "source": [
    "lm_model.summary()"
   ]
  },
  {
   "cell_type": "markdown",
   "id": "1c3751ad-3f71-4de7-b280-076403292025",
   "metadata": {},
   "source": [
    "> 参数说明\n",
    "Dep.Variable：响应变量的名称，Dep 为 Depended 的缩写。\n",
    "Model/Method：表示这里使用了普通最小二乘法（OLS）。\n",
    "Date/Time：对模型进行估计的日期和时间。\n",
    "No.Observations：样本容量。\n",
    "Df Residuals：样本容量减去参与估计的参数个数。\n",
    "Df Model：用到的解释变量的个数（不是参数个数）。\n",
    "Covariance Type：协方差类型，默认为 nonrobust。\n",
    "R-Squared/Adj.R-Squared：决定系数与修正决定系数（见后文）。\n",
    "F-statistic/Prob(F-statistic)：方差分析的结果。\n",
    "Log-Likelihood：最大对数似然。\n",
    "AIC：赤池信息量准则。\n",
    "BIC：贝叶斯信息量准则，属于信息量准则的一种。"
   ]
  },
  {
   "cell_type": "markdown",
   "id": "599bb7bc-0f89-47eb-92ba-e87948612d1f",
   "metadata": {},
   "source": [
    "### 5-1-7 使用AIC进行模型选择"
   ]
  },
  {
   "cell_type": "markdown",
   "id": "c03dfb62-ac37-4bcf-8981-5c1046c0b9b8",
   "metadata": {},
   "source": [
    "AIC = -2 × ( 最大对数似然 - 参与估计的参数个数 )"
   ]
  },
  {
   "cell_type": "code",
   "execution_count": 6,
   "id": "7f1174ae-b9aa-4913-b8ff-ea66908f11d4",
   "metadata": {},
   "outputs": [
    {
     "data": {
      "text/plain": [
       "208.9090293557544"
      ]
     },
     "execution_count": 6,
     "metadata": {},
     "output_type": "execute_result"
    }
   ],
   "source": [
    "lm_model.aic"
   ]
  },
  {
   "cell_type": "code",
   "execution_count": 7,
   "id": "2e061cac-7744-4706-b398-9f8549843fce",
   "metadata": {},
   "outputs": [
    {
     "data": {
      "text/plain": [
       "227.94194972563105"
      ]
     },
     "execution_count": 7,
     "metadata": {},
     "output_type": "execute_result"
    }
   ],
   "source": [
    "#无解释变量时的模型aic\n",
    "smf.ols('beer~1',data=beer).fit().aic"
   ]
  },
  {
   "cell_type": "markdown",
   "id": "56020c94-4263-4af8-9f78-7779650fc2b1",
   "metadata": {},
   "source": [
    "### 5-1-9 用seaborn绘制回归直线"
   ]
  },
  {
   "cell_type": "code",
   "execution_count": 8,
   "id": "5677d9a6-b599-489d-a043-ad8e2664265c",
   "metadata": {},
   "outputs": [
    {
     "data": {
      "text/plain": [
       "<seaborn.axisgrid.FacetGrid at 0x7f8e74a5ebe0>"
      ]
     },
     "execution_count": 8,
     "metadata": {},
     "output_type": "execute_result"
    },
    {
     "data": {
      "image/png": "[encoded data removed]",
      "text/plain": [
       "<Figure size 360x360 with 1 Axes>"
      ]
     },
     "metadata": {
      "needs_background": "light"
     },
     "output_type": "display_data"
    }
   ],
   "source": [
    "sns.lmplot(x='temperature',y='beer',data=beer,\n",
    "           scatter_kws={'color':'blue'},\n",
    "           line_kws={'color':'orange'}\n",
    "          )"
   ]
  },
  {
   "cell_type": "markdown",
   "id": "d3a9410d-eea4-42ad-9417-a9a6b76a9991",
   "metadata": {},
   "source": [
    "### 5-1-10 使用模型进行预测"
   ]
  },
  {
   "cell_type": "code",
   "execution_count": 9,
   "id": "81cf41cf-8c1f-49e1-adad-5d2f15cb0876",
   "metadata": {},
   "outputs": [
    {
     "data": {
      "text/plain": [
       "array([50.301, 53.746, 42.264, 55.2  , 46.704, 37.825, 44.943, 54.511,\n",
       "       52.445, 41.116, 54.664, 49.23 , 53.21 , 52.445, 41.04 , 52.598,\n",
       "       45.25 , 61.783, 55.43 , 50.301, 42.418, 50.301, 51.143, 40.657,\n",
       "       66.911, 52.904, 62.854, 41.423, 62.472, 39.509])"
      ]
     },
     "execution_count": 9,
     "metadata": {},
     "output_type": "execute_result"
    }
   ],
   "source": [
    "lm_model.predict()"
   ]
  },
  {
   "cell_type": "code",
   "execution_count": 11,
   "id": "ee671570-d40d-433f-9c15-6cba18a344b8",
   "metadata": {},
   "outputs": [
    {
     "data": {
      "text/html": [
       "<div>\n",
       "<style scoped>\n",
       "    .dataframe tbody tr th:only-of-type {\n",
       "        vertical-align: middle;\n",
       "    }\n",
       "\n",
       "    .dataframe tbody tr th {\n",
       "        vertical-align: top;\n",
       "    }\n",
       "\n",
       "    .dataframe thead th {\n",
       "        text-align: right;\n",
       "    }\n",
       "</style>\n",
       "<table border=\"1\" class=\"dataframe\">\n",
       "  <thead>\n",
       "    <tr style=\"text-align: right;\">\n",
       "      <th></th>\n",
       "      <th>beer</th>\n",
       "      <th>temperature</th>\n",
       "    </tr>\n",
       "  </thead>\n",
       "  <tbody>\n",
       "    <tr>\n",
       "      <th>0</th>\n",
       "      <td>45.3</td>\n",
       "      <td>20.5</td>\n",
       "    </tr>\n",
       "    <tr>\n",
       "      <th>1</th>\n",
       "      <td>59.3</td>\n",
       "      <td>25.0</td>\n",
       "    </tr>\n",
       "    <tr>\n",
       "      <th>2</th>\n",
       "      <td>40.4</td>\n",
       "      <td>10.0</td>\n",
       "    </tr>\n",
       "    <tr>\n",
       "      <th>3</th>\n",
       "      <td>38.0</td>\n",
       "      <td>26.9</td>\n",
       "    </tr>\n",
       "    <tr>\n",
       "      <th>4</th>\n",
       "      <td>37.0</td>\n",
       "      <td>15.8</td>\n",
       "    </tr>\n",
       "  </tbody>\n",
       "</table>\n",
       "</div>"
      ],
      "text/plain": [
       "   beer  temperature\n",
       "0  45.3         20.5\n",
       "1  59.3         25.0\n",
       "2  40.4         10.0\n",
       "3  38.0         26.9\n",
       "4  37.0         15.8"
      ]
     },
     "execution_count": 11,
     "metadata": {},
     "output_type": "execute_result"
    }
   ],
   "source": [
    "beer.head()"
   ]
  },
  {
   "cell_type": "code",
   "execution_count": 12,
   "id": "9f2591b7-04fb-4b8e-8640-4b9f5cfa0df6",
   "metadata": {},
   "outputs": [
    {
     "data": {
      "text/plain": [
       "0    34.610215\n",
       "dtype: float64"
      ]
     },
     "execution_count": 12,
     "metadata": {},
     "output_type": "execute_result"
    }
   ],
   "source": [
    "#预测气温为0时的销售额\n",
    "#lm_model.predict(pd.DataFrame({'temperature':[0]}))"
   ]
  },
  {
   "cell_type": "code",
   "execution_count": 15,
   "id": "fd3f073b-c8e4-4c50-8bc9-3385c32d034f",
   "metadata": {},
   "outputs": [
    {
     "data": {
      "text/html": [
       "<div>\n",
       "<style scoped>\n",
       "    .dataframe tbody tr th:only-of-type {\n",
       "        vertical-align: middle;\n",
       "    }\n",
       "\n",
       "    .dataframe tbody tr th {\n",
       "        vertical-align: top;\n",
       "    }\n",
       "\n",
       "    .dataframe thead th {\n",
       "        text-align: right;\n",
       "    }\n",
       "</style>\n",
       "<table border=\"1\" class=\"dataframe\">\n",
       "  <thead>\n",
       "    <tr style=\"text-align: right;\">\n",
       "      <th></th>\n",
       "      <th>temperature</th>\n",
       "    </tr>\n",
       "  </thead>\n",
       "  <tbody>\n",
       "    <tr>\n",
       "      <th>0</th>\n",
       "      <td>0</td>\n",
       "    </tr>\n",
       "  </tbody>\n",
       "</table>\n",
       "</div>"
      ],
      "text/plain": [
       "   temperature\n",
       "0            0"
      ]
     },
     "execution_count": 15,
     "metadata": {},
     "output_type": "execute_result"
    }
   ],
   "source": [
    "pd.DataFrame({'temperature':[0]})"
   ]
  },
  {
   "cell_type": "code",
   "execution_count": 16,
   "id": "f02d21e5-14b4-4846-97e8-bde541213c52",
   "metadata": {},
   "outputs": [
    {
     "data": {
      "text/plain": [
       "Intercept      34.610215\n",
       "temperature     0.765428\n",
       "dtype: float64"
      ]
     },
     "execution_count": 16,
     "metadata": {},
     "output_type": "execute_result"
    }
   ],
   "source": [
    "lm_model.params"
   ]
  },
  {
   "cell_type": "code",
   "execution_count": 17,
   "id": "7ab440d0-3ce4-4204-ba0a-893af0259d4e",
   "metadata": {},
   "outputs": [
    {
     "data": {
      "text/plain": [
       "0    49.918767\n",
       "dtype: float64"
      ]
     },
     "execution_count": 17,
     "metadata": {},
     "output_type": "execute_result"
    }
   ],
   "source": [
    "lm_model.predict(pd.DataFrame({'temperature':[20]}))"
   ]
  },
  {
   "cell_type": "code",
   "execution_count": 18,
   "id": "2c208ef9-8567-49c0-b68a-cd4aa9900eba",
   "metadata": {},
   "outputs": [
    {
     "data": {
      "text/plain": [
       "49.918767010950496"
      ]
     },
     "execution_count": 18,
     "metadata": {},
     "output_type": "execute_result"
    }
   ],
   "source": [
    "lm_model.params[0] + lm_model.params[1] * 20"
   ]
  },
  {
   "cell_type": "markdown",
   "id": "9b397b3e-cab5-435e-b403-dd3b8308cfad",
   "metadata": {},
   "source": [
    "### 5-1-11 获取残差"
   ]
  },
  {
   "cell_type": "code",
   "execution_count": 19,
   "id": "2af67e26-904e-42c8-939f-5383f9f9d839",
   "metadata": {},
   "outputs": [],
   "source": [
    "resid = lm_model.resid"
   ]
  },
  {
   "cell_type": "code",
   "execution_count": 20,
   "id": "e5d3825c-3f32-4643-bdad-32154bdbaa68",
   "metadata": {},
   "outputs": [
    {
     "data": {
      "text/plain": [
       "0     -5.001481\n",
       "1      5.554095\n",
       "2     -1.864491\n",
       "3    -17.200217\n",
       "4     -9.703971\n",
       "5      3.074989\n",
       "6     15.256512\n",
       "7      8.788667\n",
       "8     -1.344678\n",
       "9      3.783650\n",
       "10    -7.664418\n",
       "11     3.970118\n",
       "12    -9.710106\n",
       "13     0.755322\n",
       "14    -3.639807\n",
       "15     7.302236\n",
       "16    -3.749659\n",
       "17    13.317105\n",
       "18     0.170154\n",
       "19     6.898519\n",
       "20     4.082423\n",
       "21   -14.501481\n",
       "22     0.756549\n",
       "23    -2.457093\n",
       "24    -0.911259\n",
       "25     2.396065\n",
       "26    -7.554493\n",
       "27     1.877479\n",
       "28     8.028221\n",
       "29    -0.708952\n",
       "dtype: float64"
      ]
     },
     "execution_count": 20,
     "metadata": {},
     "output_type": "execute_result"
    }
   ],
   "source": [
    "resid"
   ]
  },
  {
   "cell_type": "markdown",
   "id": "4a461646-efa1-4f10-9b9e-6e247cd13d3a",
   "metadata": {},
   "source": [
    "### 5-1-12 决定系数\n",
    "R-Squared叫作决定系数,用来评估模型与已知数据的契合度。"
   ]
  },
  {
   "cell_type": "markdown",
   "id": "30d50564-07fa-4a7a-ae87-0184e1ebd4e3",
   "metadata": {},
   "source": [
    "### 5-1-13 实现决定系数"
   ]
  },
  {
   "cell_type": "code",
   "execution_count": 22,
   "id": "2d8b59d5-58db-4393-808f-c3d68ed99bb8",
   "metadata": {},
   "outputs": [
    {
     "data": {
      "text/plain": [
       "0.504"
      ]
     },
     "execution_count": 22,
     "metadata": {},
     "output_type": "execute_result"
    }
   ],
   "source": [
    "np.around(lm_model.rsquared,3)"
   ]
  },
  {
   "cell_type": "markdown",
   "id": "b06b5374-e5df-4dff-a21f-2bd279312d01",
   "metadata": {},
   "source": [
    "### 5-1-12 修正决定系数\n",
    "修正决定系数考虑了解释变量过多的惩罚指标，通过自由度修正了决定系数。"
   ]
  },
  {
   "cell_type": "code",
   "execution_count": 28,
   "id": "d58f968e-fc21-48a6-86e6-5941a6a2e2cb",
   "metadata": {},
   "outputs": [],
   "source": [
    "def around3(x):\n",
    "    final = np.around(x,3)\n",
    "    return final"
   ]
  },
  {
   "cell_type": "code",
   "execution_count": 29,
   "id": "e478b65b-1c91-4d6e-a5f6-03beca9ec791",
   "metadata": {},
   "outputs": [
    {
     "data": {
      "text/plain": [
       "0.486"
      ]
     },
     "execution_count": 29,
     "metadata": {},
     "output_type": "execute_result"
    }
   ],
   "source": [
    "around3(lm_model.rsquared_adj)"
   ]
  },
  {
   "cell_type": "markdown",
   "id": "f7fb9245-9904-4b93-b47a-87b68406c143",
   "metadata": {},
   "source": [
    "### 5-1-16 残差的直方图和散点图"
   ]
  },
  {
   "cell_type": "code",
   "execution_count": 36,
   "id": "e45beada-04f4-4918-a45b-12c18ee9c361",
   "metadata": {},
   "outputs": [
    {
     "data": {
      "text/plain": [
       "<seaborn.axisgrid.FacetGrid at 0x7f8e74bce7c0>"
      ]
     },
     "execution_count": 36,
     "metadata": {},
     "output_type": "execute_result"
    },
    {
     "data": {
      "image/png": "[encoded data removed]",
      "text/plain": [
       "<Figure size 360x360 with 1 Axes>"
      ]
     },
     "metadata": {
      "needs_background": "light"
     },
     "output_type": "display_data"
    }
   ],
   "source": [
    "sns.displot(resid,color='y',kde=True)"
   ]
  },
  {
   "cell_type": "code",
   "execution_count": 39,
   "id": "a0514fb8-25ad-4601-af08-58301f169c72",
   "metadata": {},
   "outputs": [
    {
     "name": "stderr",
     "output_type": "stream",
     "text": [
      "/Users/meininghang/opt/anaconda3/lib/python3.8/site-packages/seaborn/_decorators.py:36: FutureWarning: Pass the following variables as keyword args: x, y. From version 0.12, the only valid positional argument will be `data`, and passing other arguments without an explicit keyword will result in an error or misinterpretation.\n",
      "  warnings.warn(\n"
     ]
    },
    {
     "data": {
      "text/plain": [
       "<seaborn.axisgrid.JointGrid at 0x7f8e755217f0>"
      ]
     },
     "execution_count": 39,
     "metadata": {},
     "output_type": "execute_result"
    },
    {
     "data": {
      "image/png": "[encoded data removed]",
      "text/plain": [
       "<Figure size 432x432 with 3 Axes>"
      ]
     },
     "metadata": {
      "needs_background": "light"
     },
     "output_type": "display_data"
    }
   ],
   "source": [
    "sns.jointplot(lm_model.fittedvalues,resid,)"
   ]
  },
  {
   "cell_type": "markdown",
   "id": "af1bbf4c-0957-4057-8f13-53bbd52edb14",
   "metadata": {},
   "source": [
    "### 5-1-18 分位图"
   ]
  },
  {
   "cell_type": "code",
   "execution_count": 41,
   "id": "cbcc3b1a-fb06-4aae-bff4-98ce410ea55d",
   "metadata": {},
   "outputs": [
    {
     "data": {
      "image/png": "[encoded data removed]",
      "text/plain": [
       "<Figure size 432x288 with 1 Axes>"
      ]
     },
     "metadata": {
      "needs_background": "light"
     },
     "output_type": "display_data"
    }
   ],
   "source": [
    "fig = sm.qqplot(resid,line='s')"
   ]
  },
  {
   "cell_type": "markdown",
   "id": "5c53381b-f98a-4a31-a059-55b00c2f0f4b",
   "metadata": {},
   "source": [
    "## 5-2 方差分析"
   ]
  },
  {
   "cell_type": "code",
   "execution_count": 42,
   "id": "74d1ce90-3137-4a7c-8443-37ed5e0512a6",
   "metadata": {},
   "outputs": [
    {
     "name": "stdin",
     "output_type": "stream",
     "text": [
      "Once deleted, variables cannot be recovered. Proceed (y/[n])?  y\n"
     ]
    }
   ],
   "source": [
    "%reset"
   ]
  },
  {
   "cell_type": "code",
   "execution_count": 43,
   "id": "2f71147d-1d72-42d8-bec1-c84124b74e79",
   "metadata": {},
   "outputs": [],
   "source": [
    "import numpy as np\n",
    "import pandas as pd\n",
    "import scipy as sp\n",
    "import scipy.stats as stats\n",
    "import matplotlib.pyplot as plt\n",
    "import seaborn as sns\n",
    "import statsmodels.formula.api as smf\n",
    "import statsmodels.api as sm\n",
    "\n",
    "sns.set()\n",
    "%matplotlib inline \n",
    "%precision 3\n",
    "def around3(x):\n",
    "    final = np.around(x,3)\n",
    "    return final"
   ]
  },
  {
   "cell_type": "markdown",
   "id": "f7860f73-7c19-4a39-915f-a71ae00b7656",
   "metadata": {},
   "source": [
    "### 5-2-9 生成数据并可视化"
   ]
  },
  {
   "cell_type": "code",
   "execution_count": 44,
   "id": "e9ed8af9-6113-40f0-b3dc-15a8e9bd0d08",
   "metadata": {},
   "outputs": [
    {
     "data": {
      "text/html": [
       "<div>\n",
       "<style scoped>\n",
       "    .dataframe tbody tr th:only-of-type {\n",
       "        vertical-align: middle;\n",
       "    }\n",
       "\n",
       "    .dataframe tbody tr th {\n",
       "        vertical-align: top;\n",
       "    }\n",
       "\n",
       "    .dataframe thead th {\n",
       "        text-align: right;\n",
       "    }\n",
       "</style>\n",
       "<table border=\"1\" class=\"dataframe\">\n",
       "  <thead>\n",
       "    <tr style=\"text-align: right;\">\n",
       "      <th></th>\n",
       "      <th>beer</th>\n",
       "      <th>weather</th>\n",
       "    </tr>\n",
       "  </thead>\n",
       "  <tbody>\n",
       "    <tr>\n",
       "      <th>0</th>\n",
       "      <td>6</td>\n",
       "      <td>cloudy</td>\n",
       "    </tr>\n",
       "    <tr>\n",
       "      <th>1</th>\n",
       "      <td>8</td>\n",
       "      <td>cloudy</td>\n",
       "    </tr>\n",
       "    <tr>\n",
       "      <th>2</th>\n",
       "      <td>2</td>\n",
       "      <td>rainy</td>\n",
       "    </tr>\n",
       "    <tr>\n",
       "      <th>3</th>\n",
       "      <td>4</td>\n",
       "      <td>rainy</td>\n",
       "    </tr>\n",
       "    <tr>\n",
       "      <th>4</th>\n",
       "      <td>10</td>\n",
       "      <td>sunny</td>\n",
       "    </tr>\n",
       "    <tr>\n",
       "      <th>5</th>\n",
       "      <td>12</td>\n",
       "      <td>sunny</td>\n",
       "    </tr>\n",
       "  </tbody>\n",
       "</table>\n",
       "</div>"
      ],
      "text/plain": [
       "   beer weather\n",
       "0     6  cloudy\n",
       "1     8  cloudy\n",
       "2     2   rainy\n",
       "3     4   rainy\n",
       "4    10   sunny\n",
       "5    12   sunny"
      ]
     },
     "execution_count": 44,
     "metadata": {},
     "output_type": "execute_result"
    }
   ],
   "source": [
    "#测试样本\n",
    "beer = [6,8,2,4,10,12]\n",
    "weather = [\n",
    "    'cloudy','cloudy',\n",
    "    'rainy','rainy',\n",
    "    'sunny','sunny'\n",
    "]\n",
    "weather_beer = pd.DataFrame({\n",
    "    'beer':beer,\n",
    "    'weather':weather\n",
    "})\n",
    "weather_beer"
   ]
  },
  {
   "cell_type": "code",
   "execution_count": 45,
   "id": "f5330a12-0cdf-4aff-b83d-619f9a76d2bb",
   "metadata": {},
   "outputs": [
    {
     "data": {
      "text/plain": [
       "<AxesSubplot:xlabel='weather', ylabel='beer'>"
      ]
     },
     "execution_count": 45,
     "metadata": {},
     "output_type": "execute_result"
    },
    {
     "data": {
      "image/png": "[encoded data removed]",
      "text/plain": [
       "<Figure size 432x288 with 1 Axes>"
      ]
     },
     "metadata": {
      "needs_background": "light"
     },
     "output_type": "display_data"
    }
   ],
   "source": [
    "sns.boxplot(x='weather',y='beer',data=weather_beer,color='g')"
   ]
  },
  {
   "cell_type": "code",
   "execution_count": 46,
   "id": "76b36e54-2d6e-41ba-bc8f-99803f280356",
   "metadata": {},
   "outputs": [
    {
     "data": {
      "text/html": [
       "<div>\n",
       "<style scoped>\n",
       "    .dataframe tbody tr th:only-of-type {\n",
       "        vertical-align: middle;\n",
       "    }\n",
       "\n",
       "    .dataframe tbody tr th {\n",
       "        vertical-align: top;\n",
       "    }\n",
       "\n",
       "    .dataframe thead th {\n",
       "        text-align: right;\n",
       "    }\n",
       "</style>\n",
       "<table border=\"1\" class=\"dataframe\">\n",
       "  <thead>\n",
       "    <tr style=\"text-align: right;\">\n",
       "      <th></th>\n",
       "      <th>beer</th>\n",
       "    </tr>\n",
       "    <tr>\n",
       "      <th>weather</th>\n",
       "      <th></th>\n",
       "    </tr>\n",
       "  </thead>\n",
       "  <tbody>\n",
       "    <tr>\n",
       "      <th>cloudy</th>\n",
       "      <td>7</td>\n",
       "    </tr>\n",
       "    <tr>\n",
       "      <th>rainy</th>\n",
       "      <td>3</td>\n",
       "    </tr>\n",
       "    <tr>\n",
       "      <th>sunny</th>\n",
       "      <td>11</td>\n",
       "    </tr>\n",
       "  </tbody>\n",
       "</table>\n",
       "</div>"
      ],
      "text/plain": [
       "         beer\n",
       "weather      \n",
       "cloudy      7\n",
       "rainy       3\n",
       "sunny      11"
      ]
     },
     "execution_count": 46,
     "metadata": {},
     "output_type": "execute_result"
    }
   ],
   "source": [
    "weather_beer.groupby('weather').mean()"
   ]
  },
  {
   "cell_type": "markdown",
   "id": "792daf49-17bb-4cdf-849b-71b5ce921984",
   "metadata": {},
   "source": [
    "### 5-2-14 statsmodels中的方差分析"
   ]
  },
  {
   "cell_type": "code",
   "execution_count": 49,
   "id": "d1ff4620-4483-4335-9406-b61ec1aaaa87",
   "metadata": {},
   "outputs": [],
   "source": [
    "anova_model = smf.ols('beer~weather',data=weather_beer).fit()"
   ]
  },
  {
   "cell_type": "code",
   "execution_count": 50,
   "id": "9c4725ea-6202-445e-a26e-cadf6ffe0718",
   "metadata": {},
   "outputs": [
    {
     "data": {
      "text/html": [
       "<div>\n",
       "<style scoped>\n",
       "    .dataframe tbody tr th:only-of-type {\n",
       "        vertical-align: middle;\n",
       "    }\n",
       "\n",
       "    .dataframe tbody tr th {\n",
       "        vertical-align: top;\n",
       "    }\n",
       "\n",
       "    .dataframe thead th {\n",
       "        text-align: right;\n",
       "    }\n",
       "</style>\n",
       "<table border=\"1\" class=\"dataframe\">\n",
       "  <thead>\n",
       "    <tr style=\"text-align: right;\">\n",
       "      <th></th>\n",
       "      <th>sum_sq</th>\n",
       "      <th>df</th>\n",
       "      <th>F</th>\n",
       "      <th>PR(&gt;F)</th>\n",
       "    </tr>\n",
       "  </thead>\n",
       "  <tbody>\n",
       "    <tr>\n",
       "      <th>weather</th>\n",
       "      <td>64.0</td>\n",
       "      <td>2.0</td>\n",
       "      <td>16.0</td>\n",
       "      <td>0.025095</td>\n",
       "    </tr>\n",
       "    <tr>\n",
       "      <th>Residual</th>\n",
       "      <td>6.0</td>\n",
       "      <td>3.0</td>\n",
       "      <td>NaN</td>\n",
       "      <td>NaN</td>\n",
       "    </tr>\n",
       "  </tbody>\n",
       "</table>\n",
       "</div>"
      ],
      "text/plain": [
       "          sum_sq   df     F    PR(>F)\n",
       "weather     64.0  2.0  16.0  0.025095\n",
       "Residual     6.0  3.0   NaN       NaN"
      ]
     },
     "execution_count": 50,
     "metadata": {},
     "output_type": "execute_result"
    }
   ],
   "source": [
    "sm.stats.anova_lm(anova_model,typ=2)"
   ]
  },
  {
   "cell_type": "markdown",
   "id": "d4b28150-21ed-4b13-bbb8-7ed8d0867c97",
   "metadata": {},
   "source": [
    "sm.stats.anova_lm 函数的输出结果就是方差分析表。"
   ]
  },
  {
   "cell_type": "code",
   "execution_count": 51,
   "id": "45719de5-4f05-4612-b00f-bf167187924b",
   "metadata": {},
   "outputs": [
    {
     "data": {
      "text/plain": [
       "Intercept           7.0\n",
       "weather[T.rainy]   -4.0\n",
       "weather[T.sunny]    4.0\n",
       "dtype: float64"
      ]
     },
     "execution_count": 51,
     "metadata": {},
     "output_type": "execute_result"
    }
   ],
   "source": [
    "anova_model.params"
   ]
  },
  {
   "cell_type": "markdown",
   "id": "7f77a512-cad5-4007-8710-5015199b01a4",
   "metadata": {},
   "source": [
    "### 5-2-18 使用模型分离效应和误差"
   ]
  },
  {
   "cell_type": "code",
   "execution_count": 52,
   "id": "bcc26383-2580-4358-aa77-357ac2cfffbf",
   "metadata": {},
   "outputs": [
    {
     "data": {
      "text/plain": [
       "0     7.0\n",
       "1     7.0\n",
       "2     3.0\n",
       "3     3.0\n",
       "4    11.0\n",
       "5    11.0\n",
       "dtype: float64"
      ]
     },
     "execution_count": 52,
     "metadata": {},
     "output_type": "execute_result"
    }
   ],
   "source": [
    "anova_model.fittedvalues"
   ]
  },
  {
   "cell_type": "code",
   "execution_count": 53,
   "id": "6771c876-fa61-4362-9275-9fe6d0bc229f",
   "metadata": {},
   "outputs": [
    {
     "data": {
      "text/plain": [
       "0   -1.0\n",
       "1    1.0\n",
       "2   -1.0\n",
       "3    1.0\n",
       "4   -1.0\n",
       "5    1.0\n",
       "dtype: float64"
      ]
     },
     "execution_count": 53,
     "metadata": {},
     "output_type": "execute_result"
    }
   ],
   "source": [
    "anova_model.resid"
   ]
  },
  {
   "cell_type": "markdown",
   "id": "408816a3-30f1-4141-934f-fac24a9802bf",
   "metadata": {},
   "source": [
    "### 5-2-19 回归模型中的方差分析"
   ]
  },
  {
   "cell_type": "code",
   "execution_count": 54,
   "id": "180ee456-a393-4fd5-92db-ef757652f4fc",
   "metadata": {},
   "outputs": [],
   "source": [
    "beer = pd.read_csv('/Users/meininghang/Downloads/【源码】用Python动手学统计学/5-1-1-beer.csv')"
   ]
  },
  {
   "cell_type": "code",
   "execution_count": 55,
   "id": "edf89d96-1794-48d6-9aab-42427149e22e",
   "metadata": {},
   "outputs": [
    {
     "data": {
      "text/html": [
       "<div>\n",
       "<style scoped>\n",
       "    .dataframe tbody tr th:only-of-type {\n",
       "        vertical-align: middle;\n",
       "    }\n",
       "\n",
       "    .dataframe tbody tr th {\n",
       "        vertical-align: top;\n",
       "    }\n",
       "\n",
       "    .dataframe thead th {\n",
       "        text-align: right;\n",
       "    }\n",
       "</style>\n",
       "<table border=\"1\" class=\"dataframe\">\n",
       "  <thead>\n",
       "    <tr style=\"text-align: right;\">\n",
       "      <th></th>\n",
       "      <th>beer</th>\n",
       "      <th>temperature</th>\n",
       "    </tr>\n",
       "  </thead>\n",
       "  <tbody>\n",
       "    <tr>\n",
       "      <th>0</th>\n",
       "      <td>45.3</td>\n",
       "      <td>20.5</td>\n",
       "    </tr>\n",
       "    <tr>\n",
       "      <th>1</th>\n",
       "      <td>59.3</td>\n",
       "      <td>25.0</td>\n",
       "    </tr>\n",
       "    <tr>\n",
       "      <th>2</th>\n",
       "      <td>40.4</td>\n",
       "      <td>10.0</td>\n",
       "    </tr>\n",
       "    <tr>\n",
       "      <th>3</th>\n",
       "      <td>38.0</td>\n",
       "      <td>26.9</td>\n",
       "    </tr>\n",
       "    <tr>\n",
       "      <th>4</th>\n",
       "      <td>37.0</td>\n",
       "      <td>15.8</td>\n",
       "    </tr>\n",
       "  </tbody>\n",
       "</table>\n",
       "</div>"
      ],
      "text/plain": [
       "   beer  temperature\n",
       "0  45.3         20.5\n",
       "1  59.3         25.0\n",
       "2  40.4         10.0\n",
       "3  38.0         26.9\n",
       "4  37.0         15.8"
      ]
     },
     "execution_count": 55,
     "metadata": {},
     "output_type": "execute_result"
    }
   ],
   "source": [
    "beer.head()"
   ]
  },
  {
   "cell_type": "code",
   "execution_count": 56,
   "id": "f1983a98-7bbe-4e5c-b710-8daaf2cad661",
   "metadata": {},
   "outputs": [],
   "source": [
    "#估计模型\n",
    "lm_model = smf.ols('beer~temperature',data=beer).fit()"
   ]
  },
  {
   "cell_type": "code",
   "execution_count": 57,
   "id": "bff96874-f11f-49cd-b5d0-597d6af27439",
   "metadata": {},
   "outputs": [
    {
     "data": {
      "text/html": [
       "<div>\n",
       "<style scoped>\n",
       "    .dataframe tbody tr th:only-of-type {\n",
       "        vertical-align: middle;\n",
       "    }\n",
       "\n",
       "    .dataframe tbody tr th {\n",
       "        vertical-align: top;\n",
       "    }\n",
       "\n",
       "    .dataframe thead th {\n",
       "        text-align: right;\n",
       "    }\n",
       "</style>\n",
       "<table border=\"1\" class=\"dataframe\">\n",
       "  <thead>\n",
       "    <tr style=\"text-align: right;\">\n",
       "      <th></th>\n",
       "      <th>sum_sq</th>\n",
       "      <th>df</th>\n",
       "      <th>F</th>\n",
       "      <th>PR(&gt;F)</th>\n",
       "    </tr>\n",
       "  </thead>\n",
       "  <tbody>\n",
       "    <tr>\n",
       "      <th>temperature</th>\n",
       "      <td>1651.532489</td>\n",
       "      <td>1.0</td>\n",
       "      <td>28.446984</td>\n",
       "      <td>0.000011</td>\n",
       "    </tr>\n",
       "    <tr>\n",
       "      <th>Residual</th>\n",
       "      <td>1625.582178</td>\n",
       "      <td>28.0</td>\n",
       "      <td>NaN</td>\n",
       "      <td>NaN</td>\n",
       "    </tr>\n",
       "  </tbody>\n",
       "</table>\n",
       "</div>"
      ],
      "text/plain": [
       "                  sum_sq    df          F    PR(>F)\n",
       "temperature  1651.532489   1.0  28.446984  0.000011\n",
       "Residual     1625.582178  28.0        NaN       NaN"
      ]
     },
     "execution_count": 57,
     "metadata": {},
     "output_type": "execute_result"
    }
   ],
   "source": [
    "sm.stats.anova_lm(lm_model,typ=2)"
   ]
  },
  {
   "cell_type": "code",
   "execution_count": 59,
   "id": "dd36da50-4af9-4151-aa9e-7113a3164609",
   "metadata": {},
   "outputs": [
    {
     "data": {
      "text/html": [
       "<table class=\"simpletable\">\n",
       "<tr>\n",
       "        <td>Model:</td>               <td>OLS</td>         <td>Adj. R-squared:</td>     <td>0.486</td> \n",
       "</tr>\n",
       "<tr>\n",
       "  <td>Dependent Variable:</td>       <td>beer</td>              <td>AIC:</td>         <td>208.9090</td>\n",
       "</tr>\n",
       "<tr>\n",
       "         <td>Date:</td>        <td>2021-05-29 18:39</td>        <td>BIC:</td>         <td>211.7114</td>\n",
       "</tr>\n",
       "<tr>\n",
       "   <td>No. Observations:</td>         <td>30</td>          <td>Log-Likelihood:</td>    <td>-102.45</td>\n",
       "</tr>\n",
       "<tr>\n",
       "       <td>Df Model:</td>              <td>1</td>           <td>F-statistic:</td>       <td>28.45</td> \n",
       "</tr>\n",
       "<tr>\n",
       "     <td>Df Residuals:</td>           <td>28</td>        <td>Prob (F-statistic):</td> <td>1.11e-05</td>\n",
       "</tr>\n",
       "<tr>\n",
       "      <td>R-squared:</td>            <td>0.504</td>            <td>Scale:</td>         <td>58.057</td> \n",
       "</tr>\n",
       "</table>\n",
       "<table class=\"simpletable\">\n",
       "<tr>\n",
       "       <td></td>        <th>Coef.</th>  <th>Std.Err.</th>    <th>t</th>     <th>P>|t|</th> <th>[0.025</th>  <th>0.975]</th> \n",
       "</tr>\n",
       "<tr>\n",
       "  <th>Intercept</th>   <td>34.6102</td>  <td>3.2349</td>  <td>10.6992</td> <td>0.0000</td> <td>27.9839</td> <td>41.2365</td>\n",
       "</tr>\n",
       "<tr>\n",
       "  <th>temperature</th> <td>0.7654</td>   <td>0.1435</td>  <td>5.3336</td>  <td>0.0000</td> <td>0.4715</td>  <td>1.0594</td> \n",
       "</tr>\n",
       "</table>\n",
       "<table class=\"simpletable\">\n",
       "<tr>\n",
       "     <td>Omnibus:</td>     <td>0.587</td>  <td>Durbin-Watson:</td>   <td>1.960</td>\n",
       "</tr>\n",
       "<tr>\n",
       "  <td>Prob(Omnibus):</td>  <td>0.746</td> <td>Jarque-Bera (JB):</td> <td>0.290</td>\n",
       "</tr>\n",
       "<tr>\n",
       "       <td>Skew:</td>     <td>-0.240</td>     <td>Prob(JB):</td>     <td>0.865</td>\n",
       "</tr>\n",
       "<tr>\n",
       "     <td>Kurtosis:</td>    <td>2.951</td>  <td>Condition No.:</td>    <td>52</td>  \n",
       "</tr>\n",
       "</table>"
      ],
      "text/plain": [
       "<class 'statsmodels.iolib.summary2.Summary'>\n",
       "\"\"\"\n",
       "                 Results: Ordinary least squares\n",
       "=================================================================\n",
       "Model:              OLS              Adj. R-squared:     0.486   \n",
       "Dependent Variable: beer             AIC:                208.9090\n",
       "Date:               2021-05-29 18:39 BIC:                211.7114\n",
       "No. Observations:   30               Log-Likelihood:     -102.45 \n",
       "Df Model:           1                F-statistic:        28.45   \n",
       "Df Residuals:       28               Prob (F-statistic): 1.11e-05\n",
       "R-squared:          0.504            Scale:              58.057  \n",
       "------------------------------------------------------------------\n",
       "               Coef.   Std.Err.     t     P>|t|    [0.025   0.975]\n",
       "------------------------------------------------------------------\n",
       "Intercept     34.6102    3.2349  10.6992  0.0000  27.9839  41.2365\n",
       "temperature    0.7654    0.1435   5.3336  0.0000   0.4715   1.0594\n",
       "-----------------------------------------------------------------\n",
       "Omnibus:               0.587        Durbin-Watson:          1.960\n",
       "Prob(Omnibus):         0.746        Jarque-Bera (JB):       0.290\n",
       "Skew:                  -0.240       Prob(JB):               0.865\n",
       "Kurtosis:              2.951        Condition No.:          52   \n",
       "=================================================================\n",
       "\n",
       "\"\"\""
      ]
     },
     "execution_count": 59,
     "metadata": {},
     "output_type": "execute_result"
    }
   ],
   "source": [
    "lm_model.summary2()"
   ]
  },
  {
   "cell_type": "markdown",
   "id": "e63d2d82-d250-46c9-ab6c-5abe5d84af9a",
   "metadata": {},
   "source": [
    "## 5-3 含有多个解释变量的模型"
   ]
  },
  {
   "cell_type": "code",
   "execution_count": 60,
   "id": "d82138e0-45c8-450a-82a1-93de81c5e601",
   "metadata": {},
   "outputs": [
    {
     "data": {
      "text/html": [
       "<div>\n",
       "<style scoped>\n",
       "    .dataframe tbody tr th:only-of-type {\n",
       "        vertical-align: middle;\n",
       "    }\n",
       "\n",
       "    .dataframe tbody tr th {\n",
       "        vertical-align: top;\n",
       "    }\n",
       "\n",
       "    .dataframe thead th {\n",
       "        text-align: right;\n",
       "    }\n",
       "</style>\n",
       "<table border=\"1\" class=\"dataframe\">\n",
       "  <thead>\n",
       "    <tr style=\"text-align: right;\">\n",
       "      <th></th>\n",
       "      <th>humidity</th>\n",
       "      <th>price</th>\n",
       "      <th>sales</th>\n",
       "      <th>temperature</th>\n",
       "      <th>weather</th>\n",
       "    </tr>\n",
       "  </thead>\n",
       "  <tbody>\n",
       "    <tr>\n",
       "      <th>0</th>\n",
       "      <td>29.5</td>\n",
       "      <td>290</td>\n",
       "      <td>229.7</td>\n",
       "      <td>17.8</td>\n",
       "      <td>rainy</td>\n",
       "    </tr>\n",
       "    <tr>\n",
       "      <th>1</th>\n",
       "      <td>38.1</td>\n",
       "      <td>290</td>\n",
       "      <td>206.1</td>\n",
       "      <td>26.1</td>\n",
       "      <td>rainy</td>\n",
       "    </tr>\n",
       "    <tr>\n",
       "      <th>2</th>\n",
       "      <td>31.5</td>\n",
       "      <td>290</td>\n",
       "      <td>202.5</td>\n",
       "      <td>22.0</td>\n",
       "      <td>rainy</td>\n",
       "    </tr>\n",
       "    <tr>\n",
       "      <th>3</th>\n",
       "      <td>39.7</td>\n",
       "      <td>290</td>\n",
       "      <td>195.5</td>\n",
       "      <td>23.0</td>\n",
       "      <td>rainy</td>\n",
       "    </tr>\n",
       "    <tr>\n",
       "      <th>4</th>\n",
       "      <td>24.7</td>\n",
       "      <td>290</td>\n",
       "      <td>214.4</td>\n",
       "      <td>14.5</td>\n",
       "      <td>rainy</td>\n",
       "    </tr>\n",
       "  </tbody>\n",
       "</table>\n",
       "</div>"
      ],
      "text/plain": [
       "   humidity  price  sales  temperature weather\n",
       "0      29.5    290  229.7         17.8   rainy\n",
       "1      38.1    290  206.1         26.1   rainy\n",
       "2      31.5    290  202.5         22.0   rainy\n",
       "3      39.7    290  195.5         23.0   rainy\n",
       "4      24.7    290  214.4         14.5   rainy"
      ]
     },
     "execution_count": 60,
     "metadata": {},
     "output_type": "execute_result"
    }
   ],
   "source": [
    "sales = pd.read_csv('/Users/meininghang/Downloads/【源码】用Python动手学统计学/5-3-1-lm-model.csv')\n",
    "sales.head()"
   ]
  },
  {
   "cell_type": "markdown",
   "id": "a81fe739-1ee9-4c4e-8b5b-39a826e4bd82",
   "metadata": {},
   "source": [
    "### 5-3-2 数据可视化"
   ]
  },
  {
   "cell_type": "code",
   "execution_count": 62,
   "id": "907ab4f1-d034-4fe0-8aef-c155756f40b7",
   "metadata": {},
   "outputs": [
    {
     "data": {
      "text/plain": [
       "<seaborn.axisgrid.PairGrid at 0x7f8e766663d0>"
      ]
     },
     "execution_count": 62,
     "metadata": {},
     "output_type": "execute_result"
    },
    {
     "data": {
      "image/png": "[encoded data removed]",
      "text/plain": [
       "<Figure size 788.85x720 with 20 Axes>"
      ]
     },
     "metadata": {
      "needs_background": "light"
     },
     "output_type": "display_data"
    }
   ],
   "source": [
    "sns.pairplot(data=sales,hue='weather',palette='gray')"
   ]
  },
  {
   "cell_type": "markdown",
   "id": "976e4ed5-0d5c-4ecd-97ba-05ea17d6f3ca",
   "metadata": {},
   "source": [
    "### 5-3-4 分析解释变量之间的关系"
   ]
  },
  {
   "cell_type": "code",
   "execution_count": 63,
   "id": "684dab80-83b2-48c4-9f87-960838c0af72",
   "metadata": {},
   "outputs": [
    {
     "data": {
      "text/html": [
       "<div>\n",
       "<style scoped>\n",
       "    .dataframe tbody tr th:only-of-type {\n",
       "        vertical-align: middle;\n",
       "    }\n",
       "\n",
       "    .dataframe tbody tr th {\n",
       "        vertical-align: top;\n",
       "    }\n",
       "\n",
       "    .dataframe thead th {\n",
       "        text-align: right;\n",
       "    }\n",
       "</style>\n",
       "<table border=\"1\" class=\"dataframe\">\n",
       "  <thead>\n",
       "    <tr style=\"text-align: right;\">\n",
       "      <th></th>\n",
       "      <th>humidity</th>\n",
       "      <th>price</th>\n",
       "      <th>sales</th>\n",
       "      <th>temperature</th>\n",
       "    </tr>\n",
       "    <tr>\n",
       "      <th>weather</th>\n",
       "      <th></th>\n",
       "      <th></th>\n",
       "      <th></th>\n",
       "      <th></th>\n",
       "    </tr>\n",
       "  </thead>\n",
       "  <tbody>\n",
       "    <tr>\n",
       "      <th>rainy</th>\n",
       "      <td>32.126</td>\n",
       "      <td>295.5</td>\n",
       "      <td>205.924</td>\n",
       "      <td>20.422</td>\n",
       "    </tr>\n",
       "    <tr>\n",
       "      <th>sunny</th>\n",
       "      <td>30.852</td>\n",
       "      <td>309.5</td>\n",
       "      <td>222.718</td>\n",
       "      <td>21.102</td>\n",
       "    </tr>\n",
       "  </tbody>\n",
       "</table>\n",
       "</div>"
      ],
      "text/plain": [
       "         humidity  price    sales  temperature\n",
       "weather                                       \n",
       "rainy      32.126  295.5  205.924       20.422\n",
       "sunny      30.852  309.5  222.718       21.102"
      ]
     },
     "execution_count": 63,
     "metadata": {},
     "output_type": "execute_result"
    }
   ],
   "source": [
    "sales.groupby('weather').mean()"
   ]
  },
  {
   "cell_type": "code",
   "execution_count": 65,
   "id": "d974f91f-f47d-40aa-b0a0-3f7fded853ce",
   "metadata": {},
   "outputs": [
    {
     "data": {
      "text/plain": [
       "<seaborn.axisgrid.FacetGrid at 0x7f8e60f9d850>"
      ]
     },
     "execution_count": 65,
     "metadata": {},
     "output_type": "execute_result"
    },
    {
     "data": {
      "image/png": "[encoded data removed]",
      "text/plain": [
       "<Figure size 428.85x360 with 1 Axes>"
      ]
     },
     "metadata": {
      "needs_background": "light"
     },
     "output_type": "display_data"
    }
   ],
   "source": [
    "#天气相同下，价格对销售额的影响\n",
    "sns.lmplot(x='price',y='sales',\n",
    "           data=sales,\n",
    "           hue='weather',\n",
    "           palette='gray')"
   ]
  },
  {
   "cell_type": "markdown",
   "id": "6b4927fc-295a-4255-b937-817be9dfbb01",
   "metadata": {},
   "source": [
    "### 5-3-5 多解释变量的模型"
   ]
  },
  {
   "cell_type": "code",
   "execution_count": 66,
   "id": "a13a68f3-6c67-4f20-bdec-4b120062807a",
   "metadata": {},
   "outputs": [],
   "source": [
    "lm_sales = smf.ols(\n",
    "    'sales ~ weather+humidity+temperature+price',\n",
    "    data = sales\n",
    ").fit()"
   ]
  },
  {
   "cell_type": "code",
   "execution_count": 67,
   "id": "2ff0917b-96f1-4078-8822-ef5b1c2d83be",
   "metadata": {},
   "outputs": [
    {
     "data": {
      "text/plain": [
       "Intercept           278.627722\n",
       "weather[T.sunny]     19.989119\n",
       "humidity             -0.254055\n",
       "temperature           1.603115\n",
       "price                -0.329207\n",
       "dtype: float64"
      ]
     },
     "execution_count": 67,
     "metadata": {},
     "output_type": "execute_result"
    }
   ],
   "source": [
    "lm_sales.params"
   ]
  },
  {
   "cell_type": "code",
   "execution_count": 68,
   "id": "8bdad91c-7105-425b-a5ad-2d72dfe9d736",
   "metadata": {},
   "outputs": [],
   "source": [
    "#改变解释变量的顺序\n",
    "lm_sales_2 = smf.ols(\n",
    "    \"sales ~ weather + temperature + humidity + price\",\n",
    "    data=sales).fit()"
   ]
  },
  {
   "cell_type": "markdown",
   "id": "dc5801e0-ed4f-46cd-ab58-0cbf1a079034",
   "metadata": {},
   "source": [
    "### 5-3-7 回归系数的t检验"
   ]
  },
  {
   "cell_type": "code",
   "execution_count": 69,
   "id": "8e004b07-0050-42e4-9182-9cad34f530c8",
   "metadata": {},
   "outputs": [
    {
     "data": {
      "text/html": [
       "<table class=\"simpletable\">\n",
       "<tr>\n",
       "          <td></td>            <th>coef</th>     <th>std err</th>      <th>t</th>      <th>P>|t|</th>  <th>[0.025</th>    <th>0.975]</th>  \n",
       "</tr>\n",
       "<tr>\n",
       "  <th>Intercept</th>        <td>  278.6277</td> <td>   46.335</td> <td>    6.013</td> <td> 0.000</td> <td>  186.641</td> <td>  370.615</td>\n",
       "</tr>\n",
       "<tr>\n",
       "  <th>weather[T.sunny]</th> <td>   19.9891</td> <td>    3.522</td> <td>    5.675</td> <td> 0.000</td> <td>   12.997</td> <td>   26.982</td>\n",
       "</tr>\n",
       "<tr>\n",
       "  <th>humidity</th>         <td>   -0.2541</td> <td>    0.456</td> <td>   -0.558</td> <td> 0.578</td> <td>   -1.159</td> <td>    0.651</td>\n",
       "</tr>\n",
       "<tr>\n",
       "  <th>temperature</th>      <td>    1.6031</td> <td>    0.443</td> <td>    3.620</td> <td> 0.000</td> <td>    0.724</td> <td>    2.482</td>\n",
       "</tr>\n",
       "<tr>\n",
       "  <th>price</th>            <td>   -0.3292</td> <td>    0.155</td> <td>   -2.123</td> <td> 0.036</td> <td>   -0.637</td> <td>   -0.021</td>\n",
       "</tr>\n",
       "</table>"
      ],
      "text/plain": [
       "<class 'statsmodels.iolib.table.SimpleTable'>"
      ]
     },
     "execution_count": 69,
     "metadata": {},
     "output_type": "execute_result"
    }
   ],
   "source": [
    "lm_sales.summary().tables[1]"
   ]
  },
  {
   "cell_type": "code",
   "execution_count": 70,
   "id": "ae8e735a-e5c0-436e-9837-9e73d7ded677",
   "metadata": {},
   "outputs": [
    {
     "data": {
      "text/html": [
       "<table class=\"simpletable\">\n",
       "<tr>\n",
       "          <td></td>            <th>coef</th>     <th>std err</th>      <th>t</th>      <th>P>|t|</th>  <th>[0.025</th>    <th>0.975]</th>  \n",
       "</tr>\n",
       "<tr>\n",
       "  <th>Intercept</th>        <td>  278.6277</td> <td>   46.335</td> <td>    6.013</td> <td> 0.000</td> <td>  186.641</td> <td>  370.615</td>\n",
       "</tr>\n",
       "<tr>\n",
       "  <th>weather[T.sunny]</th> <td>   19.9891</td> <td>    3.522</td> <td>    5.675</td> <td> 0.000</td> <td>   12.997</td> <td>   26.982</td>\n",
       "</tr>\n",
       "<tr>\n",
       "  <th>temperature</th>      <td>    1.6031</td> <td>    0.443</td> <td>    3.620</td> <td> 0.000</td> <td>    0.724</td> <td>    2.482</td>\n",
       "</tr>\n",
       "<tr>\n",
       "  <th>humidity</th>         <td>   -0.2541</td> <td>    0.456</td> <td>   -0.558</td> <td> 0.578</td> <td>   -1.159</td> <td>    0.651</td>\n",
       "</tr>\n",
       "<tr>\n",
       "  <th>price</th>            <td>   -0.3292</td> <td>    0.155</td> <td>   -2.123</td> <td> 0.036</td> <td>   -0.637</td> <td>   -0.021</td>\n",
       "</tr>\n",
       "</table>"
      ],
      "text/plain": [
       "<class 'statsmodels.iolib.table.SimpleTable'>"
      ]
     },
     "execution_count": 70,
     "metadata": {},
     "output_type": "execute_result"
    }
   ],
   "source": [
    "lm_sales_2.summary().tables[1]"
   ]
  },
  {
   "cell_type": "markdown",
   "id": "43413289-a9bc-4d08-8def-1c6cfb126bf6",
   "metadata": {},
   "source": [
    "### 5-3-11 实现Type II ANOVA"
   ]
  },
  {
   "cell_type": "code",
   "execution_count": null,
   "id": "091a8ece-0818-49a2-ae18-6048037b3189",
   "metadata": {},
   "outputs": [],
   "source": []
  }
 ],
 "metadata": {
  "kernelspec": {
   "display_name": "Python 3",
   "language": "python",
   "name": "python3"
  },
  "language_info": {
   "codemirror_mode": {
    "name": "ipython",
    "version": 3
   },
   "file_extension": ".py",
   "mimetype": "text/x-python",
   "name": "python",
   "nbconvert_exporter": "python",
   "pygments_lexer": "ipython3",
   "version": "3.8.2"
  }
 },
 "nbformat": 4,
 "nbformat_minor": 5
}
