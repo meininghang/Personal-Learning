{
 "cells": [
  {
   "cell_type": "markdown",
   "id": "ba918e4d-fe2b-4ba1-bc6c-245bcecb4deb",
   "metadata": {},
   "source": [
    "# 3. 使用Python进行数据分析"
   ]
  },
  {
   "cell_type": "markdown",
   "id": "d10c3bf0-4d70-411b-bb49-640ca78f8ff8",
   "metadata": {},
   "source": [
    "## 3-1 使用Python进行描述统计：单变量"
   ]
  },
  {
   "cell_type": "markdown",
   "id": "b98de4b9-6e15-4c34-93db-caa3ec7c887d",
   "metadata": {},
   "source": [
    "### 3-1-1统计分析与scipy"
   ]
  },
  {
   "cell_type": "code",
   "execution_count": 1,
   "id": "7cbeec04-39a1-46e6-88d6-20bf01088e1d",
   "metadata": {},
   "outputs": [],
   "source": [
    "import scipy as sp\n",
    "import numpy as np"
   ]
  },
  {
   "cell_type": "code",
   "execution_count": 2,
   "id": "4309087b-e1d3-4494-8cee-65da294136ff",
   "metadata": {},
   "outputs": [
    {
     "data": {
      "text/plain": [
       "'%.3f'"
      ]
     },
     "execution_count": 2,
     "metadata": {},
     "output_type": "execute_result"
    }
   ],
   "source": [
    "%precision 3"
   ]
  },
  {
   "cell_type": "markdown",
   "id": "e9b5a95e-aef9-4f90-8eae-d5e53ea166e1",
   "metadata": {},
   "source": [
    "### 3-1-2 单变量数据的操作"
   ]
  },
  {
   "cell_type": "code",
   "execution_count": 6,
   "id": "b9a5a017-9134-4cb7-a0f6-29121e0b3645",
   "metadata": {},
   "outputs": [
    {
     "data": {
      "text/plain": [
       "array([5, 5, 3, 4, 3, 5, 5, 3, 4, 4])"
      ]
     },
     "execution_count": 6,
     "metadata": {},
     "output_type": "execute_result"
    }
   ],
   "source": [
    "fish_data = np.random.randint(2,6,10)\n",
    "fish_data"
   ]
  },
  {
   "cell_type": "markdown",
   "id": "18988b18-49e3-42a5-844e-601d37a3442c",
   "metadata": {},
   "source": [
    "### 3-1-3 实现 总和与样本容量"
   ]
  },
  {
   "cell_type": "code",
   "execution_count": 8,
   "id": "2f840daa-e2c6-43e2-b505-86f5cbe60878",
   "metadata": {},
   "outputs": [
    {
     "data": {
      "text/plain": [
       "41"
      ]
     },
     "execution_count": 8,
     "metadata": {},
     "output_type": "execute_result"
    }
   ],
   "source": [
    "np.sum(fish_data)"
   ]
  },
  {
   "cell_type": "code",
   "execution_count": 9,
   "id": "7a9435ba-a754-444e-b5e9-cded9955d5ab",
   "metadata": {},
   "outputs": [
    {
     "data": {
      "text/plain": [
       "10"
      ]
     },
     "execution_count": 9,
     "metadata": {},
     "output_type": "execute_result"
    }
   ],
   "source": [
    "len(fish_data)"
   ]
  },
  {
   "cell_type": "markdown",
   "id": "219a3ccc-a9f4-42ff-a10f-dbff49d31712",
   "metadata": {},
   "source": [
    "### 3-1-4 实现 均值（期望值）"
   ]
  },
  {
   "cell_type": "code",
   "execution_count": 10,
   "id": "75019a82-ff2a-44e3-8bf3-d1b1caf7f269",
   "metadata": {},
   "outputs": [
    {
     "data": {
      "text/plain": [
       "4.1"
      ]
     },
     "execution_count": 10,
     "metadata": {},
     "output_type": "execute_result"
    }
   ],
   "source": [
    "np.mean(fish_data)"
   ]
  },
  {
   "cell_type": "markdown",
   "id": "0b263a91-f39f-4f85-a0fc-628e5ed65001",
   "metadata": {},
   "source": [
    "### 3-1-5 样本方差"
   ]
  },
  {
   "cell_type": "code",
   "execution_count": 16,
   "id": "8e4dffed-9e88-417a-9f49-b1675fc27ba2",
   "metadata": {},
   "outputs": [
    {
     "data": {
      "text/plain": [
       "0.6900000000000001"
      ]
     },
     "execution_count": 16,
     "metadata": {},
     "output_type": "execute_result"
    }
   ],
   "source": [
    "np.var(fish_data,ddof=0)"
   ]
  },
  {
   "cell_type": "markdown",
   "id": "681aa166-9de8-43c0-9dad-df4623a681ad",
   "metadata": {},
   "source": [
    "### 3-1-6 无偏方差"
   ]
  },
  {
   "cell_type": "code",
   "execution_count": 19,
   "id": "d0e749b2-0907-4fa7-a8db-0515159382d9",
   "metadata": {},
   "outputs": [
    {
     "data": {
      "text/plain": [
       "0.7666666666666667"
      ]
     },
     "execution_count": 19,
     "metadata": {},
     "output_type": "execute_result"
    }
   ],
   "source": [
    "np.var(fish_data,ddof=1) #无偏方差"
   ]
  },
  {
   "cell_type": "markdown",
   "id": "62483ae8-0b31-4a46-8731-d325c99f18e6",
   "metadata": {},
   "source": [
    "### 3-1-7 标准差"
   ]
  },
  {
   "cell_type": "code",
   "execution_count": 20,
   "id": "d3a6c960-74dc-4c4e-a509-d754f10f257f",
   "metadata": {},
   "outputs": [
    {
     "data": {
      "text/plain": [
       "0.8306623862918076"
      ]
     },
     "execution_count": 20,
     "metadata": {},
     "output_type": "execute_result"
    }
   ],
   "source": [
    "np.std(fish_data)"
   ]
  },
  {
   "cell_type": "code",
   "execution_count": 21,
   "id": "fe103dae-16ff-46d9-8f99-3832393ae75c",
   "metadata": {},
   "outputs": [
    {
     "data": {
      "text/plain": [
       "0.8755950357709131"
      ]
     },
     "execution_count": 21,
     "metadata": {},
     "output_type": "execute_result"
    }
   ],
   "source": [
    "np.std(fish_data,ddof=1) #无偏标准差"
   ]
  },
  {
   "cell_type": "markdown",
   "id": "73a8ac45-1b76-4792-b844-51f277f1c37b",
   "metadata": {},
   "source": [
    "### 3-1-8 标准化"
   ]
  },
  {
   "cell_type": "markdown",
   "id": "074f5a46-48c7-41f6-9811-360ca9ddbc08",
   "metadata": {},
   "source": [
    "> 标准化：把均值转化为0，方差转化为1."
   ]
  },
  {
   "cell_type": "code",
   "execution_count": 33,
   "id": "994cbc21-2ebc-48bb-a22e-7ae7b58b1f6f",
   "metadata": {},
   "outputs": [
    {
     "data": {
      "text/plain": [
       "array([5, 5, 3, 4, 3, 5, 5, 3, 4, 4])"
      ]
     },
     "execution_count": 33,
     "metadata": {},
     "output_type": "execute_result"
    }
   ],
   "source": [
    "fish_data"
   ]
  },
  {
   "cell_type": "code",
   "execution_count": 34,
   "id": "fa0af01a-16fb-46a7-b31d-4ad26ddf2e2f",
   "metadata": {},
   "outputs": [
    {
     "data": {
      "text/plain": [
       "4.1"
      ]
     },
     "execution_count": 34,
     "metadata": {},
     "output_type": "execute_result"
    }
   ],
   "source": [
    "np.mean(fish_data)"
   ]
  },
  {
   "cell_type": "code",
   "execution_count": 35,
   "id": "9b6c6ec3-8e0b-49ff-bb23-36d5d992968d",
   "metadata": {},
   "outputs": [
    {
     "data": {
      "text/plain": [
       "0.8306623862918076"
      ]
     },
     "execution_count": 35,
     "metadata": {},
     "output_type": "execute_result"
    }
   ],
   "source": [
    "np.std(fish_data)"
   ]
  },
  {
   "cell_type": "code",
   "execution_count": 36,
   "id": "ef865728-2b6b-49f3-8d49-5413394b78e1",
   "metadata": {},
   "outputs": [],
   "source": [
    "from sklearn import preprocessing #标准化"
   ]
  },
  {
   "cell_type": "code",
   "execution_count": 37,
   "id": "feae556d-dd8d-43ab-ab2c-89a845ca309c",
   "metadata": {},
   "outputs": [
    {
     "data": {
      "text/plain": [
       "array([ 1.083,  1.083, -1.324, -0.12 , -1.324,  1.083,  1.083, -1.324,\n",
       "       -0.12 , -0.12 ])"
      ]
     },
     "execution_count": 37,
     "metadata": {},
     "output_type": "execute_result"
    }
   ],
   "source": [
    "mean_std_fish_data=preprocessing.scale(fish_data)\n",
    "mean_std_fish_data"
   ]
  },
  {
   "cell_type": "code",
   "execution_count": 39,
   "id": "682b1d86-4410-486f-a7b3-7cbe130c413e",
   "metadata": {},
   "outputs": [
    {
     "data": {
      "text/plain": [
       "4.2188474935755947e-16"
      ]
     },
     "execution_count": 39,
     "metadata": {},
     "output_type": "execute_result"
    }
   ],
   "source": [
    "mean_std_fish_data.mean()"
   ]
  },
  {
   "cell_type": "code",
   "execution_count": 40,
   "id": "86eb1346-599e-48f3-8daf-035127966588",
   "metadata": {},
   "outputs": [
    {
     "data": {
      "text/plain": [
       "0.9999999999999998"
      ]
     },
     "execution_count": 40,
     "metadata": {},
     "output_type": "execute_result"
    }
   ],
   "source": [
    "mean_std_fish_data.std()"
   ]
  },
  {
   "cell_type": "markdown",
   "id": "f77cb908-b60e-4d2b-b01b-fca6721c4d35",
   "metadata": {},
   "source": [
    "### 3-1-9 其他统计量"
   ]
  },
  {
   "cell_type": "code",
   "execution_count": 41,
   "id": "9beaaf85-a69a-4d56-aa77-1f65bdbf2dff",
   "metadata": {},
   "outputs": [
    {
     "data": {
      "text/plain": [
       "5"
      ]
     },
     "execution_count": 41,
     "metadata": {},
     "output_type": "execute_result"
    }
   ],
   "source": [
    "np.amax(fish_data)"
   ]
  },
  {
   "cell_type": "code",
   "execution_count": 42,
   "id": "15db1ff8-c173-481f-9dab-56aa1bb567f9",
   "metadata": {},
   "outputs": [
    {
     "data": {
      "text/plain": [
       "3"
      ]
     },
     "execution_count": 42,
     "metadata": {},
     "output_type": "execute_result"
    }
   ],
   "source": [
    "np.amin(fish_data)"
   ]
  },
  {
   "cell_type": "code",
   "execution_count": 43,
   "id": "5dd06ca9-811e-4edc-adc4-f5a32028498b",
   "metadata": {},
   "outputs": [
    {
     "data": {
      "text/plain": [
       "4.0"
      ]
     },
     "execution_count": 43,
     "metadata": {},
     "output_type": "execute_result"
    }
   ],
   "source": [
    "np.median(fish_data)"
   ]
  },
  {
   "cell_type": "markdown",
   "id": "5fbffaa6-ab11-4219-8c40-008df0309993",
   "metadata": {},
   "source": [
    "### 3-1-10 四分位数"
   ]
  },
  {
   "cell_type": "code",
   "execution_count": 44,
   "id": "25e694ca-7912-4bcb-b179-bd287a0ccce7",
   "metadata": {},
   "outputs": [
    {
     "data": {
      "text/plain": [
       "array([5, 5, 3, 4, 3, 5, 5, 3, 4, 4])"
      ]
     },
     "execution_count": 44,
     "metadata": {},
     "output_type": "execute_result"
    }
   ],
   "source": [
    "fish_data"
   ]
  },
  {
   "cell_type": "code",
   "execution_count": 46,
   "id": "cb6a5e01-d10f-4f23-8596-c13238e8d992",
   "metadata": {},
   "outputs": [
    {
     "data": {
      "text/plain": [
       "3.25"
      ]
     },
     "execution_count": 46,
     "metadata": {},
     "output_type": "execute_result"
    }
   ],
   "source": [
    "np.percentile(fish_data,25)"
   ]
  },
  {
   "cell_type": "code",
   "execution_count": 47,
   "id": "26b5d058-c514-4ecb-9d96-412687a23f6b",
   "metadata": {},
   "outputs": [
    {
     "data": {
      "text/plain": [
       "5.0"
      ]
     },
     "execution_count": 47,
     "metadata": {},
     "output_type": "execute_result"
    }
   ],
   "source": [
    "np.percentile(fish_data,75)"
   ]
  },
  {
   "cell_type": "code",
   "execution_count": 48,
   "id": "43add98d-f68f-46fe-a913-ba22e69da15f",
   "metadata": {},
   "outputs": [
    {
     "data": {
      "text/plain": [
       "array([3.  , 3.25, 5.  , 5.  ])"
      ]
     },
     "execution_count": 48,
     "metadata": {},
     "output_type": "execute_result"
    }
   ],
   "source": [
    "np.percentile(fish_data,(0,25,75,100))"
   ]
  },
  {
   "cell_type": "markdown",
   "id": "9a5743e5-14ae-446e-9ff8-24186ed1f205",
   "metadata": {},
   "source": [
    "## 3-2 使用Python进行描述统计：多变量"
   ]
  },
  {
   "cell_type": "markdown",
   "id": "2a3dae51-7e00-40d4-8ef9-847e859cc16c",
   "metadata": {},
   "source": [
    "### 3-2-4 多变量数据的管理"
   ]
  },
  {
   "cell_type": "code",
   "execution_count": 49,
   "id": "e6c11d76-265c-47f6-94b0-8d2209ae5169",
   "metadata": {},
   "outputs": [
    {
     "data": {
      "text/plain": [
       "'%.3f'"
      ]
     },
     "execution_count": 49,
     "metadata": {},
     "output_type": "execute_result"
    }
   ],
   "source": [
    "import pandas as pd\n",
    "import numpy as np\n",
    "import scipy as sp\n",
    "%precision 3"
   ]
  },
  {
   "cell_type": "code",
   "execution_count": 50,
   "id": "3253c5ca-6556-4689-a59a-dcc523c48f7a",
   "metadata": {},
   "outputs": [
    {
     "data": {
      "text/html": [
       "<div>\n",
       "<style scoped>\n",
       "    .dataframe tbody tr th:only-of-type {\n",
       "        vertical-align: middle;\n",
       "    }\n",
       "\n",
       "    .dataframe tbody tr th {\n",
       "        vertical-align: top;\n",
       "    }\n",
       "\n",
       "    .dataframe thead th {\n",
       "        text-align: right;\n",
       "    }\n",
       "</style>\n",
       "<table border=\"1\" class=\"dataframe\">\n",
       "  <thead>\n",
       "    <tr style=\"text-align: right;\">\n",
       "      <th></th>\n",
       "      <th>species</th>\n",
       "      <th>length</th>\n",
       "    </tr>\n",
       "  </thead>\n",
       "  <tbody>\n",
       "    <tr>\n",
       "      <th>0</th>\n",
       "      <td>A</td>\n",
       "      <td>2</td>\n",
       "    </tr>\n",
       "    <tr>\n",
       "      <th>1</th>\n",
       "      <td>A</td>\n",
       "      <td>3</td>\n",
       "    </tr>\n",
       "    <tr>\n",
       "      <th>2</th>\n",
       "      <td>A</td>\n",
       "      <td>4</td>\n",
       "    </tr>\n",
       "    <tr>\n",
       "      <th>3</th>\n",
       "      <td>B</td>\n",
       "      <td>6</td>\n",
       "    </tr>\n",
       "    <tr>\n",
       "      <th>4</th>\n",
       "      <td>B</td>\n",
       "      <td>8</td>\n",
       "    </tr>\n",
       "    <tr>\n",
       "      <th>5</th>\n",
       "      <td>B</td>\n",
       "      <td>10</td>\n",
       "    </tr>\n",
       "  </tbody>\n",
       "</table>\n",
       "</div>"
      ],
      "text/plain": [
       "  species  length\n",
       "0       A       2\n",
       "1       A       3\n",
       "2       A       4\n",
       "3       B       6\n",
       "4       B       8\n",
       "5       B      10"
      ]
     },
     "execution_count": 50,
     "metadata": {},
     "output_type": "execute_result"
    }
   ],
   "source": [
    "fish_multi = pd.read_csv('/Users/meininghang/Downloads/【源码】用Python动手学统计学/3-2-1-fish_multi.csv')\n",
    "fish_multi"
   ]
  },
  {
   "cell_type": "markdown",
   "id": "2109e4da-febc-4edf-bf9b-7bf2387466ec",
   "metadata": {},
   "source": [
    "### 3-2-5 求各分组的统计量"
   ]
  },
  {
   "cell_type": "code",
   "execution_count": 51,
   "id": "fd404e8f-5042-4ad7-9b0e-3c3f851441e9",
   "metadata": {},
   "outputs": [
    {
     "data": {
      "text/html": [
       "<div>\n",
       "<style scoped>\n",
       "    .dataframe tbody tr th:only-of-type {\n",
       "        vertical-align: middle;\n",
       "    }\n",
       "\n",
       "    .dataframe tbody tr th {\n",
       "        vertical-align: top;\n",
       "    }\n",
       "\n",
       "    .dataframe thead th {\n",
       "        text-align: right;\n",
       "    }\n",
       "</style>\n",
       "<table border=\"1\" class=\"dataframe\">\n",
       "  <thead>\n",
       "    <tr style=\"text-align: right;\">\n",
       "      <th></th>\n",
       "      <th>length</th>\n",
       "    </tr>\n",
       "    <tr>\n",
       "      <th>species</th>\n",
       "      <th></th>\n",
       "    </tr>\n",
       "  </thead>\n",
       "  <tbody>\n",
       "    <tr>\n",
       "      <th>A</th>\n",
       "      <td>3</td>\n",
       "    </tr>\n",
       "    <tr>\n",
       "      <th>B</th>\n",
       "      <td>8</td>\n",
       "    </tr>\n",
       "  </tbody>\n",
       "</table>\n",
       "</div>"
      ],
      "text/plain": [
       "         length\n",
       "species        \n",
       "A             3\n",
       "B             8"
      ]
     },
     "execution_count": 51,
     "metadata": {},
     "output_type": "execute_result"
    }
   ],
   "source": [
    "group = fish_multi.groupby('species')\n",
    "group.mean()"
   ]
  },
  {
   "cell_type": "code",
   "execution_count": 53,
   "id": "55b3a914-870e-4afb-a176-14ab864372e9",
   "metadata": {},
   "outputs": [
    {
     "data": {
      "text/html": [
       "<div>\n",
       "<style scoped>\n",
       "    .dataframe tbody tr th:only-of-type {\n",
       "        vertical-align: middle;\n",
       "    }\n",
       "\n",
       "    .dataframe tbody tr th {\n",
       "        vertical-align: top;\n",
       "    }\n",
       "\n",
       "    .dataframe thead th {\n",
       "        text-align: right;\n",
       "    }\n",
       "</style>\n",
       "<table border=\"1\" class=\"dataframe\">\n",
       "  <thead>\n",
       "    <tr style=\"text-align: right;\">\n",
       "      <th></th>\n",
       "      <th>length</th>\n",
       "    </tr>\n",
       "    <tr>\n",
       "      <th>species</th>\n",
       "      <th></th>\n",
       "    </tr>\n",
       "  </thead>\n",
       "  <tbody>\n",
       "    <tr>\n",
       "      <th>A</th>\n",
       "      <td>1.0</td>\n",
       "    </tr>\n",
       "    <tr>\n",
       "      <th>B</th>\n",
       "      <td>2.0</td>\n",
       "    </tr>\n",
       "  </tbody>\n",
       "</table>\n",
       "</div>"
      ],
      "text/plain": [
       "         length\n",
       "species        \n",
       "A           1.0\n",
       "B           2.0"
      ]
     },
     "execution_count": 53,
     "metadata": {},
     "output_type": "execute_result"
    }
   ],
   "source": [
    "group.std(ddof=1)#求每组的无偏标准差"
   ]
  },
  {
   "cell_type": "code",
   "execution_count": 55,
   "id": "6c11406d-c624-49f8-bc3f-0c26a8e83bf6",
   "metadata": {},
   "outputs": [
    {
     "data": {
      "text/html": [
       "<div>\n",
       "<style scoped>\n",
       "    .dataframe tbody tr th:only-of-type {\n",
       "        vertical-align: middle;\n",
       "    }\n",
       "\n",
       "    .dataframe tbody tr th {\n",
       "        vertical-align: top;\n",
       "    }\n",
       "\n",
       "    .dataframe thead tr th {\n",
       "        text-align: left;\n",
       "    }\n",
       "\n",
       "    .dataframe thead tr:last-of-type th {\n",
       "        text-align: right;\n",
       "    }\n",
       "</style>\n",
       "<table border=\"1\" class=\"dataframe\">\n",
       "  <thead>\n",
       "    <tr>\n",
       "      <th></th>\n",
       "      <th colspan=\"8\" halign=\"left\">length</th>\n",
       "    </tr>\n",
       "    <tr>\n",
       "      <th></th>\n",
       "      <th>count</th>\n",
       "      <th>mean</th>\n",
       "      <th>std</th>\n",
       "      <th>min</th>\n",
       "      <th>25%</th>\n",
       "      <th>50%</th>\n",
       "      <th>75%</th>\n",
       "      <th>max</th>\n",
       "    </tr>\n",
       "    <tr>\n",
       "      <th>species</th>\n",
       "      <th></th>\n",
       "      <th></th>\n",
       "      <th></th>\n",
       "      <th></th>\n",
       "      <th></th>\n",
       "      <th></th>\n",
       "      <th></th>\n",
       "      <th></th>\n",
       "    </tr>\n",
       "  </thead>\n",
       "  <tbody>\n",
       "    <tr>\n",
       "      <th>A</th>\n",
       "      <td>3.0</td>\n",
       "      <td>3.0</td>\n",
       "      <td>1.0</td>\n",
       "      <td>2.0</td>\n",
       "      <td>2.5</td>\n",
       "      <td>3.0</td>\n",
       "      <td>3.5</td>\n",
       "      <td>4.0</td>\n",
       "    </tr>\n",
       "    <tr>\n",
       "      <th>B</th>\n",
       "      <td>3.0</td>\n",
       "      <td>8.0</td>\n",
       "      <td>2.0</td>\n",
       "      <td>6.0</td>\n",
       "      <td>7.0</td>\n",
       "      <td>8.0</td>\n",
       "      <td>9.0</td>\n",
       "      <td>10.0</td>\n",
       "    </tr>\n",
       "  </tbody>\n",
       "</table>\n",
       "</div>"
      ],
      "text/plain": [
       "        length                                    \n",
       "         count mean  std  min  25%  50%  75%   max\n",
       "species                                           \n",
       "A          3.0  3.0  1.0  2.0  2.5  3.0  3.5   4.0\n",
       "B          3.0  8.0  2.0  6.0  7.0  8.0  9.0  10.0"
      ]
     },
     "execution_count": 55,
     "metadata": {},
     "output_type": "execute_result"
    }
   ],
   "source": [
    "group.describe()"
   ]
  },
  {
   "cell_type": "markdown",
   "id": "2975a058-3edd-4746-9c50-50051479bc0c",
   "metadata": {},
   "source": [
    "### 3-2-6 列联表"
   ]
  },
  {
   "cell_type": "code",
   "execution_count": 57,
   "id": "229287d7-3bee-42ea-88c0-8235972cd64d",
   "metadata": {},
   "outputs": [
    {
     "data": {
      "text/html": [
       "<div>\n",
       "<style scoped>\n",
       "    .dataframe tbody tr th:only-of-type {\n",
       "        vertical-align: middle;\n",
       "    }\n",
       "\n",
       "    .dataframe tbody tr th {\n",
       "        vertical-align: top;\n",
       "    }\n",
       "\n",
       "    .dataframe thead th {\n",
       "        text-align: right;\n",
       "    }\n",
       "</style>\n",
       "<table border=\"1\" class=\"dataframe\">\n",
       "  <thead>\n",
       "    <tr style=\"text-align: right;\">\n",
       "      <th></th>\n",
       "      <th>store</th>\n",
       "      <th>color</th>\n",
       "      <th>sales</th>\n",
       "    </tr>\n",
       "  </thead>\n",
       "  <tbody>\n",
       "    <tr>\n",
       "      <th>0</th>\n",
       "      <td>tokyo</td>\n",
       "      <td>blue</td>\n",
       "      <td>10</td>\n",
       "    </tr>\n",
       "    <tr>\n",
       "      <th>1</th>\n",
       "      <td>tokyo</td>\n",
       "      <td>red</td>\n",
       "      <td>15</td>\n",
       "    </tr>\n",
       "    <tr>\n",
       "      <th>2</th>\n",
       "      <td>osaka</td>\n",
       "      <td>blue</td>\n",
       "      <td>13</td>\n",
       "    </tr>\n",
       "    <tr>\n",
       "      <th>3</th>\n",
       "      <td>osaka</td>\n",
       "      <td>red</td>\n",
       "      <td>9</td>\n",
       "    </tr>\n",
       "  </tbody>\n",
       "</table>\n",
       "</div>"
      ],
      "text/plain": [
       "   store color  sales\n",
       "0  tokyo  blue     10\n",
       "1  tokyo   red     15\n",
       "2  osaka  blue     13\n",
       "3  osaka   red      9"
      ]
     },
     "execution_count": 57,
     "metadata": {},
     "output_type": "execute_result"
    }
   ],
   "source": [
    "shoes = pd.read_csv('/Users/meininghang/Downloads/【源码】用Python动手学统计学/3-2-2-shoes.csv')\n",
    "shoes"
   ]
  },
  {
   "cell_type": "code",
   "execution_count": 58,
   "id": "458f0c0d-2edb-4ee5-b31f-66064e48201f",
   "metadata": {},
   "outputs": [
    {
     "data": {
      "text/html": [
       "<div>\n",
       "<style scoped>\n",
       "    .dataframe tbody tr th:only-of-type {\n",
       "        vertical-align: middle;\n",
       "    }\n",
       "\n",
       "    .dataframe tbody tr th {\n",
       "        vertical-align: top;\n",
       "    }\n",
       "\n",
       "    .dataframe thead th {\n",
       "        text-align: right;\n",
       "    }\n",
       "</style>\n",
       "<table border=\"1\" class=\"dataframe\">\n",
       "  <thead>\n",
       "    <tr style=\"text-align: right;\">\n",
       "      <th>color</th>\n",
       "      <th>blue</th>\n",
       "      <th>red</th>\n",
       "    </tr>\n",
       "    <tr>\n",
       "      <th>store</th>\n",
       "      <th></th>\n",
       "      <th></th>\n",
       "    </tr>\n",
       "  </thead>\n",
       "  <tbody>\n",
       "    <tr>\n",
       "      <th>osaka</th>\n",
       "      <td>13</td>\n",
       "      <td>9</td>\n",
       "    </tr>\n",
       "    <tr>\n",
       "      <th>tokyo</th>\n",
       "      <td>10</td>\n",
       "      <td>15</td>\n",
       "    </tr>\n",
       "  </tbody>\n",
       "</table>\n",
       "</div>"
      ],
      "text/plain": [
       "color  blue  red\n",
       "store           \n",
       "osaka    13    9\n",
       "tokyo    10   15"
      ]
     },
     "execution_count": 58,
     "metadata": {},
     "output_type": "execute_result"
    }
   ],
   "source": [
    "cross = pd.pivot_table(\n",
    "    data = shoes,\n",
    "    values = 'sales',\n",
    "    aggfunc = 'sum',\n",
    "    index = 'store',\n",
    "    columns = 'color'\n",
    ")\n",
    "cross"
   ]
  },
  {
   "cell_type": "markdown",
   "id": "f2af2735-e40d-4f70-8245-57460108b996",
   "metadata": {},
   "source": [
    "### 3-2-9 协方差"
   ]
  },
  {
   "cell_type": "code",
   "execution_count": 59,
   "id": "362a7539-2122-487b-aa1a-ad75bbe454e0",
   "metadata": {},
   "outputs": [
    {
     "data": {
      "text/html": [
       "<div>\n",
       "<style scoped>\n",
       "    .dataframe tbody tr th:only-of-type {\n",
       "        vertical-align: middle;\n",
       "    }\n",
       "\n",
       "    .dataframe tbody tr th {\n",
       "        vertical-align: top;\n",
       "    }\n",
       "\n",
       "    .dataframe thead th {\n",
       "        text-align: right;\n",
       "    }\n",
       "</style>\n",
       "<table border=\"1\" class=\"dataframe\">\n",
       "  <thead>\n",
       "    <tr style=\"text-align: right;\">\n",
       "      <th></th>\n",
       "      <th>x</th>\n",
       "      <th>y</th>\n",
       "    </tr>\n",
       "  </thead>\n",
       "  <tbody>\n",
       "    <tr>\n",
       "      <th>0</th>\n",
       "      <td>18.5</td>\n",
       "      <td>34</td>\n",
       "    </tr>\n",
       "    <tr>\n",
       "      <th>1</th>\n",
       "      <td>18.7</td>\n",
       "      <td>39</td>\n",
       "    </tr>\n",
       "    <tr>\n",
       "      <th>2</th>\n",
       "      <td>19.1</td>\n",
       "      <td>41</td>\n",
       "    </tr>\n",
       "    <tr>\n",
       "      <th>3</th>\n",
       "      <td>19.7</td>\n",
       "      <td>38</td>\n",
       "    </tr>\n",
       "    <tr>\n",
       "      <th>4</th>\n",
       "      <td>21.5</td>\n",
       "      <td>45</td>\n",
       "    </tr>\n",
       "    <tr>\n",
       "      <th>5</th>\n",
       "      <td>21.7</td>\n",
       "      <td>41</td>\n",
       "    </tr>\n",
       "    <tr>\n",
       "      <th>6</th>\n",
       "      <td>21.8</td>\n",
       "      <td>52</td>\n",
       "    </tr>\n",
       "    <tr>\n",
       "      <th>7</th>\n",
       "      <td>22.0</td>\n",
       "      <td>44</td>\n",
       "    </tr>\n",
       "    <tr>\n",
       "      <th>8</th>\n",
       "      <td>23.4</td>\n",
       "      <td>44</td>\n",
       "    </tr>\n",
       "    <tr>\n",
       "      <th>9</th>\n",
       "      <td>23.8</td>\n",
       "      <td>49</td>\n",
       "    </tr>\n",
       "  </tbody>\n",
       "</table>\n",
       "</div>"
      ],
      "text/plain": [
       "      x   y\n",
       "0  18.5  34\n",
       "1  18.7  39\n",
       "2  19.1  41\n",
       "3  19.7  38\n",
       "4  21.5  45\n",
       "5  21.7  41\n",
       "6  21.8  52\n",
       "7  22.0  44\n",
       "8  23.4  44\n",
       "9  23.8  49"
      ]
     },
     "execution_count": 59,
     "metadata": {},
     "output_type": "execute_result"
    }
   ],
   "source": [
    "cov_data = pd.read_csv('/Users/meininghang/Downloads/【源码】用Python动手学统计学/3-2-3-cov.csv')\n",
    "cov_data"
   ]
  },
  {
   "cell_type": "code",
   "execution_count": 63,
   "id": "7e7cc833-ca0e-4ee6-8dbc-4548bcc5532f",
   "metadata": {},
   "outputs": [
    {
     "data": {
      "text/html": [
       "<div>\n",
       "<style scoped>\n",
       "    .dataframe tbody tr th:only-of-type {\n",
       "        vertical-align: middle;\n",
       "    }\n",
       "\n",
       "    .dataframe tbody tr th {\n",
       "        vertical-align: top;\n",
       "    }\n",
       "\n",
       "    .dataframe thead th {\n",
       "        text-align: right;\n",
       "    }\n",
       "</style>\n",
       "<table border=\"1\" class=\"dataframe\">\n",
       "  <thead>\n",
       "    <tr style=\"text-align: right;\">\n",
       "      <th></th>\n",
       "      <th>x</th>\n",
       "      <th>y</th>\n",
       "    </tr>\n",
       "  </thead>\n",
       "  <tbody>\n",
       "    <tr>\n",
       "      <th>x</th>\n",
       "      <td>3.646222</td>\n",
       "      <td>7.673333</td>\n",
       "    </tr>\n",
       "    <tr>\n",
       "      <th>y</th>\n",
       "      <td>7.673333</td>\n",
       "      <td>28.011111</td>\n",
       "    </tr>\n",
       "  </tbody>\n",
       "</table>\n",
       "</div>"
      ],
      "text/plain": [
       "          x          y\n",
       "x  3.646222   7.673333\n",
       "y  7.673333  28.011111"
      ]
     },
     "execution_count": 63,
     "metadata": {},
     "output_type": "execute_result"
    }
   ],
   "source": [
    "cov_data.cov()"
   ]
  },
  {
   "cell_type": "markdown",
   "id": "a65816f2-26ec-4436-8e59-6ebe094aad92",
   "metadata": {},
   "source": [
    "### 3-2-10 协方差矩阵"
   ]
  },
  {
   "cell_type": "code",
   "execution_count": 69,
   "id": "43d79a97-0fd8-4dc0-9d53-6a8dd07be655",
   "metadata": {},
   "outputs": [],
   "source": [
    "x = cov_data['x']\n",
    "y = cov_data['y']"
   ]
  },
  {
   "cell_type": "code",
   "execution_count": 70,
   "id": "3b06e190-c694-43ab-9655-632a9cce2de2",
   "metadata": {},
   "outputs": [
    {
     "data": {
      "text/plain": [
       "array([[ 3.282,  6.906],\n",
       "       [ 6.906, 25.21 ]])"
      ]
     },
     "execution_count": 70,
     "metadata": {},
     "output_type": "execute_result"
    }
   ],
   "source": [
    "np.cov(x,y,ddof=0)"
   ]
  },
  {
   "cell_type": "code",
   "execution_count": 71,
   "id": "d08051a5-4a7a-4502-8ced-77ad26afd602",
   "metadata": {},
   "outputs": [
    {
     "data": {
      "text/plain": [
       "array([[ 3.646,  7.673],\n",
       "       [ 7.673, 28.011]])"
      ]
     },
     "execution_count": 71,
     "metadata": {},
     "output_type": "execute_result"
    }
   ],
   "source": [
    "np.cov(x,y,ddof=1)#计算分母N-1的协方差矩阵"
   ]
  },
  {
   "cell_type": "markdown",
   "id": "adcdb46c-0bcc-4758-b322-247eb8d5eeeb",
   "metadata": {},
   "source": [
    "### 3-2-13皮尔逊相关系数"
   ]
  },
  {
   "cell_type": "code",
   "execution_count": 72,
   "id": "7fda96ce-fd4c-429b-8e44-7602ba606b0a",
   "metadata": {},
   "outputs": [
    {
     "data": {
      "text/plain": [
       "array([[1.   , 0.759],\n",
       "       [0.759, 1.   ]])"
      ]
     },
     "execution_count": 72,
     "metadata": {},
     "output_type": "execute_result"
    }
   ],
   "source": [
    "np.corrcoef(x,y)"
   ]
  },
  {
   "cell_type": "markdown",
   "id": "8c761e5b-bfb9-4324-a523-dc26b40ea506",
   "metadata": {},
   "source": [
    "### 3-3 基于matplotlib和seaborn的数据可视化"
   ]
  },
  {
   "cell_type": "code",
   "execution_count": 73,
   "id": "e98f8453-d048-4965-ad56-86b161815c99",
   "metadata": {},
   "outputs": [],
   "source": [
    "import matplotlib.pyplot as plt\n",
    "%matplotlib inline"
   ]
  },
  {
   "cell_type": "markdown",
   "id": "b40456dc-76c4-41b7-8e60-dc699838b1d2",
   "metadata": {},
   "source": [
    "### 3-3-3 用pyplot绘制折线图"
   ]
  },
  {
   "cell_type": "code",
   "execution_count": 74,
   "id": "ae992c22-81ad-4e81-ba67-3a6d1b093131",
   "metadata": {},
   "outputs": [
    {
     "data": {
      "text/plain": [
       "array([0, 1, 2, 3, 4, 5, 6, 7, 8, 9])"
      ]
     },
     "execution_count": 74,
     "metadata": {},
     "output_type": "execute_result"
    }
   ],
   "source": [
    "x = np.arange(10)\n",
    "x"
   ]
  },
  {
   "cell_type": "code",
   "execution_count": 77,
   "id": "6411c3b5-54a3-438f-b2a7-a4887452d8e6",
   "metadata": {},
   "outputs": [
    {
     "data": {
      "text/plain": [
       "array([4, 3, 8, 8, 4, 3, 5, 7, 2, 2])"
      ]
     },
     "execution_count": 77,
     "metadata": {},
     "output_type": "execute_result"
    }
   ],
   "source": [
    "y = np.random.randint(2,9,10)\n",
    "y"
   ]
  },
  {
   "cell_type": "code",
   "execution_count": 78,
   "id": "86215f35-b5b0-4c7c-8e9b-cdc90f52fc9e",
   "metadata": {},
   "outputs": [
    {
     "data": {
      "image/png": "[encoded data removed]",
      "text/plain": [
       "<Figure size 1008x504 with 1 Axes>"
      ]
     },
     "metadata": {
      "needs_background": "light"
     },
     "output_type": "display_data"
    }
   ],
   "source": [
    "plt.figure(figsize=(14,7))\n",
    "plt.plot(x,y,'r--')\n",
    "plt.title('lineplot matplotlib')\n",
    "plt.xlabel('x')\n",
    "plt.ylabel('y')\n",
    "plt.show()"
   ]
  },
  {
   "cell_type": "markdown",
   "id": "1361b5ad-c9f6-439e-8bd4-f384f82446af",
   "metadata": {},
   "source": [
    "### 3-3-4 用seaborn和plt绘制折线图"
   ]
  },
  {
   "cell_type": "code",
   "execution_count": 79,
   "id": "a9b67c03-c5f5-4e89-a0b5-0848cdbca159",
   "metadata": {},
   "outputs": [],
   "source": [
    "import seaborn as sns\n",
    "sns.set()"
   ]
  },
  {
   "cell_type": "code",
   "execution_count": 80,
   "id": "c4be1642-2dcb-4dde-bfb4-d3bf46967934",
   "metadata": {},
   "outputs": [
    {
     "data": {
      "image/png": "[encoded data removed]",
      "text/plain": [
       "<Figure size 1008x504 with 1 Axes>"
      ]
     },
     "metadata": {},
     "output_type": "display_data"
    }
   ],
   "source": [
    "plt.figure(figsize=(14,7))\n",
    "plt.plot(x,y,'r--')\n",
    "plt.title('lineplot matplotlib')\n",
    "plt.xlabel('x')\n",
    "plt.ylabel('y')\n",
    "plt.show()"
   ]
  },
  {
   "cell_type": "markdown",
   "id": "57edfa41-d4d9-44f0-b4c4-63ee6f5b3263",
   "metadata": {},
   "source": [
    "### 3-3-5 用seaborn绘制直方图"
   ]
  },
  {
   "cell_type": "code",
   "execution_count": 81,
   "id": "50235276-653f-452c-bca6-2d89924fac6f",
   "metadata": {},
   "outputs": [
    {
     "data": {
      "text/plain": [
       "array([2, 3, 7, 5, 6, 7, 8, 3, 5, 5])"
      ]
     },
     "execution_count": 81,
     "metadata": {},
     "output_type": "execute_result"
    }
   ],
   "source": [
    "fish_data = np.random.randint(2,9,10)\n",
    "fish_data"
   ]
  },
  {
   "cell_type": "code",
   "execution_count": 87,
   "id": "b98538b4-d5f7-4f5c-b3ff-0303583ad0cf",
   "metadata": {},
   "outputs": [
    {
     "data": {
      "text/plain": [
       "<seaborn.axisgrid.FacetGrid at 0x7fd8e91cbbb0>"
      ]
     },
     "execution_count": 87,
     "metadata": {},
     "output_type": "execute_result"
    },
    {
     "data": {
      "image/png": "[encoded data removed]",
      "text/plain": [
       "<Figure size 360x360 with 1 Axes>"
      ]
     },
     "metadata": {},
     "output_type": "display_data"
    }
   ],
   "source": [
    "sns.displot(fish_data,bins=5,color='b',kde=False)#禁用核密度估计"
   ]
  },
  {
   "cell_type": "markdown",
   "id": "62583688-be69-4146-a989-29be415ab6c3",
   "metadata": {},
   "source": [
    "### 3-3-6 使用核密度估计将直方图平滑化"
   ]
  },
  {
   "cell_type": "code",
   "execution_count": 93,
   "id": "18e463f1-0fb4-4a16-a595-d9b5d9c1d862",
   "metadata": {},
   "outputs": [
    {
     "data": {
      "text/plain": [
       "<seaborn.axisgrid.FacetGrid at 0x7fd90e821eb0>"
      ]
     },
     "execution_count": 93,
     "metadata": {},
     "output_type": "execute_result"
    },
    {
     "data": {
      "image/png": "[encoded data removed]",
      "text/plain": [
       "<Figure size 360x360 with 1 Axes>"
      ]
     },
     "metadata": {},
     "output_type": "display_data"
    }
   ],
   "source": [
    "sns.displot(fish_data,kde=True,color='r',)"
   ]
  },
  {
   "cell_type": "markdown",
   "id": "8f1ce659-32cc-4c4c-bcbc-05193c1511d8",
   "metadata": {},
   "source": [
    "### 3-3-7 两个变量的直方图"
   ]
  },
  {
   "cell_type": "code",
   "execution_count": 94,
   "id": "809d6971-a656-4034-8cbe-a27fbd4b80b3",
   "metadata": {},
   "outputs": [
    {
     "data": {
      "text/html": [
       "<div>\n",
       "<style scoped>\n",
       "    .dataframe tbody tr th:only-of-type {\n",
       "        vertical-align: middle;\n",
       "    }\n",
       "\n",
       "    .dataframe tbody tr th {\n",
       "        vertical-align: top;\n",
       "    }\n",
       "\n",
       "    .dataframe thead th {\n",
       "        text-align: right;\n",
       "    }\n",
       "</style>\n",
       "<table border=\"1\" class=\"dataframe\">\n",
       "  <thead>\n",
       "    <tr style=\"text-align: right;\">\n",
       "      <th></th>\n",
       "      <th>species</th>\n",
       "      <th>length</th>\n",
       "    </tr>\n",
       "  </thead>\n",
       "  <tbody>\n",
       "    <tr>\n",
       "      <th>0</th>\n",
       "      <td>A</td>\n",
       "      <td>2</td>\n",
       "    </tr>\n",
       "    <tr>\n",
       "      <th>1</th>\n",
       "      <td>A</td>\n",
       "      <td>3</td>\n",
       "    </tr>\n",
       "    <tr>\n",
       "      <th>2</th>\n",
       "      <td>A</td>\n",
       "      <td>3</td>\n",
       "    </tr>\n",
       "    <tr>\n",
       "      <th>3</th>\n",
       "      <td>A</td>\n",
       "      <td>4</td>\n",
       "    </tr>\n",
       "    <tr>\n",
       "      <th>4</th>\n",
       "      <td>A</td>\n",
       "      <td>4</td>\n",
       "    </tr>\n",
       "    <tr>\n",
       "      <th>5</th>\n",
       "      <td>A</td>\n",
       "      <td>4</td>\n",
       "    </tr>\n",
       "    <tr>\n",
       "      <th>6</th>\n",
       "      <td>A</td>\n",
       "      <td>4</td>\n",
       "    </tr>\n",
       "    <tr>\n",
       "      <th>7</th>\n",
       "      <td>A</td>\n",
       "      <td>5</td>\n",
       "    </tr>\n",
       "    <tr>\n",
       "      <th>8</th>\n",
       "      <td>A</td>\n",
       "      <td>5</td>\n",
       "    </tr>\n",
       "    <tr>\n",
       "      <th>9</th>\n",
       "      <td>A</td>\n",
       "      <td>6</td>\n",
       "    </tr>\n",
       "    <tr>\n",
       "      <th>10</th>\n",
       "      <td>B</td>\n",
       "      <td>5</td>\n",
       "    </tr>\n",
       "    <tr>\n",
       "      <th>11</th>\n",
       "      <td>B</td>\n",
       "      <td>6</td>\n",
       "    </tr>\n",
       "    <tr>\n",
       "      <th>12</th>\n",
       "      <td>B</td>\n",
       "      <td>6</td>\n",
       "    </tr>\n",
       "    <tr>\n",
       "      <th>13</th>\n",
       "      <td>B</td>\n",
       "      <td>7</td>\n",
       "    </tr>\n",
       "    <tr>\n",
       "      <th>14</th>\n",
       "      <td>B</td>\n",
       "      <td>7</td>\n",
       "    </tr>\n",
       "    <tr>\n",
       "      <th>15</th>\n",
       "      <td>B</td>\n",
       "      <td>7</td>\n",
       "    </tr>\n",
       "    <tr>\n",
       "      <th>16</th>\n",
       "      <td>B</td>\n",
       "      <td>7</td>\n",
       "    </tr>\n",
       "    <tr>\n",
       "      <th>17</th>\n",
       "      <td>B</td>\n",
       "      <td>8</td>\n",
       "    </tr>\n",
       "    <tr>\n",
       "      <th>18</th>\n",
       "      <td>B</td>\n",
       "      <td>8</td>\n",
       "    </tr>\n",
       "    <tr>\n",
       "      <th>19</th>\n",
       "      <td>B</td>\n",
       "      <td>9</td>\n",
       "    </tr>\n",
       "  </tbody>\n",
       "</table>\n",
       "</div>"
      ],
      "text/plain": [
       "   species  length\n",
       "0        A       2\n",
       "1        A       3\n",
       "2        A       3\n",
       "3        A       4\n",
       "4        A       4\n",
       "5        A       4\n",
       "6        A       4\n",
       "7        A       5\n",
       "8        A       5\n",
       "9        A       6\n",
       "10       B       5\n",
       "11       B       6\n",
       "12       B       6\n",
       "13       B       7\n",
       "14       B       7\n",
       "15       B       7\n",
       "16       B       7\n",
       "17       B       8\n",
       "18       B       8\n",
       "19       B       9"
      ]
     },
     "execution_count": 94,
     "metadata": {},
     "output_type": "execute_result"
    }
   ],
   "source": [
    "fish_multi = pd.read_csv('/Users/meininghang/Downloads/【源码】用Python动手学统计学/3-3-2-fish_multi_2.csv')\n",
    "fish_multi"
   ]
  },
  {
   "cell_type": "code",
   "execution_count": 95,
   "id": "f7e0102b-ece7-4bd3-94cc-82c347e46330",
   "metadata": {},
   "outputs": [
    {
     "data": {
      "text/html": [
       "<div>\n",
       "<style scoped>\n",
       "    .dataframe tbody tr th:only-of-type {\n",
       "        vertical-align: middle;\n",
       "    }\n",
       "\n",
       "    .dataframe tbody tr th {\n",
       "        vertical-align: top;\n",
       "    }\n",
       "\n",
       "    .dataframe thead tr th {\n",
       "        text-align: left;\n",
       "    }\n",
       "\n",
       "    .dataframe thead tr:last-of-type th {\n",
       "        text-align: right;\n",
       "    }\n",
       "</style>\n",
       "<table border=\"1\" class=\"dataframe\">\n",
       "  <thead>\n",
       "    <tr>\n",
       "      <th></th>\n",
       "      <th colspan=\"8\" halign=\"left\">length</th>\n",
       "    </tr>\n",
       "    <tr>\n",
       "      <th></th>\n",
       "      <th>count</th>\n",
       "      <th>mean</th>\n",
       "      <th>std</th>\n",
       "      <th>min</th>\n",
       "      <th>25%</th>\n",
       "      <th>50%</th>\n",
       "      <th>75%</th>\n",
       "      <th>max</th>\n",
       "    </tr>\n",
       "    <tr>\n",
       "      <th>species</th>\n",
       "      <th></th>\n",
       "      <th></th>\n",
       "      <th></th>\n",
       "      <th></th>\n",
       "      <th></th>\n",
       "      <th></th>\n",
       "      <th></th>\n",
       "      <th></th>\n",
       "    </tr>\n",
       "  </thead>\n",
       "  <tbody>\n",
       "    <tr>\n",
       "      <th>A</th>\n",
       "      <td>10.0</td>\n",
       "      <td>4.0</td>\n",
       "      <td>1.154701</td>\n",
       "      <td>2.0</td>\n",
       "      <td>3.25</td>\n",
       "      <td>4.0</td>\n",
       "      <td>4.75</td>\n",
       "      <td>6.0</td>\n",
       "    </tr>\n",
       "    <tr>\n",
       "      <th>B</th>\n",
       "      <td>10.0</td>\n",
       "      <td>7.0</td>\n",
       "      <td>1.154701</td>\n",
       "      <td>5.0</td>\n",
       "      <td>6.25</td>\n",
       "      <td>7.0</td>\n",
       "      <td>7.75</td>\n",
       "      <td>9.0</td>\n",
       "    </tr>\n",
       "  </tbody>\n",
       "</table>\n",
       "</div>"
      ],
      "text/plain": [
       "        length                                          \n",
       "         count mean       std  min   25%  50%   75%  max\n",
       "species                                                 \n",
       "A         10.0  4.0  1.154701  2.0  3.25  4.0  4.75  6.0\n",
       "B         10.0  7.0  1.154701  5.0  6.25  7.0  7.75  9.0"
      ]
     },
     "execution_count": 95,
     "metadata": {},
     "output_type": "execute_result"
    }
   ],
   "source": [
    "fish_multi.groupby('species').describe()"
   ]
  },
  {
   "cell_type": "code",
   "execution_count": 96,
   "id": "fc418dc4-ed34-432c-9579-2090558d49ac",
   "metadata": {},
   "outputs": [],
   "source": [
    "length_a = fish_multi.query('species == \"A\"')['length']\n",
    "length_b = fish_multi.query('species == \"B\"')['length']"
   ]
  },
  {
   "cell_type": "code",
   "execution_count": 100,
   "id": "411fd830-bae7-4c9a-91f8-83a2b32f4d3c",
   "metadata": {},
   "outputs": [
    {
     "data": {
      "text/plain": [
       "0    2\n",
       "1    3\n",
       "2    3\n",
       "Name: length, dtype: int64"
      ]
     },
     "execution_count": 100,
     "metadata": {},
     "output_type": "execute_result"
    }
   ],
   "source": [
    "length_a[:3]"
   ]
  },
  {
   "cell_type": "code",
   "execution_count": 99,
   "id": "95230853-fcca-4930-b17c-d3ab8a223355",
   "metadata": {},
   "outputs": [
    {
     "data": {
      "text/plain": [
       "10    5\n",
       "11    6\n",
       "12    6\n",
       "Name: length, dtype: int64"
      ]
     },
     "execution_count": 99,
     "metadata": {},
     "output_type": "execute_result"
    }
   ],
   "source": [
    "length_b[:3]"
   ]
  },
  {
   "cell_type": "code",
   "execution_count": 101,
   "id": "2265c7b7-8b9b-4da3-acf2-225f2d646aa5",
   "metadata": {},
   "outputs": [
    {
     "data": {
      "text/plain": [
       "<seaborn.axisgrid.FacetGrid at 0x7fd8f8d2a4c0>"
      ]
     },
     "execution_count": 101,
     "metadata": {},
     "output_type": "execute_result"
    },
    {
     "data": {
      "image/png": "[encoded data removed]",
      "text/plain": [
       "<Figure size 360x360 with 1 Axes>"
      ]
     },
     "metadata": {},
     "output_type": "display_data"
    },
    {
     "data": {
      "image/png": "[encoded data removed]",
      "text/plain": [
       "<Figure size 360x360 with 1 Axes>"
      ]
     },
     "metadata": {},
     "output_type": "display_data"
    }
   ],
   "source": [
    "sns.displot(length_a,bins=5,color='r',kde=False)\n",
    "sns.displot(length_b,bins=5,color='m',kde=False)"
   ]
  },
  {
   "cell_type": "markdown",
   "id": "fe6675b8-26da-4efe-8829-90bc98a1ecff",
   "metadata": {},
   "source": [
    "### 3-3-8 将多变量可视化的代码"
   ]
  },
  {
   "cell_type": "markdown",
   "id": "4f7e956d-9281-4995-9a05-6d49a5f1a18d",
   "metadata": {},
   "source": [
    "sns. 函数名(\n",
    "  x = \"x 轴对应的列名\",\n",
    "  y = \"y 轴对应的列名\",\n",
    "  data = 数据帧,\n",
    "  其他参数\n",
    ")\n"
   ]
  },
  {
   "cell_type": "markdown",
   "id": "8bb761e9-2893-4eea-9fb6-5cedb0ccb30f",
   "metadata": {},
   "source": [
    "### 3-3-9 箱型图"
   ]
  },
  {
   "cell_type": "code",
   "execution_count": 105,
   "id": "d6b00873-1366-48f8-96df-d1858e12372d",
   "metadata": {},
   "outputs": [
    {
     "data": {
      "text/plain": [
       "<AxesSubplot:xlabel='species', ylabel='length'>"
      ]
     },
     "execution_count": 105,
     "metadata": {},
     "output_type": "execute_result"
    },
    {
     "data": {
      "image/png": "[encoded data removed]",
      "text/plain": [
       "<Figure size 432x288 with 1 Axes>"
      ]
     },
     "metadata": {},
     "output_type": "display_data"
    }
   ],
   "source": [
    "sns.boxplot(x='species',y='length',data=fish_multi,color='orange')"
   ]
  },
  {
   "cell_type": "code",
   "execution_count": 109,
   "id": "3b67cfb6-a941-4bbb-83e7-7cb1867cd06a",
   "metadata": {},
   "outputs": [
    {
     "data": {
      "text/plain": [
       "<AxesSubplot:xlabel='species', ylabel='length'>"
      ]
     },
     "execution_count": 109,
     "metadata": {},
     "output_type": "execute_result"
    },
    {
     "data": {
      "image/png": "[encoded data removed]",
      "text/plain": [
       "<Figure size 432x288 with 1 Axes>"
      ]
     },
     "metadata": {},
     "output_type": "display_data"
    }
   ],
   "source": [
    "sns.violinplot(x='species',y='length',data=fish_multi,color='yellow')"
   ]
  },
  {
   "cell_type": "markdown",
   "id": "23bdc496-3236-4bde-bdba-1c3fe5027637",
   "metadata": {},
   "source": [
    "### 3-3-11 条形图"
   ]
  },
  {
   "cell_type": "code",
   "execution_count": 110,
   "id": "a707d607-2fcf-43c3-827f-78d8da86820a",
   "metadata": {},
   "outputs": [
    {
     "data": {
      "text/plain": [
       "<AxesSubplot:xlabel='species', ylabel='length'>"
      ]
     },
     "execution_count": 110,
     "metadata": {},
     "output_type": "execute_result"
    },
    {
     "data": {
      "image/png": "[encoded data removed]",
      "text/plain": [
       "<Figure size 432x288 with 1 Axes>"
      ]
     },
     "metadata": {},
     "output_type": "display_data"
    }
   ],
   "source": [
    "sns.barplot(x='species',y='length',data=fish_multi,color='purple')"
   ]
  },
  {
   "cell_type": "markdown",
   "id": "1712459b-65f7-4bb4-b1cb-65edb1df1103",
   "metadata": {},
   "source": [
    "### 3-3-12 散点图"
   ]
  },
  {
   "cell_type": "code",
   "execution_count": 112,
   "id": "f652529a-94c5-4703-9520-ca40c1391aa3",
   "metadata": {},
   "outputs": [
    {
     "data": {
      "text/html": [
       "<div>\n",
       "<style scoped>\n",
       "    .dataframe tbody tr th:only-of-type {\n",
       "        vertical-align: middle;\n",
       "    }\n",
       "\n",
       "    .dataframe tbody tr th {\n",
       "        vertical-align: top;\n",
       "    }\n",
       "\n",
       "    .dataframe thead th {\n",
       "        text-align: right;\n",
       "    }\n",
       "</style>\n",
       "<table border=\"1\" class=\"dataframe\">\n",
       "  <thead>\n",
       "    <tr style=\"text-align: right;\">\n",
       "      <th></th>\n",
       "      <th>x</th>\n",
       "      <th>y</th>\n",
       "    </tr>\n",
       "  </thead>\n",
       "  <tbody>\n",
       "    <tr>\n",
       "      <th>0</th>\n",
       "      <td>18.5</td>\n",
       "      <td>34</td>\n",
       "    </tr>\n",
       "    <tr>\n",
       "      <th>1</th>\n",
       "      <td>18.7</td>\n",
       "      <td>39</td>\n",
       "    </tr>\n",
       "    <tr>\n",
       "      <th>2</th>\n",
       "      <td>19.1</td>\n",
       "      <td>41</td>\n",
       "    </tr>\n",
       "    <tr>\n",
       "      <th>3</th>\n",
       "      <td>19.7</td>\n",
       "      <td>38</td>\n",
       "    </tr>\n",
       "    <tr>\n",
       "      <th>4</th>\n",
       "      <td>21.5</td>\n",
       "      <td>45</td>\n",
       "    </tr>\n",
       "    <tr>\n",
       "      <th>5</th>\n",
       "      <td>21.7</td>\n",
       "      <td>41</td>\n",
       "    </tr>\n",
       "    <tr>\n",
       "      <th>6</th>\n",
       "      <td>21.8</td>\n",
       "      <td>52</td>\n",
       "    </tr>\n",
       "    <tr>\n",
       "      <th>7</th>\n",
       "      <td>22.0</td>\n",
       "      <td>44</td>\n",
       "    </tr>\n",
       "    <tr>\n",
       "      <th>8</th>\n",
       "      <td>23.4</td>\n",
       "      <td>44</td>\n",
       "    </tr>\n",
       "    <tr>\n",
       "      <th>9</th>\n",
       "      <td>23.8</td>\n",
       "      <td>49</td>\n",
       "    </tr>\n",
       "  </tbody>\n",
       "</table>\n",
       "</div>"
      ],
      "text/plain": [
       "      x   y\n",
       "0  18.5  34\n",
       "1  18.7  39\n",
       "2  19.1  41\n",
       "3  19.7  38\n",
       "4  21.5  45\n",
       "5  21.7  41\n",
       "6  21.8  52\n",
       "7  22.0  44\n",
       "8  23.4  44\n",
       "9  23.8  49"
      ]
     },
     "execution_count": 112,
     "metadata": {},
     "output_type": "execute_result"
    }
   ],
   "source": [
    "cov_data"
   ]
  },
  {
   "cell_type": "code",
   "execution_count": 117,
   "id": "b00ee3a1-c66e-4bbf-a51a-dbfa4cd27222",
   "metadata": {},
   "outputs": [
    {
     "data": {
      "text/plain": [
       "<AxesSubplot:xlabel='x', ylabel='y'>"
      ]
     },
     "execution_count": 117,
     "metadata": {},
     "output_type": "execute_result"
    },
    {
     "data": {
      "image/png": "[encoded data removed]",
      "text/plain": [
       "<Figure size 432x288 with 1 Axes>"
      ]
     },
     "metadata": {},
     "output_type": "display_data"
    }
   ],
   "source": [
    "sns.scatterplot(x = 'x',y = 'y',data=cov_data,color='g')"
   ]
  },
  {
   "cell_type": "code",
   "execution_count": 120,
   "id": "e60115cf-2399-4a95-ba0d-d1bf7db000f9",
   "metadata": {},
   "outputs": [
    {
     "data": {
      "text/plain": [
       "<seaborn.axisgrid.JointGrid at 0x7fd90eb9d820>"
      ]
     },
     "execution_count": 120,
     "metadata": {},
     "output_type": "execute_result"
    },
    {
     "data": {
      "image/png": "[encoded data removed]",
      "text/plain": [
       "<Figure size 432x432 with 3 Axes>"
      ]
     },
     "metadata": {},
     "output_type": "display_data"
    }
   ],
   "source": [
    "sns.jointplot(x = 'x', y='y',data=cov_data,)"
   ]
  },
  {
   "cell_type": "markdown",
   "id": "d397d867-ba43-42b2-925e-f3e07da2008a",
   "metadata": {},
   "source": [
    "### 3-3-13 散点图矩阵"
   ]
  },
  {
   "cell_type": "code",
   "execution_count": 121,
   "id": "53559338-2388-4d09-9390-31b97e23be29",
   "metadata": {},
   "outputs": [
    {
     "data": {
      "text/html": [
       "<div>\n",
       "<style scoped>\n",
       "    .dataframe tbody tr th:only-of-type {\n",
       "        vertical-align: middle;\n",
       "    }\n",
       "\n",
       "    .dataframe tbody tr th {\n",
       "        vertical-align: top;\n",
       "    }\n",
       "\n",
       "    .dataframe thead th {\n",
       "        text-align: right;\n",
       "    }\n",
       "</style>\n",
       "<table border=\"1\" class=\"dataframe\">\n",
       "  <thead>\n",
       "    <tr style=\"text-align: right;\">\n",
       "      <th></th>\n",
       "      <th>sepal_length</th>\n",
       "      <th>sepal_width</th>\n",
       "      <th>petal_length</th>\n",
       "      <th>petal_width</th>\n",
       "      <th>species</th>\n",
       "    </tr>\n",
       "  </thead>\n",
       "  <tbody>\n",
       "    <tr>\n",
       "      <th>0</th>\n",
       "      <td>5.1</td>\n",
       "      <td>3.5</td>\n",
       "      <td>1.4</td>\n",
       "      <td>0.2</td>\n",
       "      <td>setosa</td>\n",
       "    </tr>\n",
       "    <tr>\n",
       "      <th>1</th>\n",
       "      <td>4.9</td>\n",
       "      <td>3.0</td>\n",
       "      <td>1.4</td>\n",
       "      <td>0.2</td>\n",
       "      <td>setosa</td>\n",
       "    </tr>\n",
       "    <tr>\n",
       "      <th>2</th>\n",
       "      <td>4.7</td>\n",
       "      <td>3.2</td>\n",
       "      <td>1.3</td>\n",
       "      <td>0.2</td>\n",
       "      <td>setosa</td>\n",
       "    </tr>\n",
       "  </tbody>\n",
       "</table>\n",
       "</div>"
      ],
      "text/plain": [
       "   sepal_length  sepal_width  petal_length  petal_width species\n",
       "0           5.1          3.5           1.4          0.2  setosa\n",
       "1           4.9          3.0           1.4          0.2  setosa\n",
       "2           4.7          3.2           1.3          0.2  setosa"
      ]
     },
     "execution_count": 121,
     "metadata": {},
     "output_type": "execute_result"
    }
   ],
   "source": [
    "iris = sns.load_dataset('iris')\n",
    "iris.head(n=3)"
   ]
  },
  {
   "cell_type": "code",
   "execution_count": 122,
   "id": "6346d820-0531-4809-97a6-774679a686ea",
   "metadata": {},
   "outputs": [
    {
     "data": {
      "text/html": [
       "<div>\n",
       "<style scoped>\n",
       "    .dataframe tbody tr th:only-of-type {\n",
       "        vertical-align: middle;\n",
       "    }\n",
       "\n",
       "    .dataframe tbody tr th {\n",
       "        vertical-align: top;\n",
       "    }\n",
       "\n",
       "    .dataframe thead th {\n",
       "        text-align: right;\n",
       "    }\n",
       "</style>\n",
       "<table border=\"1\" class=\"dataframe\">\n",
       "  <thead>\n",
       "    <tr style=\"text-align: right;\">\n",
       "      <th></th>\n",
       "      <th>sepal_length</th>\n",
       "      <th>sepal_width</th>\n",
       "      <th>petal_length</th>\n",
       "      <th>petal_width</th>\n",
       "    </tr>\n",
       "    <tr>\n",
       "      <th>species</th>\n",
       "      <th></th>\n",
       "      <th></th>\n",
       "      <th></th>\n",
       "      <th></th>\n",
       "    </tr>\n",
       "  </thead>\n",
       "  <tbody>\n",
       "    <tr>\n",
       "      <th>setosa</th>\n",
       "      <td>5.006</td>\n",
       "      <td>3.428</td>\n",
       "      <td>1.462</td>\n",
       "      <td>0.246</td>\n",
       "    </tr>\n",
       "    <tr>\n",
       "      <th>versicolor</th>\n",
       "      <td>5.936</td>\n",
       "      <td>2.770</td>\n",
       "      <td>4.260</td>\n",
       "      <td>1.326</td>\n",
       "    </tr>\n",
       "    <tr>\n",
       "      <th>virginica</th>\n",
       "      <td>6.588</td>\n",
       "      <td>2.974</td>\n",
       "      <td>5.552</td>\n",
       "      <td>2.026</td>\n",
       "    </tr>\n",
       "  </tbody>\n",
       "</table>\n",
       "</div>"
      ],
      "text/plain": [
       "            sepal_length  sepal_width  petal_length  petal_width\n",
       "species                                                         \n",
       "setosa             5.006        3.428         1.462        0.246\n",
       "versicolor         5.936        2.770         4.260        1.326\n",
       "virginica          6.588        2.974         5.552        2.026"
      ]
     },
     "execution_count": 122,
     "metadata": {},
     "output_type": "execute_result"
    }
   ],
   "source": [
    "iris.groupby('species').mean()"
   ]
  },
  {
   "cell_type": "code",
   "execution_count": 126,
   "id": "eab42230-8656-4945-9908-898d4ae7457b",
   "metadata": {},
   "outputs": [
    {
     "data": {
      "text/plain": [
       "<seaborn.axisgrid.PairGrid at 0x7fd8e9f97ca0>"
      ]
     },
     "execution_count": 126,
     "metadata": {},
     "output_type": "execute_result"
    },
    {
     "data": {
      "image/png": "[encoded data removed]",
      "text/plain": [
       "<Figure size 806.85x720 with 20 Axes>"
      ]
     },
     "metadata": {},
     "output_type": "display_data"
    }
   ],
   "source": [
    "sns.pairplot(iris,hue='species',palette='gray',diag_kind='hist')"
   ]
  },
  {
   "cell_type": "markdown",
   "id": "f372f562-b496-44e5-84d6-bc112b71063c",
   "metadata": {},
   "source": [
    "## 3-4 用Python模拟抽样"
   ]
  },
  {
   "cell_type": "code",
   "execution_count": 127,
   "id": "cbe3b572-f09c-4b50-b907-a53713d63568",
   "metadata": {},
   "outputs": [
    {
     "name": "stdin",
     "output_type": "stream",
     "text": [
      "Once deleted, variables cannot be recovered. Proceed (y/[n])?  y\n"
     ]
    }
   ],
   "source": [
    "%reset"
   ]
  },
  {
   "cell_type": "code",
   "execution_count": 128,
   "id": "2ad8340c-077d-4e07-99c0-8293080318f6",
   "metadata": {},
   "outputs": [],
   "source": [
    "import numpy as np\n",
    "import pandas as pd\n",
    "import scipy as sp\n",
    "from scipy import stats\n",
    "import matplotlib.pyplot as plt\n",
    "import seaborn as sns\n",
    "sns.set()\n",
    "\n",
    "%precision 3\n",
    "%matplotlib inline"
   ]
  },
  {
   "cell_type": "markdown",
   "id": "5588ce1c-8e2b-4d5a-8b96-294bebf9079f",
   "metadata": {},
   "source": [
    "### 3-4-3 在只有5条鱼的湖中抽样"
   ]
  },
  {
   "cell_type": "code",
   "execution_count": 130,
   "id": "c6cd2498-e73d-4ed4-84b5-2b691c25d1db",
   "metadata": {},
   "outputs": [
    {
     "data": {
      "text/plain": [
       "array([2, 3, 4, 5, 6])"
      ]
     },
     "execution_count": 130,
     "metadata": {},
     "output_type": "execute_result"
    }
   ],
   "source": [
    "fish_5 = np.arange(2,7,)\n",
    "fish_5"
   ]
  },
  {
   "cell_type": "code",
   "execution_count": 131,
   "id": "a0461b3c-96ce-419d-b144-2ba6d067e8a6",
   "metadata": {},
   "outputs": [
    {
     "data": {
      "text/plain": [
       "array([4])"
      ]
     },
     "execution_count": 131,
     "metadata": {},
     "output_type": "execute_result"
    }
   ],
   "source": [
    "np.random.choice(fish_5,size=1,replace=False)"
   ]
  },
  {
   "cell_type": "code",
   "execution_count": 132,
   "id": "fd3976a1-55c9-4c55-83aa-d86e9cf5b378",
   "metadata": {},
   "outputs": [
    {
     "data": {
      "text/plain": [
       "array([2, 3, 4])"
      ]
     },
     "execution_count": 132,
     "metadata": {},
     "output_type": "execute_result"
    }
   ],
   "source": [
    "np.random.choice(fish_5,size=3,replace=False)"
   ]
  },
  {
   "cell_type": "code",
   "execution_count": 135,
   "id": "0013ef3d-5f0a-4628-80e2-cd45c1a17318",
   "metadata": {},
   "outputs": [
    {
     "data": {
      "text/plain": [
       "4.333333333333333"
      ]
     },
     "execution_count": 135,
     "metadata": {},
     "output_type": "execute_result"
    }
   ],
   "source": [
    "np.random.seed(1)\n",
    "np.mean(\n",
    "    np.random.choice(fish_5,size=3,replace=False)\n",
    ")"
   ]
  },
  {
   "cell_type": "markdown",
   "id": "8dba02d8-911a-495d-a654-1b945e606cef",
   "metadata": {},
   "source": [
    "### 3-4-6 从鱼较多的湖中抽样"
   ]
  },
  {
   "cell_type": "code",
   "execution_count": 136,
   "id": "f3692e98-1d2f-439e-87e6-8a797ccc18e8",
   "metadata": {},
   "outputs": [
    {
     "data": {
      "text/plain": [
       "0    5.297442\n",
       "1    3.505566\n",
       "2    3.572546\n",
       "3    3.135979\n",
       "4    4.689275\n",
       "Name: length, dtype: float64"
      ]
     },
     "execution_count": 136,
     "metadata": {},
     "output_type": "execute_result"
    }
   ],
   "source": [
    "fish_100000 = pd.read_csv(\n",
    "    '/Users/meininghang/Downloads/【源码】用Python动手学统计学/3-4-1-fish_length_100000.csv'\n",
    ")['length']\n",
    "fish_100000.head()"
   ]
  },
  {
   "cell_type": "code",
   "execution_count": 137,
   "id": "a24970eb-ad7a-42b3-8a38-2b1dc902e324",
   "metadata": {},
   "outputs": [
    {
     "data": {
      "text/plain": [
       "100000"
      ]
     },
     "execution_count": 137,
     "metadata": {},
     "output_type": "execute_result"
    }
   ],
   "source": [
    "len(fish_100000)"
   ]
  },
  {
   "cell_type": "code",
   "execution_count": 138,
   "id": "2cc58e35-4789-46c1-8f21-552a25d2816f",
   "metadata": {},
   "outputs": [
    {
     "data": {
      "text/plain": [
       "array([4.091, 5.465, 3.426, 4.287, 4.244, 4.282, 4.29 , 5.087, 2.769,\n",
       "       5.296])"
      ]
     },
     "execution_count": 138,
     "metadata": {},
     "output_type": "execute_result"
    }
   ],
   "source": [
    "sampling_result = np.random.choice(fish_100000,size=10,replace=False)\n",
    "sampling_result"
   ]
  },
  {
   "cell_type": "code",
   "execution_count": 139,
   "id": "d5fad83a-7416-4eb5-88c7-7ca1118baa11",
   "metadata": {},
   "outputs": [
    {
     "data": {
      "text/plain": [
       "4.3235970793805025"
      ]
     },
     "execution_count": 139,
     "metadata": {},
     "output_type": "execute_result"
    }
   ],
   "source": [
    "np.mean(sampling_result)"
   ]
  },
  {
   "cell_type": "markdown",
   "id": "cd645b2c-d55d-4376-bc1c-bded935b14a1",
   "metadata": {},
   "source": [
    "### 3-4-7总体分布"
   ]
  },
  {
   "cell_type": "code",
   "execution_count": 140,
   "id": "e175995d-c5a4-4dad-96a1-c438b4649662",
   "metadata": {},
   "outputs": [
    {
     "data": {
      "text/plain": [
       "4.000"
      ]
     },
     "execution_count": 140,
     "metadata": {},
     "output_type": "execute_result"
    }
   ],
   "source": [
    "np.mean(fish_100000)"
   ]
  },
  {
   "cell_type": "code",
   "execution_count": 141,
   "id": "7a7f0da4-ae44-48ae-8520-f05fc91dc5a9",
   "metadata": {},
   "outputs": [
    {
     "data": {
      "text/plain": [
       "0.800"
      ]
     },
     "execution_count": 141,
     "metadata": {},
     "output_type": "execute_result"
    }
   ],
   "source": [
    "np.std(fish_100000)"
   ]
  },
  {
   "cell_type": "code",
   "execution_count": 142,
   "id": "e7415b6e-4a82-4c0a-8289-5a5cc4fbd2b8",
   "metadata": {},
   "outputs": [
    {
     "data": {
      "text/plain": [
       "0.800"
      ]
     },
     "execution_count": 142,
     "metadata": {},
     "output_type": "execute_result"
    }
   ],
   "source": [
    "np.std(fish_100000,ddof=1)"
   ]
  },
  {
   "cell_type": "code",
   "execution_count": 144,
   "id": "69552d47-13fc-4cb9-b462-b8ab9506533a",
   "metadata": {},
   "outputs": [
    {
     "data": {
      "text/plain": [
       "0.640"
      ]
     },
     "execution_count": 144,
     "metadata": {},
     "output_type": "execute_result"
    }
   ],
   "source": [
    "np.var(fish_100000,ddof=0)"
   ]
  },
  {
   "cell_type": "code",
   "execution_count": 148,
   "id": "0e066cc3-11ee-4655-bd38-87a9775af9cd",
   "metadata": {},
   "outputs": [
    {
     "data": {
      "text/plain": [
       "<seaborn.axisgrid.FacetGrid at 0x7fd90e29f790>"
      ]
     },
     "execution_count": 148,
     "metadata": {},
     "output_type": "execute_result"
    },
    {
     "data": {
      "image/png": "[encoded data removed]",
      "text/plain": [
       "<Figure size 360x360 with 1 Axes>"
      ]
     },
     "metadata": {
      "needs_background": "light"
     },
     "output_type": "display_data"
    }
   ],
   "source": [
    "sns.displot(fish_100000,kde=False,color='m')"
   ]
  },
  {
   "cell_type": "markdown",
   "id": "5167d2a6-4fa3-47b7-8989-c5c4413fb841",
   "metadata": {},
   "source": [
    "### 3-4-8 对比总体分布和正态分布的概率密度函数"
   ]
  },
  {
   "cell_type": "code",
   "execution_count": 149,
   "id": "aee7d7da-7595-4d06-943d-063aa06db705",
   "metadata": {},
   "outputs": [
    {
     "data": {
      "text/plain": [
       "array([1. , 1.1, 1.2, 1.3, 1.4, 1.5, 1.6, 1.7, 1.8, 1.9, 2. , 2.1, 2.2,\n",
       "       2.3, 2.4, 2.5, 2.6, 2.7, 2.8, 2.9, 3. , 3.1, 3.2, 3.3, 3.4, 3.5,\n",
       "       3.6, 3.7, 3.8, 3.9, 4. , 4.1, 4.2, 4.3, 4.4, 4.5, 4.6, 4.7, 4.8,\n",
       "       4.9, 5. , 5.1, 5.2, 5.3, 5.4, 5.5, 5.6, 5.7, 5.8, 5.9, 6. , 6.1,\n",
       "       6.2, 6.3, 6.4, 6.5, 6.6, 6.7, 6.8, 6.9, 7. ])"
      ]
     },
     "execution_count": 149,
     "metadata": {},
     "output_type": "execute_result"
    }
   ],
   "source": [
    "x = np.arange(1,7.1,0.1)\n",
    "x"
   ]
  },
  {
   "cell_type": "code",
   "execution_count": 151,
   "id": "e4ee2e79-7ac5-4d78-8956-cb37f4b0bb6c",
   "metadata": {},
   "outputs": [
    {
     "data": {
      "text/plain": [
       "array([4.407e-04, 6.988e-04, 1.091e-03, 1.676e-03, 2.536e-03, 3.778e-03,\n",
       "       5.540e-03, 7.998e-03, 1.137e-02, 1.591e-02, 2.191e-02, 2.971e-02,\n",
       "       3.967e-02, 5.215e-02, 6.749e-02, 8.598e-02, 1.078e-01, 1.332e-01,\n",
       "       1.619e-01, 1.938e-01, 2.283e-01, 2.648e-01, 3.025e-01, 3.401e-01,\n",
       "       3.764e-01, 4.102e-01, 4.401e-01, 4.648e-01, 4.833e-01, 4.948e-01,\n",
       "       4.987e-01, 4.948e-01, 4.833e-01, 4.648e-01, 4.401e-01, 4.102e-01,\n",
       "       3.764e-01, 3.401e-01, 3.025e-01, 2.648e-01, 2.283e-01, 1.938e-01,\n",
       "       1.619e-01, 1.332e-01, 1.078e-01, 8.598e-02, 6.749e-02, 5.215e-02,\n",
       "       3.967e-02, 2.971e-02, 2.191e-02, 1.591e-02, 1.137e-02, 7.998e-03,\n",
       "       5.540e-03, 3.778e-03, 2.536e-03, 1.676e-03, 1.091e-03, 6.988e-04,\n",
       "       4.407e-04])"
      ]
     },
     "execution_count": 151,
     "metadata": {},
     "output_type": "execute_result"
    }
   ],
   "source": [
    "stats.norm.pdf(x=x,loc=4,scale=.8)#loc为均值，scale为标准差"
   ]
  },
  {
   "cell_type": "code",
   "execution_count": 152,
   "id": "551a1078-28aa-431b-98d8-5141314fe989",
   "metadata": {},
   "outputs": [
    {
     "data": {
      "text/plain": [
       "[<matplotlib.lines.Line2D at 0x7fd90c00dbb0>]"
      ]
     },
     "execution_count": 152,
     "metadata": {},
     "output_type": "execute_result"
    },
    {
     "data": {
      "image/png": "[encoded data removed]",
      "text/plain": [
       "<Figure size 432x288 with 1 Axes>"
      ]
     },
     "metadata": {
      "needs_background": "light"
     },
     "output_type": "display_data"
    }
   ],
   "source": [
    "plt.plot(x,stats.norm.pdf(x=x,loc=4,scale=.8),color='g')"
   ]
  },
  {
   "cell_type": "code",
   "execution_count": 159,
   "id": "be454409-601a-4e6f-8661-a221f2a46b18",
   "metadata": {},
   "outputs": [
    {
     "data": {
      "text/plain": [
       "<seaborn.axisgrid.FacetGrid at 0x7fd91a8d5190>"
      ]
     },
     "execution_count": 159,
     "metadata": {},
     "output_type": "execute_result"
    },
    {
     "data": {
      "image/png": "[encoded data removed]",
      "text/plain": [
       "<Figure size 432x288 with 1 Axes>"
      ]
     },
     "metadata": {
      "needs_background": "light"
     },
     "output_type": "display_data"
    },
    {
     "data": {
      "image/png": "[encoded data removed]",
      "text/plain": [
       "<Figure size 360x360 with 1 Axes>"
      ]
     },
     "metadata": {
      "needs_background": "light"
     },
     "output_type": "display_data"
    }
   ],
   "source": [
    "plt.plot(x,stats.norm.pdf(x=x,loc=4,scale=.8),color='g')\n",
    "sns.displot(fish_100000,kde=False,color='r')"
   ]
  },
  {
   "cell_type": "markdown",
   "id": "2d83ed57-8605-4110-97d4-db79634cebbc",
   "metadata": {},
   "source": [
    "### 3-4-9 抽样过程的抽象描述"
   ]
  },
  {
   "cell_type": "code",
   "execution_count": 160,
   "id": "c7c310a7-c821-4742-badb-4f8448bb41ee",
   "metadata": {},
   "outputs": [
    {
     "data": {
      "text/plain": [
       "array([4.037, 3.498, 4.322, 5.295, 5.499, 2.905, 4.437, 4.665, 3.786,\n",
       "       4.569])"
      ]
     },
     "execution_count": 160,
     "metadata": {},
     "output_type": "execute_result"
    }
   ],
   "source": [
    "sampling_norm = stats.norm.rvs(\n",
    "    loc=4,scale=0.8,size=10\n",
    ")\n",
    "sampling_norm"
   ]
  },
  {
   "cell_type": "code",
   "execution_count": 161,
   "id": "be6ee551-ba43-4de7-b93e-9d5736670279",
   "metadata": {},
   "outputs": [
    {
     "data": {
      "text/plain": [
       "4.301401664573935"
      ]
     },
     "execution_count": 161,
     "metadata": {},
     "output_type": "execute_result"
    }
   ],
   "source": [
    "np.mean(sampling_norm)"
   ]
  },
  {
   "cell_type": "markdown",
   "id": "bf818773-7462-41f4-82ba-1525a6baeb5f",
   "metadata": {},
   "source": [
    "## 3-5 样本统计量的性质"
   ]
  },
  {
   "cell_type": "code",
   "execution_count": 162,
   "id": "50594a4a-1604-46be-8159-7bcef9cb1ba8",
   "metadata": {},
   "outputs": [
    {
     "name": "stdin",
     "output_type": "stream",
     "text": [
      "Once deleted, variables cannot be recovered. Proceed (y/[n])?  y\n"
     ]
    }
   ],
   "source": [
    "%reset"
   ]
  },
  {
   "cell_type": "code",
   "execution_count": 163,
   "id": "5e5a758c-e967-483e-8812-9bf39c3e63a3",
   "metadata": {},
   "outputs": [],
   "source": [
    "# 用于数值计算的库\n",
    "import numpy as np\n",
    "import pandas as pd\n",
    "import scipy as sp\n",
    "from scipy import stats\n",
    "# 用于绘图的库\n",
    "from matplotlib import pyplot as plt\n",
    "import seaborn as sns\n",
    "sns.set()\n",
    "# 设置浮点数打印精度\n",
    "%precision 3\n",
    "# 在Jupyter Notebook 里显示图形\n",
    "%matplotlib inline"
   ]
  },
  {
   "cell_type": "code",
   "execution_count": 164,
   "id": "d2dc2c48-bb27-41a8-8db5-2b85772de7a4",
   "metadata": {},
   "outputs": [],
   "source": [
    "population = stats.norm(loc=4,scale=0.8)"
   ]
  },
  {
   "cell_type": "code",
   "execution_count": 165,
   "id": "4900d31b-7359-46a5-8422-c674637f71ca",
   "metadata": {},
   "outputs": [
    {
     "data": {
      "text/plain": [
       "<scipy.stats._distn_infrastructure.rv_frozen at 0x7fd90fbf5850>"
      ]
     },
     "execution_count": 165,
     "metadata": {},
     "output_type": "execute_result"
    }
   ],
   "source": [
    "population"
   ]
  },
  {
   "cell_type": "markdown",
   "id": "cc1260b0-e81f-4cc3-a249-9c54e158a3fb",
   "metadata": {},
   "source": [
    "### 3-5-4 多次计算样本均值"
   ]
  },
  {
   "cell_type": "code",
   "execution_count": 166,
   "id": "2d728a12-f418-497b-ba3b-7cd2ef189d43",
   "metadata": {},
   "outputs": [],
   "source": [
    "sample_mean_array = np.zeros(10000)"
   ]
  },
  {
   "cell_type": "code",
   "execution_count": 169,
   "id": "00d08259-9d24-4065-8758-29842d6534b8",
   "metadata": {},
   "outputs": [],
   "source": [
    "np.random.seed(1)\n",
    "for i in range(10000):\n",
    "    sample = population.rvs(size=10)\n",
    "    sample_mean_array[i] = np.mean(sample)"
   ]
  },
  {
   "cell_type": "code",
   "execution_count": 170,
   "id": "59e3d09a-50be-4d8f-b6be-7ea11526c81d",
   "metadata": {},
   "outputs": [
    {
     "data": {
      "text/plain": [
       "array([3.922, 3.864, 4.07 , ..., 4.136, 4.575, 4.099])"
      ]
     },
     "execution_count": 170,
     "metadata": {},
     "output_type": "execute_result"
    }
   ],
   "source": [
    "sample_mean_array"
   ]
  },
  {
   "cell_type": "markdown",
   "id": "3653e86d-497c-4dc8-a11a-c9212ac9b1da",
   "metadata": {},
   "source": [
    "### 3-5-5 样本均值的均值和总体均值相近"
   ]
  },
  {
   "cell_type": "code",
   "execution_count": 171,
   "id": "0f84a3a6-5914-4a7f-8aa2-44d89af50d94",
   "metadata": {},
   "outputs": [
    {
     "data": {
      "text/plain": [
       "4.004202422791747"
      ]
     },
     "execution_count": 171,
     "metadata": {},
     "output_type": "execute_result"
    }
   ],
   "source": [
    "np.mean(sample_mean_array)"
   ]
  },
  {
   "cell_type": "code",
   "execution_count": 172,
   "id": "4d8deae8-1245-4b71-8069-2c9d76b6a72a",
   "metadata": {},
   "outputs": [
    {
     "data": {
      "text/plain": [
       "0.2513580850860402"
      ]
     },
     "execution_count": 172,
     "metadata": {},
     "output_type": "execute_result"
    }
   ],
   "source": [
    "np.std(sample_mean_array,ddof=1)"
   ]
  },
  {
   "cell_type": "code",
   "execution_count": 174,
   "id": "714ef434-ee60-43bc-9b25-c336635209ca",
   "metadata": {},
   "outputs": [
    {
     "data": {
      "text/plain": [
       "<seaborn.axisgrid.FacetGrid at 0x7fd90b6bafd0>"
      ]
     },
     "execution_count": 174,
     "metadata": {},
     "output_type": "execute_result"
    },
    {
     "data": {
      "image/png": "[encoded data removed]",
      "text/plain": [
       "<Figure size 360x360 with 1 Axes>"
      ]
     },
     "metadata": {
      "needs_background": "light"
     },
     "output_type": "display_data"
    }
   ],
   "source": [
    "sns.displot(sample_mean_array,color='m')"
   ]
  },
  {
   "cell_type": "markdown",
   "id": "142f0b5c-99e5-4f2d-ba62-3e06216c71a9",
   "metadata": {},
   "source": [
    "### 3-5-6 样本容量越大，样本均值越接近总体均值"
   ]
  },
  {
   "cell_type": "code",
   "execution_count": 175,
   "id": "6403bed4-b75b-4d57-87cd-1faecb126277",
   "metadata": {},
   "outputs": [
    {
     "data": {
      "text/plain": [
       "array([    10,    110,    210, ...,  99810,  99910, 100010])"
      ]
     },
     "execution_count": 175,
     "metadata": {},
     "output_type": "execute_result"
    }
   ],
   "source": [
    "size_array = np.arange(10,100100,100)\n",
    "size_array"
   ]
  },
  {
   "cell_type": "code",
   "execution_count": 176,
   "id": "78dd9a35-fbfb-44fc-a59b-8d662838a7a7",
   "metadata": {},
   "outputs": [],
   "source": [
    "sample_mean_array_size = np.zeros(len(size_array))"
   ]
  },
  {
   "cell_type": "code",
   "execution_count": 177,
   "id": "3bf59314-1e7e-42ca-acb0-c1929147d7e0",
   "metadata": {},
   "outputs": [],
   "source": [
    "np.random.seed(1)\n",
    "for i in range(len(size_array)):\n",
    "    sample = population.rvs(size=size_array[i])\n",
    "    sample_mean_array_size[i] = np.mean(sample)"
   ]
  },
  {
   "cell_type": "code",
   "execution_count": 179,
   "id": "84e0c9e9-ba87-491f-8571-535a27acfa00",
   "metadata": {},
   "outputs": [
    {
     "data": {
      "text/plain": [
       "Text(0, 0.5, 'sample mean')"
      ]
     },
     "execution_count": 179,
     "metadata": {},
     "output_type": "execute_result"
    },
    {
     "data": {
      "image/png": "[encoded data removed]",
      "text/plain": [
       "<Figure size 1008x504 with 1 Axes>"
      ]
     },
     "metadata": {
      "needs_background": "light"
     },
     "output_type": "display_data"
    }
   ],
   "source": [
    "plt.figure(figsize=(14,7))\n",
    "plt.plot(size_array,sample_mean_array_size,color='r')\n",
    "plt.xlabel('sample size')\n",
    "plt.ylabel('sample mean')"
   ]
  },
  {
   "cell_type": "markdown",
   "id": "467126b8-0c9c-49aa-944f-93c907e0635f",
   "metadata": {},
   "source": [
    "### 3-5-7 定义用了计算样本均值的函数"
   ]
  },
  {
   "cell_type": "code",
   "execution_count": 180,
   "id": "472a9806-d49a-4dab-8030-ff6ebc8d9dda",
   "metadata": {},
   "outputs": [],
   "source": [
    "def calc_sample_mean(size,n_trial):\n",
    "    sample_mean_array = np.zeros(n_trial)\n",
    "    for i in range(n_trial):\n",
    "        sample = population.rvs(size=size)\n",
    "        sample_mean_array[i] = np.mean(sample)\n",
    "    return(sample_mean_array)"
   ]
  },
  {
   "cell_type": "code",
   "execution_count": 181,
   "id": "0be69865-75f2-4d04-846b-9c4caeb75b91",
   "metadata": {},
   "outputs": [
    {
     "data": {
      "text/plain": [
       "4.004202422791747"
      ]
     },
     "execution_count": 181,
     "metadata": {},
     "output_type": "execute_result"
    }
   ],
   "source": [
    "np.random.seed(1)\n",
    "np.mean(calc_sample_mean(10,10000))"
   ]
  },
  {
   "cell_type": "markdown",
   "id": "9124ec02-41a1-4e35-b417-b41d415a2576",
   "metadata": {},
   "source": [
    "### 3-5-8 不同样本容量所得的样本均值的分布"
   ]
  },
  {
   "cell_type": "code",
   "execution_count": 184,
   "id": "dfee563e-cd5d-4007-9906-3e3e6f2a0eca",
   "metadata": {},
   "outputs": [
    {
     "data": {
      "text/html": [
       "<div>\n",
       "<style scoped>\n",
       "    .dataframe tbody tr th:only-of-type {\n",
       "        vertical-align: middle;\n",
       "    }\n",
       "\n",
       "    .dataframe tbody tr th {\n",
       "        vertical-align: top;\n",
       "    }\n",
       "\n",
       "    .dataframe thead th {\n",
       "        text-align: right;\n",
       "    }\n",
       "</style>\n",
       "<table border=\"1\" class=\"dataframe\">\n",
       "  <thead>\n",
       "    <tr style=\"text-align: right;\">\n",
       "      <th></th>\n",
       "      <th>sample_mean</th>\n",
       "      <th>size</th>\n",
       "    </tr>\n",
       "  </thead>\n",
       "  <tbody>\n",
       "    <tr>\n",
       "      <th>0</th>\n",
       "      <td>3.922287</td>\n",
       "      <td>size 10</td>\n",
       "    </tr>\n",
       "    <tr>\n",
       "      <th>1</th>\n",
       "      <td>3.864329</td>\n",
       "      <td>size 10</td>\n",
       "    </tr>\n",
       "    <tr>\n",
       "      <th>2</th>\n",
       "      <td>4.069530</td>\n",
       "      <td>size 10</td>\n",
       "    </tr>\n",
       "    <tr>\n",
       "      <th>3</th>\n",
       "      <td>3.857140</td>\n",
       "      <td>size 10</td>\n",
       "    </tr>\n",
       "    <tr>\n",
       "      <th>4</th>\n",
       "      <td>4.184654</td>\n",
       "      <td>size 10</td>\n",
       "    </tr>\n",
       "  </tbody>\n",
       "</table>\n",
       "</div>"
      ],
      "text/plain": [
       "   sample_mean     size\n",
       "0     3.922287  size 10\n",
       "1     3.864329  size 10\n",
       "2     4.069530  size 10\n",
       "3     3.857140  size 10\n",
       "4     4.184654  size 10"
      ]
     },
     "execution_count": 184,
     "metadata": {},
     "output_type": "execute_result"
    }
   ],
   "source": [
    "np.random.seed(1)\n",
    "#样本容量10\n",
    "size_10 = calc_sample_mean(size=10,n_trial=10000)\n",
    "size_10_df = pd.DataFrame({\n",
    "    'sample_mean':size_10,\n",
    "    'size':np.tile('size 10',10000)\n",
    "})\n",
    "#样本容量20\n",
    "size_20 = calc_sample_mean(size=20,n_trial=10000)\n",
    "size_20_df = pd.DataFrame({\n",
    "    'sample_mean':size_20,\n",
    "    'size':np.tile('size 20',10000)\n",
    "})\n",
    "#样本容量30\n",
    "size_30 = calc_sample_mean(size=30,n_trial=10000)\n",
    "size_30_df = pd.DataFrame({\n",
    "    'sample_mean':size_30,\n",
    "    'size':np.tile('size 30',10000)\n",
    "})\n",
    "#拼接表格\n",
    "sim_result=pd.concat([\n",
    "    size_10_df,size_20_df,size_30_df\n",
    "])\n",
    "sim_result.head()"
   ]
  },
  {
   "cell_type": "code",
   "execution_count": 185,
   "id": "26a8fc9d-164c-48fe-a8c0-c3636d7b1cb7",
   "metadata": {},
   "outputs": [
    {
     "data": {
      "text/plain": [
       "<AxesSubplot:xlabel='size', ylabel='sample_mean'>"
      ]
     },
     "execution_count": 185,
     "metadata": {},
     "output_type": "execute_result"
    },
    {
     "data": {
      "image/png": "[encoded data removed]",
      "text/plain": [
       "<Figure size 432x288 with 1 Axes>"
      ]
     },
     "metadata": {
      "needs_background": "light"
     },
     "output_type": "display_data"
    }
   ],
   "source": [
    "sns.violinplot(x='size',y='sample_mean',data=sim_result,color='r')"
   ]
  },
  {
   "cell_type": "markdown",
   "id": "2e4ff4ea-5eb9-44e8-939b-2097f8e4c36d",
   "metadata": {},
   "source": [
    "### 3-5-9 样本均值的标准差小于总体标准差"
   ]
  },
  {
   "cell_type": "code",
   "execution_count": 186,
   "id": "31a771ee-7c33-44a9-abb1-bf3a7b4735f2",
   "metadata": {},
   "outputs": [
    {
     "data": {
      "text/plain": [
       "array([  2,   4,   6,   8,  10,  12,  14,  16,  18,  20,  22,  24,  26,\n",
       "        28,  30,  32,  34,  36,  38,  40,  42,  44,  46,  48,  50,  52,\n",
       "        54,  56,  58,  60,  62,  64,  66,  68,  70,  72,  74,  76,  78,\n",
       "        80,  82,  84,  86,  88,  90,  92,  94,  96,  98, 100])"
      ]
     },
     "execution_count": 186,
     "metadata": {},
     "output_type": "execute_result"
    }
   ],
   "source": [
    "size_array = np.arange(2,102,2)\n",
    "size_array"
   ]
  },
  {
   "cell_type": "code",
   "execution_count": 187,
   "id": "45be3ab9-27fd-4c5f-8e70-b26c642e59e1",
   "metadata": {},
   "outputs": [],
   "source": [
    "sample_mean_std_array = np.zeros(len(size_array))"
   ]
  },
  {
   "cell_type": "code",
   "execution_count": 188,
   "id": "a01ca007-9459-4ef4-9efb-ca0615ef4d19",
   "metadata": {},
   "outputs": [],
   "source": [
    "np.random.seed(1)\n",
    "for i in range(len(size_array)):\n",
    "    sample_mean = calc_sample_mean(size=size_array[i],n_trial=100)\n",
    "    sample_mean_std_array[i] = np.std(sample_mean,ddof=1)"
   ]
  },
  {
   "cell_type": "code",
   "execution_count": 189,
   "id": "43f72f58-667e-4ad9-b54e-23ba05c90240",
   "metadata": {},
   "outputs": [
    {
     "data": {
      "text/plain": [
       "Text(0, 0.5, 'mean_std value')"
      ]
     },
     "execution_count": 189,
     "metadata": {},
     "output_type": "execute_result"
    },
    {
     "data": {
      "image/png": "[encoded data removed]",
      "text/plain": [
       "<Figure size 432x288 with 1 Axes>"
      ]
     },
     "metadata": {
      "needs_background": "light"
     },
     "output_type": "display_data"
    }
   ],
   "source": [
    "plt.plot(size_array,sample_mean_std_array)\n",
    "plt.xlabel('sample size')\n",
    "plt.ylabel('mean_std value')"
   ]
  },
  {
   "cell_type": "markdown",
   "id": "8b0c4732-0ef9-480a-ab8c-219f8e7df3f6",
   "metadata": {},
   "source": [
    "### 3-5-10 标准误差"
   ]
  },
  {
   "cell_type": "code",
   "execution_count": 193,
   "id": "59211aa1-c0a3-46fb-bc12-f77379b965cb",
   "metadata": {},
   "outputs": [
    {
     "data": {
      "text/plain": [
       "array([0.566, 0.4  , 0.327, 0.283, 0.253, 0.231, 0.214, 0.2  , 0.189,\n",
       "       0.179, 0.171, 0.163, 0.157, 0.151, 0.146, 0.141, 0.137, 0.133,\n",
       "       0.13 , 0.126, 0.123, 0.121, 0.118, 0.115, 0.113, 0.111, 0.109,\n",
       "       0.107, 0.105, 0.103, 0.102, 0.1  , 0.098, 0.097, 0.096, 0.094,\n",
       "       0.093, 0.092, 0.091, 0.089, 0.088, 0.087, 0.086, 0.085, 0.084,\n",
       "       0.083, 0.083, 0.082, 0.081, 0.08 ])"
      ]
     },
     "execution_count": 193,
     "metadata": {},
     "output_type": "execute_result"
    }
   ],
   "source": [
    "standard_error = 0.8 / np.sqrt(size_array)\n",
    "standard_error"
   ]
  },
  {
   "cell_type": "code",
   "execution_count": 195,
   "id": "35ea118c-0ddc-48c7-8602-7313f7f5c535",
   "metadata": {},
   "outputs": [
    {
     "data": {
      "text/plain": [
       "Text(0, 0.5, 'mean_std value')"
      ]
     },
     "execution_count": 195,
     "metadata": {},
     "output_type": "execute_result"
    },
    {
     "data": {
      "image/png": "[encoded data removed]",
      "text/plain": [
       "<Figure size 432x288 with 1 Axes>"
      ]
     },
     "metadata": {
      "needs_background": "light"
     },
     "output_type": "display_data"
    }
   ],
   "source": [
    "plt.plot(size_array,sample_mean_std_array)\n",
    "plt.plot(size_array,standard_error,ls='--')\n",
    "plt.xlabel('sample size')\n",
    "plt.ylabel('mean_std value')"
   ]
  },
  {
   "cell_type": "code",
   "execution_count": 196,
   "id": "7de5f393-4177-4c49-aa95-0ebfaddb30f1",
   "metadata": {},
   "outputs": [],
   "source": [
    "sample_var_array = np.zeros(10000)\n",
    "np.random.seed(1)\n",
    "for i in range(10000):\n",
    "    sample = population.rvs(size=10)\n",
    "    sample_var_array[i] = np.var(sample,ddof=0)"
   ]
  },
  {
   "cell_type": "code",
   "execution_count": 197,
   "id": "11149dfb-74c6-403d-b1e5-b6e7f8102754",
   "metadata": {},
   "outputs": [
    {
     "data": {
      "text/plain": [
       "0.5746886877332101"
      ]
     },
     "execution_count": 197,
     "metadata": {},
     "output_type": "execute_result"
    }
   ],
   "source": [
    "np.mean(sample_var_array)"
   ]
  },
  {
   "cell_type": "markdown",
   "id": "f943d997-a594-4cb6-a221-f44f4f0b3bd7",
   "metadata": {},
   "source": [
    "### 3-5-13 采用无偏方差消除偏离"
   ]
  },
  {
   "cell_type": "code",
   "execution_count": 198,
   "id": "575b6e90-6661-4992-914a-5c5d61e18af1",
   "metadata": {},
   "outputs": [
    {
     "data": {
      "text/plain": [
       "0.6385429863702334"
      ]
     },
     "execution_count": 198,
     "metadata": {},
     "output_type": "execute_result"
    }
   ],
   "source": [
    "unbias_var_array = np.zeros(10000)\n",
    "np.random.seed(1)\n",
    "for i in range(10000):\n",
    "    sample = population.rvs(size=10)\n",
    "    unbias_var_array[i] = np.var(sample,ddof=1)\n",
    "np.mean(unbias_var_array)"
   ]
  },
  {
   "cell_type": "markdown",
   "id": "7ee0b895-4b63-466c-8d46-eabbae2f5607",
   "metadata": {},
   "source": [
    "### 3-5-14 样本容量越大，其无偏方差越接近总体方差"
   ]
  },
  {
   "cell_type": "code",
   "execution_count": 199,
   "id": "3b9755ac-d773-4391-b7f0-619d4f8e5356",
   "metadata": {},
   "outputs": [
    {
     "data": {
      "text/plain": [
       "array([    10,    110,    210, ...,  99810,  99910, 100010])"
      ]
     },
     "execution_count": 199,
     "metadata": {},
     "output_type": "execute_result"
    }
   ],
   "source": [
    "size_array = np.arange(10,100100,100)\n",
    "size_array"
   ]
  },
  {
   "cell_type": "code",
   "execution_count": 200,
   "id": "8cea0beb-ad36-4a52-9215-2709398f8b48",
   "metadata": {},
   "outputs": [],
   "source": [
    "unbias_var_array_size = np.zeros(len(size_array))"
   ]
  },
  {
   "cell_type": "code",
   "execution_count": 202,
   "id": "1cdb1f60-9519-4d68-8922-ab6e069ca6d0",
   "metadata": {},
   "outputs": [],
   "source": [
    "np.random.seed(1)\n",
    "for i in range(len(size_array)):\n",
    "    sample = population.rvs(size=size_array[i])\n",
    "    unbias_var_array_size[i] = np.var(sample,ddof=1)"
   ]
  },
  {
   "cell_type": "code",
   "execution_count": 203,
   "id": "aceca7e9-7c70-4f5f-9147-6bc96af6bd90",
   "metadata": {},
   "outputs": [
    {
     "data": {
      "text/plain": [
       "Text(0, 0.5, 'unbias var')"
      ]
     },
     "execution_count": 203,
     "metadata": {},
     "output_type": "execute_result"
    },
    {
     "data": {
      "image/png": "[encoded data removed]",
      "text/plain": [
       "<Figure size 432x288 with 1 Axes>"
      ]
     },
     "metadata": {
      "needs_background": "light"
     },
     "output_type": "display_data"
    }
   ],
   "source": [
    "plt.plot(size_array,unbias_var_array_size,color='r')\n",
    "plt.xlabel('sample size')\n",
    "plt.ylabel('unbias var')"
   ]
  },
  {
   "cell_type": "markdown",
   "id": "7fc90189-1e02-441a-af80-49f751a02478",
   "metadata": {},
   "source": [
    "### 3-5-19 中心极限定理"
   ]
  },
  {
   "cell_type": "code",
   "execution_count": 205,
   "id": "91f3dca8-7e72-4bc8-bb9f-11db40b496c4",
   "metadata": {},
   "outputs": [
    {
     "data": {
      "text/plain": [
       "<seaborn.axisgrid.FacetGrid at 0x7fd90e0cf070>"
      ]
     },
     "execution_count": 205,
     "metadata": {},
     "output_type": "execute_result"
    },
    {
     "data": {
      "image/png": "[encoded data removed]",
      "text/plain": [
       "<Figure size 360x360 with 1 Axes>"
      ]
     },
     "metadata": {
      "needs_background": "light"
     },
     "output_type": "display_data"
    }
   ],
   "source": [
    "#样本容量和试验次数\n",
    "n_size = 10000\n",
    "n_trail = 50000\n",
    "#正面为1，背面为0\n",
    "coin = np.array([0,1])\n",
    "#出现正面的次数\n",
    "count_coin = np.zeros(n_trail)\n",
    "#投掷n_size次硬币，此实验进行n_trail次\n",
    "np.random.seed(1)\n",
    "for i in range(n_trail):\n",
    "    count_coin[i] = np.sum(np.random.choice(coin,size=n_size,replace=True))\n",
    "#绘制zhifangtu\n",
    "sns.displot(count_coin,)"
   ]
  },
  {
   "cell_type": "markdown",
   "id": "25baafd8-9d03-4843-8258-e9c44b9a4160",
   "metadata": {},
   "source": [
    "## 3-6 正态分布及其应用"
   ]
  },
  {
   "cell_type": "code",
   "execution_count": 206,
   "id": "17f27dd8-cbea-4f59-ba31-1d964fa593dc",
   "metadata": {},
   "outputs": [
    {
     "name": "stdin",
     "output_type": "stream",
     "text": [
      "Once deleted, variables cannot be recovered. Proceed (y/[n])?  y\n"
     ]
    }
   ],
   "source": [
    "%reset"
   ]
  },
  {
   "cell_type": "code",
   "execution_count": 207,
   "id": "624b2275-d14c-41a1-bcf3-fb1c272f056c",
   "metadata": {},
   "outputs": [],
   "source": [
    "# 用于数值计算的库\n",
    "import numpy as np\n",
    "import pandas as pd\n",
    "import scipy as sp\n",
    "from scipy import stats\n",
    "# 用于绘图的库\n",
    "from matplotlib import pyplot as plt\n",
    "import seaborn as sns\n",
    "sns.set()\n",
    "# 设置浮点数打印精度\n",
    "%precision 3\n",
    "# 在Jupyter Notebook 里显示图形\n",
    "%matplotlib inline"
   ]
  },
  {
   "cell_type": "markdown",
   "id": "207810ee-3c2d-4b6a-8fef-3dcf06357da0",
   "metadata": {},
   "source": [
    "### 3-6-2 概率密度"
   ]
  },
  {
   "cell_type": "code",
   "execution_count": 208,
   "id": "953e046a-52a4-4be5-ad80-2d61102aef19",
   "metadata": {},
   "outputs": [
    {
     "data": {
      "text/plain": [
       "3.142"
      ]
     },
     "execution_count": 208,
     "metadata": {},
     "output_type": "execute_result"
    }
   ],
   "source": [
    "np.pi"
   ]
  },
  {
   "cell_type": "code",
   "execution_count": 209,
   "id": "bdb87d38-cd1a-4d08-8c33-84c39568bfb3",
   "metadata": {},
   "outputs": [
    {
     "data": {
      "text/plain": [
       "2.718281828459045"
      ]
     },
     "execution_count": 209,
     "metadata": {},
     "output_type": "execute_result"
    }
   ],
   "source": [
    "np.exp(1)"
   ]
  },
  {
   "cell_type": "code",
   "execution_count": 210,
   "id": "be31a383-13c6-493c-9587-98679943f40b",
   "metadata": {},
   "outputs": [
    {
     "data": {
      "text/plain": [
       "1.0"
      ]
     },
     "execution_count": 210,
     "metadata": {},
     "output_type": "execute_result"
    }
   ],
   "source": [
    "np.exp(0)"
   ]
  },
  {
   "cell_type": "code",
   "execution_count": 211,
   "id": "c5c581df-e079-4737-a513-77857f295e53",
   "metadata": {},
   "outputs": [
    {
     "data": {
      "text/plain": [
       "0.2283113567362774"
      ]
     },
     "execution_count": 211,
     "metadata": {},
     "output_type": "execute_result"
    }
   ],
   "source": [
    "stats.norm.pdf(loc=4,scale=.8,x=3)"
   ]
  },
  {
   "cell_type": "code",
   "execution_count": 216,
   "id": "9831d0c3-f5e2-4e78-954a-8334047f72b8",
   "metadata": {},
   "outputs": [
    {
     "data": {
      "text/plain": [
       "[<matplotlib.lines.Line2D at 0x7fd90ecef310>]"
      ]
     },
     "execution_count": 216,
     "metadata": {},
     "output_type": "execute_result"
    },
    {
     "data": {
      "image/png": "[encoded data removed]",
      "text/plain": [
       "<Figure size 432x288 with 1 Axes>"
      ]
     },
     "metadata": {
      "needs_background": "light"
     },
     "output_type": "display_data"
    }
   ],
   "source": [
    "x_plot = np.arange(1,7,0.1)\n",
    "plt.plot(x_plot,stats.norm.pdf(x=x_plot,loc=4,scale=.8,))"
   ]
  },
  {
   "cell_type": "markdown",
   "id": "af262aef-fa59-49bb-ba4b-d883a87f9b72",
   "metadata": {},
   "source": [
    "### 3-6-3 样本小于等于某值的比例"
   ]
  },
  {
   "cell_type": "code",
   "execution_count": 217,
   "id": "aba39380-7341-4a5c-a37f-6ea86d471f12",
   "metadata": {},
   "outputs": [
    {
     "data": {
      "text/plain": [
       "array([5.299, 3.511, 3.577, ..., 4.065, 4.275, 3.402])"
      ]
     },
     "execution_count": 217,
     "metadata": {},
     "output_type": "execute_result"
    }
   ],
   "source": [
    "np.random.seed(1)\n",
    "simulated_sample = stats.norm.rvs(\n",
    "    loc=4,scale=.8,size=100000\n",
    ")\n",
    "simulated_sample"
   ]
  },
  {
   "cell_type": "code",
   "execution_count": 218,
   "id": "22842a6b-21c3-46ca-9eb6-943f84741365",
   "metadata": {},
   "outputs": [
    {
     "data": {
      "text/plain": [
       "0.10371"
      ]
     },
     "execution_count": 218,
     "metadata": {},
     "output_type": "execute_result"
    }
   ],
   "source": [
    "np.sum(simulated_sample <= 3) / len(simulated_sample)"
   ]
  },
  {
   "cell_type": "markdown",
   "id": "ff144110-f0c1-44ad-84dc-66c826cf51e8",
   "metadata": {},
   "source": [
    "### 3-6-5 帕累托分布函数"
   ]
  },
  {
   "cell_type": "code",
   "execution_count": 219,
   "id": "144a9b96-16bd-43f2-98ec-a459cf72125d",
   "metadata": {},
   "outputs": [
    {
     "data": {
      "text/plain": [
       "0.10564977366685535"
      ]
     },
     "execution_count": 219,
     "metadata": {},
     "output_type": "execute_result"
    }
   ],
   "source": [
    "stats.norm.cdf(loc=4,scale=.8,x=3)"
   ]
  },
  {
   "cell_type": "code",
   "execution_count": 220,
   "id": "e100361f-7880-45ba-8707-7cd29a584075",
   "metadata": {},
   "outputs": [
    {
     "data": {
      "text/plain": [
       "0.5"
      ]
     },
     "execution_count": 220,
     "metadata": {},
     "output_type": "execute_result"
    }
   ],
   "source": [
    "stats.norm.cdf(loc=4,scale=.8,x=4)"
   ]
  },
  {
   "cell_type": "markdown",
   "id": "4154a7a7-1ef3-4e60-b4eb-05a4f7c4a8bd",
   "metadata": {},
   "source": [
    "### 3-6-7 百分位数"
   ]
  },
  {
   "cell_type": "code",
   "execution_count": 221,
   "id": "ff55fea8-4787-44ed-9e46-1807bcc2bfb7",
   "metadata": {},
   "outputs": [
    {
     "data": {
      "text/plain": [
       "2.4320288123679563"
      ]
     },
     "execution_count": 221,
     "metadata": {},
     "output_type": "execute_result"
    }
   ],
   "source": [
    "stats.norm.ppf(loc=4,scale=.8,q=0.025)"
   ]
  },
  {
   "cell_type": "code",
   "execution_count": 222,
   "id": "97cd119e-2289-4042-a4fc-025e56f57fc2",
   "metadata": {},
   "outputs": [
    {
     "data": {
      "text/plain": [
       "3.0000000000000004"
      ]
     },
     "execution_count": 222,
     "metadata": {},
     "output_type": "execute_result"
    }
   ],
   "source": [
    "left = stats.norm.cdf(loc=4,scale=.8,x=3)\n",
    "stats.norm.ppf(loc=4,scale=0.8,q=left)"
   ]
  },
  {
   "cell_type": "code",
   "execution_count": 223,
   "id": "e7c42c69-c917-4468-9943-a4e69fda8b7e",
   "metadata": {},
   "outputs": [
    {
     "data": {
      "text/plain": [
       "4.0"
      ]
     },
     "execution_count": 223,
     "metadata": {},
     "output_type": "execute_result"
    }
   ],
   "source": [
    "#左侧概率为50%的百分位数就是均值\n",
    "stats.norm.ppf(loc=4,scale=.8,q=.5)"
   ]
  },
  {
   "cell_type": "markdown",
   "id": "e3f84fd0-f8cc-4570-a4bc-a2b733d176f4",
   "metadata": {},
   "source": [
    "### 3-6-8 标准正态分布"
   ]
  },
  {
   "cell_type": "markdown",
   "id": "cfd4f9fa-1346-412c-aba6-3b9140b6bb48",
   "metadata": {},
   "source": [
    "### 3-6-10 t值的样本分布"
   ]
  },
  {
   "cell_type": "code",
   "execution_count": 225,
   "id": "590391b4-f80d-4134-9a14-c7e539d84abc",
   "metadata": {},
   "outputs": [],
   "source": [
    "#随机种子\n",
    "np.random.seed(1)\n",
    "#存放t值的空间\n",
    "t_value_array = np.zeros(10000)\n",
    "#实例化一个正态分布\n",
    "norm_dist = stats.norm(loc=4,scale=.8)\n",
    "#开始模拟\n",
    "for i in range(10000):\n",
    "    sample = norm_dist.rvs(size=10)\n",
    "    sample_mean = np.mean(sample)\n",
    "    sample_std = np.std(sample,ddof=1)\n",
    "    sample_se = sample_std / np.sqrt(len(sample))\n",
    "    t_value_array[i] = (sample_mean - 4) / sample_se"
   ]
  },
  {
   "cell_type": "code",
   "execution_count": 226,
   "id": "44b4428b-3410-428e-ae73-26044c19f372",
   "metadata": {},
   "outputs": [
    {
     "data": {
      "text/plain": [
       "[<matplotlib.lines.Line2D at 0x7fd91979e5b0>]"
      ]
     },
     "execution_count": 226,
     "metadata": {},
     "output_type": "execute_result"
    },
    {
     "data": {
      "image/png": "[encoded data removed]",
      "text/plain": [
       "<Figure size 360x360 with 1 Axes>"
      ]
     },
     "metadata": {
      "needs_background": "light"
     },
     "output_type": "display_data"
    }
   ],
   "source": [
    "#t值的直方图\n",
    "sns.displot(t_value_array,color='r')\n",
    "#标准正态分布的概率密度\n",
    "x = np.arange(-8,8,0.1)\n",
    "plt.plot(x,stats.norm.pdf(x=x),'b--')"
   ]
  },
  {
   "cell_type": "markdown",
   "id": "1b453a5b-4597-4e4d-ae56-1523666c16f1",
   "metadata": {},
   "source": [
    "### 3-6-12 t分布"
   ]
  },
  {
   "cell_type": "code",
   "execution_count": 229,
   "id": "602d5f35-782e-4e41-afc2-3df2ca130472",
   "metadata": {},
   "outputs": [
    {
     "data": {
      "text/plain": [
       "[<matplotlib.lines.Line2D at 0x7fd8e94f74c0>]"
      ]
     },
     "execution_count": 229,
     "metadata": {},
     "output_type": "execute_result"
    },
    {
     "data": {
      "image/png": "[encoded data removed]",
      "text/plain": [
       "<Figure size 432x288 with 1 Axes>"
      ]
     },
     "metadata": {
      "needs_background": "light"
     },
     "output_type": "display_data"
    }
   ],
   "source": [
    "plt.plot(x,stats.norm.pdf(x=x),'b--')\n",
    "plt.plot(x,stats.t.pdf(x=x,df=9))"
   ]
  },
  {
   "cell_type": "code",
   "execution_count": 232,
   "id": "eb54e253-0e23-4a76-8855-07a7e7599428",
   "metadata": {},
   "outputs": [
    {
     "data": {
      "text/plain": [
       "[<matplotlib.lines.Line2D at 0x7fd8f8d2c130>]"
      ]
     },
     "execution_count": 232,
     "metadata": {},
     "output_type": "execute_result"
    },
    {
     "data": {
      "image/png": "[encoded data removed]",
      "text/plain": [
       "<Figure size 360x360 with 1 Axes>"
      ]
     },
     "metadata": {
      "needs_background": "light"
     },
     "output_type": "display_data"
    }
   ],
   "source": [
    "sns.displot(t_value_array)\n",
    "plt.plot(x,stats.t.pdf(x=x,df=9))"
   ]
  },
  {
   "cell_type": "markdown",
   "id": "7d8980bd-5a20-429c-8265-1fce5d172e64",
   "metadata": {},
   "source": [
    "t 分布的意义就是在总体方差未知时也可以研究样本均值的分布。"
   ]
  },
  {
   "cell_type": "markdown",
   "id": "45cc5a7d-f7f2-4674-a2f5-644668ae7e69",
   "metadata": {},
   "source": [
    "## 3-7 参数估计"
   ]
  },
  {
   "cell_type": "code",
   "execution_count": 233,
   "id": "9e088e3d-b114-4813-ae0c-e2fd117d3da6",
   "metadata": {},
   "outputs": [
    {
     "name": "stdin",
     "output_type": "stream",
     "text": [
      "Once deleted, variables cannot be recovered. Proceed (y/[n])?  y\n"
     ]
    }
   ],
   "source": [
    "%reset"
   ]
  },
  {
   "cell_type": "code",
   "execution_count": 234,
   "id": "34bcc349-6367-4bb4-959f-b5ab2d4478b8",
   "metadata": {},
   "outputs": [],
   "source": [
    "# 用于数值计算的库\n",
    "import numpy as np\n",
    "import pandas as pd\n",
    "import scipy as sp\n",
    "from scipy import stats\n",
    "# 用于绘图的库\n",
    "from matplotlib import pyplot as plt\n",
    "import seaborn as sns\n",
    "sns.set()\n",
    "# 设置浮点数打印精度\n",
    "%precision 3\n",
    "# 在Jupyter Notebook 里显示图形\n",
    "%matplotlib inline"
   ]
  },
  {
   "cell_type": "code",
   "execution_count": 235,
   "id": "a0a066d4-0d73-433e-a8ce-8670af8decba",
   "metadata": {},
   "outputs": [
    {
     "data": {
      "text/plain": [
       "0    4.352982\n",
       "1    3.735304\n",
       "2    5.944617\n",
       "3    3.798326\n",
       "4    4.087688\n",
       "5    5.265985\n",
       "6    3.272614\n",
       "7    3.526691\n",
       "8    4.150083\n",
       "9    3.736104\n",
       "Name: length, dtype: float64"
      ]
     },
     "execution_count": 235,
     "metadata": {},
     "output_type": "execute_result"
    }
   ],
   "source": [
    "fish = pd.read_csv('/Users/meininghang/Downloads/【源码】用Python动手学统计学/3-7-1-fish_length.csv')['length']\n",
    "fish"
   ]
  },
  {
   "cell_type": "markdown",
   "id": "1d7447f7-25f1-4a6a-a3d8-fc198a7f62fc",
   "metadata": {},
   "source": [
    "### 3-7-4 点估计"
   ]
  },
  {
   "cell_type": "code",
   "execution_count": 236,
   "id": "05c7a583-67bc-4375-b0d3-cb0a847d06e6",
   "metadata": {},
   "outputs": [],
   "source": [
    "mu = np.mean(fish)"
   ]
  },
  {
   "cell_type": "code",
   "execution_count": 237,
   "id": "44c65586-9423-461f-a327-c1ad0bc9964c",
   "metadata": {},
   "outputs": [
    {
     "data": {
      "text/plain": [
       "4.187"
      ]
     },
     "execution_count": 237,
     "metadata": {},
     "output_type": "execute_result"
    }
   ],
   "source": [
    "mu"
   ]
  },
  {
   "cell_type": "code",
   "execution_count": 238,
   "id": "618ec263-9572-4461-af47-2d215ee60fc0",
   "metadata": {},
   "outputs": [
    {
     "data": {
      "text/plain": [
       "0.680"
      ]
     },
     "execution_count": 238,
     "metadata": {},
     "output_type": "execute_result"
    }
   ],
   "source": [
    "sigma_2 = np.var(fish,ddof=1)\n",
    "sigma_2"
   ]
  },
  {
   "cell_type": "markdown",
   "id": "01a05126-05a1-409c-b7e6-c5833b1817c4",
   "metadata": {},
   "source": [
    "### 3-7-9 区间估计"
   ]
  },
  {
   "cell_type": "code",
   "execution_count": 239,
   "id": "f94d1fe2-4ed9-495e-b2dc-38750f969bbe",
   "metadata": {},
   "outputs": [
    {
     "data": {
      "text/plain": [
       "9"
      ]
     },
     "execution_count": 239,
     "metadata": {},
     "output_type": "execute_result"
    }
   ],
   "source": [
    "df = len(fish) - 1\n",
    "df"
   ]
  },
  {
   "cell_type": "code",
   "execution_count": 240,
   "id": "860bb000-3f3b-4ab1-ba4e-1da4eceb8d49",
   "metadata": {},
   "outputs": [
    {
     "data": {
      "text/plain": [
       "0.2608259396768776"
      ]
     },
     "execution_count": 240,
     "metadata": {},
     "output_type": "execute_result"
    }
   ],
   "source": [
    "sigma = np.std(fish,ddof=1)\n",
    "se = sigma / np.sqrt(len(fish))\n",
    "se"
   ]
  },
  {
   "cell_type": "code",
   "execution_count": 241,
   "id": "69b266c9-b1af-4b05-b918-5457baada54a",
   "metadata": {},
   "outputs": [
    {
     "data": {
      "text/plain": [
       "(3.597010056835825, 4.777068592173221)"
      ]
     },
     "execution_count": 241,
     "metadata": {},
     "output_type": "execute_result"
    }
   ],
   "source": [
    "interval = stats.t.interval(\n",
    "    alpha=0.95,df=df,loc=mu,scale=se\n",
    ")\n",
    "interval"
   ]
  },
  {
   "cell_type": "code",
   "execution_count": 244,
   "id": "2e2255e3-1d0e-4946-b05d-898c6deae27c",
   "metadata": {},
   "outputs": [
    {
     "data": {
      "text/plain": [
       "array([3.597, 4.777])"
      ]
     },
     "execution_count": 244,
     "metadata": {},
     "output_type": "execute_result"
    }
   ],
   "source": [
    "np.round(interval,3)"
   ]
  },
  {
   "cell_type": "markdown",
   "id": "aaf0659b-7c6a-4a89-bac2-1ca467ed00fe",
   "metadata": {},
   "source": [
    "### 3-7-11 决定置信区间大小的因素"
   ]
  },
  {
   "cell_type": "code",
   "execution_count": 247,
   "id": "fae12b32-4b9f-4276-9755-78eb3a74810d",
   "metadata": {},
   "outputs": [
    {
     "data": {
      "text/plain": [
       "array([-1.713, 10.087])"
      ]
     },
     "execution_count": 247,
     "metadata": {},
     "output_type": "execute_result"
    }
   ],
   "source": [
    "se2 = (sigma*10) / np.sqrt(len(fish))\n",
    "np.around(\n",
    "    stats.t.interval(\n",
    "        alpha=.95, df=df, loc=mu, scale = se2\n",
    "),3)"
   ]
  },
  {
   "cell_type": "code",
   "execution_count": 248,
   "id": "fadbc7e9-9c2c-4bbc-9011-3232d916de8f",
   "metadata": {},
   "outputs": [
    {
     "data": {
      "text/plain": [
       "array([4.023, 4.351])"
      ]
     },
     "execution_count": 248,
     "metadata": {},
     "output_type": "execute_result"
    }
   ],
   "source": [
    "df2 = (len(fish)*10) - 1\n",
    "se3 = sigma / np.sqrt(len(fish)*10)\n",
    "np.around(\n",
    "    stats.t.interval(alpha=.95,df=df2,loc=mu,scale=se3),3\n",
    ")"
   ]
  },
  {
   "cell_type": "code",
   "execution_count": 249,
   "id": "626badeb-9872-4468-b31c-842671168411",
   "metadata": {},
   "outputs": [
    {
     "data": {
      "text/plain": [
       "(3.3393979149413977, 5.034680734067649)"
      ]
     },
     "execution_count": 249,
     "metadata": {},
     "output_type": "execute_result"
    }
   ],
   "source": [
    "stats.t.interval(\n",
    "    alpha=.99,df=df,loc=mu,scale=se\n",
    ")"
   ]
  },
  {
   "cell_type": "markdown",
   "id": "1ed2fa5b-c696-4696-add0-ea370787eb92",
   "metadata": {},
   "source": [
    "### 3-7-12 区间估计结果含义"
   ]
  },
  {
   "cell_type": "code",
   "execution_count": 255,
   "id": "1cb01684-4e0b-4e1c-b034-fee973f948f1",
   "metadata": {},
   "outputs": [
    {
     "data": {
      "text/plain": [
       "array([False, False, False, ..., False, False, False])"
      ]
     },
     "execution_count": 255,
     "metadata": {},
     "output_type": "execute_result"
    }
   ],
   "source": [
    "be_included_array = np.zeros(200000,dtype='bool')\n",
    "be_included_array"
   ]
  },
  {
   "cell_type": "code",
   "execution_count": 256,
   "id": "50cdaa27-7ca6-4883-bedd-013d29aeb8d3",
   "metadata": {},
   "outputs": [],
   "source": [
    "#执行两万次求95%置信区间的操作\n",
    "#如果置信区间包含总体均值（4），就为True\n",
    "np.random.seed(1)\n",
    "norm_dist = stats.norm(loc=4,scale=.8)\n",
    "for i in range(200000):\n",
    "    sample = norm_dist.rvs(size=10)\n",
    "    df = len(be_included_array) - 1\n",
    "    mu = np.mean(sample)\n",
    "    std = np.std(sample,ddof=1)\n",
    "    se = std / np.sqrt(len(sample))\n",
    "    interval = stats.t.interval(.95,df,mu,se)\n",
    "    if(interval[0]<=4 and interval[1]>=4):\n",
    "        be_included_array[i] = True"
   ]
  },
  {
   "cell_type": "code",
   "execution_count": 257,
   "id": "e12e8512-7705-40ff-a57f-67a1add338bf",
   "metadata": {},
   "outputs": [
    {
     "data": {
      "text/plain": [
       "0.91813"
      ]
     },
     "execution_count": 257,
     "metadata": {},
     "output_type": "execute_result"
    }
   ],
   "source": [
    "sum(be_included_array) / len(be_included_array)"
   ]
  },
  {
   "cell_type": "markdown",
   "id": "7392507e-c8bf-4d4f-a1ce-0f9eedeb77aa",
   "metadata": {},
   "source": [
    "## 3-8 假设检验"
   ]
  },
  {
   "cell_type": "code",
   "execution_count": 258,
   "id": "ed4fbff7-58ed-4bcd-a09a-645e71d4944e",
   "metadata": {},
   "outputs": [
    {
     "name": "stdin",
     "output_type": "stream",
     "text": [
      "Once deleted, variables cannot be recovered. Proceed (y/[n])?  y\n"
     ]
    }
   ],
   "source": [
    "%reset"
   ]
  },
  {
   "cell_type": "markdown",
   "id": "0c98135e-e346-4c6c-8d4d-9d8d89ced58d",
   "metadata": {},
   "source": [
    "### 3-8-13 t检验"
   ]
  },
  {
   "cell_type": "code",
   "execution_count": 259,
   "id": "f8a76788-dfcb-4af2-af25-dddf796f5b75",
   "metadata": {},
   "outputs": [],
   "source": [
    "# 用于数值计算的库\n",
    "import numpy as np\n",
    "import pandas as pd\n",
    "import scipy as sp\n",
    "from scipy import stats\n",
    "# 用于绘图的库\n",
    "from matplotlib import pyplot as plt\n",
    "import seaborn as sns\n",
    "sns.set()\n",
    "# 设置浮点数打印精度\n",
    "%precision 3\n",
    "# 在Jupyter Notebook 里显示图形\n",
    "%matplotlib inline"
   ]
  },
  {
   "cell_type": "code",
   "execution_count": 260,
   "id": "1f66249d-113d-42b5-a350-6a07d60951ed",
   "metadata": {},
   "outputs": [
    {
     "data": {
      "text/plain": [
       "0    58.529820\n",
       "1    52.353039\n",
       "2    74.446169\n",
       "3    52.983263\n",
       "4    55.876879\n",
       "Name: weight, dtype: float64"
      ]
     },
     "execution_count": 260,
     "metadata": {},
     "output_type": "execute_result"
    }
   ],
   "source": [
    "junk_food = pd.read_csv('/Users/meininghang/Downloads/【源码】用Python动手学统计学/3-8-1-junk-food-weight.csv')['weight']\n",
    "junk_food.head()"
   ]
  },
  {
   "cell_type": "markdown",
   "id": "cf071999-725f-49fc-b265-753eb0f6a6ad",
   "metadata": {},
   "source": [
    "### 3-8-14 计算t值"
   ]
  },
  {
   "cell_type": "code",
   "execution_count": 261,
   "id": "31bfb159-4b32-4463-9f8f-731a25393d9b",
   "metadata": {},
   "outputs": [
    {
     "data": {
      "text/plain": [
       "55.385"
      ]
     },
     "execution_count": 261,
     "metadata": {},
     "output_type": "execute_result"
    }
   ],
   "source": [
    "mu = np.mean(junk_food)\n",
    "mu"
   ]
  },
  {
   "cell_type": "code",
   "execution_count": 262,
   "id": "e5cee49a-c425-4df1-ad41-8e28593f250f",
   "metadata": {},
   "outputs": [
    {
     "data": {
      "text/plain": [
       "19"
      ]
     },
     "execution_count": 262,
     "metadata": {},
     "output_type": "execute_result"
    }
   ],
   "source": [
    "df = len(junk_food) - 1\n",
    "df"
   ]
  },
  {
   "cell_type": "code",
   "execution_count": 263,
   "id": "ba2a8416-03f7-4bb3-b21b-62120f5e3097",
   "metadata": {},
   "outputs": [
    {
     "data": {
      "text/plain": [
       "1.9579276805755885"
      ]
     },
     "execution_count": 263,
     "metadata": {},
     "output_type": "execute_result"
    }
   ],
   "source": [
    "sigma = np.std(junk_food,ddof=1)\n",
    "se = sigma / np.sqrt(len(junk_food))\n",
    "se"
   ]
  },
  {
   "cell_type": "code",
   "execution_count": 264,
   "id": "941e1ac8-c939-489c-ac4d-7ad641f9f38e",
   "metadata": {},
   "outputs": [
    {
     "data": {
      "text/plain": [
       "2.7503396831713434"
      ]
     },
     "execution_count": 264,
     "metadata": {},
     "output_type": "execute_result"
    }
   ],
   "source": [
    "t_value = (mu - 50) / se\n",
    "t_value"
   ]
  },
  {
   "cell_type": "markdown",
   "id": "2e609323-ada0-4292-a661-c2d80d90e454",
   "metadata": {},
   "source": [
    "### 3-8-15 计算p值"
   ]
  },
  {
   "cell_type": "code",
   "execution_count": 267,
   "id": "cddb1e55-797d-4757-9435-6151263504dc",
   "metadata": {},
   "outputs": [
    {
     "data": {
      "text/plain": [
       "0.013"
      ]
     },
     "execution_count": 267,
     "metadata": {},
     "output_type": "execute_result"
    }
   ],
   "source": [
    "alpha = stats.t.cdf(t_value,df=df)\n",
    "np.around((1-alpha) * 2, 3)"
   ]
  },
  {
   "cell_type": "code",
   "execution_count": 268,
   "id": "4ed62aea-eb45-4c58-88d6-dc1bde3870cb",
   "metadata": {},
   "outputs": [
    {
     "data": {
      "text/plain": [
       "Ttest_1sampResult(statistic=2.750339683171343, pvalue=0.012725590012524182)"
      ]
     },
     "execution_count": 268,
     "metadata": {},
     "output_type": "execute_result"
    }
   ],
   "source": [
    "stats.ttest_1samp(junk_food,50)"
   ]
  },
  {
   "cell_type": "markdown",
   "id": "dd69023b-d654-4c14-92af-608040e24748",
   "metadata": {},
   "source": [
    "## 3-9 均值差的检验"
   ]
  },
  {
   "cell_type": "markdown",
   "id": "06204b04-ef51-45f6-ba2c-4e8181723367",
   "metadata": {},
   "source": [
    "### 3-9-4 配对样本t检验"
   ]
  },
  {
   "cell_type": "code",
   "execution_count": 269,
   "id": "d14684e0-b10a-4481-a169-5b4873681de4",
   "metadata": {},
   "outputs": [
    {
     "data": {
      "text/html": [
       "<div>\n",
       "<style scoped>\n",
       "    .dataframe tbody tr th:only-of-type {\n",
       "        vertical-align: middle;\n",
       "    }\n",
       "\n",
       "    .dataframe tbody tr th {\n",
       "        vertical-align: top;\n",
       "    }\n",
       "\n",
       "    .dataframe thead th {\n",
       "        text-align: right;\n",
       "    }\n",
       "</style>\n",
       "<table border=\"1\" class=\"dataframe\">\n",
       "  <thead>\n",
       "    <tr style=\"text-align: right;\">\n",
       "      <th></th>\n",
       "      <th>person</th>\n",
       "      <th>medicine</th>\n",
       "      <th>body_temperature</th>\n",
       "    </tr>\n",
       "  </thead>\n",
       "  <tbody>\n",
       "    <tr>\n",
       "      <th>0</th>\n",
       "      <td>A</td>\n",
       "      <td>before</td>\n",
       "      <td>36.2</td>\n",
       "    </tr>\n",
       "    <tr>\n",
       "      <th>1</th>\n",
       "      <td>B</td>\n",
       "      <td>before</td>\n",
       "      <td>36.2</td>\n",
       "    </tr>\n",
       "    <tr>\n",
       "      <th>2</th>\n",
       "      <td>C</td>\n",
       "      <td>before</td>\n",
       "      <td>35.3</td>\n",
       "    </tr>\n",
       "    <tr>\n",
       "      <th>3</th>\n",
       "      <td>D</td>\n",
       "      <td>before</td>\n",
       "      <td>36.1</td>\n",
       "    </tr>\n",
       "    <tr>\n",
       "      <th>4</th>\n",
       "      <td>E</td>\n",
       "      <td>before</td>\n",
       "      <td>36.1</td>\n",
       "    </tr>\n",
       "    <tr>\n",
       "      <th>5</th>\n",
       "      <td>A</td>\n",
       "      <td>after</td>\n",
       "      <td>36.8</td>\n",
       "    </tr>\n",
       "    <tr>\n",
       "      <th>6</th>\n",
       "      <td>B</td>\n",
       "      <td>after</td>\n",
       "      <td>36.1</td>\n",
       "    </tr>\n",
       "    <tr>\n",
       "      <th>7</th>\n",
       "      <td>C</td>\n",
       "      <td>after</td>\n",
       "      <td>36.8</td>\n",
       "    </tr>\n",
       "    <tr>\n",
       "      <th>8</th>\n",
       "      <td>D</td>\n",
       "      <td>after</td>\n",
       "      <td>37.1</td>\n",
       "    </tr>\n",
       "    <tr>\n",
       "      <th>9</th>\n",
       "      <td>E</td>\n",
       "      <td>after</td>\n",
       "      <td>36.9</td>\n",
       "    </tr>\n",
       "  </tbody>\n",
       "</table>\n",
       "</div>"
      ],
      "text/plain": [
       "  person medicine  body_temperature\n",
       "0      A   before              36.2\n",
       "1      B   before              36.2\n",
       "2      C   before              35.3\n",
       "3      D   before              36.1\n",
       "4      E   before              36.1\n",
       "5      A    after              36.8\n",
       "6      B    after              36.1\n",
       "7      C    after              36.8\n",
       "8      D    after              37.1\n",
       "9      E    after              36.9"
      ]
     },
     "execution_count": 269,
     "metadata": {},
     "output_type": "execute_result"
    }
   ],
   "source": [
    "paired_test_data = pd.read_csv('/Users/meininghang/Downloads/【源码】用Python动手学统计学/3-9-1-paired-t-test.csv')\n",
    "paired_test_data"
   ]
  },
  {
   "cell_type": "code",
   "execution_count": 270,
   "id": "4fd259d2-8256-450e-bd59-cf3915c3d6e0",
   "metadata": {},
   "outputs": [
    {
     "data": {
      "text/plain": [
       "array([ 0.6, -0.1,  1.5,  1. ,  0.8])"
      ]
     },
     "execution_count": 270,
     "metadata": {},
     "output_type": "execute_result"
    }
   ],
   "source": [
    "before = np.array(\n",
    "    paired_test_data.query('medicine==\"before\"')['body_temperature']\n",
    ")\n",
    "after = np.array(\n",
    "    paired_test_data.query('medicine==\"after\"')['body_temperature']\n",
    ")\n",
    "diff = after - before\n",
    "diff"
   ]
  },
  {
   "cell_type": "code",
   "execution_count": 271,
   "id": "7145865a-be0b-43d5-8450-a09027807abe",
   "metadata": {},
   "outputs": [
    {
     "data": {
      "text/plain": [
       "Ttest_1sampResult(statistic=2.901693483620596, pvalue=0.044043109730074276)"
      ]
     },
     "execution_count": 271,
     "metadata": {},
     "output_type": "execute_result"
    }
   ],
   "source": [
    "stats.ttest_1samp(diff,0)"
   ]
  },
  {
   "cell_type": "code",
   "execution_count": 272,
   "id": "00f9cdda-f71f-47d9-a3a4-db3b31f5a038",
   "metadata": {},
   "outputs": [
    {
     "data": {
      "text/plain": [
       "Ttest_relResult(statistic=2.901693483620596, pvalue=0.044043109730074276)"
      ]
     },
     "execution_count": 272,
     "metadata": {},
     "output_type": "execute_result"
    }
   ],
   "source": [
    "stats.ttest_rel(after,before)"
   ]
  },
  {
   "cell_type": "markdown",
   "id": "1a4dbb7d-7a5f-4f69-89fa-1c9023af5d34",
   "metadata": {},
   "source": [
    "### 3-9-6 实现独立样本t检验"
   ]
  },
  {
   "cell_type": "code",
   "execution_count": 275,
   "id": "fa152f3c-c0e7-427c-bacb-3438020f07a0",
   "metadata": {},
   "outputs": [
    {
     "data": {
      "text/plain": [
       "Ttest_indResult(statistic=3.1557282344421034, pvalue=0.013484775682079892)"
      ]
     },
     "execution_count": 275,
     "metadata": {},
     "output_type": "execute_result"
    }
   ],
   "source": [
    "stats.ttest_ind(after,before,equal_var=False)"
   ]
  },
  {
   "cell_type": "markdown",
   "id": "0ef903d9-8662-483f-9eb1-53ab6e159b94",
   "metadata": {},
   "source": [
    "## 3-10 卡方检验(X^2检验)"
   ]
  },
  {
   "cell_type": "markdown",
   "id": "5e830813-022f-4d12-b57e-d8a74276e464",
   "metadata": {},
   "source": [
    "### 3-10-6 列联表（卡方检验）"
   ]
  },
  {
   "cell_type": "code",
   "execution_count": 276,
   "id": "3caa365d-4a99-445b-ad66-5067e8fd610d",
   "metadata": {},
   "outputs": [
    {
     "data": {
      "text/html": [
       "<div>\n",
       "<style scoped>\n",
       "    .dataframe tbody tr th:only-of-type {\n",
       "        vertical-align: middle;\n",
       "    }\n",
       "\n",
       "    .dataframe tbody tr th {\n",
       "        vertical-align: top;\n",
       "    }\n",
       "\n",
       "    .dataframe thead th {\n",
       "        text-align: right;\n",
       "    }\n",
       "</style>\n",
       "<table border=\"1\" class=\"dataframe\">\n",
       "  <thead>\n",
       "    <tr style=\"text-align: right;\">\n",
       "      <th></th>\n",
       "      <th>color</th>\n",
       "      <th>click</th>\n",
       "      <th>freq</th>\n",
       "    </tr>\n",
       "  </thead>\n",
       "  <tbody>\n",
       "    <tr>\n",
       "      <th>0</th>\n",
       "      <td>blue</td>\n",
       "      <td>click</td>\n",
       "      <td>20</td>\n",
       "    </tr>\n",
       "    <tr>\n",
       "      <th>1</th>\n",
       "      <td>blue</td>\n",
       "      <td>not</td>\n",
       "      <td>230</td>\n",
       "    </tr>\n",
       "    <tr>\n",
       "      <th>2</th>\n",
       "      <td>red</td>\n",
       "      <td>click</td>\n",
       "      <td>10</td>\n",
       "    </tr>\n",
       "    <tr>\n",
       "      <th>3</th>\n",
       "      <td>red</td>\n",
       "      <td>not</td>\n",
       "      <td>40</td>\n",
       "    </tr>\n",
       "  </tbody>\n",
       "</table>\n",
       "</div>"
      ],
      "text/plain": [
       "  color  click  freq\n",
       "0  blue  click    20\n",
       "1  blue    not   230\n",
       "2   red  click    10\n",
       "3   red    not    40"
      ]
     },
     "execution_count": 276,
     "metadata": {},
     "output_type": "execute_result"
    }
   ],
   "source": [
    "click_data = pd.read_csv('/Users/meininghang/Downloads/【源码】用Python动手学统计学/3-10-1-click_data.csv')\n",
    "click_data"
   ]
  },
  {
   "cell_type": "code",
   "execution_count": 278,
   "id": "65776086-8cde-451c-a230-e71c1be467b3",
   "metadata": {},
   "outputs": [
    {
     "data": {
      "text/html": [
       "<div>\n",
       "<style scoped>\n",
       "    .dataframe tbody tr th:only-of-type {\n",
       "        vertical-align: middle;\n",
       "    }\n",
       "\n",
       "    .dataframe tbody tr th {\n",
       "        vertical-align: top;\n",
       "    }\n",
       "\n",
       "    .dataframe thead th {\n",
       "        text-align: right;\n",
       "    }\n",
       "</style>\n",
       "<table border=\"1\" class=\"dataframe\">\n",
       "  <thead>\n",
       "    <tr style=\"text-align: right;\">\n",
       "      <th>click</th>\n",
       "      <th>click</th>\n",
       "      <th>not</th>\n",
       "    </tr>\n",
       "    <tr>\n",
       "      <th>color</th>\n",
       "      <th></th>\n",
       "      <th></th>\n",
       "    </tr>\n",
       "  </thead>\n",
       "  <tbody>\n",
       "    <tr>\n",
       "      <th>blue</th>\n",
       "      <td>20</td>\n",
       "      <td>230</td>\n",
       "    </tr>\n",
       "    <tr>\n",
       "      <th>red</th>\n",
       "      <td>10</td>\n",
       "      <td>40</td>\n",
       "    </tr>\n",
       "  </tbody>\n",
       "</table>\n",
       "</div>"
      ],
      "text/plain": [
       "click  click  not\n",
       "color            \n",
       "blue      20  230\n",
       "red       10   40"
      ]
     },
     "execution_count": 278,
     "metadata": {},
     "output_type": "execute_result"
    }
   ],
   "source": [
    "cross = pd.pivot_table(\n",
    "    data = click_data,\n",
    "    values = 'freq',\n",
    "    aggfunc = 'sum',\n",
    "    index = 'color',\n",
    "    columns = 'click',\n",
    ")\n",
    "cross"
   ]
  },
  {
   "cell_type": "code",
   "execution_count": 279,
   "id": "59547045-f5ef-4309-b691-1e396494c04d",
   "metadata": {},
   "outputs": [
    {
     "data": {
      "text/plain": [
       "(6.666666666666666,\n",
       " 0.009823274507519247,\n",
       " 1,\n",
       " array([[ 25., 225.],\n",
       "        [  5.,  45.]]))"
      ]
     },
     "execution_count": 279,
     "metadata": {},
     "output_type": "execute_result"
    }
   ],
   "source": [
    "sp.stats.chi2_contingency(cross,correction=False)"
   ]
  },
  {
   "cell_type": "code",
   "execution_count": null,
   "id": "bf48cdc5-e974-462a-98ef-d86f67c8ec9a",
   "metadata": {},
   "outputs": [],
   "source": []
  }
 ],
 "metadata": {
  "kernelspec": {
   "display_name": "Python 3",
   "language": "python",
   "name": "python3"
  },
  "language_info": {
   "codemirror_mode": {
    "name": "ipython",
    "version": 3
   },
   "file_extension": ".py",
   "mimetype": "text/x-python",
   "name": "python",
   "nbconvert_exporter": "python",
   "pygments_lexer": "ipython3",
   "version": "3.8.2"
  }
 },
 "nbformat": 4,
 "nbformat_minor": 5
}
