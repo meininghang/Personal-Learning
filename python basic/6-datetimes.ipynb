{
 "cells": [
  {
   "cell_type": "markdown",
   "metadata": {},
   "source": [
    "# input_date"
   ]
  },
  {
   "cell_type": "code",
   "execution_count": 8,
   "metadata": {},
   "outputs": [],
   "source": [
    "from datetime import datetime,timedelta"
   ]
  },
  {
   "cell_type": "code",
   "execution_count": 2,
   "metadata": {},
   "outputs": [],
   "source": [
    "birthday = input('When is your birthday (dd/mm/yyyy)?')"
   ]
  },
  {
   "cell_type": "code",
   "execution_count": 3,
   "metadata": {},
   "outputs": [],
   "source": [
    "birthday_date = datetime.strptime(birthday, '%d/%m/%Y')"
   ]
  },
  {
   "cell_type": "code",
   "execution_count": 11,
   "metadata": {},
   "outputs": [
    {
     "name": "stdout",
     "output_type": "stream",
     "text": [
      "Birthday: 2033-02-28 00:00:00\n"
     ]
    }
   ],
   "source": [
    "print('Birthday: ' + str(birthday_date))"
   ]
  },
  {
   "cell_type": "code",
   "execution_count": 12,
   "metadata": {},
   "outputs": [
    {
     "name": "stdout",
     "output_type": "stream",
     "text": [
      "Day before birthday: 2033-02-27 00:00:00\n"
     ]
    }
   ],
   "source": [
    "one_day = timedelta(days=1)\n",
    "birthday_eve = birthday_date - one_day\n",
    "print('Day before birthday: ' + str(birthday_eve))"
   ]
  },
  {
   "cell_type": "markdown",
   "metadata": {},
   "source": [
    "## get_current_date"
   ]
  },
  {
   "cell_type": "code",
   "execution_count": 13,
   "metadata": {},
   "outputs": [],
   "source": [
    "current_date = datetime.now()"
   ]
  },
  {
   "cell_type": "code",
   "execution_count": 14,
   "metadata": {},
   "outputs": [
    {
     "name": "stdout",
     "output_type": "stream",
     "text": [
      "Today is: 2019-12-27 15:08:48.098403\n"
     ]
    }
   ],
   "source": [
    "print(\"Today is: \" + str(current_date))"
   ]
  },
  {
   "cell_type": "markdown",
   "metadata": {},
   "source": [
    "## format_date"
   ]
  },
  {
   "cell_type": "code",
   "execution_count": 15,
   "metadata": {},
   "outputs": [],
   "source": [
    "today = datetime.now()"
   ]
  },
  {
   "cell_type": "code",
   "execution_count": 16,
   "metadata": {},
   "outputs": [
    {
     "name": "stdout",
     "output_type": "stream",
     "text": [
      "Day: 27\n"
     ]
    }
   ],
   "source": [
    "print('Day: ' + str(today.day))"
   ]
  },
  {
   "cell_type": "code",
   "execution_count": 18,
   "metadata": {},
   "outputs": [
    {
     "name": "stdout",
     "output_type": "stream",
     "text": [
      "Month: 12\n"
     ]
    }
   ],
   "source": [
    "print('Month: ' + str(today.month))"
   ]
  },
  {
   "cell_type": "code",
   "execution_count": 19,
   "metadata": {},
   "outputs": [
    {
     "name": "stdout",
     "output_type": "stream",
     "text": [
      "Year: 2019\n"
     ]
    }
   ],
   "source": [
    "print('Year: ' + str(today.year))"
   ]
  },
  {
   "cell_type": "code",
   "execution_count": 20,
   "metadata": {},
   "outputs": [
    {
     "name": "stdout",
     "output_type": "stream",
     "text": [
      "Hour: 15\n"
     ]
    }
   ],
   "source": [
    "print('Hour: ' + str(today.hour))"
   ]
  },
  {
   "cell_type": "code",
   "execution_count": 21,
   "metadata": {},
   "outputs": [
    {
     "name": "stdout",
     "output_type": "stream",
     "text": [
      "Minute: 9\n"
     ]
    }
   ],
   "source": [
    "print('Minute: ' + str(today.minute))"
   ]
  },
  {
   "cell_type": "code",
   "execution_count": 22,
   "metadata": {},
   "outputs": [
    {
     "name": "stdout",
     "output_type": "stream",
     "text": [
      "Second: 56\n"
     ]
    }
   ],
   "source": [
    "print('Second: ' + str(today.second))"
   ]
  },
  {
   "cell_type": "markdown",
   "metadata": {},
   "source": [
    "## date_functions"
   ]
  },
  {
   "cell_type": "code",
   "execution_count": 23,
   "metadata": {},
   "outputs": [],
   "source": [
    "yesterday = today - one_day"
   ]
  },
  {
   "cell_type": "code",
   "execution_count": 24,
   "metadata": {},
   "outputs": [
    {
     "name": "stdout",
     "output_type": "stream",
     "text": [
      "Yesterday was: 2019-12-26 15:09:56.673435\n"
     ]
    }
   ],
   "source": [
    "print('Yesterday was: ' + str(yesterday))"
   ]
  },
  {
   "cell_type": "code",
   "execution_count": 25,
   "metadata": {},
   "outputs": [],
   "source": [
    "one_week = timedelta(weeks=1)\n",
    "last_week = today - one_week"
   ]
  },
  {
   "cell_type": "code",
   "execution_count": 26,
   "metadata": {},
   "outputs": [
    {
     "name": "stdout",
     "output_type": "stream",
     "text": [
      "Last week was:2019-12-20 15:09:56.673435\n"
     ]
    }
   ],
   "source": [
    "print('Last week was:' + str(last_week))"
   ]
  },
  {
   "cell_type": "markdown",
   "metadata": {},
   "source": [
    "## code challenge"
   ]
  },
  {
   "cell_type": "code",
   "execution_count": 27,
   "metadata": {},
   "outputs": [],
   "source": [
    "from datetime import datetime,timedelta"
   ]
  },
  {
   "cell_type": "code",
   "execution_count": 28,
   "metadata": {},
   "outputs": [
    {
     "name": "stdout",
     "output_type": "stream",
     "text": [
      "2019-12-27 15:17:34.704678\n"
     ]
    }
   ],
   "source": [
    "# print today's date\n",
    "current_date = datetime.now()\n",
    "print(current_date)"
   ]
  },
  {
   "cell_type": "code",
   "execution_count": 29,
   "metadata": {},
   "outputs": [
    {
     "name": "stdout",
     "output_type": "stream",
     "text": [
      "Yesterday was: 2019-12-26 15:17:34.704678\n"
     ]
    }
   ],
   "source": [
    "# print yesterday's date\n",
    "one_day = timedelta(days=1)\n",
    "yesterday = current_date - one_day\n",
    "print('Yesterday was: ' + str(yesterday))"
   ]
  },
  {
   "cell_type": "code",
   "execution_count": 30,
   "metadata": {},
   "outputs": [
    {
     "name": "stdout",
     "output_type": "stream",
     "text": [
      "Please enter a date (dd/mm/yyyy): 28/02/2033\n"
     ]
    }
   ],
   "source": [
    "#ask a user to enter a date\n",
    "date_entered = input('Please enter a date (dd/mm/yyyy): ')\n",
    "date_entered = datetime.strptime(date_entered,'%d/%m/%Y')"
   ]
  },
  {
   "cell_type": "code",
   "execution_count": 31,
   "metadata": {},
   "outputs": [
    {
     "name": "stdout",
     "output_type": "stream",
     "text": [
      "One week later it will be: 2033-03-07 00:00:00\n"
     ]
    }
   ],
   "source": [
    "# print the date one week from date entered\n",
    "one_week = timedelta(weeks=1)\n",
    "one_week_later = date_entered + one_week\n",
    "print('One week later it will be: ' + str(one_week_later))"
   ]
  },
  {
   "cell_type": "code",
   "execution_count": null,
   "metadata": {},
   "outputs": [],
   "source": []
  }
 ],
 "metadata": {
  "kernelspec": {
   "display_name": "Python 3",
   "language": "python",
   "name": "python3"
  },
  "language_info": {
   "codemirror_mode": {
    "name": "ipython",
    "version": 3
   },
   "file_extension": ".py",
   "mimetype": "text/x-python",
   "name": "python",
   "nbconvert_exporter": "python",
   "pygments_lexer": "ipython3",
   "version": "3.7.3-final"
  }
 },
 "nbformat": 4,
 "nbformat_minor": 2
}