{
 "cells": [
  {
   "cell_type": "code",
   "execution_count": 1,
   "metadata": {},
   "outputs": [],
   "source": [
    "import tensorflow as tf\n",
    "import numpy as np\n",
    "import pandas as pd"
   ]
  },
  {
   "cell_type": "code",
   "execution_count": 2,
   "metadata": {},
   "outputs": [],
   "source": [
    "(train_images,train_labels),(test_images,test_labels) = tf.keras.datasets.mnist.load_data()"
   ]
  },
  {
   "cell_type": "code",
   "execution_count": 3,
   "metadata": {},
   "outputs": [
    {
     "data": {
      "text/plain": [
       "(60000, 28, 28)"
      ]
     },
     "execution_count": 3,
     "metadata": {},
     "output_type": "execute_result"
    }
   ],
   "source": [
    "train_images.shape"
   ]
  },
  {
   "cell_type": "code",
   "execution_count": 4,
   "metadata": {},
   "outputs": [
    {
     "data": {
      "text/plain": [
       "60000"
      ]
     },
     "execution_count": 4,
     "metadata": {},
     "output_type": "execute_result"
    }
   ],
   "source": [
    "len(train_labels)"
   ]
  },
  {
   "cell_type": "code",
   "execution_count": 5,
   "metadata": {},
   "outputs": [
    {
     "data": {
      "text/plain": [
       "array([5, 0, 4, ..., 5, 6, 8], dtype=uint8)"
      ]
     },
     "execution_count": 5,
     "metadata": {},
     "output_type": "execute_result"
    }
   ],
   "source": [
    "train_labels"
   ]
  },
  {
   "cell_type": "code",
   "execution_count": 6,
   "metadata": {},
   "outputs": [
    {
     "data": {
      "text/plain": [
       "(10000, 28, 28)"
      ]
     },
     "execution_count": 6,
     "metadata": {},
     "output_type": "execute_result"
    }
   ],
   "source": [
    "test_images.shape"
   ]
  },
  {
   "cell_type": "code",
   "execution_count": 7,
   "metadata": {},
   "outputs": [
    {
     "data": {
      "text/plain": [
       "10000"
      ]
     },
     "execution_count": 7,
     "metadata": {},
     "output_type": "execute_result"
    }
   ],
   "source": [
    "len(test_labels)"
   ]
  },
  {
   "cell_type": "code",
   "execution_count": 8,
   "metadata": {},
   "outputs": [
    {
     "data": {
      "text/plain": [
       "array([7, 2, 1, ..., 4, 5, 6], dtype=uint8)"
      ]
     },
     "execution_count": 8,
     "metadata": {},
     "output_type": "execute_result"
    }
   ],
   "source": [
    "test_labels"
   ]
  },
  {
   "cell_type": "code",
   "execution_count": 12,
   "metadata": {},
   "outputs": [],
   "source": [
    "model = tf.keras.models.Sequential()\n",
    "\n",
    "model.add(tf.keras.layers.Dense(512,activation=tf.nn.relu,input_shape=(28*28,)))\n",
    "model.add(tf.keras.layers.Dense(10,activation=tf.nn.softmax))"
   ]
  },
  {
   "cell_type": "code",
   "execution_count": 13,
   "metadata": {},
   "outputs": [],
   "source": [
    "model.compile(optimizer=tf.keras.optimizers.Adam(learning_rate=1e-3),loss=tf.keras.losses.categorical_crossentropy,metrics=[tf.keras.metrics.categorical_accuracy])"
   ]
  },
  {
   "cell_type": "code",
   "execution_count": 14,
   "metadata": {},
   "outputs": [],
   "source": [
    "train_images = train_images.reshape((60000,28*28))\n",
    "train_images = train_images.astype('float32')/255\n",
    "\n",
    "test_images = test_images.reshape(10000,28*28)\n",
    "test_images = test_images.astype('float32')/255"
   ]
  },
  {
   "cell_type": "code",
   "execution_count": 15,
   "metadata": {},
   "outputs": [],
   "source": [
    "train_labels = tf.keras.utils.to_categorical(train_labels)\n",
    "test_labels = tf.keras.utils.to_categorical(test_labels)"
   ]
  },
  {
   "cell_type": "code",
   "execution_count": 16,
   "metadata": {},
   "outputs": [
    {
     "name": "stdout",
     "output_type": "stream",
     "text": [
      "Train on 60000 samples\n",
      "Epoch 1/5\n",
      "60000/60000 [==============================] - 4s 59us/sample - loss: 0.2665 - categorical_accuracy: 0.9236\n",
      "Epoch 2/5\n",
      "60000/60000 [==============================] - 3s 54us/sample - loss: 0.1075 - categorical_accuracy: 0.9679\n",
      "Epoch 3/5\n",
      "60000/60000 [==============================] - 3s 54us/sample - loss: 0.0690 - categorical_accuracy: 0.9800\n",
      "Epoch 4/5\n",
      "60000/60000 [==============================] - 3s 53us/sample - loss: 0.0495 - categorical_accuracy: 0.9854\n",
      "Epoch 5/5\n",
      "60000/60000 [==============================] - 3s 53us/sample - loss: 0.0358 - categorical_accuracy: 0.9897\n"
     ]
    },
    {
     "data": {
      "text/plain": [
       "<tensorflow.python.keras.callbacks.History at 0x13e2b4cd0>"
      ]
     },
     "execution_count": 16,
     "metadata": {},
     "output_type": "execute_result"
    }
   ],
   "source": [
    "model.fit(train_images,train_labels,epochs=5,batch_size=128,)"
   ]
  },
  {
   "cell_type": "code",
   "execution_count": 17,
   "metadata": {},
   "outputs": [
    {
     "name": "stdout",
     "output_type": "stream",
     "text": [
      "10000/10000 [==============================] - 1s 81us/sample - loss: 0.0591 - categorical_accuracy: 0.9809\n"
     ]
    }
   ],
   "source": [
    "test_loss,test_acc = model.evaluate(test_images,test_labels,)"
   ]
  },
  {
   "cell_type": "code",
   "execution_count": 18,
   "metadata": {},
   "outputs": [
    {
     "name": "stdout",
     "output_type": "stream",
     "text": [
      "test_loss: 0.05913250176054426 test_acc: 0.9809\n"
     ]
    }
   ],
   "source": [
    "print('test_loss:',test_loss,'test_acc:',test_acc)"
   ]
  },
  {
   "cell_type": "code",
   "execution_count": 20,
   "metadata": {},
   "outputs": [],
   "source": [
    "df_final = pd.DataFrame(model.predict(test_images))"
   ]
  },
  {
   "cell_type": "code",
   "execution_count": 21,
   "metadata": {},
   "outputs": [
    {
     "data": {
      "text/html": [
       "<div>\n",
       "<style scoped>\n",
       "    .dataframe tbody tr th:only-of-type {\n",
       "        vertical-align: middle;\n",
       "    }\n",
       "\n",
       "    .dataframe tbody tr th {\n",
       "        vertical-align: top;\n",
       "    }\n",
       "\n",
       "    .dataframe thead th {\n",
       "        text-align: right;\n",
       "    }\n",
       "</style>\n",
       "<table border=\"1\" class=\"dataframe\">\n",
       "  <thead>\n",
       "    <tr style=\"text-align: right;\">\n",
       "      <th></th>\n",
       "      <th>0</th>\n",
       "      <th>1</th>\n",
       "      <th>2</th>\n",
       "      <th>3</th>\n",
       "      <th>4</th>\n",
       "      <th>5</th>\n",
       "      <th>6</th>\n",
       "      <th>7</th>\n",
       "      <th>8</th>\n",
       "      <th>9</th>\n",
       "    </tr>\n",
       "  </thead>\n",
       "  <tbody>\n",
       "    <tr>\n",
       "      <th>0</th>\n",
       "      <td>4.106193e-07</td>\n",
       "      <td>1.854412e-07</td>\n",
       "      <td>2.482628e-05</td>\n",
       "      <td>5.755230e-04</td>\n",
       "      <td>8.657735e-10</td>\n",
       "      <td>4.707468e-07</td>\n",
       "      <td>8.230234e-11</td>\n",
       "      <td>9.993455e-01</td>\n",
       "      <td>2.187432e-06</td>\n",
       "      <td>5.077537e-05</td>\n",
       "    </tr>\n",
       "    <tr>\n",
       "      <th>1</th>\n",
       "      <td>4.011410e-07</td>\n",
       "      <td>3.207650e-05</td>\n",
       "      <td>9.999394e-01</td>\n",
       "      <td>1.791219e-05</td>\n",
       "      <td>5.063744e-13</td>\n",
       "      <td>1.137017e-06</td>\n",
       "      <td>2.195971e-06</td>\n",
       "      <td>1.743954e-11</td>\n",
       "      <td>6.865437e-06</td>\n",
       "      <td>1.818389e-10</td>\n",
       "    </tr>\n",
       "    <tr>\n",
       "      <th>2</th>\n",
       "      <td>2.460687e-06</td>\n",
       "      <td>9.972937e-01</td>\n",
       "      <td>2.019268e-04</td>\n",
       "      <td>4.198344e-05</td>\n",
       "      <td>3.463837e-04</td>\n",
       "      <td>1.176827e-05</td>\n",
       "      <td>5.300290e-05</td>\n",
       "      <td>1.404773e-03</td>\n",
       "      <td>6.393873e-04</td>\n",
       "      <td>4.657496e-06</td>\n",
       "    </tr>\n",
       "    <tr>\n",
       "      <th>3</th>\n",
       "      <td>9.999473e-01</td>\n",
       "      <td>5.806200e-09</td>\n",
       "      <td>5.999986e-06</td>\n",
       "      <td>6.959952e-08</td>\n",
       "      <td>2.258115e-07</td>\n",
       "      <td>5.675028e-07</td>\n",
       "      <td>2.288698e-05</td>\n",
       "      <td>5.579635e-06</td>\n",
       "      <td>7.284649e-09</td>\n",
       "      <td>1.745011e-05</td>\n",
       "    </tr>\n",
       "    <tr>\n",
       "      <th>4</th>\n",
       "      <td>1.184656e-06</td>\n",
       "      <td>1.101223e-08</td>\n",
       "      <td>2.349605e-06</td>\n",
       "      <td>7.199056e-09</td>\n",
       "      <td>9.944776e-01</td>\n",
       "      <td>6.871514e-08</td>\n",
       "      <td>4.613044e-06</td>\n",
       "      <td>1.647311e-05</td>\n",
       "      <td>4.342841e-06</td>\n",
       "      <td>5.493245e-03</td>\n",
       "    </tr>\n",
       "    <tr>\n",
       "      <th>...</th>\n",
       "      <td>...</td>\n",
       "      <td>...</td>\n",
       "      <td>...</td>\n",
       "      <td>...</td>\n",
       "      <td>...</td>\n",
       "      <td>...</td>\n",
       "      <td>...</td>\n",
       "      <td>...</td>\n",
       "      <td>...</td>\n",
       "      <td>...</td>\n",
       "    </tr>\n",
       "    <tr>\n",
       "      <th>9995</th>\n",
       "      <td>1.905538e-10</td>\n",
       "      <td>8.440705e-06</td>\n",
       "      <td>9.999673e-01</td>\n",
       "      <td>2.279310e-05</td>\n",
       "      <td>8.217035e-17</td>\n",
       "      <td>6.992352e-10</td>\n",
       "      <td>1.576004e-12</td>\n",
       "      <td>1.050864e-06</td>\n",
       "      <td>3.209092e-07</td>\n",
       "      <td>2.463015e-11</td>\n",
       "    </tr>\n",
       "    <tr>\n",
       "      <th>9996</th>\n",
       "      <td>1.143262e-09</td>\n",
       "      <td>2.078879e-07</td>\n",
       "      <td>2.639766e-06</td>\n",
       "      <td>9.994716e-01</td>\n",
       "      <td>5.253685e-15</td>\n",
       "      <td>2.575945e-04</td>\n",
       "      <td>6.761312e-14</td>\n",
       "      <td>1.235270e-08</td>\n",
       "      <td>1.164434e-07</td>\n",
       "      <td>2.677930e-04</td>\n",
       "    </tr>\n",
       "    <tr>\n",
       "      <th>9997</th>\n",
       "      <td>1.903603e-11</td>\n",
       "      <td>1.489955e-10</td>\n",
       "      <td>7.449171e-12</td>\n",
       "      <td>4.705216e-09</td>\n",
       "      <td>9.999703e-01</td>\n",
       "      <td>2.182721e-10</td>\n",
       "      <td>1.685202e-08</td>\n",
       "      <td>4.443915e-06</td>\n",
       "      <td>8.784812e-07</td>\n",
       "      <td>2.438233e-05</td>\n",
       "    </tr>\n",
       "    <tr>\n",
       "      <th>9998</th>\n",
       "      <td>5.154682e-09</td>\n",
       "      <td>9.549673e-10</td>\n",
       "      <td>2.611836e-10</td>\n",
       "      <td>4.487181e-08</td>\n",
       "      <td>2.984935e-09</td>\n",
       "      <td>9.999756e-01</td>\n",
       "      <td>4.416754e-08</td>\n",
       "      <td>8.588394e-08</td>\n",
       "      <td>2.429449e-05</td>\n",
       "      <td>5.589955e-10</td>\n",
       "    </tr>\n",
       "    <tr>\n",
       "      <th>9999</th>\n",
       "      <td>1.600782e-08</td>\n",
       "      <td>5.568648e-12</td>\n",
       "      <td>1.368892e-07</td>\n",
       "      <td>7.662856e-09</td>\n",
       "      <td>4.515383e-06</td>\n",
       "      <td>1.122112e-07</td>\n",
       "      <td>9.999952e-01</td>\n",
       "      <td>1.158593e-11</td>\n",
       "      <td>2.134007e-09</td>\n",
       "      <td>4.822275e-10</td>\n",
       "    </tr>\n",
       "  </tbody>\n",
       "</table>\n",
       "<p>10000 rows × 10 columns</p>\n",
       "</div>"
      ],
      "text/plain": [
       "                 0             1             2             3             4  \\\n",
       "0     4.106193e-07  1.854412e-07  2.482628e-05  5.755230e-04  8.657735e-10   \n",
       "1     4.011410e-07  3.207650e-05  9.999394e-01  1.791219e-05  5.063744e-13   \n",
       "2     2.460687e-06  9.972937e-01  2.019268e-04  4.198344e-05  3.463837e-04   \n",
       "3     9.999473e-01  5.806200e-09  5.999986e-06  6.959952e-08  2.258115e-07   \n",
       "4     1.184656e-06  1.101223e-08  2.349605e-06  7.199056e-09  9.944776e-01   \n",
       "...            ...           ...           ...           ...           ...   \n",
       "9995  1.905538e-10  8.440705e-06  9.999673e-01  2.279310e-05  8.217035e-17   \n",
       "9996  1.143262e-09  2.078879e-07  2.639766e-06  9.994716e-01  5.253685e-15   \n",
       "9997  1.903603e-11  1.489955e-10  7.449171e-12  4.705216e-09  9.999703e-01   \n",
       "9998  5.154682e-09  9.549673e-10  2.611836e-10  4.487181e-08  2.984935e-09   \n",
       "9999  1.600782e-08  5.568648e-12  1.368892e-07  7.662856e-09  4.515383e-06   \n",
       "\n",
       "                 5             6             7             8             9  \n",
       "0     4.707468e-07  8.230234e-11  9.993455e-01  2.187432e-06  5.077537e-05  \n",
       "1     1.137017e-06  2.195971e-06  1.743954e-11  6.865437e-06  1.818389e-10  \n",
       "2     1.176827e-05  5.300290e-05  1.404773e-03  6.393873e-04  4.657496e-06  \n",
       "3     5.675028e-07  2.288698e-05  5.579635e-06  7.284649e-09  1.745011e-05  \n",
       "4     6.871514e-08  4.613044e-06  1.647311e-05  4.342841e-06  5.493245e-03  \n",
       "...            ...           ...           ...           ...           ...  \n",
       "9995  6.992352e-10  1.576004e-12  1.050864e-06  3.209092e-07  2.463015e-11  \n",
       "9996  2.575945e-04  6.761312e-14  1.235270e-08  1.164434e-07  2.677930e-04  \n",
       "9997  2.182721e-10  1.685202e-08  4.443915e-06  8.784812e-07  2.438233e-05  \n",
       "9998  9.999756e-01  4.416754e-08  8.588394e-08  2.429449e-05  5.589955e-10  \n",
       "9999  1.122112e-07  9.999952e-01  1.158593e-11  2.134007e-09  4.822275e-10  \n",
       "\n",
       "[10000 rows x 10 columns]"
      ]
     },
     "execution_count": 21,
     "metadata": {},
     "output_type": "execute_result"
    }
   ],
   "source": [
    "df_final"
   ]
  },
  {
   "cell_type": "code",
   "execution_count": 23,
   "metadata": {},
   "outputs": [
    {
     "name": "stdout",
     "output_type": "stream",
     "text": [
      "10000/10000 [==============================] - 1s 77us/sample - loss: 0.0591 - categorical_accuracy: 0.9809\n"
     ]
    },
    {
     "data": {
      "text/plain": [
       "[0.05913250176054426, 0.9809]"
      ]
     },
     "execution_count": 23,
     "metadata": {},
     "output_type": "execute_result"
    }
   ],
   "source": [
    "model.evaluate(test_images,test_labels)"
   ]
  },
  {
   "cell_type": "code",
   "execution_count": 25,
   "metadata": {},
   "outputs": [
    {
     "data": {
      "text/html": [
       "<div>\n",
       "<style scoped>\n",
       "    .dataframe tbody tr th:only-of-type {\n",
       "        vertical-align: middle;\n",
       "    }\n",
       "\n",
       "    .dataframe tbody tr th {\n",
       "        vertical-align: top;\n",
       "    }\n",
       "\n",
       "    .dataframe thead th {\n",
       "        text-align: right;\n",
       "    }\n",
       "</style>\n",
       "<table border=\"1\" class=\"dataframe\">\n",
       "  <thead>\n",
       "    <tr style=\"text-align: right;\">\n",
       "      <th></th>\n",
       "      <th>0</th>\n",
       "    </tr>\n",
       "  </thead>\n",
       "  <tbody>\n",
       "    <tr>\n",
       "      <th>0</th>\n",
       "      <td>7</td>\n",
       "    </tr>\n",
       "    <tr>\n",
       "      <th>1</th>\n",
       "      <td>2</td>\n",
       "    </tr>\n",
       "    <tr>\n",
       "      <th>2</th>\n",
       "      <td>1</td>\n",
       "    </tr>\n",
       "    <tr>\n",
       "      <th>3</th>\n",
       "      <td>0</td>\n",
       "    </tr>\n",
       "    <tr>\n",
       "      <th>4</th>\n",
       "      <td>4</td>\n",
       "    </tr>\n",
       "    <tr>\n",
       "      <th>...</th>\n",
       "      <td>...</td>\n",
       "    </tr>\n",
       "    <tr>\n",
       "      <th>9995</th>\n",
       "      <td>2</td>\n",
       "    </tr>\n",
       "    <tr>\n",
       "      <th>9996</th>\n",
       "      <td>3</td>\n",
       "    </tr>\n",
       "    <tr>\n",
       "      <th>9997</th>\n",
       "      <td>4</td>\n",
       "    </tr>\n",
       "    <tr>\n",
       "      <th>9998</th>\n",
       "      <td>5</td>\n",
       "    </tr>\n",
       "    <tr>\n",
       "      <th>9999</th>\n",
       "      <td>6</td>\n",
       "    </tr>\n",
       "  </tbody>\n",
       "</table>\n",
       "<p>10000 rows × 1 columns</p>\n",
       "</div>"
      ],
      "text/plain": [
       "      0\n",
       "0     7\n",
       "1     2\n",
       "2     1\n",
       "3     0\n",
       "4     4\n",
       "...  ..\n",
       "9995  2\n",
       "9996  3\n",
       "9997  4\n",
       "9998  5\n",
       "9999  6\n",
       "\n",
       "[10000 rows x 1 columns]"
      ]
     },
     "execution_count": 25,
     "metadata": {},
     "output_type": "execute_result"
    }
   ],
   "source": [
    "df_class=pd.DataFrame(model.predict_classes(test_images))\n",
    "df_class"
   ]
  },
  {
   "cell_type": "code",
   "execution_count": null,
   "metadata": {},
   "outputs": [],
   "source": []
  }
 ],
 "metadata": {
  "kernelspec": {
   "display_name": "Python 3.7.7 64-bit",
   "language": "python",
   "name": "python37764bit3b7b5d42d44946a88de85840a9791756"
  },
  "language_info": {
   "codemirror_mode": {
    "name": "ipython",
    "version": 3
   },
   "file_extension": ".py",
   "mimetype": "text/x-python",
   "name": "python",
   "nbconvert_exporter": "python",
   "pygments_lexer": "ipython3",
   "version": "3.7.7"
  }
 },
 "nbformat": 4,
 "nbformat_minor": 4
}
