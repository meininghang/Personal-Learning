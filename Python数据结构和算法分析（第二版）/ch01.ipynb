{
 "cells": [
  {
   "cell_type": "code",
   "execution_count": null,
   "id": "a2388245-8997-4e2a-b174-580231308205",
   "metadata": {
    "pycharm": {
     "name": "#%%\n",
     "is_executing": true
    }
   },
   "outputs": [],
   "source": [
    "import math"
   ]
  },
  {
   "cell_type": "code",
   "execution_count": 2,
   "id": "1f0d6472-8caa-4292-a47d-1d9833e5a01c",
   "metadata": {
    "pycharm": {
     "name": "#%%\n"
    }
   },
   "outputs": [
    {
     "data": {
      "text/plain": [
       "4.0"
      ]
     },
     "execution_count": 2,
     "metadata": {},
     "output_type": "execute_result"
    }
   ],
   "source": [
    "math.sqrt(16)"
   ]
  },
  {
   "cell_type": "code",
   "execution_count": 3,
   "id": "bbb30dc3-69a4-41b7-b152-892d417a91e4",
   "metadata": {
    "pycharm": {
     "name": "#%%\n"
    }
   },
   "outputs": [
    {
     "name": "stdout",
     "output_type": "stream",
     "text": [
      "Algorithms and Data Structures\n"
     ]
    }
   ],
   "source": [
    "print(\"Algorithms and Data Structures\")"
   ]
  },
  {
   "cell_type": "markdown",
   "id": "8af6e7d2-d9ef-496e-8494-602bee9263d0",
   "metadata": {
    "pycharm": {
     "name": "#%% md\n"
    }
   },
   "source": [
    "## 1.4.1 数据"
   ]
  },
  {
   "cell_type": "code",
   "execution_count": 6,
   "id": "b5e8fc80-0082-4079-90f2-dfb1d436cc15",
   "metadata": {
    "pycharm": {
     "name": "#%%\n"
    }
   },
   "outputs": [
    {
     "data": {
      "text/plain": [
       "2.3333333333333335"
      ]
     },
     "execution_count": 6,
     "metadata": {},
     "output_type": "execute_result"
    }
   ],
   "source": [
    "7/3"
   ]
  },
  {
   "cell_type": "code",
   "execution_count": 7,
   "id": "386c69d5-0adf-40fe-a4f2-48bd329d579f",
   "metadata": {
    "pycharm": {
     "name": "#%%\n"
    }
   },
   "outputs": [
    {
     "data": {
      "text/plain": [
       "2"
      ]
     },
     "execution_count": 7,
     "metadata": {},
     "output_type": "execute_result"
    }
   ],
   "source": [
    "7//3"
   ]
  },
  {
   "cell_type": "code",
   "execution_count": 8,
   "id": "c18df34f-065e-4eb0-b9f0-acbbc15dd4a0",
   "metadata": {
    "pycharm": {
     "name": "#%%\n"
    }
   },
   "outputs": [
    {
     "data": {
      "text/plain": [
       "1"
      ]
     },
     "execution_count": 8,
     "metadata": {},
     "output_type": "execute_result"
    }
   ],
   "source": [
    "7%3"
   ]
  },
  {
   "cell_type": "code",
   "execution_count": 9,
   "id": "47ea616a-92da-406d-95ef-6916f71626de",
   "metadata": {
    "pycharm": {
     "name": "#%%\n"
    }
   },
   "outputs": [
    {
     "data": {
      "text/plain": [
       "343"
      ]
     },
     "execution_count": 9,
     "metadata": {},
     "output_type": "execute_result"
    }
   ],
   "source": [
    "7**3"
   ]
  },
  {
   "cell_type": "code",
   "execution_count": 10,
   "id": "d7b14ce2-e22f-4413-8916-c646a42f3642",
   "metadata": {
    "pycharm": {
     "name": "#%%\n"
    }
   },
   "outputs": [
    {
     "data": {
      "text/plain": [
       "True"
      ]
     },
     "execution_count": 10,
     "metadata": {},
     "output_type": "execute_result"
    }
   ],
   "source": [
    "True"
   ]
  },
  {
   "cell_type": "code",
   "execution_count": 11,
   "id": "13bb6016-a22c-4f02-aaf0-9e10aa94d3f0",
   "metadata": {
    "pycharm": {
     "name": "#%%\n"
    }
   },
   "outputs": [
    {
     "data": {
      "text/plain": [
       "False"
      ]
     },
     "execution_count": 11,
     "metadata": {},
     "output_type": "execute_result"
    }
   ],
   "source": [
    "False"
   ]
  },
  {
   "cell_type": "code",
   "execution_count": 12,
   "id": "14fb1675-ee23-47f6-87bd-427ccf501c82",
   "metadata": {
    "pycharm": {
     "name": "#%%\n"
    }
   },
   "outputs": [
    {
     "data": {
      "text/plain": [
       "True"
      ]
     },
     "execution_count": 12,
     "metadata": {},
     "output_type": "execute_result"
    }
   ],
   "source": [
    "False or True"
   ]
  },
  {
   "cell_type": "code",
   "execution_count": 13,
   "id": "57057fb2-16c9-4ed9-b558-40a5e4c64aa6",
   "metadata": {
    "pycharm": {
     "name": "#%%\n"
    }
   },
   "outputs": [
    {
     "data": {
      "text/plain": [
       "False"
      ]
     },
     "execution_count": 13,
     "metadata": {},
     "output_type": "execute_result"
    }
   ],
   "source": [
    "False and False"
   ]
  },
  {
   "cell_type": "code",
   "execution_count": 14,
   "id": "de93a278-41c7-490f-8ab0-63ce992ade57",
   "metadata": {
    "pycharm": {
     "name": "#%%\n"
    }
   },
   "outputs": [
    {
     "data": {
      "text/plain": [
       "True"
      ]
     },
     "execution_count": 14,
     "metadata": {},
     "output_type": "execute_result"
    }
   ],
   "source": [
    "2 != 8"
   ]
  },
  {
   "cell_type": "code",
   "execution_count": 15,
   "id": "ad5d1497-d478-4772-99e5-48cb823582b7",
   "metadata": {
    "pycharm": {
     "name": "#%%\n"
    }
   },
   "outputs": [],
   "source": [
    "theSum = 1"
   ]
  },
  {
   "cell_type": "code",
   "execution_count": 16,
   "id": "8a9cff6f-d6e7-4e98-b5e3-5e859297e09f",
   "metadata": {
    "pycharm": {
     "name": "#%%\n"
    }
   },
   "outputs": [
    {
     "data": {
      "text/plain": [
       "2"
      ]
     },
     "execution_count": 16,
     "metadata": {},
     "output_type": "execute_result"
    }
   ],
   "source": [
    "theSum += 1\n",
    "theSum"
   ]
  },
  {
   "cell_type": "markdown",
   "id": "fe98adb6-c827-4290-881f-40dfb4162ab1",
   "metadata": {
    "tags": [],
    "pycharm": {
     "name": "#%% md\n"
    }
   },
   "source": [
    "### list"
   ]
  },
  {
   "cell_type": "code",
   "execution_count": 17,
   "id": "209e85d8-a1d3-4790-ad9a-7a9c64e5c2d1",
   "metadata": {
    "pycharm": {
     "name": "#%%\n"
    }
   },
   "outputs": [],
   "source": [
    "myList = [1,3,5,True,6.5]"
   ]
  },
  {
   "cell_type": "code",
   "execution_count": 18,
   "id": "e546eccd-eac6-40b3-b033-84bb5dbdc72c",
   "metadata": {
    "pycharm": {
     "name": "#%%\n"
    }
   },
   "outputs": [
    {
     "data": {
      "text/plain": [
       "[1, 3, 5, True, 6.5]"
      ]
     },
     "execution_count": 18,
     "metadata": {},
     "output_type": "execute_result"
    }
   ],
   "source": [
    "myList"
   ]
  },
  {
   "cell_type": "code",
   "execution_count": 19,
   "id": "eec6f91c-de22-4ce3-b2e5-4b8d0a737603",
   "metadata": {
    "pycharm": {
     "name": "#%%\n"
    }
   },
   "outputs": [
    {
     "data": {
      "text/plain": [
       "5"
      ]
     },
     "execution_count": 19,
     "metadata": {},
     "output_type": "execute_result"
    }
   ],
   "source": [
    "myList[2]#索引"
   ]
  },
  {
   "cell_type": "code",
   "execution_count": 20,
   "id": "eda17e56-2590-43c1-bb4a-71f37853f08f",
   "metadata": {
    "pycharm": {
     "name": "#%%\n"
    }
   },
   "outputs": [
    {
     "data": {
      "text/plain": [
       "[1, 3, 5, True, 6.5, 3, 4, 6]"
      ]
     },
     "execution_count": 20,
     "metadata": {},
     "output_type": "execute_result"
    }
   ],
   "source": [
    "myList + [3,4,6]"
   ]
  },
  {
   "cell_type": "code",
   "execution_count": 21,
   "id": "e4cd1469-e3ee-4568-b9f9-2a944773b936",
   "metadata": {
    "pycharm": {
     "name": "#%%\n"
    }
   },
   "outputs": [
    {
     "data": {
      "text/plain": [
       "[1, 3, 5, True, 6.5]"
      ]
     },
     "execution_count": 21,
     "metadata": {},
     "output_type": "execute_result"
    }
   ],
   "source": [
    "myList"
   ]
  },
  {
   "cell_type": "code",
   "execution_count": 22,
   "id": "094f7c07-4958-4c39-a287-1d00aecd9cb9",
   "metadata": {
    "pycharm": {
     "name": "#%%\n"
    }
   },
   "outputs": [
    {
     "data": {
      "text/plain": [
       "[1,\n",
       " 3,\n",
       " 5,\n",
       " True,\n",
       " 6.5,\n",
       " 1,\n",
       " 3,\n",
       " 5,\n",
       " True,\n",
       " 6.5,\n",
       " 1,\n",
       " 3,\n",
       " 5,\n",
       " True,\n",
       " 6.5,\n",
       " 1,\n",
       " 3,\n",
       " 5,\n",
       " True,\n",
       " 6.5,\n",
       " 1,\n",
       " 3,\n",
       " 5,\n",
       " True,\n",
       " 6.5,\n",
       " 1,\n",
       " 3,\n",
       " 5,\n",
       " True,\n",
       " 6.5]"
      ]
     },
     "execution_count": 22,
     "metadata": {},
     "output_type": "execute_result"
    }
   ],
   "source": [
    "myList * 6 #重复"
   ]
  },
  {
   "cell_type": "code",
   "execution_count": 23,
   "id": "efe1cb4a-8297-449a-b43a-449c5c45f59e",
   "metadata": {
    "pycharm": {
     "name": "#%%\n"
    }
   },
   "outputs": [
    {
     "data": {
      "text/plain": [
       "True"
      ]
     },
     "execution_count": 23,
     "metadata": {},
     "output_type": "execute_result"
    }
   ],
   "source": [
    "6.5 in myList#查询元素"
   ]
  },
  {
   "cell_type": "code",
   "execution_count": 25,
   "id": "6fd37693-3633-429b-9a0d-595264d254b0",
   "metadata": {
    "pycharm": {
     "name": "#%%\n"
    }
   },
   "outputs": [
    {
     "data": {
      "text/plain": [
       "5"
      ]
     },
     "execution_count": 25,
     "metadata": {},
     "output_type": "execute_result"
    }
   ],
   "source": [
    "len(myList)#查询长度"
   ]
  },
  {
   "cell_type": "code",
   "execution_count": 26,
   "id": "4416501d-812c-4c7d-8f1a-1b61843c5e1f",
   "metadata": {
    "pycharm": {
     "name": "#%%\n"
    }
   },
   "outputs": [
    {
     "data": {
      "text/plain": [
       "[1, 3]"
      ]
     },
     "execution_count": 26,
     "metadata": {},
     "output_type": "execute_result"
    }
   ],
   "source": [
    "myList[:2] #切片"
   ]
  },
  {
   "cell_type": "code",
   "execution_count": 27,
   "id": "4c5c5373-36ed-4f2c-82c9-abda9adabaf6",
   "metadata": {
    "pycharm": {
     "name": "#%%\n"
    }
   },
   "outputs": [
    {
     "data": {
      "text/plain": [
       "[1, 3, 5, True, 6.5, 1, 3, 5, True, 6.5, 1, 3, 5, True, 6.5]"
      ]
     },
     "execution_count": 27,
     "metadata": {},
     "output_type": "execute_result"
    }
   ],
   "source": [
    "A = myList * 3\n",
    "A"
   ]
  },
  {
   "cell_type": "code",
   "execution_count": 28,
   "id": "3a800f04-07c6-4d3d-a16c-222d129c6af5",
   "metadata": {
    "pycharm": {
     "name": "#%%\n"
    }
   },
   "outputs": [
    {
     "data": {
      "text/plain": [
       "[[1, 3, 5, True, 6.5], [1, 3, 5, True, 6.5], [1, 3, 5, True, 6.5]]"
      ]
     },
     "execution_count": 28,
     "metadata": {},
     "output_type": "execute_result"
    }
   ],
   "source": [
    "B = [myList] * 3\n",
    "B"
   ]
  },
  {
   "cell_type": "code",
   "execution_count": 29,
   "id": "31bae452-fd06-4002-a357-3ed2fd5beacd",
   "metadata": {
    "pycharm": {
     "name": "#%%\n"
    }
   },
   "outputs": [
    {
     "data": {
      "text/plain": [
       "[1, 3, 5, True, 6.5]"
      ]
     },
     "execution_count": 29,
     "metadata": {},
     "output_type": "execute_result"
    }
   ],
   "source": [
    "myList"
   ]
  },
  {
   "cell_type": "code",
   "execution_count": 30,
   "id": "1f89ae03-73e6-4bf7-a524-c8fc33a24053",
   "metadata": {
    "pycharm": {
     "name": "#%%\n"
    }
   },
   "outputs": [],
   "source": [
    "#append\n",
    "myList.append(3)"
   ]
  },
  {
   "cell_type": "code",
   "execution_count": 31,
   "id": "a079d5dc-0b3b-455c-8a16-66b0423b6cf6",
   "metadata": {
    "pycharm": {
     "name": "#%%\n"
    }
   },
   "outputs": [
    {
     "data": {
      "text/plain": [
       "[1, 3, 5, True, 6.5, 3]"
      ]
     },
     "execution_count": 31,
     "metadata": {},
     "output_type": "execute_result"
    }
   ],
   "source": [
    "myList"
   ]
  },
  {
   "cell_type": "code",
   "execution_count": 32,
   "id": "54cb4162-7ce2-4df9-aa92-41ca680bdb81",
   "metadata": {
    "pycharm": {
     "name": "#%%\n"
    }
   },
   "outputs": [
    {
     "data": {
      "text/plain": [
       "[1, 3, False, 5, True, 6.5, 3]"
      ]
     },
     "execution_count": 32,
     "metadata": {},
     "output_type": "execute_result"
    }
   ],
   "source": [
    "#insert\n",
    "myList.insert(2,False)\n",
    "myList"
   ]
  },
  {
   "cell_type": "code",
   "execution_count": 33,
   "id": "2989eeb6-8334-4915-83de-7fe688272536",
   "metadata": {
    "pycharm": {
     "name": "#%%\n"
    }
   },
   "outputs": [
    {
     "data": {
      "text/plain": [
       "[1, 3, False, 5, True, 6.5]"
      ]
     },
     "execution_count": 33,
     "metadata": {},
     "output_type": "execute_result"
    }
   ],
   "source": [
    "#pop\n",
    "myList.pop()\n",
    "myList"
   ]
  },
  {
   "cell_type": "code",
   "execution_count": 34,
   "id": "187ef533-fb85-4fe4-814b-b44e852b4448",
   "metadata": {
    "pycharm": {
     "name": "#%%\n"
    }
   },
   "outputs": [
    {
     "data": {
      "text/plain": [
       "[False, 1, True, 3, 5, 6.5]"
      ]
     },
     "execution_count": 34,
     "metadata": {},
     "output_type": "execute_result"
    }
   ],
   "source": [
    "#sort\n",
    "myList.sort()\n",
    "myList"
   ]
  },
  {
   "cell_type": "code",
   "execution_count": 35,
   "id": "63ec091d-4a01-47cf-9960-baaa96c19da5",
   "metadata": {
    "pycharm": {
     "name": "#%%\n"
    }
   },
   "outputs": [
    {
     "data": {
      "text/plain": [
       "[6.5, 5, 3, True, 1, False]"
      ]
     },
     "execution_count": 35,
     "metadata": {},
     "output_type": "execute_result"
    }
   ],
   "source": [
    "#reverse\n",
    "myList.reverse()\n",
    "myList"
   ]
  },
  {
   "cell_type": "code",
   "execution_count": 36,
   "id": "ebc4ae3f-4153-4cfd-9139-82b49f8d6a9e",
   "metadata": {
    "pycharm": {
     "name": "#%%\n"
    }
   },
   "outputs": [
    {
     "data": {
      "text/plain": [
       "[6.5, 5, True, 1, False]"
      ]
     },
     "execution_count": 36,
     "metadata": {},
     "output_type": "execute_result"
    }
   ],
   "source": [
    "#del\n",
    "del myList[2]\n",
    "myList"
   ]
  },
  {
   "cell_type": "code",
   "execution_count": 37,
   "id": "0edcc3ff-8d1d-4bf3-8e7f-fc9178e03da9",
   "metadata": {
    "pycharm": {
     "name": "#%%\n"
    }
   },
   "outputs": [
    {
     "data": {
      "text/plain": [
       "2"
      ]
     },
     "execution_count": 37,
     "metadata": {},
     "output_type": "execute_result"
    }
   ],
   "source": [
    "#index\n",
    "myList.index(1)"
   ]
  },
  {
   "cell_type": "code",
   "execution_count": 38,
   "id": "82afc9d9-4453-4dae-98fe-8ce6b7141abf",
   "metadata": {
    "pycharm": {
     "name": "#%%\n"
    }
   },
   "outputs": [
    {
     "data": {
      "text/plain": [
       "2"
      ]
     },
     "execution_count": 38,
     "metadata": {},
     "output_type": "execute_result"
    }
   ],
   "source": [
    "#count\n",
    "myList.count(1)"
   ]
  },
  {
   "cell_type": "code",
   "execution_count": 39,
   "id": "a6124acd-5a8c-4c29-8a36-5703a6e3e416",
   "metadata": {
    "pycharm": {
     "name": "#%%\n"
    }
   },
   "outputs": [],
   "source": [
    "#remove\n",
    "myList.remove(1)"
   ]
  },
  {
   "cell_type": "code",
   "execution_count": 40,
   "id": "cdc5106e-9daf-478c-81c9-2c325c72b2d2",
   "metadata": {
    "pycharm": {
     "name": "#%%\n"
    }
   },
   "outputs": [
    {
     "data": {
      "text/plain": [
       "[6.5, 5, 1, False]"
      ]
     },
     "execution_count": 40,
     "metadata": {},
     "output_type": "execute_result"
    }
   ],
   "source": [
    "myList"
   ]
  },
  {
   "cell_type": "code",
   "execution_count": 41,
   "id": "7c99ce94-318e-4ff4-b975-173963132fb4",
   "metadata": {
    "pycharm": {
     "name": "#%%\n"
    }
   },
   "outputs": [
    {
     "data": {
      "text/plain": [
       "75"
      ]
     },
     "execution_count": 41,
     "metadata": {},
     "output_type": "execute_result"
    }
   ],
   "source": [
    "(54).__add__(21)"
   ]
  },
  {
   "cell_type": "code",
   "execution_count": 42,
   "id": "3898a47a-66a8-4112-9d89-87ceb7177631",
   "metadata": {
    "pycharm": {
     "name": "#%%\n"
    }
   },
   "outputs": [
    {
     "data": {
      "text/plain": [
       "75"
      ]
     },
     "execution_count": 42,
     "metadata": {},
     "output_type": "execute_result"
    }
   ],
   "source": [
    "54+21"
   ]
  },
  {
   "cell_type": "code",
   "execution_count": 43,
   "id": "10d079a9-231e-45e8-8742-2144b35c7aad",
   "metadata": {
    "pycharm": {
     "name": "#%%\n"
    }
   },
   "outputs": [
    {
     "data": {
      "text/plain": [
       "range(0, 10)"
      ]
     },
     "execution_count": 43,
     "metadata": {},
     "output_type": "execute_result"
    }
   ],
   "source": [
    "#range\n",
    "range(10)"
   ]
  },
  {
   "cell_type": "code",
   "execution_count": 44,
   "id": "2235b1ac-cf22-43da-aa5a-6a025e4f81b5",
   "metadata": {
    "pycharm": {
     "name": "#%%\n"
    }
   },
   "outputs": [
    {
     "data": {
      "text/plain": [
       "[0, 1, 2, 3, 4, 5, 6, 7, 8, 9]"
      ]
     },
     "execution_count": 44,
     "metadata": {},
     "output_type": "execute_result"
    }
   ],
   "source": [
    "list(range(10))"
   ]
  },
  {
   "cell_type": "code",
   "execution_count": 46,
   "id": "80f00b20-59b4-4716-b244-6c12ee05b44a",
   "metadata": {
    "pycharm": {
     "name": "#%%\n"
    }
   },
   "outputs": [
    {
     "data": {
      "text/plain": [
       "[1, 3, 5, 7, 9]"
      ]
     },
     "execution_count": 46,
     "metadata": {},
     "output_type": "execute_result"
    }
   ],
   "source": [
    "list(range(1,10,2))"
   ]
  },
  {
   "cell_type": "code",
   "execution_count": 47,
   "id": "817f3e04-bdf3-4389-af38-ab9c6bb0507f",
   "metadata": {
    "pycharm": {
     "name": "#%%\n"
    }
   },
   "outputs": [
    {
     "data": {
      "text/plain": [
       "'David'"
      ]
     },
     "execution_count": 47,
     "metadata": {},
     "output_type": "execute_result"
    }
   ],
   "source": [
    "\"David\""
   ]
  },
  {
   "cell_type": "code",
   "execution_count": 48,
   "id": "84de63cc-8dd1-47bc-89ca-b18b0bd290d8",
   "metadata": {
    "pycharm": {
     "name": "#%%\n"
    }
   },
   "outputs": [
    {
     "data": {
      "text/plain": [
       "'Ninghang Mei'"
      ]
     },
     "execution_count": 48,
     "metadata": {},
     "output_type": "execute_result"
    }
   ],
   "source": [
    "myName = \"Ninghang Mei\"\n",
    "myName"
   ]
  },
  {
   "cell_type": "code",
   "execution_count": 54,
   "id": "29335711-994b-4092-a7c2-4e3ec00d9ca8",
   "metadata": {
    "pycharm": {
     "name": "#%%\n"
    }
   },
   "outputs": [
    {
     "data": {
      "text/plain": [
       "'Ninghang MeiNinghang MeiNinghang MeiNinghang MeiNinghang MeiNinghang MeiNinghang MeiNinghang MeiNinghang MeiNinghang MeiNinghang MeiNinghang MeiNinghang MeiNinghang MeiNinghang MeiNinghang MeiNinghang MeiNinghang MeiNinghang MeiNinghang MeiNinghang MeiNinghang MeiNinghang MeiNinghang MeiNinghang MeiNinghang MeiNinghang MeiNinghang MeiNinghang MeiNinghang MeiNinghang MeiNinghang MeiNinghang MeiNinghang MeiNinghang MeiNinghang MeiNinghang MeiNinghang MeiNinghang MeiNinghang MeiNinghang MeiNinghang MeiNinghang MeiNinghang MeiNinghang MeiNinghang MeiNinghang MeiNinghang MeiNinghang MeiNinghang MeiNinghang MeiNinghang MeiNinghang MeiNinghang MeiNinghang MeiNinghang MeiNinghang MeiNinghang MeiNinghang MeiNinghang MeiNinghang MeiNinghang MeiNinghang MeiNinghang MeiNinghang MeiNinghang MeiNinghang MeiNinghang MeiNinghang MeiNinghang MeiNinghang MeiNinghang MeiNinghang MeiNinghang MeiNinghang MeiNinghang MeiNinghang MeiNinghang MeiNinghang MeiNinghang MeiNinghang MeiNinghang MeiNinghang MeiNinghang MeiNinghang MeiNinghang MeiNinghang MeiNinghang MeiNinghang MeiNinghang MeiNinghang MeiNinghang MeiNinghang MeiNinghang MeiNinghang MeiNinghang MeiNinghang MeiNinghang MeiNinghang MeiNinghang Mei'"
      ]
     },
     "execution_count": 54,
     "metadata": {},
     "output_type": "execute_result"
    }
   ],
   "source": [
    "(myName) * 100"
   ]
  },
  {
   "cell_type": "code",
   "execution_count": 58,
   "id": "2717af72-2fcf-4ddd-94d2-90a5ade7d65d",
   "metadata": {
    "pycharm": {
     "name": "#%%\n"
    }
   },
   "outputs": [
    {
     "data": {
      "text/plain": [
       "12"
      ]
     },
     "execution_count": 58,
     "metadata": {},
     "output_type": "execute_result"
    }
   ],
   "source": [
    "len(myName)"
   ]
  },
  {
   "cell_type": "markdown",
   "id": "66d07104-ae5c-4cca-a383-18f8f6b9a422",
   "metadata": {
    "pycharm": {
     "name": "#%% md\n"
    }
   },
   "source": [
    "### string"
   ]
  },
  {
   "cell_type": "code",
   "execution_count": 60,
   "id": "94fb66c3-7027-4cc0-b9f1-16af99b0d13b",
   "metadata": {
    "pycharm": {
     "name": "#%%\n"
    }
   },
   "outputs": [
    {
     "data": {
      "text/plain": [
       "'                                            Ninghang Mei                                            '"
      ]
     },
     "execution_count": 60,
     "metadata": {},
     "output_type": "execute_result"
    }
   ],
   "source": [
    "#center\n",
    "myName.center(100)"
   ]
  },
  {
   "cell_type": "code",
   "execution_count": 62,
   "id": "3d432d4b-4b11-4190-997c-176a76cf7e91",
   "metadata": {
    "pycharm": {
     "name": "#%%\n"
    }
   },
   "outputs": [
    {
     "data": {
      "text/plain": [
       "2"
      ]
     },
     "execution_count": 62,
     "metadata": {},
     "output_type": "execute_result"
    }
   ],
   "source": [
    "#count\n",
    "myName.count(\"i\")"
   ]
  },
  {
   "cell_type": "code",
   "execution_count": 64,
   "id": "08743b4f-5cdb-4901-b3bd-6f2e828052c9",
   "metadata": {
    "pycharm": {
     "name": "#%%\n"
    }
   },
   "outputs": [
    {
     "data": {
      "text/plain": [
       "'Ninghang Mei                                                                                        '"
      ]
     },
     "execution_count": 64,
     "metadata": {},
     "output_type": "execute_result"
    }
   ],
   "source": [
    "#ljust\n",
    "myName.ljust(100)"
   ]
  },
  {
   "cell_type": "code",
   "execution_count": 65,
   "id": "fb792773-a91d-4a56-8740-19de609dc142",
   "metadata": {
    "pycharm": {
     "name": "#%%\n"
    }
   },
   "outputs": [
    {
     "data": {
      "text/plain": [
       "'                                                                                        Ninghang Mei'"
      ]
     },
     "execution_count": 65,
     "metadata": {},
     "output_type": "execute_result"
    }
   ],
   "source": [
    "#rjust\n",
    "myName.rjust(100)"
   ]
  },
  {
   "cell_type": "code",
   "execution_count": 66,
   "id": "7a2ccd2b-1724-48f9-b6a4-4c0b7e7baeca",
   "metadata": {
    "pycharm": {
     "name": "#%%\n"
    }
   },
   "outputs": [
    {
     "data": {
      "text/plain": [
       "'ninghang mei'"
      ]
     },
     "execution_count": 66,
     "metadata": {},
     "output_type": "execute_result"
    }
   ],
   "source": [
    "#lower\n",
    "myName.lower()"
   ]
  },
  {
   "cell_type": "code",
   "execution_count": 67,
   "id": "fa3d22ef-f21f-474f-8cc9-b79f326cd77b",
   "metadata": {
    "pycharm": {
     "name": "#%%\n"
    }
   },
   "outputs": [
    {
     "data": {
      "text/plain": [
       "'Ninghang Mei'"
      ]
     },
     "execution_count": 67,
     "metadata": {},
     "output_type": "execute_result"
    }
   ],
   "source": [
    "myName"
   ]
  },
  {
   "cell_type": "code",
   "execution_count": 68,
   "id": "647cf73f-9f2d-4d40-a073-e6aab5d245fa",
   "metadata": {
    "pycharm": {
     "name": "#%%\n"
    }
   },
   "outputs": [
    {
     "data": {
      "text/plain": [
       "'NINGHANG MEI'"
      ]
     },
     "execution_count": 68,
     "metadata": {},
     "output_type": "execute_result"
    }
   ],
   "source": [
    "#upper\n",
    "myName.upper()"
   ]
  },
  {
   "cell_type": "code",
   "execution_count": 69,
   "id": "00814240-633a-4b37-a55c-e1cbe1a1d498",
   "metadata": {
    "pycharm": {
     "name": "#%%\n"
    }
   },
   "outputs": [
    {
     "data": {
      "text/plain": [
       "1"
      ]
     },
     "execution_count": 69,
     "metadata": {},
     "output_type": "execute_result"
    }
   ],
   "source": [
    "#find\n",
    "myName.find('i')"
   ]
  },
  {
   "cell_type": "code",
   "execution_count": 70,
   "id": "6590605d-2428-43e7-9b17-51d728d528d6",
   "metadata": {
    "pycharm": {
     "name": "#%%\n"
    }
   },
   "outputs": [
    {
     "data": {
      "text/plain": [
       "['Ninghang', 'Mei']"
      ]
     },
     "execution_count": 70,
     "metadata": {},
     "output_type": "execute_result"
    }
   ],
   "source": [
    "#split\n",
    "myName.split()"
   ]
  },
  {
   "cell_type": "code",
   "execution_count": 71,
   "id": "edad30aa-825e-494d-a584-0be66f75eeb6",
   "metadata": {
    "pycharm": {
     "name": "#%%\n"
    }
   },
   "outputs": [
    {
     "data": {
      "text/plain": [
       "['N', 'nghang Me', '']"
      ]
     },
     "execution_count": 71,
     "metadata": {},
     "output_type": "execute_result"
    }
   ],
   "source": [
    "myName.split('i')"
   ]
  },
  {
   "cell_type": "code",
   "execution_count": 72,
   "id": "267bf3b4-c0e7-4db7-ba7e-d9babf1b15b1",
   "metadata": {
    "pycharm": {
     "name": "#%%\n"
    }
   },
   "outputs": [
    {
     "data": {
      "text/plain": [
       "['Ninghang Mei']"
      ]
     },
     "execution_count": 72,
     "metadata": {},
     "output_type": "execute_result"
    }
   ],
   "source": [
    "myName.splitlines()"
   ]
  },
  {
   "cell_type": "code",
   "execution_count": 76,
   "id": "b3c7337f-7ab8-47fd-ac63-09e410846556",
   "metadata": {
    "pycharm": {
     "name": "#%%\n"
    }
   },
   "outputs": [
    {
     "data": {
      "text/plain": [
       "['Ninghang Mei']"
      ]
     },
     "execution_count": 76,
     "metadata": {},
     "output_type": "execute_result"
    }
   ],
   "source": [
    "myName.splitlines(300)"
   ]
  },
  {
   "cell_type": "markdown",
   "id": "93da5dfd-3874-4066-aedf-3817b08ab9d2",
   "metadata": {
    "pycharm": {
     "name": "#%% md\n"
    }
   },
   "source": [
    "list vs string"
   ]
  },
  {
   "cell_type": "code",
   "execution_count": 77,
   "id": "bcc6a82e-6840-4037-8760-7df3e9244b32",
   "metadata": {
    "pycharm": {
     "name": "#%%\n"
    }
   },
   "outputs": [
    {
     "data": {
      "text/plain": [
       "[6.5, 5, 1, False]"
      ]
     },
     "execution_count": 77,
     "metadata": {},
     "output_type": "execute_result"
    }
   ],
   "source": [
    "myList"
   ]
  },
  {
   "cell_type": "code",
   "execution_count": 78,
   "id": "8085a2cf-091d-4a8c-8a9d-06da67520de1",
   "metadata": {
    "pycharm": {
     "name": "#%%\n"
    }
   },
   "outputs": [
    {
     "data": {
      "text/plain": [
       "'Ninghang Mei'"
      ]
     },
     "execution_count": 78,
     "metadata": {},
     "output_type": "execute_result"
    }
   ],
   "source": [
    "myName"
   ]
  },
  {
   "cell_type": "code",
   "execution_count": 79,
   "id": "9e142fc6-9246-410f-8677-cbc4128a3e5f",
   "metadata": {
    "pycharm": {
     "name": "#%%\n"
    }
   },
   "outputs": [],
   "source": [
    "myList[0]=myName"
   ]
  },
  {
   "cell_type": "code",
   "execution_count": 80,
   "id": "cbaf7775-5e17-4a7f-80df-2a3e76f7de90",
   "metadata": {
    "pycharm": {
     "name": "#%%\n"
    }
   },
   "outputs": [
    {
     "data": {
      "text/plain": [
       "['Ninghang Mei', 5, 1, False]"
      ]
     },
     "execution_count": 80,
     "metadata": {},
     "output_type": "execute_result"
    }
   ],
   "source": [
    "myList"
   ]
  },
  {
   "cell_type": "code",
   "execution_count": 81,
   "id": "bda7a463-a3a0-46de-8e28-9e18b29aadaf",
   "metadata": {
    "pycharm": {
     "name": "#%%\n"
    }
   },
   "outputs": [
    {
     "data": {
      "text/plain": [
       "'Ninghang Mei'"
      ]
     },
     "execution_count": 81,
     "metadata": {},
     "output_type": "execute_result"
    }
   ],
   "source": [
    "myName"
   ]
  },
  {
   "cell_type": "code",
   "execution_count": 82,
   "id": "d2089d88-baec-4f51-ae31-cd9d5af541b7",
   "metadata": {
    "pycharm": {
     "name": "#%%\n"
    }
   },
   "outputs": [
    {
     "ename": "TypeError",
     "evalue": "'str' object does not support item assignment",
     "output_type": "error",
     "traceback": [
      "\u001B[0;31m---------------------------------------------------------------------------\u001B[0m",
      "\u001B[0;31mTypeError\u001B[0m                                 Traceback (most recent call last)",
      "Input \u001B[0;32mIn [82]\u001B[0m, in \u001B[0;36m<module>\u001B[0;34m\u001B[0m\n\u001B[0;32m----> 1\u001B[0m myName[\u001B[38;5;241m0\u001B[39m]\u001B[38;5;241m=\u001B[39m\u001B[38;5;124m'\u001B[39m\u001B[38;5;124ms\u001B[39m\u001B[38;5;124m'\u001B[39m\n",
      "\u001B[0;31mTypeError\u001B[0m: 'str' object does not support item assignment"
     ]
    }
   ],
   "source": [
    "myName[0]='s'"
   ]
  },
  {
   "cell_type": "markdown",
   "id": "2b5be588-6b55-4f8f-a9fe-d47887a539cd",
   "metadata": {
    "pycharm": {
     "name": "#%% md\n"
    }
   },
   "source": [
    "### tuple"
   ]
  },
  {
   "cell_type": "code",
   "execution_count": 83,
   "id": "c7b6700d-4a45-410e-bd09-075e7d2196fd",
   "metadata": {
    "pycharm": {
     "name": "#%%\n"
    }
   },
   "outputs": [],
   "source": [
    "myTuple = (2, 3, True, 4.96)"
   ]
  },
  {
   "cell_type": "code",
   "execution_count": 84,
   "id": "545f9afe-f1d0-4e71-87c2-03c8d5c336aa",
   "metadata": {
    "pycharm": {
     "name": "#%%\n"
    }
   },
   "outputs": [
    {
     "data": {
      "text/plain": [
       "(2, 3, True, 4.96)"
      ]
     },
     "execution_count": 84,
     "metadata": {},
     "output_type": "execute_result"
    }
   ],
   "source": [
    "myTuple"
   ]
  },
  {
   "cell_type": "code",
   "execution_count": 85,
   "id": "52528e80-3bb2-45a4-a0f1-0fc8e66e6372",
   "metadata": {
    "pycharm": {
     "name": "#%%\n"
    }
   },
   "outputs": [
    {
     "data": {
      "text/plain": [
       "2"
      ]
     },
     "execution_count": 85,
     "metadata": {},
     "output_type": "execute_result"
    }
   ],
   "source": [
    "myTuple[0]"
   ]
  },
  {
   "cell_type": "code",
   "execution_count": 86,
   "id": "55d8aa6b-58e6-4775-a3d2-0a4c5c21fa20",
   "metadata": {
    "pycharm": {
     "name": "#%%\n"
    }
   },
   "outputs": [
    {
     "ename": "TypeError",
     "evalue": "'tuple' object does not support item assignment",
     "output_type": "error",
     "traceback": [
      "\u001B[0;31m---------------------------------------------------------------------------\u001B[0m",
      "\u001B[0;31mTypeError\u001B[0m                                 Traceback (most recent call last)",
      "Input \u001B[0;32mIn [86]\u001B[0m, in \u001B[0;36m<module>\u001B[0;34m\u001B[0m\n\u001B[0;32m----> 1\u001B[0m myTuple[\u001B[38;5;241m0\u001B[39m]\u001B[38;5;241m=\u001B[39m\u001B[38;5;241m2\u001B[39m\n",
      "\u001B[0;31mTypeError\u001B[0m: 'tuple' object does not support item assignment"
     ]
    }
   ],
   "source": [
    "myTuple[0]=2"
   ]
  },
  {
   "cell_type": "markdown",
   "id": "2ed9b0f3-8d6b-4bdb-a22d-78b05a734900",
   "metadata": {
    "pycharm": {
     "name": "#%% md\n"
    }
   },
   "source": [
    "### set"
   ]
  },
  {
   "cell_type": "code",
   "execution_count": 88,
   "id": "c957e6bb-33f6-4de2-81a0-6af7136d6946",
   "metadata": {
    "pycharm": {
     "name": "#%%\n"
    }
   },
   "outputs": [],
   "source": [
    "mySet = {myName, myTuple}"
   ]
  },
  {
   "cell_type": "code",
   "execution_count": 89,
   "id": "5c1bcd50-c6b3-481c-b7b9-f145e73553f8",
   "metadata": {
    "pycharm": {
     "name": "#%%\n"
    }
   },
   "outputs": [
    {
     "data": {
      "text/plain": [
       "{(2, 3, True, 4.96), 'Ninghang Mei'}"
      ]
     },
     "execution_count": 89,
     "metadata": {},
     "output_type": "execute_result"
    }
   ],
   "source": [
    "mySet"
   ]
  },
  {
   "cell_type": "code",
   "execution_count": 90,
   "id": "0bdf8d7d-9a84-49fe-9565-70afe2e62cd3",
   "metadata": {
    "pycharm": {
     "name": "#%%\n"
    }
   },
   "outputs": [
    {
     "ename": "TypeError",
     "evalue": "unhashable type: 'list'",
     "output_type": "error",
     "traceback": [
      "\u001B[0;31m---------------------------------------------------------------------------\u001B[0m",
      "\u001B[0;31mTypeError\u001B[0m                                 Traceback (most recent call last)",
      "Input \u001B[0;32mIn [90]\u001B[0m, in \u001B[0;36m<module>\u001B[0;34m\u001B[0m\n\u001B[0;32m----> 1\u001B[0m \u001B[43mmySet\u001B[49m\u001B[38;5;241;43m.\u001B[39;49m\u001B[43madd\u001B[49m\u001B[43m(\u001B[49m\u001B[43m[\u001B[49m\u001B[38;5;241;43m2\u001B[39;49m\u001B[43m,\u001B[49m\u001B[38;5;241;43m3\u001B[39;49m\u001B[43m]\u001B[49m\u001B[43m)\u001B[49m\n",
      "\u001B[0;31mTypeError\u001B[0m: unhashable type: 'list'"
     ]
    }
   ],
   "source": [
    "mySet.add([2,3])"
   ]
  },
  {
   "cell_type": "code",
   "execution_count": 91,
   "id": "4fc8a9d1-509b-48c5-9c2b-5305c44037c4",
   "metadata": {
    "pycharm": {
     "name": "#%%\n"
    }
   },
   "outputs": [
    {
     "data": {
      "text/plain": [
       "False"
      ]
     },
     "execution_count": 91,
     "metadata": {},
     "output_type": "execute_result"
    }
   ],
   "source": [
    "#in\n",
    "2 in mySet"
   ]
  },
  {
   "cell_type": "code",
   "execution_count": 92,
   "id": "15aa63a7-348c-4ce3-974a-d009064bf1e6",
   "metadata": {
    "pycharm": {
     "name": "#%%\n"
    }
   },
   "outputs": [
    {
     "data": {
      "text/plain": [
       "True"
      ]
     },
     "execution_count": 92,
     "metadata": {},
     "output_type": "execute_result"
    }
   ],
   "source": [
    "myName in mySet"
   ]
  },
  {
   "cell_type": "code",
   "execution_count": 93,
   "id": "5cbf2674-8fe0-4777-8199-777232ff25db",
   "metadata": {
    "pycharm": {
     "name": "#%%\n"
    }
   },
   "outputs": [
    {
     "data": {
      "text/plain": [
       "2"
      ]
     },
     "execution_count": 93,
     "metadata": {},
     "output_type": "execute_result"
    }
   ],
   "source": [
    "len(mySet)"
   ]
  },
  {
   "cell_type": "code",
   "execution_count": 94,
   "id": "4d53c103-08a9-460c-ab13-0ab95dab464e",
   "metadata": {
    "pycharm": {
     "name": "#%%\n"
    }
   },
   "outputs": [
    {
     "data": {
      "text/plain": [
       "{3, 4, 5, 6}"
      ]
     },
     "execution_count": 94,
     "metadata": {},
     "output_type": "execute_result"
    }
   ],
   "source": [
    "myNewSet = {3,4,5,6}\n",
    "myNewSet"
   ]
  },
  {
   "cell_type": "code",
   "execution_count": 95,
   "id": "a2f997b9-3969-4ce2-9478-6845049536c2",
   "metadata": {
    "pycharm": {
     "name": "#%%\n"
    }
   },
   "outputs": [
    {
     "data": {
      "text/plain": [
       "{(2, 3, True, 4.96), 3, 4, 5, 6, 'Ninghang Mei'}"
      ]
     },
     "execution_count": 95,
     "metadata": {},
     "output_type": "execute_result"
    }
   ],
   "source": [
    "#|\n",
    "myNewSet | mySet"
   ]
  },
  {
   "cell_type": "code",
   "execution_count": 96,
   "id": "91f9ebbf-7d0f-4090-ad6a-9fa0f877937e",
   "metadata": {
    "pycharm": {
     "name": "#%%\n"
    }
   },
   "outputs": [
    {
     "data": {
      "text/plain": [
       "set()"
      ]
     },
     "execution_count": 96,
     "metadata": {},
     "output_type": "execute_result"
    }
   ],
   "source": [
    "#&\n",
    "myNewSet & mySet"
   ]
  },
  {
   "cell_type": "code",
   "execution_count": 97,
   "id": "4f7148b9-0bbe-4764-a463-d48bd6c44d04",
   "metadata": {
    "pycharm": {
     "name": "#%%\n"
    }
   },
   "outputs": [
    {
     "data": {
      "text/plain": [
       "set"
      ]
     },
     "execution_count": 97,
     "metadata": {},
     "output_type": "execute_result"
    }
   ],
   "source": [
    "type(set())"
   ]
  },
  {
   "cell_type": "code",
   "execution_count": 99,
   "id": "eb96b5c4-f12e-4257-8ac3-88aa1e270aec",
   "metadata": {
    "pycharm": {
     "name": "#%%\n"
    }
   },
   "outputs": [
    {
     "data": {
      "text/plain": [
       "{(2, 3, True, 4.96), 'Ninghang Mei'}"
      ]
     },
     "execution_count": 99,
     "metadata": {},
     "output_type": "execute_result"
    }
   ],
   "source": [
    "#-\n",
    "mySet - myNewSet"
   ]
  },
  {
   "cell_type": "code",
   "execution_count": 100,
   "id": "63512411-985e-43c2-9b7e-a0f2bd72c5d6",
   "metadata": {
    "pycharm": {
     "name": "#%%\n"
    }
   },
   "outputs": [
    {
     "data": {
      "text/plain": [
       "False"
      ]
     },
     "execution_count": 100,
     "metadata": {},
     "output_type": "execute_result"
    }
   ],
   "source": [
    "# <=\n",
    "mySet <= myNewSet"
   ]
  },
  {
   "cell_type": "code",
   "execution_count": 101,
   "id": "f3d0a85f-6245-4fbe-9892-bdb739dce912",
   "metadata": {
    "pycharm": {
     "name": "#%%\n"
    }
   },
   "outputs": [
    {
     "data": {
      "text/plain": [
       "{(2, 3, True, 4.96), 3, 4, 5, 6, 'Ninghang Mei'}"
      ]
     },
     "execution_count": 101,
     "metadata": {},
     "output_type": "execute_result"
    }
   ],
   "source": [
    "# union\n",
    "myNewSet.union(mySet)"
   ]
  },
  {
   "cell_type": "code",
   "execution_count": 102,
   "id": "081c568a-7fc6-4edb-b7db-cdb29b66dcc2",
   "metadata": {
    "pycharm": {
     "name": "#%%\n"
    }
   },
   "outputs": [
    {
     "data": {
      "text/plain": [
       "set()"
      ]
     },
     "execution_count": 102,
     "metadata": {},
     "output_type": "execute_result"
    }
   ],
   "source": [
    "# intersection\n",
    "myNewSet.intersection(mySet)"
   ]
  },
  {
   "cell_type": "code",
   "execution_count": 103,
   "id": "953afa2a-9234-4a58-94fa-0041c91e1263",
   "metadata": {
    "pycharm": {
     "name": "#%%\n"
    }
   },
   "outputs": [
    {
     "data": {
      "text/plain": [
       "{3, 4, 5, 6}"
      ]
     },
     "execution_count": 103,
     "metadata": {},
     "output_type": "execute_result"
    }
   ],
   "source": [
    "# difference\n",
    "myNewSet.difference(mySet)"
   ]
  },
  {
   "cell_type": "code",
   "execution_count": 104,
   "id": "f9ef6b30-674d-4d54-af78-e8370a3f6ea0",
   "metadata": {
    "pycharm": {
     "name": "#%%\n"
    }
   },
   "outputs": [
    {
     "data": {
      "text/plain": [
       "False"
      ]
     },
     "execution_count": 104,
     "metadata": {},
     "output_type": "execute_result"
    }
   ],
   "source": [
    "#issubset\n",
    "myNewSet.issubset(mySet)"
   ]
  },
  {
   "cell_type": "code",
   "execution_count": 105,
   "id": "59ba64c4-4e4d-43d0-be69-08d005e04e6b",
   "metadata": {
    "pycharm": {
     "name": "#%%\n"
    }
   },
   "outputs": [
    {
     "data": {
      "text/plain": [
       "False"
      ]
     },
     "execution_count": 105,
     "metadata": {},
     "output_type": "execute_result"
    }
   ],
   "source": [
    "mySet.issuperset(myNewSet)"
   ]
  },
  {
   "cell_type": "code",
   "execution_count": 106,
   "id": "9fe925e9-1918-4789-8cfb-63177a814e6a",
   "metadata": {
    "pycharm": {
     "name": "#%%\n"
    }
   },
   "outputs": [
    {
     "data": {
      "text/plain": [
       "{(2, 3, True, 4.96), 'Ninghang Mei'}"
      ]
     },
     "execution_count": 106,
     "metadata": {},
     "output_type": "execute_result"
    }
   ],
   "source": [
    "#add\n",
    "mySet"
   ]
  },
  {
   "cell_type": "code",
   "execution_count": 110,
   "id": "12c40c0d-bebe-468e-8f94-7d691b4464ee",
   "metadata": {
    "pycharm": {
     "name": "#%%\n"
    }
   },
   "outputs": [
    {
     "data": {
      "text/plain": [
       "{(2, 3, 45), (2, 3, True, 4.96), 'Ninghang Mei'}"
      ]
     },
     "execution_count": 110,
     "metadata": {},
     "output_type": "execute_result"
    }
   ],
   "source": [
    "mySet.add((2,3,45))\n",
    "mySet"
   ]
  },
  {
   "cell_type": "code",
   "execution_count": 111,
   "id": "c988eeee-1db8-43cf-bbe0-b2b672e9cd00",
   "metadata": {
    "pycharm": {
     "name": "#%%\n"
    }
   },
   "outputs": [
    {
     "data": {
      "text/plain": [
       "{(2, 3, True, 4.96), 'Ninghang Mei'}"
      ]
     },
     "execution_count": 111,
     "metadata": {},
     "output_type": "execute_result"
    }
   ],
   "source": [
    "#remove\n",
    "mySet.remove((2,3,45))\n",
    "mySet"
   ]
  },
  {
   "cell_type": "code",
   "execution_count": 112,
   "id": "211e9708-1274-41cb-ad73-6fb48fd3b2b3",
   "metadata": {
    "pycharm": {
     "name": "#%%\n"
    }
   },
   "outputs": [
    {
     "data": {
      "text/plain": [
       "3"
      ]
     },
     "execution_count": 112,
     "metadata": {},
     "output_type": "execute_result"
    }
   ],
   "source": [
    "#pop\n",
    "myNewSet.pop()"
   ]
  },
  {
   "cell_type": "code",
   "execution_count": 113,
   "id": "2298a53a-087d-4d8d-a70f-99671ca37c0a",
   "metadata": {
    "pycharm": {
     "name": "#%%\n"
    }
   },
   "outputs": [
    {
     "data": {
      "text/plain": [
       "{4, 5, 6}"
      ]
     },
     "execution_count": 113,
     "metadata": {},
     "output_type": "execute_result"
    }
   ],
   "source": [
    "myNewSet"
   ]
  },
  {
   "cell_type": "code",
   "execution_count": 114,
   "id": "c05abdb9-eaef-4433-a3cd-37df40eeb9b7",
   "metadata": {
    "pycharm": {
     "name": "#%%\n"
    }
   },
   "outputs": [],
   "source": [
    "#clear\n",
    "myNewSet.clear()"
   ]
  },
  {
   "cell_type": "code",
   "execution_count": 115,
   "id": "4f507c6e-6f22-4dc3-aac8-9e748708ae9f",
   "metadata": {
    "pycharm": {
     "name": "#%%\n"
    }
   },
   "outputs": [
    {
     "data": {
      "text/plain": [
       "set()"
      ]
     },
     "execution_count": 115,
     "metadata": {},
     "output_type": "execute_result"
    }
   ],
   "source": [
    "myNewSet"
   ]
  },
  {
   "cell_type": "markdown",
   "id": "2ba676cb-9f58-4cc7-9032-2ab5b6dedc08",
   "metadata": {
    "pycharm": {
     "name": "#%% md\n"
    }
   },
   "source": [
    "### dict"
   ]
  },
  {
   "cell_type": "code",
   "execution_count": 116,
   "id": "8159c070-dc14-4fa8-8996-7850f7c21e8d",
   "metadata": {
    "pycharm": {
     "name": "#%%\n"
    }
   },
   "outputs": [
    {
     "data": {
      "text/plain": [
       "{'Hebei': 'Shijiazhuang', 'Henan': 'Zhengzhou'}"
      ]
     },
     "execution_count": 116,
     "metadata": {},
     "output_type": "execute_result"
    }
   ],
   "source": [
    "capitals = {'Hebei':'Shijiazhuang','Henan':'Zhengzhou'}\n",
    "capitals"
   ]
  },
  {
   "cell_type": "code",
   "execution_count": 117,
   "id": "961eec20-7907-456c-a45c-e1f857316d31",
   "metadata": {
    "pycharm": {
     "name": "#%%\n"
    }
   },
   "outputs": [
    {
     "data": {
      "text/plain": [
       "'Shijiazhuang'"
      ]
     },
     "execution_count": 117,
     "metadata": {},
     "output_type": "execute_result"
    }
   ],
   "source": [
    "capitals['Hebei']"
   ]
  },
  {
   "cell_type": "code",
   "execution_count": 118,
   "id": "e0eb177a-0769-4337-9439-29911562344f",
   "metadata": {
    "pycharm": {
     "name": "#%%\n"
    }
   },
   "outputs": [
    {
     "data": {
      "text/plain": [
       "{'Hebei': 'Shijiazhuang', 'Henan': 'Zhengzhou', 'Shanxi': 'Taiyuan'}"
      ]
     },
     "execution_count": 118,
     "metadata": {},
     "output_type": "execute_result"
    }
   ],
   "source": [
    "capitals['Shanxi'] = 'Taiyuan'\n",
    "capitals"
   ]
  },
  {
   "cell_type": "code",
   "execution_count": 119,
   "id": "b9860da1-4347-42e4-82e7-0f1c43ed2fa5",
   "metadata": {
    "pycharm": {
     "name": "#%%\n"
    }
   },
   "outputs": [
    {
     "data": {
      "text/plain": [
       "3"
      ]
     },
     "execution_count": 119,
     "metadata": {},
     "output_type": "execute_result"
    }
   ],
   "source": [
    "len(capitals)"
   ]
  },
  {
   "cell_type": "code",
   "execution_count": 120,
   "id": "33f87e21-a60e-4616-ac38-1e4c80da98fb",
   "metadata": {
    "pycharm": {
     "name": "#%%\n"
    }
   },
   "outputs": [
    {
     "data": {
      "text/plain": [
       "dict"
      ]
     },
     "execution_count": 120,
     "metadata": {},
     "output_type": "execute_result"
    }
   ],
   "source": [
    "type(capitals)"
   ]
  },
  {
   "cell_type": "code",
   "execution_count": 121,
   "id": "0762f69e-10db-4eea-aeec-c902d3f3c7a6",
   "metadata": {
    "pycharm": {
     "name": "#%%\n"
    }
   },
   "outputs": [
    {
     "data": {
      "text/plain": [
       "'Shijiazhuang'"
      ]
     },
     "execution_count": 121,
     "metadata": {},
     "output_type": "execute_result"
    }
   ],
   "source": [
    "#[]\n",
    "capitals['Hebei']"
   ]
  },
  {
   "cell_type": "code",
   "execution_count": 123,
   "id": "27f7961b-28bc-4a8e-99de-6687f08faa6d",
   "metadata": {
    "pycharm": {
     "name": "#%%\n"
    }
   },
   "outputs": [
    {
     "data": {
      "text/plain": [
       "True"
      ]
     },
     "execution_count": 123,
     "metadata": {},
     "output_type": "execute_result"
    }
   ],
   "source": [
    "#in\n",
    "'Henan' in capitals.keys()"
   ]
  },
  {
   "cell_type": "code",
   "execution_count": 124,
   "id": "c95b6619-a9b8-4bfc-8f33-16afecc91764",
   "metadata": {
    "pycharm": {
     "name": "#%%\n"
    }
   },
   "outputs": [
    {
     "data": {
      "text/plain": [
       "{'Hebei': 'Shijiazhuang', 'Henan': 'Zhengzhou', 'Shanxi': 'Taiyuan'}"
      ]
     },
     "execution_count": 124,
     "metadata": {},
     "output_type": "execute_result"
    }
   ],
   "source": [
    "#del\n",
    "capitals"
   ]
  },
  {
   "cell_type": "code",
   "execution_count": 125,
   "id": "c6b72201-9452-412f-ab3b-7b69dfb94eaf",
   "metadata": {
    "pycharm": {
     "name": "#%%\n"
    }
   },
   "outputs": [],
   "source": [
    "del capitals['Hebei']"
   ]
  },
  {
   "cell_type": "code",
   "execution_count": 126,
   "id": "da35bdeb-fcb5-4e6d-91e3-0ae6110aabc8",
   "metadata": {
    "pycharm": {
     "name": "#%%\n"
    }
   },
   "outputs": [
    {
     "data": {
      "text/plain": [
       "{'Henan': 'Zhengzhou', 'Shanxi': 'Taiyuan'}"
      ]
     },
     "execution_count": 126,
     "metadata": {},
     "output_type": "execute_result"
    }
   ],
   "source": [
    "capitals"
   ]
  },
  {
   "cell_type": "code",
   "execution_count": 127,
   "id": "b9c7a2f6-9de1-4135-bc08-1d2079be7582",
   "metadata": {
    "pycharm": {
     "name": "#%%\n"
    }
   },
   "outputs": [
    {
     "data": {
      "text/plain": [
       "dict_keys(['Henan', 'Shanxi'])"
      ]
     },
     "execution_count": 127,
     "metadata": {},
     "output_type": "execute_result"
    }
   ],
   "source": [
    "#keys\n",
    "capitals.keys()"
   ]
  },
  {
   "cell_type": "code",
   "execution_count": 128,
   "id": "4bbb0f46-73eb-4cb6-9c33-7a416484840d",
   "metadata": {
    "pycharm": {
     "name": "#%%\n"
    }
   },
   "outputs": [
    {
     "data": {
      "text/plain": [
       "dict_values(['Zhengzhou', 'Taiyuan'])"
      ]
     },
     "execution_count": 128,
     "metadata": {},
     "output_type": "execute_result"
    }
   ],
   "source": [
    "#values\n",
    "capitals.values()"
   ]
  },
  {
   "cell_type": "code",
   "execution_count": 129,
   "id": "f3fb1923-aa22-42cf-b7de-56482f639cf3",
   "metadata": {
    "pycharm": {
     "name": "#%%\n"
    }
   },
   "outputs": [
    {
     "data": {
      "text/plain": [
       "dict_items([('Henan', 'Zhengzhou'), ('Shanxi', 'Taiyuan')])"
      ]
     },
     "execution_count": 129,
     "metadata": {},
     "output_type": "execute_result"
    }
   ],
   "source": [
    "#items\n",
    "capitals.items()"
   ]
  },
  {
   "cell_type": "code",
   "execution_count": 130,
   "id": "e17b5a6a-be41-417a-9850-e775264192ab",
   "metadata": {
    "pycharm": {
     "name": "#%%\n"
    }
   },
   "outputs": [],
   "source": [
    "#get\n",
    "capitals.get('Xinjiang')"
   ]
  },
  {
   "cell_type": "code",
   "execution_count": 131,
   "id": "7449da30-5d7d-4acf-b2df-15f5ab0a3416",
   "metadata": {
    "pycharm": {
     "name": "#%%\n"
    }
   },
   "outputs": [
    {
     "data": {
      "text/plain": [
       "{'Henan': 'Zhengzhou', 'Shanxi': 'Taiyuan'}"
      ]
     },
     "execution_count": 131,
     "metadata": {},
     "output_type": "execute_result"
    }
   ],
   "source": [
    "capitals"
   ]
  },
  {
   "cell_type": "code",
   "execution_count": 133,
   "id": "85fc5bb0-a867-4de9-b0cd-0f2404d5e2e4",
   "metadata": {
    "pycharm": {
     "name": "#%%\n"
    }
   },
   "outputs": [
    {
     "data": {
      "text/plain": [
       "'Wulvmuqi'"
      ]
     },
     "execution_count": 133,
     "metadata": {},
     "output_type": "execute_result"
    }
   ],
   "source": [
    "#get\n",
    "capitals.get('Xinjiang','Wulvmuqi')"
   ]
  },
  {
   "cell_type": "markdown",
   "id": "b3525295-8fc2-4b8a-8d00-0a51c4db9976",
   "metadata": {
    "pycharm": {
     "name": "#%% md\n"
    }
   },
   "source": [
    "## 1.4.2 O/I"
   ]
  },
  {
   "cell_type": "code",
   "execution_count": 1,
   "id": "d594ad32-ae3b-49b2-bf2e-b695bd97dd52",
   "metadata": {
    "pycharm": {
     "name": "#%%\n"
    }
   },
   "outputs": [
    {
     "ename": "KeyboardInterrupt",
     "evalue": "Interrupted by user",
     "output_type": "error",
     "traceback": [
      "\u001B[0;31m---------------------------------------------------------------------------\u001B[0m",
      "\u001B[0;31mKeyboardInterrupt\u001B[0m                         Traceback (most recent call last)",
      "Input \u001B[0;32mIn [1]\u001B[0m, in \u001B[0;36m<module>\u001B[0;34m\u001B[0m\n\u001B[0;32m----> 1\u001B[0m aName \u001B[38;5;241m=\u001B[39m \u001B[38;5;28;43minput\u001B[39;49m\u001B[43m(\u001B[49m\u001B[38;5;124;43m'\u001B[39;49m\u001B[38;5;124;43mPlease enter your name: \u001B[39;49m\u001B[38;5;124;43m'\u001B[39;49m\u001B[43m)\u001B[49m\n",
      "File \u001B[0;32m~/env/lib/python3.8/site-packages/ipykernel/kernelbase.py:1075\u001B[0m, in \u001B[0;36mKernel.raw_input\u001B[0;34m(self, prompt)\u001B[0m\n\u001B[1;32m   1071\u001B[0m \u001B[38;5;28;01mif\u001B[39;00m \u001B[38;5;129;01mnot\u001B[39;00m \u001B[38;5;28mself\u001B[39m\u001B[38;5;241m.\u001B[39m_allow_stdin:\n\u001B[1;32m   1072\u001B[0m     \u001B[38;5;28;01mraise\u001B[39;00m StdinNotImplementedError(\n\u001B[1;32m   1073\u001B[0m         \u001B[38;5;124m\"\u001B[39m\u001B[38;5;124mraw_input was called, but this frontend does not support input requests.\u001B[39m\u001B[38;5;124m\"\u001B[39m\n\u001B[1;32m   1074\u001B[0m     )\n\u001B[0;32m-> 1075\u001B[0m \u001B[38;5;28;01mreturn\u001B[39;00m \u001B[38;5;28;43mself\u001B[39;49m\u001B[38;5;241;43m.\u001B[39;49m\u001B[43m_input_request\u001B[49m\u001B[43m(\u001B[49m\n\u001B[1;32m   1076\u001B[0m \u001B[43m    \u001B[49m\u001B[38;5;28;43mstr\u001B[39;49m\u001B[43m(\u001B[49m\u001B[43mprompt\u001B[49m\u001B[43m)\u001B[49m\u001B[43m,\u001B[49m\n\u001B[1;32m   1077\u001B[0m \u001B[43m    \u001B[49m\u001B[38;5;28;43mself\u001B[39;49m\u001B[38;5;241;43m.\u001B[39;49m\u001B[43m_parent_ident\u001B[49m\u001B[43m[\u001B[49m\u001B[38;5;124;43m\"\u001B[39;49m\u001B[38;5;124;43mshell\u001B[39;49m\u001B[38;5;124;43m\"\u001B[39;49m\u001B[43m]\u001B[49m\u001B[43m,\u001B[49m\n\u001B[1;32m   1078\u001B[0m \u001B[43m    \u001B[49m\u001B[38;5;28;43mself\u001B[39;49m\u001B[38;5;241;43m.\u001B[39;49m\u001B[43mget_parent\u001B[49m\u001B[43m(\u001B[49m\u001B[38;5;124;43m\"\u001B[39;49m\u001B[38;5;124;43mshell\u001B[39;49m\u001B[38;5;124;43m\"\u001B[39;49m\u001B[43m)\u001B[49m\u001B[43m,\u001B[49m\n\u001B[1;32m   1079\u001B[0m \u001B[43m    \u001B[49m\u001B[43mpassword\u001B[49m\u001B[38;5;241;43m=\u001B[39;49m\u001B[38;5;28;43;01mFalse\u001B[39;49;00m\u001B[43m,\u001B[49m\n\u001B[1;32m   1080\u001B[0m \u001B[43m\u001B[49m\u001B[43m)\u001B[49m\n",
      "File \u001B[0;32m~/env/lib/python3.8/site-packages/ipykernel/kernelbase.py:1120\u001B[0m, in \u001B[0;36mKernel._input_request\u001B[0;34m(self, prompt, ident, parent, password)\u001B[0m\n\u001B[1;32m   1117\u001B[0m             \u001B[38;5;28;01mbreak\u001B[39;00m\n\u001B[1;32m   1118\u001B[0m \u001B[38;5;28;01mexcept\u001B[39;00m \u001B[38;5;167;01mKeyboardInterrupt\u001B[39;00m:\n\u001B[1;32m   1119\u001B[0m     \u001B[38;5;66;03m# re-raise KeyboardInterrupt, to truncate traceback\u001B[39;00m\n\u001B[0;32m-> 1120\u001B[0m     \u001B[38;5;28;01mraise\u001B[39;00m \u001B[38;5;167;01mKeyboardInterrupt\u001B[39;00m(\u001B[38;5;124m\"\u001B[39m\u001B[38;5;124mInterrupted by user\u001B[39m\u001B[38;5;124m\"\u001B[39m) \u001B[38;5;28;01mfrom\u001B[39;00m \u001B[38;5;28mNone\u001B[39m\n\u001B[1;32m   1121\u001B[0m \u001B[38;5;28;01mexcept\u001B[39;00m \u001B[38;5;167;01mException\u001B[39;00m:\n\u001B[1;32m   1122\u001B[0m     \u001B[38;5;28mself\u001B[39m\u001B[38;5;241m.\u001B[39mlog\u001B[38;5;241m.\u001B[39mwarning(\u001B[38;5;124m\"\u001B[39m\u001B[38;5;124mInvalid Message:\u001B[39m\u001B[38;5;124m\"\u001B[39m, exc_info\u001B[38;5;241m=\u001B[39m\u001B[38;5;28;01mTrue\u001B[39;00m)\n",
      "\u001B[0;31mKeyboardInterrupt\u001B[0m: Interrupted by user"
     ]
    }
   ],
   "source": [
    "aName = input('Please enter your name: ')"
   ]
  },
  {
   "cell_type": "code",
   "execution_count": 135,
   "id": "71b9413d-a240-49a7-b22a-df5829cd075e",
   "metadata": {
    "pycharm": {
     "name": "#%%\n"
    }
   },
   "outputs": [
    {
     "ename": "NameError",
     "evalue": "name 'aName' is not defined",
     "output_type": "error",
     "traceback": [
      "\u001B[0;31m---------------------------------------------------------------------------\u001B[0m",
      "\u001B[0;31mNameError\u001B[0m                                 Traceback (most recent call last)",
      "Input \u001B[0;32mIn [135]\u001B[0m, in \u001B[0;36m<module>\u001B[0;34m\u001B[0m\n\u001B[0;32m----> 1\u001B[0m \u001B[43maName\u001B[49m\n",
      "\u001B[0;31mNameError\u001B[0m: name 'aName' is not defined"
     ]
    }
   ],
   "source": [
    "aName"
   ]
  },
  {
   "cell_type": "code",
   "execution_count": 2,
   "id": "7e20da89-3a9e-4dcb-911c-952ed5cc662c",
   "metadata": {
    "pycharm": {
     "name": "#%%\n"
    }
   },
   "outputs": [
    {
     "name": "stdout",
     "output_type": "stream",
     "text": [
      "ni is 12 years old.\n"
     ]
    }
   ],
   "source": [
    "#%\n",
    "print(\"%s is %d years old.\" %(\"ni\",12))"
   ]
  },
  {
   "cell_type": "code",
   "execution_count": 3,
   "id": "dfd89715-567b-42ce-adb2-d8a9cd1a1f28",
   "metadata": {
    "pycharm": {
     "name": "#%%\n"
    }
   },
   "outputs": [],
   "source": [
    "price = 24\n",
    "item = 'banana'"
   ]
  },
  {
   "cell_type": "code",
   "execution_count": 9,
   "id": "0a986b9a-bc93-45a5-b1ec-d6e30fcecc96",
   "metadata": {
    "pycharm": {
     "name": "#%%\n"
    }
   },
   "outputs": [
    {
     "name": "stdout",
     "output_type": "stream",
     "text": [
      "The banana               costs 24.00 cents.\n"
     ]
    }
   ],
   "source": [
    "print('The %-20s costs %.2f cents.' % (item,price))"
   ]
  },
  {
   "cell_type": "code",
   "execution_count": 11,
   "id": "e6114cc6-bbd2-42a6-b002-598172ddae70",
   "metadata": {
    "pycharm": {
     "name": "#%%\n"
    }
   },
   "outputs": [
    {
     "name": "stdout",
     "output_type": "stream",
     "text": [
      "The     banana costs                                                                                                                                                                                                                                                                                                                                                                                                                                                                                                                24.00 cents.\n"
     ]
    }
   ],
   "source": [
    "print('The %+10s costs %500.2f cents.' % (item,price))"
   ]
  },
  {
   "cell_type": "code",
   "execution_count": 12,
   "id": "c38dbf10-9d6a-4d67-abb1-d98309424fe7",
   "metadata": {
    "pycharm": {
     "name": "#%%\n"
    }
   },
   "outputs": [],
   "source": [
    "#dict\n",
    "itemdict = {'item':'banana','cost':24}"
   ]
  },
  {
   "cell_type": "code",
   "execution_count": 13,
   "id": "616d5e7c-9d6b-406f-90bf-68a585b20cb7",
   "metadata": {
    "pycharm": {
     "name": "#%%\n"
    }
   },
   "outputs": [
    {
     "name": "stdout",
     "output_type": "stream",
     "text": [
      "The banana costs    24.0 cents\n"
     ]
    }
   ],
   "source": [
    "print('The %(item)s costs %(cost)7.1f cents' % itemdict)"
   ]
  },
  {
   "cell_type": "markdown",
   "id": "eeeb71a7-07b5-4509-9e78-37763760ceef",
   "metadata": {
    "pycharm": {
     "name": "#%% md\n"
    }
   },
   "source": [
    "## 1.4.3 Control Flow"
   ]
  },
  {
   "cell_type": "code",
   "execution_count": 16,
   "id": "4de6879f-5175-426a-ad89-30897d762bc7",
   "metadata": {
    "pycharm": {
     "name": "#%%\n"
    }
   },
   "outputs": [
    {
     "name": "stdout",
     "output_type": "stream",
     "text": [
      "Hello World!\n",
      "Hello World!\n",
      "Hello World!\n",
      "Hello World!\n",
      "Hello World!\n"
     ]
    }
   ],
   "source": [
    "#while\n",
    "counter = 1\n",
    "while counter <= 5:\n",
    "    print('Hello World!')\n",
    "    counter += 1"
   ]
  },
  {
   "cell_type": "code",
   "execution_count": 17,
   "id": "a7cbcc91-386b-4692-98b4-759671299fe4",
   "metadata": {
    "pycharm": {
     "name": "#%%\n"
    }
   },
   "outputs": [
    {
     "name": "stdout",
     "output_type": "stream",
     "text": [
      "1\n",
      "2\n",
      "3\n",
      "4\n",
      "5\n"
     ]
    }
   ],
   "source": [
    "#for\n",
    "for i in list(range(1,6)):\n",
    "    print(i)"
   ]
  },
  {
   "cell_type": "code",
   "execution_count": 18,
   "id": "1aa87929-91ee-4598-9ba4-15f6fc4a8d29",
   "metadata": {
    "pycharm": {
     "name": "#%%\n"
    }
   },
   "outputs": [
    {
     "name": "stdout",
     "output_type": "stream",
     "text": [
      "0\n",
      "1\n",
      "4\n",
      "9\n",
      "16\n"
     ]
    }
   ],
   "source": [
    "for i in range(5):\n",
    "    print(i ** 2)"
   ]
  },
  {
   "cell_type": "code",
   "execution_count": 19,
   "id": "de51a74c-1693-4d6a-a662-da15323bb019",
   "metadata": {
    "pycharm": {
     "name": "#%%\n"
    }
   },
   "outputs": [
    {
     "name": "stdout",
     "output_type": "stream",
     "text": [
      "cat\n",
      "dog\n",
      "rabbit\n"
     ]
    }
   ],
   "source": [
    "# for with string\n",
    "worldlist = ['cat','dog','rabbit']\n",
    "letterlist = []\n",
    "for aword in worldlist:\n",
    "    print(aword)"
   ]
  },
  {
   "cell_type": "code",
   "execution_count": 22,
   "id": "691f797c-98d8-4716-a718-149b88e15095",
   "metadata": {
    "pycharm": {
     "name": "#%%\n"
    }
   },
   "outputs": [
    {
     "data": {
      "text/plain": [
       "['c', 'a', 't', 'd', 'o', 'g', 'r', 'a', 'b', 'b', 'i', 't']"
      ]
     },
     "execution_count": 22,
     "metadata": {},
     "output_type": "execute_result"
    }
   ],
   "source": [
    "worldlist = ['cat','dog','rabbit']\n",
    "letterlist = []\n",
    "for aword in worldlist:\n",
    "    for aletter in aword:\n",
    "        letterlist.append(aletter)\n",
    "letterlist"
   ]
  },
  {
   "cell_type": "code",
   "execution_count": 25,
   "id": "84a18542-15e7-479c-a395-c3a24c303b30",
   "metadata": {
    "pycharm": {
     "name": "#%%\n"
    }
   },
   "outputs": [
    {
     "name": "stdout",
     "output_type": "stream",
     "text": [
      "3.0\n"
     ]
    }
   ],
   "source": [
    "#if else\n",
    "import math\n",
    "n = 9\n",
    "if n < 0:\n",
    "    print('Sorry, Value is negative')\n",
    "else:\n",
    "    print(math.sqrt(n))"
   ]
  },
  {
   "cell_type": "code",
   "execution_count": 26,
   "id": "1959d06e-ade4-41c4-9303-dd0a97f0f849",
   "metadata": {
    "pycharm": {
     "name": "#%%\n"
    }
   },
   "outputs": [
    {
     "name": "stdout",
     "output_type": "stream",
     "text": [
      "E\n"
     ]
    }
   ],
   "source": [
    "#if elif\n",
    "score = 56\n",
    "if score >= 90:\n",
    "    print('A')\n",
    "elif score >= 80:\n",
    "    print('B')\n",
    "elif score >= 70:\n",
    "    print('C')\n",
    "elif score >= 60:\n",
    "    print('D')\n",
    "else:\n",
    "    print('E')"
   ]
  },
  {
   "cell_type": "code",
   "execution_count": 27,
   "id": "9e14a2e9-6b07-4b64-a2c0-f54bcbcdacd0",
   "metadata": {
    "pycharm": {
     "name": "#%%\n"
    }
   },
   "outputs": [
    {
     "data": {
      "text/plain": [
       "9"
      ]
     },
     "execution_count": 27,
     "metadata": {},
     "output_type": "execute_result"
    }
   ],
   "source": [
    "n"
   ]
  },
  {
   "cell_type": "code",
   "execution_count": 34,
   "id": "ad1ff14f-f36e-427b-b20d-d6dbbd960111",
   "metadata": {
    "pycharm": {
     "name": "#%%\n"
    }
   },
   "outputs": [
    {
     "name": "stdout",
     "output_type": "stream",
     "text": [
      "9\n"
     ]
    }
   ],
   "source": [
    "n = 9\n",
    "if n > 9:\n",
    "    n = math.asin(n)\n",
    "print(n)"
   ]
  },
  {
   "cell_type": "code",
   "execution_count": 35,
   "id": "ff51e49e-e4f0-4f77-b075-2f809fa2d710",
   "metadata": {
    "pycharm": {
     "name": "#%%\n"
    }
   },
   "outputs": [
    {
     "data": {
      "text/plain": [
       "9"
      ]
     },
     "execution_count": 35,
     "metadata": {},
     "output_type": "execute_result"
    }
   ],
   "source": [
    "n"
   ]
  },
  {
   "cell_type": "code",
   "execution_count": 37,
   "id": "b908efe8-b5fd-4047-a12d-7cf2947aef41",
   "metadata": {
    "pycharm": {
     "name": "#%%\n"
    }
   },
   "outputs": [
    {
     "data": {
      "text/plain": [
       "[1, 4, 9, 16, 25, 36, 49, 64, 81, 100]"
      ]
     },
     "execution_count": 37,
     "metadata": {},
     "output_type": "execute_result"
    }
   ],
   "source": [
    "sqlist = []\n",
    "for x  in range(1,11):\n",
    "    sqlist.append(x*x)\n",
    "sqlist"
   ]
  },
  {
   "cell_type": "code",
   "execution_count": 38,
   "id": "06c7c603-9ce1-4921-ad03-f5107d24df40",
   "metadata": {
    "pycharm": {
     "name": "#%%\n"
    }
   },
   "outputs": [],
   "source": [
    "sqlist2 = [x*x for x in range(1,11)]"
   ]
  },
  {
   "cell_type": "code",
   "execution_count": 39,
   "id": "73cb8977-f838-47fa-ae89-05753b593c85",
   "metadata": {
    "pycharm": {
     "name": "#%%\n"
    }
   },
   "outputs": [
    {
     "data": {
      "text/plain": [
       "[1, 4, 9, 16, 25, 36, 49, 64, 81, 100]"
      ]
     },
     "execution_count": 39,
     "metadata": {},
     "output_type": "execute_result"
    }
   ],
   "source": [
    "sqlist2"
   ]
  },
  {
   "cell_type": "code",
   "execution_count": 40,
   "id": "6d490e1b-b664-45d7-bf4e-e7404f0f19e0",
   "metadata": {
    "pycharm": {
     "name": "#%%\n"
    }
   },
   "outputs": [
    {
     "data": {
      "text/plain": [
       "[1, 9, 25, 49, 81]"
      ]
     },
     "execution_count": 40,
     "metadata": {},
     "output_type": "execute_result"
    }
   ],
   "source": [
    "sqlist3 = [x*x for x in range(1,11) if x % 2 != 0]\n",
    "sqlist3"
   ]
  },
  {
   "cell_type": "code",
   "execution_count": 41,
   "id": "d837728d-8e7e-4669-9987-d12aa85ec575",
   "metadata": {
    "pycharm": {
     "name": "#%%\n"
    }
   },
   "outputs": [
    {
     "data": {
      "text/plain": [
       "['C', 'M', 'P', 'R', 'H', 'N', 'S', 'N']"
      ]
     },
     "execution_count": 41,
     "metadata": {},
     "output_type": "execute_result"
    }
   ],
   "source": [
    "[c.upper() for c in \"comprehension\" if c not in \"aeiou\"]"
   ]
  },
  {
   "cell_type": "markdown",
   "id": "653c0f26-a282-41e4-99a1-c205a1dfcf23",
   "metadata": {
    "pycharm": {
     "name": "#%% md\n"
    }
   },
   "source": [
    "## 异常处理"
   ]
  },
  {
   "cell_type": "code",
   "execution_count": 42,
   "id": "713765ed-6fee-47a4-a26c-4edf23068668",
   "metadata": {
    "pycharm": {
     "name": "#%%\n"
    }
   },
   "outputs": [],
   "source": [
    "i = -23"
   ]
  },
  {
   "cell_type": "code",
   "execution_count": 43,
   "id": "3e01008a-400b-48be-bd58-48ab38b143e5",
   "metadata": {
    "pycharm": {
     "name": "#%%\n"
    }
   },
   "outputs": [
    {
     "ename": "ValueError",
     "evalue": "math domain error",
     "output_type": "error",
     "traceback": [
      "\u001B[0;31m---------------------------------------------------------------------------\u001B[0m",
      "\u001B[0;31mValueError\u001B[0m                                Traceback (most recent call last)",
      "Input \u001B[0;32mIn [43]\u001B[0m, in \u001B[0;36m<module>\u001B[0;34m\u001B[0m\n\u001B[0;32m----> 1\u001B[0m \u001B[43mmath\u001B[49m\u001B[38;5;241;43m.\u001B[39;49m\u001B[43msqrt\u001B[49m\u001B[43m(\u001B[49m\u001B[43mi\u001B[49m\u001B[43m)\u001B[49m\n",
      "\u001B[0;31mValueError\u001B[0m: math domain error"
     ]
    }
   ],
   "source": [
    "math.sqrt(i)"
   ]
  },
  {
   "cell_type": "code",
   "execution_count": 44,
   "id": "e695ac05-ad95-495b-94ed-5378719f0771",
   "metadata": {
    "pycharm": {
     "name": "#%%\n"
    }
   },
   "outputs": [
    {
     "data": {
      "text/plain": [
       "3.0"
      ]
     },
     "execution_count": 44,
     "metadata": {},
     "output_type": "execute_result"
    }
   ],
   "source": [
    "math.sqrt(9)"
   ]
  },
  {
   "cell_type": "code",
   "execution_count": 45,
   "id": "d837ed9b-e3ce-467c-85cd-0ae9a7e4d126",
   "metadata": {
    "pycharm": {
     "name": "#%%\n"
    }
   },
   "outputs": [
    {
     "name": "stdout",
     "output_type": "stream",
     "text": [
      "Invalid number\n",
      "Please use the abs number\n",
      "4.795831523312719\n"
     ]
    }
   ],
   "source": [
    "try:\n",
    "    print(math.sqrt(i))\n",
    "except:\n",
    "    print('Invalid number')\n",
    "    print('Please use the abs number')\n",
    "    print(math.sqrt(abs(i)))"
   ]
  },
  {
   "cell_type": "code",
   "execution_count": 46,
   "id": "cad49f45-3bd7-45c8-bbab-f9ca73058ccf",
   "metadata": {
    "pycharm": {
     "name": "#%%\n"
    }
   },
   "outputs": [
    {
     "data": {
      "text/plain": [
       "-23"
      ]
     },
     "execution_count": 46,
     "metadata": {},
     "output_type": "execute_result"
    }
   ],
   "source": [
    "i"
   ]
  },
  {
   "cell_type": "code",
   "execution_count": 47,
   "id": "79035133-5eaa-4d8b-ba27-02cb90ea2e1f",
   "metadata": {
    "pycharm": {
     "name": "#%%\n"
    }
   },
   "outputs": [
    {
     "ename": "RuntimeError",
     "evalue": "You can't use a negative number",
     "output_type": "error",
     "traceback": [
      "\u001B[0;31m---------------------------------------------------------------------------\u001B[0m",
      "\u001B[0;31mRuntimeError\u001B[0m                              Traceback (most recent call last)",
      "Input \u001B[0;32mIn [47]\u001B[0m, in \u001B[0;36m<module>\u001B[0;34m\u001B[0m\n\u001B[1;32m      1\u001B[0m \u001B[38;5;28;01mif\u001B[39;00m i \u001B[38;5;241m<\u001B[39m \u001B[38;5;241m0\u001B[39m:\n\u001B[0;32m----> 2\u001B[0m     \u001B[38;5;28;01mraise\u001B[39;00m \u001B[38;5;167;01mRuntimeError\u001B[39;00m(\u001B[38;5;124m'\u001B[39m\u001B[38;5;124mYou can\u001B[39m\u001B[38;5;130;01m\\'\u001B[39;00m\u001B[38;5;124mt use a negative number\u001B[39m\u001B[38;5;124m'\u001B[39m)\n\u001B[1;32m      3\u001B[0m \u001B[38;5;28;01melse\u001B[39;00m:\n\u001B[1;32m      4\u001B[0m     \u001B[38;5;28mprint\u001B[39m(math\u001B[38;5;241m.\u001B[39msqrt(i))\n",
      "\u001B[0;31mRuntimeError\u001B[0m: You can't use a negative number"
     ]
    }
   ],
   "source": [
    "if i < 0:\n",
    "    raise RuntimeError('You can\\'t use a negative number')\n",
    "else:\n",
    "    print(math.sqrt(i))"
   ]
  },
  {
   "cell_type": "markdown",
   "id": "cd1e1a75-a770-4859-987c-cfaaf6a10468",
   "metadata": {
    "pycharm": {
     "name": "#%% md\n"
    }
   },
   "source": [
    "## function"
   ]
  },
  {
   "cell_type": "code",
   "execution_count": 48,
   "id": "5f467cc3-02db-479a-813e-40ca8ffeb423",
   "metadata": {
    "pycharm": {
     "name": "#%%\n"
    }
   },
   "outputs": [],
   "source": [
    "def square(x):\n",
    "    return x ** 2"
   ]
  },
  {
   "cell_type": "code",
   "execution_count": 49,
   "id": "47322446-08af-4edc-83c9-c3ef51d2de3b",
   "metadata": {
    "pycharm": {
     "name": "#%%\n"
    }
   },
   "outputs": [
    {
     "data": {
      "text/plain": [
       "147898512872123049"
      ]
     },
     "execution_count": 49,
     "metadata": {},
     "output_type": "execute_result"
    }
   ],
   "source": [
    "square(384575757)"
   ]
  },
  {
   "cell_type": "code",
   "execution_count": 51,
   "id": "346b9762-a522-4a24-891c-1efa62a0bf61",
   "metadata": {
    "pycharm": {
     "name": "#%%\n"
    }
   },
   "outputs": [
    {
     "data": {
      "text/plain": [
       "9.869604401089358"
      ]
     },
     "execution_count": 51,
     "metadata": {},
     "output_type": "execute_result"
    }
   ],
   "source": [
    "square(math.pi)"
   ]
  },
  {
   "cell_type": "code",
   "execution_count": 54,
   "id": "e1289617-6747-4375-96fd-b241579f2b6b",
   "metadata": {
    "pycharm": {
     "name": "#%%\n"
    }
   },
   "outputs": [],
   "source": [
    "def squareroot(n):\n",
    "    root = n/2\n",
    "    for k in range(20):\n",
    "        root = (1/2)*(root+(n/root))\n",
    "    return root"
   ]
  },
  {
   "cell_type": "code",
   "execution_count": 55,
   "id": "230147fc-5eaa-4b83-8384-1a1bbd5b3b1f",
   "metadata": {
    "pycharm": {
     "name": "#%%\n"
    }
   },
   "outputs": [
    {
     "data": {
      "text/plain": [
       "3.0"
      ]
     },
     "execution_count": 55,
     "metadata": {},
     "output_type": "execute_result"
    }
   ],
   "source": [
    "squareroot(9)"
   ]
  },
  {
   "cell_type": "markdown",
   "id": "51d16435-f29c-4b31-b0bf-8863a582b245",
   "metadata": {
    "pycharm": {
     "name": "#%% md\n"
    }
   },
   "source": [
    "## OOP"
   ]
  },
  {
   "cell_type": "code",
   "execution_count": 66,
   "id": "41a03b61-2407-4260-aa85-9069ed1bd022",
   "metadata": {
    "pycharm": {
     "name": "#%%\n"
    }
   },
   "outputs": [],
   "source": [
    "class Fraction:\n",
    "    \n",
    "    def __init__(self,top,bottom):\n",
    "        \n",
    "        self.num = top\n",
    "        self.den = bottom\n",
    "        \n",
    "    #def show(self):\n",
    "            #print(self.num,'/',self.den)\n",
    "        \n",
    "    def __str__(self):\n",
    "        return str(self.num) + '/' + str(self.den)\n",
    "    \n",
    "    def gcd(m,n):\n",
    "        while m%n != 0:\n",
    "            oldm = m\n",
    "            oldn = n\n",
    "        \n",
    "            m = oldn\n",
    "            n = oldm%oldn\n",
    "        return n\n",
    "    \n",
    "    def __add__(self,otherfraction):\n",
    "        newnum = self.num * otherfraction.den + otherfraction.num * self.den\n",
    "        newden = self.den * otherfraction.den\n",
    "        common = gcd(newnum,newden)\n",
    "        return Fraction(newnum//common, newden//common)\n",
    "    \n",
    "    def __eq__(self,other):\n",
    "        firstnum = self.num * other.den\n",
    "        secondnum = other.num * self.den\n",
    "        \n",
    "        return firstnum == secondnum"
   ]
  },
  {
   "cell_type": "markdown",
   "id": "96a9d382-e8f9-4777-b8b8-5f6aace50bc2",
   "metadata": {
    "pycharm": {
     "name": "#%% md\n"
    }
   },
   "source": [
    "$\\frac{a}{b}+\\frac{c}{a}=\\frac{a d+c b}{b d}$"
   ]
  },
  {
   "cell_type": "code",
   "execution_count": 54,
   "id": "946baf05-74f8-46d1-8cf2-836e49399634",
   "metadata": {
    "pycharm": {
     "name": "#%%\n"
    }
   },
   "outputs": [
    {
     "name": "stdout",
     "output_type": "stream",
     "text": [
      "3/5\n"
     ]
    }
   ],
   "source": [
    "print(Fraction(3,5))"
   ]
  },
  {
   "cell_type": "code",
   "execution_count": 55,
   "id": "7abac570-5db1-44ba-bc1e-51a9ee368dc2",
   "metadata": {
    "pycharm": {
     "name": "#%%\n"
    }
   },
   "outputs": [],
   "source": [
    "myf = Fraction(3,5)"
   ]
  },
  {
   "cell_type": "code",
   "execution_count": 56,
   "id": "29827a44-1cba-41e2-959f-877b892c44b1",
   "metadata": {
    "pycharm": {
     "name": "#%%\n"
    }
   },
   "outputs": [
    {
     "data": {
      "text/plain": [
       "'3/5'"
      ]
     },
     "execution_count": 56,
     "metadata": {},
     "output_type": "execute_result"
    }
   ],
   "source": [
    "myf.__str__()"
   ]
  },
  {
   "cell_type": "code",
   "execution_count": 57,
   "id": "5a0d70aa-a45e-46bb-aa45-dac966d21ad8",
   "metadata": {
    "pycharm": {
     "name": "#%%\n"
    }
   },
   "outputs": [],
   "source": [
    "f1 = Fraction(1,4)\n",
    "f2 = Fraction(1,2)"
   ]
  },
  {
   "cell_type": "code",
   "execution_count": 58,
   "id": "76e67d89-cc4f-4392-9c52-a0b33a756187",
   "metadata": {
    "pycharm": {
     "name": "#%%\n"
    }
   },
   "outputs": [
    {
     "name": "stdout",
     "output_type": "stream",
     "text": [
      "1/4\n"
     ]
    }
   ],
   "source": [
    "print(f1)"
   ]
  },
  {
   "cell_type": "code",
   "execution_count": 59,
   "id": "13dd767c-094c-44f2-91a0-540b359689c4",
   "metadata": {
    "pycharm": {
     "name": "#%%\n"
    }
   },
   "outputs": [
    {
     "name": "stdout",
     "output_type": "stream",
     "text": [
      "1/2\n"
     ]
    }
   ],
   "source": [
    "print(f2)"
   ]
  },
  {
   "cell_type": "code",
   "execution_count": 60,
   "id": "61bbf057-b356-4676-809b-d8a08842de83",
   "metadata": {
    "pycharm": {
     "name": "#%%\n"
    }
   },
   "outputs": [
    {
     "data": {
      "text/plain": [
       "<__main__.Fraction at 0x108ea0ee0>"
      ]
     },
     "execution_count": 60,
     "metadata": {},
     "output_type": "execute_result"
    }
   ],
   "source": [
    "f1 + f2"
   ]
  },
  {
   "cell_type": "code",
   "execution_count": 61,
   "id": "4a3089ca-7a24-480a-a0c1-18dcb3d86aed",
   "metadata": {
    "pycharm": {
     "name": "#%%\n"
    }
   },
   "outputs": [],
   "source": [
    "f3 = f1 + f2"
   ]
  },
  {
   "cell_type": "code",
   "execution_count": 62,
   "id": "ed64bb12-7e18-4f23-a521-db6847953e91",
   "metadata": {
    "pycharm": {
     "name": "#%%\n"
    }
   },
   "outputs": [
    {
     "data": {
      "text/plain": [
       "<__main__.Fraction at 0x108ea0a30>"
      ]
     },
     "execution_count": 62,
     "metadata": {},
     "output_type": "execute_result"
    }
   ],
   "source": [
    "f3"
   ]
  },
  {
   "cell_type": "code",
   "execution_count": 63,
   "id": "9044a28c-15cb-45c0-bf36-2e04d91b7590",
   "metadata": {
    "pycharm": {
     "name": "#%%\n"
    }
   },
   "outputs": [
    {
     "name": "stdout",
     "output_type": "stream",
     "text": [
      "3/4\n"
     ]
    }
   ],
   "source": [
    "print(f3)"
   ]
  },
  {
   "cell_type": "code",
   "execution_count": 64,
   "id": "c135c18b-8e64-4401-aee8-978a356b990a",
   "metadata": {
    "pycharm": {
     "name": "#%%\n"
    }
   },
   "outputs": [],
   "source": [
    "f4 = Fraction(8,7)\n",
    "f5 = Fraction(16,14)"
   ]
  },
  {
   "cell_type": "code",
   "execution_count": 65,
   "id": "7b00cb4d-830f-4283-b6ad-930bf810017e",
   "metadata": {
    "pycharm": {
     "name": "#%%\n"
    }
   },
   "outputs": [
    {
     "name": "stdout",
     "output_type": "stream",
     "text": [
      "8/7\n",
      "16/14\n",
      "16/7\n"
     ]
    }
   ],
   "source": [
    "f6 = f4 + f5\n",
    "print(f4)\n",
    "print(f5)\n",
    "print(f6)"
   ]
  },
  {
   "cell_type": "markdown",
   "id": "e214f1f7-d7d9-43ae-9979-886eec357785",
   "metadata": {
    "pycharm": {
     "name": "#%% md\n"
    }
   },
   "source": [
    "![逻辑门真值表](https://cdn.jsdelivr.net/gh/meininghang/image-hosting@main/data_structure/逻辑门真值表.6z2pshwzgx80.webp)"
   ]
  },
  {
   "cell_type": "code",
   "execution_count": 67,
   "id": "ad778586-6f93-406e-aec3-160e696d280c",
   "metadata": {
    "pycharm": {
     "name": "#%%\n"
    }
   },
   "outputs": [],
   "source": [
    "class LogicGate:\n",
    "    \n",
    "    def __init__(self,n):\n",
    "        self.label = n\n",
    "        self.output =None\n",
    "        \n",
    "    def getLabel(self):\n",
    "        return self.label\n",
    "    \n",
    "    def getOutput(self):\n",
    "        self.output = self.performGateLogic()\n",
    "        return self.output"
   ]
  },
  {
   "cell_type": "code",
   "execution_count": 68,
   "id": "215d55af-7dc2-4d57-ade4-599c8790884b",
   "metadata": {
    "pycharm": {
     "name": "#%%\n"
    }
   },
   "outputs": [],
   "source": [
    "class BinaryGate(LogicGate):\n",
    "    \n",
    "    def __init__(self,n):\n",
    "        super().__init__(n)\n",
    "        \n",
    "        self.pinA = None\n",
    "        self.pinB = None\n",
    "        \n",
    "    def getPinA(self):\n",
    "        \n",
    "        return int(input(\"Enter Pin A input for gate \" + self.getLabel() + '-->'))\n",
    "    \n",
    "    def getPinB(self):\n",
    "        \n",
    "        return int(input(\"Enter Pin B input for gate \" + self.getLabel() + '-->'))\n",
    "    "
   ]
  },
  {
   "cell_type": "code",
   "execution_count": 69,
   "id": "5ec77303-c7d0-40f8-9768-751a37864695",
   "metadata": {
    "pycharm": {
     "name": "#%%\n"
    }
   },
   "outputs": [],
   "source": [
    "class AndGate(BinaryGate):\n",
    "    \n",
    "    def __init__(self,n):\n",
    "        super.__init__(n)\n",
    "        \n",
    "    def perfomGateLogic(self):\n",
    "        \n",
    "        a = self.getPinA()\n",
    "        b = self.getPinB()\n",
    "        \n",
    "        if a == 1 and b == 1:\n",
    "            return 1\n",
    "        else:\n",
    "            return 0"
   ]
  },
  {
   "cell_type": "code",
   "execution_count": 70,
   "id": "aa1a3ba0-487f-4a12-b85e-78a1f96ee1d7",
   "metadata": {
    "pycharm": {
     "name": "#%%\n"
    }
   },
   "outputs": [
    {
     "ename": "TypeError",
     "evalue": "descriptor '__init__' requires a 'super' object but received a 'str'",
     "output_type": "error",
     "traceback": [
      "\u001B[0;31m---------------------------------------------------------------------------\u001B[0m",
      "\u001B[0;31mTypeError\u001B[0m                                 Traceback (most recent call last)",
      "Input \u001B[0;32mIn [70]\u001B[0m, in \u001B[0;36m<module>\u001B[0;34m\u001B[0m\n\u001B[0;32m----> 1\u001B[0m g1 \u001B[38;5;241m=\u001B[39m \u001B[43mAndGate\u001B[49m\u001B[43m(\u001B[49m\u001B[38;5;124;43m'\u001B[39;49m\u001B[38;5;124;43mG1\u001B[39;49m\u001B[38;5;124;43m'\u001B[39;49m\u001B[43m)\u001B[49m\n",
      "Input \u001B[0;32mIn [69]\u001B[0m, in \u001B[0;36mAndGate.__init__\u001B[0;34m(self, n)\u001B[0m\n\u001B[1;32m      3\u001B[0m \u001B[38;5;28;01mdef\u001B[39;00m \u001B[38;5;21m__init__\u001B[39m(\u001B[38;5;28mself\u001B[39m,n):\n\u001B[0;32m----> 4\u001B[0m     \u001B[38;5;28;43msuper\u001B[39;49m\u001B[38;5;241;43m.\u001B[39;49m\u001B[38;5;21;43m__init__\u001B[39;49m\u001B[43m(\u001B[49m\u001B[43mn\u001B[49m\u001B[43m)\u001B[49m\n",
      "\u001B[0;31mTypeError\u001B[0m: descriptor '__init__' requires a 'super' object but received a 'str'"
     ]
    }
   ],
   "source": [
    "g1 = AndGate('G1')"
   ]
  },
  {
   "cell_type": "code",
   "execution_count": 71,
   "id": "50edca21-0572-4d8b-ac1a-eeecfa3b2499",
   "metadata": {
    "pycharm": {
     "name": "#%%\n"
    }
   },
   "outputs": [],
   "source": [
    "class Connector:\n",
    "    \n",
    "    def __init__(self,fgate,tgate):\n",
    "        self.fromgate = fgate\n",
    "        self.togate = tgate\n",
    "        \n",
    "        tgate.setNextPin(self)\n",
    "        \n",
    "    def getFrom(self):\n",
    "        return self.fromgate\n",
    "    \n",
    "    def getTo(self):\n",
    "        return self.togate"
   ]
  },
  {
   "cell_type": "code",
   "execution_count": null,
   "id": "647e170f-3020-495a-9318-3a9f2bce05fb",
   "metadata": {
    "pycharm": {
     "name": "#%%\n"
    }
   },
   "outputs": [],
   "source": []
  }
 ],
 "metadata": {
  "kernelspec": {
   "display_name": "Python 3 (ipykernel)",
   "language": "python",
   "name": "python3"
  },
  "language_info": {
   "codemirror_mode": {
    "name": "ipython",
    "version": 3
   },
   "file_extension": ".py",
   "mimetype": "text/x-python",
   "name": "python",
   "nbconvert_exporter": "python",
   "pygments_lexer": "ipython3",
   "version": "3.8.9"
  }
 },
 "nbformat": 4,
 "nbformat_minor": 5
}