{
 "cells": [
  {
   "cell_type": "code",
   "execution_count": 1,
   "metadata": {},
   "outputs": [],
   "source": [
    "from datetime import datetime\n",
    "import numpy as np\n",
    "import pandas as pd"
   ]
  },
  {
   "cell_type": "code",
   "execution_count": 2,
   "metadata": {},
   "outputs": [],
   "source": [
    "date = [\n",
    "    datetime(2008, 4, 1),\n",
    "    datetime(2008, 4, 5),\n",
    "    datetime(2008, 4, 7),\n",
    "    datetime(2008, 4, 9),\n",
    "    datetime(2008, 4, 10),\n",
    "    datetime(2008, 4, 15),\n",
    "]"
   ]
  },
  {
   "cell_type": "code",
   "execution_count": 3,
   "metadata": {},
   "outputs": [
    {
     "data": {
      "text/plain": [
       "2008-04-01    0\n",
       "2008-04-05    1\n",
       "2008-04-07    2\n",
       "2008-04-09    3\n",
       "2008-04-10    4\n",
       "2008-04-15    5\n",
       "dtype: int64"
      ]
     },
     "execution_count": 3,
     "metadata": {},
     "output_type": "execute_result"
    }
   ],
   "source": [
    "s = pd.Series(np.arange(6), index=date)\n",
    "s"
   ]
  },
  {
   "cell_type": "code",
   "execution_count": 4,
   "metadata": {},
   "outputs": [
    {
     "data": {
      "text/plain": [
       "DatetimeIndex(['2008-04-01', '2008-04-05', '2008-04-07', '2008-04-09',\n",
       "               '2008-04-10', '2008-04-15'],\n",
       "              dtype='datetime64[ns]', freq=None)"
      ]
     },
     "execution_count": 4,
     "metadata": {},
     "output_type": "execute_result"
    }
   ],
   "source": [
    "s.index"
   ]
  },
  {
   "cell_type": "code",
   "execution_count": 5,
   "metadata": {},
   "outputs": [
    {
     "data": {
      "text/plain": [
       "Timestamp('2008-04-01 00:00:00')"
      ]
     },
     "execution_count": 5,
     "metadata": {},
     "output_type": "execute_result"
    }
   ],
   "source": [
    "s.index[0]"
   ]
  },
  {
   "cell_type": "code",
   "execution_count": 6,
   "metadata": {},
   "outputs": [
    {
     "data": {
      "text/plain": [
       "2008-04-01    0\n",
       "2008-04-07    2\n",
       "2008-04-10    4\n",
       "dtype: int64"
      ]
     },
     "execution_count": 6,
     "metadata": {},
     "output_type": "execute_result"
    }
   ],
   "source": [
    "s[::2]"
   ]
  },
  {
   "cell_type": "code",
   "execution_count": 7,
   "metadata": {},
   "outputs": [
    {
     "data": {
      "text/plain": [
       "2008-04-01    0.0\n",
       "2008-04-05    NaN\n",
       "2008-04-07    4.0\n",
       "2008-04-09    NaN\n",
       "2008-04-10    8.0\n",
       "2008-04-15    NaN\n",
       "dtype: float64"
      ]
     },
     "execution_count": 7,
     "metadata": {},
     "output_type": "execute_result"
    }
   ],
   "source": [
    "s + s[::2]"
   ]
  },
  {
   "cell_type": "code",
   "execution_count": 8,
   "metadata": {},
   "outputs": [
    {
     "data": {
      "text/plain": [
       "2"
      ]
     },
     "execution_count": 8,
     "metadata": {},
     "output_type": "execute_result"
    }
   ],
   "source": [
    "s[2]"
   ]
  },
  {
   "cell_type": "code",
   "execution_count": 9,
   "metadata": {},
   "outputs": [
    {
     "data": {
      "text/plain": [
       "3"
      ]
     },
     "execution_count": 9,
     "metadata": {},
     "output_type": "execute_result"
    }
   ],
   "source": [
    "s['20080409']"
   ]
  },
  {
   "cell_type": "code",
   "execution_count": 10,
   "metadata": {},
   "outputs": [
    {
     "data": {
      "text/plain": [
       "3"
      ]
     },
     "execution_count": 10,
     "metadata": {},
     "output_type": "execute_result"
    }
   ],
   "source": [
    "s['2008/4/9']"
   ]
  },
  {
   "cell_type": "code",
   "execution_count": 11,
   "metadata": {},
   "outputs": [
    {
     "data": {
      "text/plain": [
       "2008-04-07    2\n",
       "2008-04-09    3\n",
       "2008-04-10    4\n",
       "dtype: int64"
      ]
     },
     "execution_count": 11,
     "metadata": {},
     "output_type": "execute_result"
    }
   ],
   "source": [
    "s[2:5]"
   ]
  },
  {
   "cell_type": "code",
   "execution_count": 12,
   "metadata": {},
   "outputs": [
    {
     "data": {
      "text/plain": [
       "2008-04-07    2\n",
       "2008-04-09    3\n",
       "2008-04-10    4\n",
       "2008-04-15    5\n",
       "dtype: int64"
      ]
     },
     "execution_count": 12,
     "metadata": {},
     "output_type": "execute_result"
    }
   ],
   "source": [
    "s[2:100]"
   ]
  },
  {
   "cell_type": "code",
   "execution_count": 13,
   "metadata": {},
   "outputs": [
    {
     "data": {
      "text/plain": [
       "2008-04-01    0\n",
       "2008-04-05    1\n",
       "2008-04-07    2\n",
       "2008-04-09    3\n",
       "2008-04-10    4\n",
       "2008-04-15    5\n",
       "dtype: int64"
      ]
     },
     "execution_count": 13,
     "metadata": {},
     "output_type": "execute_result"
    }
   ],
   "source": [
    "s['2008/4/1':]"
   ]
  },
  {
   "cell_type": "code",
   "execution_count": 16,
   "metadata": {},
   "outputs": [
    {
     "data": {
      "text/plain": [
       "2008-04-01    0\n",
       "2008-04-05    1\n",
       "2008-04-07    2\n",
       "2008-04-09    3\n",
       "2008-04-10    4\n",
       "2008-04-15    5\n",
       "dtype: int64"
      ]
     },
     "execution_count": 16,
     "metadata": {},
     "output_type": "execute_result"
    }
   ],
   "source": [
    "s[datetime(2008,4,1):]"
   ]
  },
  {
   "cell_type": "code",
   "execution_count": 19,
   "metadata": {},
   "outputs": [],
   "source": [
    "date2 = [\n",
    "    datetime(2008,4,1),\n",
    "    datetime(2008,4,2),\n",
    "    datetime(2008,4,7),\n",
    "    datetime(2008,4,8),\n",
    "    datetime(2008,4,25),\n",
    "    datetime(2008,4,26),\n",
    "    datetime(2008,4,27),\n",
    "    datetime(2008,5,2),\n",
    "    datetime(2009,5,20),\n",
    "    datetime(2009,5,28),\n",
    "    datetime(2009,6,2),\n",
    "    datetime(2009,6,20),\n",
    "]"
   ]
  },
  {
   "cell_type": "code",
   "execution_count": 20,
   "metadata": {},
   "outputs": [
    {
     "data": {
      "text/plain": [
       "2008-04-01     0\n",
       "2008-04-02     1\n",
       "2008-04-07     2\n",
       "2008-04-08     3\n",
       "2008-04-25     4\n",
       "2008-04-26     5\n",
       "2008-04-27     6\n",
       "2008-05-02     7\n",
       "2009-05-20     8\n",
       "2009-05-28     9\n",
       "2009-06-02    10\n",
       "2009-06-20    11\n",
       "dtype: int64"
      ]
     },
     "execution_count": 20,
     "metadata": {},
     "output_type": "execute_result"
    }
   ],
   "source": [
    "long_s = pd.Series(np.arange(12), index=date2)\n",
    "long_s"
   ]
  },
  {
   "cell_type": "code",
   "execution_count": 22,
   "metadata": {},
   "outputs": [
    {
     "data": {
      "text/plain": [
       "2009-05-20     8\n",
       "2009-05-28     9\n",
       "2009-06-02    10\n",
       "2009-06-20    11\n",
       "dtype: int64"
      ]
     },
     "execution_count": 22,
     "metadata": {},
     "output_type": "execute_result"
    }
   ],
   "source": [
    "long_s['2009']"
   ]
  },
  {
   "cell_type": "code",
   "execution_count": 24,
   "metadata": {},
   "outputs": [
    {
     "data": {
      "text/plain": [
       "2009-06-02    10\n",
       "2009-06-20    11\n",
       "dtype: int64"
      ]
     },
     "execution_count": 24,
     "metadata": {},
     "output_type": "execute_result"
    }
   ],
   "source": [
    "long_s['2009/6']"
   ]
  },
  {
   "cell_type": "code",
   "execution_count": 25,
   "metadata": {},
   "outputs": [],
   "source": [
    "date3 = pd.DatetimeIndex([\n",
    "    '2008/4/14',\n",
    "    '2008/4/14',\n",
    "    '2008/5/23',\n",
    "    '2008/5/23',\n",
    "    '2008/6/13',\n",
    "    '2008/6/13'\n",
    "])"
   ]
  },
  {
   "cell_type": "code",
   "execution_count": 26,
   "metadata": {},
   "outputs": [
    {
     "data": {
      "text/plain": [
       "2008-04-14    0\n",
       "2008-04-14    1\n",
       "2008-05-23    2\n",
       "2008-05-23    3\n",
       "2008-06-13    4\n",
       "2008-06-13    5\n",
       "dtype: int64"
      ]
     },
     "execution_count": 26,
     "metadata": {},
     "output_type": "execute_result"
    }
   ],
   "source": [
    "dup_s = pd.Series(np.arange(6), index=date3)\n",
    "dup_s"
   ]
  },
  {
   "cell_type": "code",
   "execution_count": 27,
   "metadata": {},
   "outputs": [
    {
     "data": {
      "text/plain": [
       "False"
      ]
     },
     "execution_count": 27,
     "metadata": {},
     "output_type": "execute_result"
    }
   ],
   "source": [
    "dup_s.index.is_unique"
   ]
  },
  {
   "cell_type": "code",
   "execution_count": 28,
   "metadata": {},
   "outputs": [
    {
     "data": {
      "text/plain": [
       "2008-05-23    2\n",
       "2008-05-23    3\n",
       "dtype: int64"
      ]
     },
     "execution_count": 28,
     "metadata": {},
     "output_type": "execute_result"
    }
   ],
   "source": [
    "dup_s['2008/5/23']"
   ]
  },
  {
   "cell_type": "code",
   "execution_count": 29,
   "metadata": {},
   "outputs": [
    {
     "data": {
      "text/plain": [
       "2008-04-14    0.5\n",
       "2008-05-23    2.5\n",
       "2008-06-13    4.5\n",
       "dtype: float64"
      ]
     },
     "execution_count": 29,
     "metadata": {},
     "output_type": "execute_result"
    }
   ],
   "source": [
    "dup_s.groupby(level=0).mean()"
   ]
  },
  {
   "cell_type": "code",
   "execution_count": 30,
   "metadata": {},
   "outputs": [
    {
     "data": {
      "text/plain": [
       "2008-04-14    1\n",
       "2008-05-23    5\n",
       "2008-06-13    9\n",
       "dtype: int64"
      ]
     },
     "execution_count": 30,
     "metadata": {},
     "output_type": "execute_result"
    }
   ],
   "source": [
    "dup_s.groupby(level=0).sum()"
   ]
  },
  {
   "cell_type": "code",
   "execution_count": 32,
   "metadata": {},
   "outputs": [
    {
     "data": {
      "text/plain": [
       "DatetimeIndex(['2008-04-01', '2008-04-02', '2008-04-03', '2008-04-04',\n",
       "               '2008-04-05', '2008-04-06', '2008-04-07', '2008-04-08',\n",
       "               '2008-04-09', '2008-04-10', '2008-04-11', '2008-04-12',\n",
       "               '2008-04-13', '2008-04-14', '2008-04-15', '2008-04-16',\n",
       "               '2008-04-17', '2008-04-18', '2008-04-19', '2008-04-20',\n",
       "               '2008-04-21', '2008-04-22', '2008-04-23', '2008-04-24',\n",
       "               '2008-04-25', '2008-04-26', '2008-04-27', '2008-04-28',\n",
       "               '2008-04-29', '2008-04-30', '2008-05-01', '2008-05-02',\n",
       "               '2008-05-03', '2008-05-04', '2008-05-05', '2008-05-06',\n",
       "               '2008-05-07', '2008-05-08', '2008-05-09', '2008-05-10',\n",
       "               '2008-05-11', '2008-05-12', '2008-05-13', '2008-05-14',\n",
       "               '2008-05-15', '2008-05-16', '2008-05-17', '2008-05-18',\n",
       "               '2008-05-19', '2008-05-20', '2008-05-21', '2008-05-22',\n",
       "               '2008-05-23', '2008-05-24', '2008-05-25', '2008-05-26',\n",
       "               '2008-05-27', '2008-05-28', '2008-05-29', '2008-05-30'],\n",
       "              dtype='datetime64[ns]', freq='D')"
      ]
     },
     "execution_count": 32,
     "metadata": {},
     "output_type": "execute_result"
    }
   ],
   "source": [
    "index = pd.date_range('2008/4/1', '2008/5/30')\n",
    "index"
   ]
  },
  {
   "cell_type": "code",
   "execution_count": 33,
   "metadata": {},
   "outputs": [
    {
     "data": {
      "text/plain": [
       "DatetimeIndex(['2008-04-30', '2008-05-31', '2008-06-30', '2008-07-31',\n",
       "               '2008-08-31', '2008-09-30', '2008-10-31', '2008-11-30'],\n",
       "              dtype='datetime64[ns]', freq='M')"
      ]
     },
     "execution_count": 33,
     "metadata": {},
     "output_type": "execute_result"
    }
   ],
   "source": [
    "index = pd.date_range('2008/4/1', '2008/12/30', freq='M')\n",
    "index"
   ]
  },
  {
   "cell_type": "code",
   "execution_count": 37,
   "metadata": {},
   "outputs": [
    {
     "data": {
      "text/plain": [
       "DatetimeIndex(['2008-04-01', '2008-04-02', '2008-04-03', '2008-04-04',\n",
       "               '2008-04-05', '2008-04-06', '2008-04-07', '2008-04-08',\n",
       "               '2008-04-09', '2008-04-10', '2008-04-11', '2008-04-12'],\n",
       "              dtype='datetime64[ns]', freq='D')"
      ]
     },
     "execution_count": 37,
     "metadata": {},
     "output_type": "execute_result"
    }
   ],
   "source": [
    "index = pd.date_range('2008/4/1',  periods=12)\n",
    "index"
   ]
  },
  {
   "cell_type": "code",
   "execution_count": 39,
   "metadata": {},
   "outputs": [
    {
     "data": {
      "text/plain": [
       "DatetimeIndex(['2008-04-01', '2008-04-02', '2008-04-03', '2008-04-04',\n",
       "               '2008-04-05', '2008-04-06', '2008-04-07', '2008-04-08',\n",
       "               '2008-04-09', '2008-04-10', '2008-04-11', '2008-04-12'],\n",
       "              dtype='datetime64[ns]', freq='D')"
      ]
     },
     "execution_count": 39,
     "metadata": {},
     "output_type": "execute_result"
    }
   ],
   "source": [
    "index = pd.date_range(start='2008/4/1',  periods=12)\n",
    "index"
   ]
  },
  {
   "cell_type": "code",
   "execution_count": 38,
   "metadata": {},
   "outputs": [
    {
     "data": {
      "text/plain": [
       "DatetimeIndex(['2008-03-21', '2008-03-22', '2008-03-23', '2008-03-24',\n",
       "               '2008-03-25', '2008-03-26', '2008-03-27', '2008-03-28',\n",
       "               '2008-03-29', '2008-03-30', '2008-03-31', '2008-04-01'],\n",
       "              dtype='datetime64[ns]', freq='D')"
      ]
     },
     "execution_count": 38,
     "metadata": {},
     "output_type": "execute_result"
    }
   ],
   "source": [
    "index = pd.date_range(end='2008/4/1',  periods=12)\n",
    "index"
   ]
  },
  {
   "cell_type": "code",
   "execution_count": 40,
   "metadata": {},
   "outputs": [
    {
     "data": {
      "text/plain": [
       "DatetimeIndex(['2008-06-01 15:02:22', '2008-06-02 15:02:22',\n",
       "               '2008-06-03 15:02:22', '2008-06-04 15:02:22',\n",
       "               '2008-06-05 15:02:22', '2008-06-06 15:02:22',\n",
       "               '2008-06-07 15:02:22', '2008-06-08 15:02:22',\n",
       "               '2008-06-09 15:02:22', '2008-06-10 15:02:22'],\n",
       "              dtype='datetime64[ns]', freq='D')"
      ]
     },
     "execution_count": 40,
     "metadata": {},
     "output_type": "execute_result"
    }
   ],
   "source": [
    "pd.date_range('2008/6/1 15:02:22', periods=10)"
   ]
  },
  {
   "cell_type": "code",
   "execution_count": 41,
   "metadata": {},
   "outputs": [
    {
     "data": {
      "text/plain": [
       "DatetimeIndex(['2008-06-01', '2008-06-02', '2008-06-03', '2008-06-04',\n",
       "               '2008-06-05', '2008-06-06', '2008-06-07', '2008-06-08',\n",
       "               '2008-06-09', '2008-06-10'],\n",
       "              dtype='datetime64[ns]', freq='D')"
      ]
     },
     "execution_count": 41,
     "metadata": {},
     "output_type": "execute_result"
    }
   ],
   "source": [
    "pd.date_range('2008/6/1 12:09:22', periods=10, normalize=True)"
   ]
  },
  {
   "cell_type": "code",
   "execution_count": 44,
   "metadata": {},
   "outputs": [
    {
     "data": {
      "text/plain": [
       "DatetimeIndex(['2008-04-01 00:00:00', '2008-04-01 04:00:00',\n",
       "               '2008-04-01 08:00:00', '2008-04-01 12:00:00',\n",
       "               '2008-04-01 16:00:00', '2008-04-01 20:00:00',\n",
       "               '2008-04-02 00:00:00', '2008-04-02 04:00:00',\n",
       "               '2008-04-02 08:00:00', '2008-04-02 12:00:00'],\n",
       "              dtype='datetime64[ns]', freq='4H')"
      ]
     },
     "execution_count": 44,
     "metadata": {},
     "output_type": "execute_result"
    }
   ],
   "source": [
    "pd.date_range('2008/4/1', periods=10, freq='4H',)"
   ]
  },
  {
   "cell_type": "code",
   "execution_count": 47,
   "metadata": {},
   "outputs": [
    {
     "data": {
      "text/plain": [
       "DatetimeIndex(['2008-04-01 00:00:00', '2008-04-02 02:00:39',\n",
       "               '2008-04-03 04:01:18', '2008-04-04 06:01:57',\n",
       "               '2008-04-05 08:02:36', '2008-04-06 10:03:15',\n",
       "               '2008-04-07 12:03:54', '2008-04-08 14:04:33',\n",
       "               '2008-04-09 16:05:12', '2008-04-10 18:05:51',\n",
       "               '2008-04-11 20:06:30', '2008-04-12 22:07:09',\n",
       "               '2008-04-14 00:07:48', '2008-04-15 02:08:27',\n",
       "               '2008-04-16 04:09:06', '2008-04-17 06:09:45',\n",
       "               '2008-04-18 08:10:24', '2008-04-19 10:11:03',\n",
       "               '2008-04-20 12:11:42', '2008-04-21 14:12:21'],\n",
       "              dtype='datetime64[ns]', freq='93639S')"
      ]
     },
     "execution_count": 47,
     "metadata": {},
     "output_type": "execute_result"
    }
   ],
   "source": [
    "pd.date_range('2008/4/1', periods=20, freq='1D2H39S',)"
   ]
  },
  {
   "cell_type": "code",
   "execution_count": 48,
   "metadata": {},
   "outputs": [
    {
     "data": {
      "text/plain": [
       "2008-04-01    0\n",
       "2008-04-02    1\n",
       "2008-04-03    2\n",
       "2008-04-04    3\n",
       "2008-04-05    4\n",
       "Freq: D, dtype: int64"
      ]
     },
     "execution_count": 48,
     "metadata": {},
     "output_type": "execute_result"
    }
   ],
   "source": [
    "date4 = pd.date_range('2008/4/1', periods=5)\n",
    "s = pd.Series(np.arange(5), index=date4)\n",
    "s"
   ]
  },
  {
   "cell_type": "code",
   "execution_count": 49,
   "metadata": {},
   "outputs": [
    {
     "data": {
      "text/plain": [
       "2008-04-01    NaN\n",
       "2008-04-02    NaN\n",
       "2008-04-03    0.0\n",
       "2008-04-04    1.0\n",
       "2008-04-05    2.0\n",
       "Freq: D, dtype: float64"
      ]
     },
     "execution_count": 49,
     "metadata": {},
     "output_type": "execute_result"
    }
   ],
   "source": [
    "s.shift(2)"
   ]
  },
  {
   "cell_type": "code",
   "execution_count": 50,
   "metadata": {},
   "outputs": [
    {
     "data": {
      "text/plain": [
       "2008-04-01    2.0\n",
       "2008-04-02    3.0\n",
       "2008-04-03    4.0\n",
       "2008-04-04    NaN\n",
       "2008-04-05    NaN\n",
       "Freq: D, dtype: float64"
      ]
     },
     "execution_count": 50,
     "metadata": {},
     "output_type": "execute_result"
    }
   ],
   "source": [
    "s.shift(-2)"
   ]
  },
  {
   "cell_type": "code",
   "execution_count": 51,
   "metadata": {},
   "outputs": [
    {
     "data": {
      "text/plain": [
       "2008-04-07    0\n",
       "2008-04-08    1\n",
       "2008-04-09    2\n",
       "2008-04-10    3\n",
       "2008-04-10    4\n",
       "dtype: int64"
      ]
     },
     "execution_count": 51,
     "metadata": {},
     "output_type": "execute_result"
    }
   ],
   "source": [
    "s.shift(2, freq='2B')"
   ]
  },
  {
   "cell_type": "code",
   "execution_count": 52,
   "metadata": {},
   "outputs": [
    {
     "data": {
      "text/plain": [
       "2008-03-28    0\n",
       "2008-03-29    1\n",
       "2008-03-30    2\n",
       "2008-03-31    3\n",
       "2008-04-01    4\n",
       "Freq: D, dtype: int64"
      ]
     },
     "execution_count": 52,
     "metadata": {},
     "output_type": "execute_result"
    }
   ],
   "source": [
    "s.shift(-2, freq='2D')"
   ]
  },
  {
   "cell_type": "code",
   "execution_count": 59,
   "metadata": {},
   "outputs": [
    {
     "data": {
      "text/plain": [
       "Period('2019', 'A-DEC')"
      ]
     },
     "execution_count": 59,
     "metadata": {},
     "output_type": "execute_result"
    }
   ],
   "source": [
    "p = pd.Period(2019, freq='A-DEC')\n",
    "p"
   ]
  },
  {
   "cell_type": "code",
   "execution_count": 60,
   "metadata": {},
   "outputs": [
    {
     "data": {
      "text/plain": [
       "Period('2021', 'A-DEC')"
      ]
     },
     "execution_count": 60,
     "metadata": {},
     "output_type": "execute_result"
    }
   ],
   "source": [
    "p + 2"
   ]
  },
  {
   "cell_type": "code",
   "execution_count": 61,
   "metadata": {},
   "outputs": [
    {
     "data": {
      "text/plain": [
       "Period('2014', 'A-DEC')"
      ]
     },
     "execution_count": 61,
     "metadata": {},
     "output_type": "execute_result"
    }
   ],
   "source": [
    "p - 5"
   ]
  },
  {
   "cell_type": "code",
   "execution_count": 62,
   "metadata": {},
   "outputs": [
    {
     "data": {
      "text/plain": [
       "<6 * YearEnds: month=12>"
      ]
     },
     "execution_count": 62,
     "metadata": {},
     "output_type": "execute_result"
    }
   ],
   "source": [
    "pd.Period(2025, 'A-DEC') - p"
   ]
  },
  {
   "cell_type": "code",
   "execution_count": 63,
   "metadata": {},
   "outputs": [
    {
     "data": {
      "text/plain": [
       "PeriodIndex(['2019-04', '2019-05', '2019-06', '2019-07', '2019-08', '2019-09',\n",
       "             '2019-10'],\n",
       "            dtype='period[M]', freq='M')"
      ]
     },
     "execution_count": 63,
     "metadata": {},
     "output_type": "execute_result"
    }
   ],
   "source": [
    "date5 = pd.period_range('2019/4/1', '2019/10/5', freq='M')\n",
    "date5"
   ]
  },
  {
   "cell_type": "code",
   "execution_count": 66,
   "metadata": {},
   "outputs": [
    {
     "data": {
      "text/plain": [
       "2019-04    0\n",
       "2019-05    1\n",
       "2019-06    2\n",
       "2019-07    3\n",
       "2019-08    4\n",
       "2019-09    5\n",
       "2019-10    6\n",
       "Freq: M, dtype: int64"
      ]
     },
     "execution_count": 66,
     "metadata": {},
     "output_type": "execute_result"
    }
   ],
   "source": [
    "pd.Series(np.arange(len(date5)), index=date5)"
   ]
  },
  {
   "cell_type": "code",
   "execution_count": 67,
   "metadata": {},
   "outputs": [
    {
     "data": {
      "text/plain": [
       "Period('2019', 'A-DEC')"
      ]
     },
     "execution_count": 67,
     "metadata": {},
     "output_type": "execute_result"
    }
   ],
   "source": [
    "p = pd.Period(2019, freq='A-DEC')\n",
    "p"
   ]
  },
  {
   "cell_type": "code",
   "execution_count": 68,
   "metadata": {},
   "outputs": [
    {
     "data": {
      "text/plain": [
       "Period('2019-01', 'M')"
      ]
     },
     "execution_count": 68,
     "metadata": {},
     "output_type": "execute_result"
    }
   ],
   "source": [
    "p.asfreq('M', how='start')"
   ]
  },
  {
   "cell_type": "code",
   "execution_count": 69,
   "metadata": {},
   "outputs": [
    {
     "data": {
      "text/plain": [
       "Period('2019-12', 'M')"
      ]
     },
     "execution_count": 69,
     "metadata": {},
     "output_type": "execute_result"
    }
   ],
   "source": [
    "p.asfreq('M', how='end')"
   ]
  },
  {
   "cell_type": "code",
   "execution_count": 70,
   "metadata": {},
   "outputs": [
    {
     "data": {
      "text/plain": [
       "Period('2019', 'A-JUN')"
      ]
     },
     "execution_count": 70,
     "metadata": {},
     "output_type": "execute_result"
    }
   ],
   "source": [
    "p = pd.Period(2019, freq='A-JUN')\n",
    "p"
   ]
  },
  {
   "cell_type": "code",
   "execution_count": 71,
   "metadata": {},
   "outputs": [
    {
     "data": {
      "text/plain": [
       "Period('2018-07', 'M')"
      ]
     },
     "execution_count": 71,
     "metadata": {},
     "output_type": "execute_result"
    }
   ],
   "source": [
    "p.asfreq('M', how='start')"
   ]
  },
  {
   "cell_type": "code",
   "execution_count": 72,
   "metadata": {},
   "outputs": [
    {
     "data": {
      "text/plain": [
       "Period('2019-06', 'M')"
      ]
     },
     "execution_count": 72,
     "metadata": {},
     "output_type": "execute_result"
    }
   ],
   "source": [
    "p.asfreq('M', how='end')"
   ]
  },
  {
   "cell_type": "code",
   "execution_count": 77,
   "metadata": {},
   "outputs": [
    {
     "data": {
      "text/plain": [
       "PeriodIndex(['2014', '2015', '2016', '2017', '2018', '2019', '2020', '2021',\n",
       "             '2022', '2023', '2024', '2025', '2026', '2027', '2028', '2029',\n",
       "             '2030', '2031', '2032', '2033', '2034', '2035', '2036', '2037',\n",
       "             '2038', '2039', '2040', '2041', '2042', '2043', '2044', '2045',\n",
       "             '2046', '2047', '2048', '2049', '2050', '2051', '2052', '2053',\n",
       "             '2054', '2055', '2056', '2057', '2058', '2059', '2060', '2061',\n",
       "             '2062', '2063', '2064', '2065', '2066', '2067', '2068', '2069',\n",
       "             '2070', '2071', '2072', '2073', '2074', '2075', '2076', '2077',\n",
       "             '2078', '2079', '2080', '2081', '2082', '2083', '2084', '2085',\n",
       "             '2086', '2087', '2088', '2089', '2090', '2091', '2092', '2093',\n",
       "             '2094', '2095', '2096', '2097', '2098', '2099'],\n",
       "            dtype='period[A-DEC]', freq='A-DEC')"
      ]
     },
     "execution_count": 77,
     "metadata": {},
     "output_type": "execute_result"
    }
   ],
   "source": [
    "date6 = pd.period_range('2014', '2099', freq='A-DEC')\n",
    "date6"
   ]
  },
  {
   "cell_type": "code",
   "execution_count": 78,
   "metadata": {},
   "outputs": [
    {
     "data": {
      "text/plain": [
       "2014    86\n",
       "2015    86\n",
       "2016    86\n",
       "2017    86\n",
       "2018    86\n",
       "        ..\n",
       "2095    86\n",
       "2096    86\n",
       "2097    86\n",
       "2098    86\n",
       "2099    86\n",
       "Freq: A-DEC, Length: 86, dtype: int64"
      ]
     },
     "execution_count": 78,
     "metadata": {},
     "output_type": "execute_result"
    }
   ],
   "source": [
    "ps = pd.Series(len(date6), index=date6)\n",
    "ps"
   ]
  },
  {
   "cell_type": "code",
   "execution_count": 79,
   "metadata": {},
   "outputs": [
    {
     "data": {
      "text/plain": [
       "2014-01    86\n",
       "2015-01    86\n",
       "2016-01    86\n",
       "2017-01    86\n",
       "2018-01    86\n",
       "           ..\n",
       "2095-01    86\n",
       "2096-01    86\n",
       "2097-01    86\n",
       "2098-01    86\n",
       "2099-01    86\n",
       "Freq: M, Length: 86, dtype: int64"
      ]
     },
     "execution_count": 79,
     "metadata": {},
     "output_type": "execute_result"
    }
   ],
   "source": [
    "ps.asfreq('M', how='start')"
   ]
  },
  {
   "cell_type": "code",
   "execution_count": 80,
   "metadata": {},
   "outputs": [
    {
     "data": {
      "text/plain": [
       "2014-12    86\n",
       "2015-12    86\n",
       "2016-12    86\n",
       "2017-12    86\n",
       "2018-12    86\n",
       "           ..\n",
       "2095-12    86\n",
       "2096-12    86\n",
       "2097-12    86\n",
       "2098-12    86\n",
       "2099-12    86\n",
       "Freq: M, Length: 86, dtype: int64"
      ]
     },
     "execution_count": 80,
     "metadata": {},
     "output_type": "execute_result"
    }
   ],
   "source": [
    "ps.asfreq('M', how='end')"
   ]
  },
  {
   "cell_type": "code",
   "execution_count": 83,
   "metadata": {},
   "outputs": [
    {
     "data": {
      "text/plain": [
       "2018-04-30    0\n",
       "2018-05-31    1\n",
       "2018-06-30    2\n",
       "2018-07-31    3\n",
       "Freq: M, dtype: int64"
      ]
     },
     "execution_count": 83,
     "metadata": {},
     "output_type": "execute_result"
    }
   ],
   "source": [
    "date7 = pd.date_range('2018/4/1', periods=4, freq='M')\n",
    "s = pd.Series(np.arange(len(date7)), index=date7)\n",
    "s"
   ]
  },
  {
   "cell_type": "code",
   "execution_count": 84,
   "metadata": {},
   "outputs": [
    {
     "data": {
      "text/plain": [
       "2018-04    0\n",
       "2018-05    1\n",
       "2018-06    2\n",
       "2018-07    3\n",
       "Freq: M, dtype: int64"
      ]
     },
     "execution_count": 84,
     "metadata": {},
     "output_type": "execute_result"
    }
   ],
   "source": [
    "ps = s.to_period()\n",
    "ps"
   ]
  },
  {
   "cell_type": "code",
   "execution_count": 85,
   "metadata": {},
   "outputs": [
    {
     "data": {
      "text/plain": [
       "2018    0\n",
       "2018    1\n",
       "2018    2\n",
       "2018    3\n",
       "Freq: A-DEC, dtype: int64"
      ]
     },
     "execution_count": 85,
     "metadata": {},
     "output_type": "execute_result"
    }
   ],
   "source": [
    "ps = s.to_period('A-DEC')\n",
    "ps"
   ]
  },
  {
   "cell_type": "code",
   "execution_count": 86,
   "metadata": {},
   "outputs": [
    {
     "data": {
      "text/plain": [
       "2018-04    0\n",
       "2018-05    1\n",
       "2018-06    2\n",
       "2018-07    3\n",
       "Freq: M, dtype: int64"
      ]
     },
     "execution_count": 86,
     "metadata": {},
     "output_type": "execute_result"
    }
   ],
   "source": [
    "ps = s.to_period()\n",
    "ps"
   ]
  },
  {
   "cell_type": "code",
   "execution_count": 87,
   "metadata": {},
   "outputs": [
    {
     "data": {
      "text/plain": [
       "2018-04-01    0\n",
       "2018-05-01    1\n",
       "2018-06-01    2\n",
       "2018-07-01    3\n",
       "Freq: MS, dtype: int64"
      ]
     },
     "execution_count": 87,
     "metadata": {},
     "output_type": "execute_result"
    }
   ],
   "source": [
    "ps.to_timestamp(how='start')"
   ]
  },
  {
   "cell_type": "markdown",
   "metadata": {},
   "source": [
    "## 重采样 resample"
   ]
  },
  {
   "cell_type": "code",
   "execution_count": 88,
   "metadata": {},
   "outputs": [
    {
     "data": {
      "text/plain": [
       "2018-04-01      0\n",
       "2018-04-02      1\n",
       "2018-04-03      2\n",
       "2018-04-04      3\n",
       "2018-04-05      4\n",
       "             ... \n",
       "2018-10-13    195\n",
       "2018-10-14    196\n",
       "2018-10-15    197\n",
       "2018-10-16    198\n",
       "2018-10-17    199\n",
       "Freq: D, Length: 200, dtype: int64"
      ]
     },
     "execution_count": 88,
     "metadata": {},
     "output_type": "execute_result"
    }
   ],
   "source": [
    "date = pd.date_range('2018/4/1', periods=200, freq='D')\n",
    "s = pd.Series(np.arange(len(date)), index=date)\n",
    "s"
   ]
  },
  {
   "cell_type": "code",
   "execution_count": 90,
   "metadata": {},
   "outputs": [
    {
     "data": {
      "text/plain": [
       "2018-04-30     14.5\n",
       "2018-05-31     45.0\n",
       "2018-06-30     75.5\n",
       "2018-07-31    106.0\n",
       "2018-08-31    137.0\n",
       "2018-09-30    167.5\n",
       "2018-10-31    191.0\n",
       "Freq: M, dtype: float64"
      ]
     },
     "execution_count": 90,
     "metadata": {},
     "output_type": "execute_result"
    }
   ],
   "source": [
    "s.resample('M').mean()"
   ]
  },
  {
   "cell_type": "code",
   "execution_count": 91,
   "metadata": {},
   "outputs": [
    {
     "data": {
      "text/plain": [
       "2008-04-01     0\n",
       "2008-04-02     1\n",
       "2008-04-03     2\n",
       "2008-04-04     3\n",
       "2008-04-05     4\n",
       "2008-04-06     5\n",
       "2008-04-07     6\n",
       "2008-04-08     7\n",
       "2008-04-09     8\n",
       "2008-04-10     9\n",
       "2008-04-11    10\n",
       "2008-04-12    11\n",
       "Freq: D, dtype: int64"
      ]
     },
     "execution_count": 91,
     "metadata": {},
     "output_type": "execute_result"
    }
   ],
   "source": [
    "date = pd.date_range('2008/4/1', periods=12, freq='D')\n",
    "s = pd.Series(np.arange(len(date)), index=date)\n",
    "s"
   ]
  },
  {
   "cell_type": "code",
   "execution_count": 92,
   "metadata": {},
   "outputs": [
    {
     "data": {
      "text/plain": [
       "2008-04-01     0\n",
       "2008-04-06    15\n",
       "2008-04-11    40\n",
       "2008-04-16    11\n",
       "Freq: 5D, dtype: int64"
      ]
     },
     "execution_count": 92,
     "metadata": {},
     "output_type": "execute_result"
    }
   ],
   "source": [
    "s.resample('5D', closed='right', label='right').sum()"
   ]
  },
  {
   "cell_type": "code",
   "execution_count": 93,
   "metadata": {},
   "outputs": [
    {
     "data": {
      "text/plain": [
       "2008-04-01    10\n",
       "2008-04-06    35\n",
       "2008-04-11    21\n",
       "Freq: 5D, dtype: int64"
      ]
     },
     "execution_count": 93,
     "metadata": {},
     "output_type": "execute_result"
    }
   ],
   "source": [
    "s.resample('5D', closed='left', label='left').sum()"
   ]
  },
  {
   "cell_type": "code",
   "execution_count": 94,
   "metadata": {},
   "outputs": [
    {
     "data": {
      "text/plain": [
       "2008-03-31     0\n",
       "2008-04-05    15\n",
       "2008-04-10    40\n",
       "2008-04-15    11\n",
       "Freq: 5D, dtype: int64"
      ]
     },
     "execution_count": 94,
     "metadata": {},
     "output_type": "execute_result"
    }
   ],
   "source": [
    "s.resample('5D', closed='right', label='right', loffset='-1D').sum()"
   ]
  },
  {
   "cell_type": "code",
   "execution_count": 98,
   "metadata": {},
   "outputs": [
    {
     "data": {
      "text/plain": [
       "2018-04-03    2\n",
       "2018-04-13    5\n",
       "dtype: int64"
      ]
     },
     "execution_count": 98,
     "metadata": {},
     "output_type": "execute_result"
    }
   ],
   "source": [
    "date = [datetime(2018, 4, 3), datetime(2018, 4, 13)]\n",
    "s = pd.Series([2, 5], index=date)\n",
    "s"
   ]
  },
  {
   "cell_type": "code",
   "execution_count": 99,
   "metadata": {},
   "outputs": [
    {
     "data": {
      "text/plain": [
       "2018-04-03    2\n",
       "2018-04-04    2\n",
       "2018-04-05    2\n",
       "2018-04-06    2\n",
       "2018-04-07    2\n",
       "2018-04-08    2\n",
       "2018-04-09    2\n",
       "2018-04-10    2\n",
       "2018-04-11    2\n",
       "2018-04-12    2\n",
       "2018-04-13    5\n",
       "Freq: D, dtype: int64"
      ]
     },
     "execution_count": 99,
     "metadata": {},
     "output_type": "execute_result"
    }
   ],
   "source": [
    "s.resample('D').ffill()"
   ]
  },
  {
   "cell_type": "code",
   "execution_count": 103,
   "metadata": {},
   "outputs": [
    {
     "data": {
      "text/plain": [
       "2018-04-03    2.0\n",
       "2018-04-04    2.0\n",
       "2018-04-05    2.0\n",
       "2018-04-06    NaN\n",
       "2018-04-07    NaN\n",
       "2018-04-08    NaN\n",
       "2018-04-09    NaN\n",
       "2018-04-10    NaN\n",
       "2018-04-11    NaN\n",
       "2018-04-12    NaN\n",
       "2018-04-13    5.0\n",
       "Freq: D, dtype: float64"
      ]
     },
     "execution_count": 103,
     "metadata": {},
     "output_type": "execute_result"
    }
   ],
   "source": [
    "s.resample('D').ffill(2)"
   ]
  },
  {
   "cell_type": "code",
   "execution_count": 104,
   "metadata": {},
   "outputs": [
    {
     "data": {
      "text/plain": [
       "2018-04-03    2.0\n",
       "2018-04-04    2.0\n",
       "2018-04-05    2.0\n",
       "2018-04-06    2.0\n",
       "2018-04-07    2.0\n",
       "2018-04-08    NaN\n",
       "2018-04-09    NaN\n",
       "2018-04-10    NaN\n",
       "2018-04-11    NaN\n",
       "2018-04-12    NaN\n",
       "2018-04-13    5.0\n",
       "Freq: D, dtype: float64"
      ]
     },
     "execution_count": 104,
     "metadata": {},
     "output_type": "execute_result"
    }
   ],
   "source": [
    "s.resample('D').ffill(4)"
   ]
  },
  {
   "cell_type": "code",
   "execution_count": null,
   "metadata": {},
   "outputs": [],
   "source": []
  }
 ],
 "metadata": {
  "kernelspec": {
   "display_name": "Python 3.7.7 64-bit",
   "language": "python",
   "name": "python37764bit3b7b5d42d44946a88de85840a9791756"
  },
  "language_info": {
   "codemirror_mode": {
    "name": "ipython",
    "version": 3
   },
   "file_extension": ".py",
   "mimetype": "text/x-python",
   "name": "python",
   "nbconvert_exporter": "python",
   "pygments_lexer": "ipython3",
   "version": "3.7.7"
  }
 },
 "nbformat": 4,
 "nbformat_minor": 4
}
