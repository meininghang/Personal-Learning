{
 "cells": [
  {
   "cell_type": "code",
   "execution_count": 1,
   "metadata": {},
   "outputs": [],
   "source": [
    "#导入需要的包\n",
    "import numpy as np\n",
    "import paddle as paddle\n",
    "import paddle.fluid as fluid\n",
    "from PIL import Image\n",
    "import matplotlib.pyplot as plt\n",
    "import os"
   ]
  },
  {
   "cell_type": "code",
   "execution_count": 2,
   "metadata": {},
   "outputs": [],
   "source": [
    "#导入数据集\n",
    "train_reader = paddle.batch(paddle.reader.shuffle(paddle.dataset.mnist.train(),buf_size=512),batch_size=128)\n",
    "test_reader = paddle.batch(paddle.dataset.mnist.test(),batch_size=128)"
   ]
  },
  {
   "cell_type": "markdown",
   "metadata": {},
   "source": [
    "## step2:配置网络"
   ]
  },
  {
   "cell_type": "code",
   "execution_count": 3,
   "metadata": {},
   "outputs": [],
   "source": [
    "#定义多层感知机\n",
    "def multilayer_perceptron(input):\n",
    "    hidden1 = fluid.layers.fc(input=input, size=100, act='relu')\n",
    "    hidden2 = fluid.layers.fc(input=hidden1, size=100,act='relu')\n",
    "    prediction = fluid.layers.fc(input=hidden2, size=10,act='softmax')\n",
    "    return prediction"
   ]
  },
  {
   "cell_type": "code",
   "execution_count": 4,
   "metadata": {},
   "outputs": [],
   "source": [
    "#定义输入输出层\n",
    "image = fluid.layers.data(name='image',shape=[1,28,28],dtype='float32') #灰度图,单通道,28*28 像素值\n",
    "label = fluid.layers.data(name='label',shape=[1],dtype='int64') #输出的是图像标签,从 0~9"
   ]
  },
  {
   "cell_type": "code",
   "execution_count": 5,
   "metadata": {},
   "outputs": [],
   "source": [
    "#获取分类器\n",
    "model = multilayer_perceptron(image) #感知机实例化并传入参数"
   ]
  },
  {
   "cell_type": "code",
   "execution_count": 6,
   "metadata": {},
   "outputs": [],
   "source": [
    "#定义 Loss函数,分类问题常用 cross_entropy 函数\n",
    "cost = fluid.layers.cross_entropy(input=model,label=label) #对 model 应用函数,在标签预测\n",
    "avg_cost = fluid.layers.mean(cost) #对损失函数求均值\n",
    "acc = fluid.layers.accuracy(input=model,label=label) #准确率函数,评价输出准确率"
   ]
  },
  {
   "cell_type": "code",
   "execution_count": 7,
   "metadata": {},
   "outputs": [],
   "source": [
    "#定义优化器\n",
    "optimizer = fluid.optimizer.AdamOptimizer(learning_rate=0.001) #选用 Adam 算法,学习率指定为 0.001\n",
    "opts = optimizer.minimize(avg_cost) #使平均损失最小"
   ]
  },
  {
   "cell_type": "markdown",
   "metadata": {},
   "source": [
    "## step3&step4:模型训练和评估"
   ]
  },
  {
   "cell_type": "code",
   "execution_count": 8,
   "metadata": {},
   "outputs": [],
   "source": [
    "#定义一个使用 CPU 的解析器\n",
    "place = fluid.CPUPlace()\n",
    "exe = fluid.Executor(place)"
   ]
  },
  {
   "cell_type": "code",
   "execution_count": 9,
   "metadata": {},
   "outputs": [
    {
     "data": {
      "text/plain": [
       "[]"
      ]
     },
     "execution_count": 9,
     "metadata": {},
     "output_type": "execute_result"
    }
   ],
   "source": [
    "#参数初始化\n",
    "exe.run(fluid.default_startup_program())"
   ]
  },
  {
   "cell_type": "code",
   "execution_count": 10,
   "metadata": {},
   "outputs": [],
   "source": [
    "#定义输入数据维度\n",
    "feeder = fluid.DataFeeder(place=place,feed_list=[image,label])"
   ]
  },
  {
   "cell_type": "code",
   "execution_count": 11,
   "metadata": {},
   "outputs": [
    {
     "name": "stdout",
     "output_type": "stream",
     "text": [
      "Pass:0, Batch:0, Cost:2.51942,Accuracy:0.12500\n",
      "Pass:0, Batch:100, Cost:0.36024,Accuracy:0.90625\n",
      "Pass:0, Batch:200, Cost:0.28533,Accuracy:0.91406\n",
      "Pass:0, Batch:300, Cost:0.20071,Accuracy:0.93750\n",
      "Pass:0, Batch:400, Cost:0.23980,Accuracy:0.91406\n",
      "Test:0,Cost:0.22550,Accuracy:0.93008\n",
      "save models to /Users/meininghang/hand.inference.model\n",
      "Pass:1, Batch:0, Cost:0.22111,Accuracy:0.94531\n",
      "Pass:1, Batch:100, Cost:0.23153,Accuracy:0.92969\n",
      "Pass:1, Batch:200, Cost:0.25044,Accuracy:0.91406\n",
      "Pass:1, Batch:300, Cost:0.07422,Accuracy:0.98438\n",
      "Pass:1, Batch:400, Cost:0.13183,Accuracy:0.96875\n",
      "Test:1,Cost:0.14740,Accuracy:0.95402\n",
      "save models to /Users/meininghang/hand.inference.model\n",
      "Pass:2, Batch:0, Cost:0.19064,Accuracy:0.96094\n",
      "Pass:2, Batch:100, Cost:0.06469,Accuracy:0.97656\n",
      "Pass:2, Batch:200, Cost:0.11751,Accuracy:0.96094\n",
      "Pass:2, Batch:300, Cost:0.09318,Accuracy:0.96875\n",
      "Pass:2, Batch:400, Cost:0.12731,Accuracy:0.96094\n",
      "Test:2,Cost:0.12114,Accuracy:0.96143\n",
      "save models to /Users/meininghang/hand.inference.model\n",
      "Pass:3, Batch:0, Cost:0.04397,Accuracy:0.99219\n",
      "Pass:3, Batch:100, Cost:0.10638,Accuracy:0.98438\n",
      "Pass:3, Batch:200, Cost:0.09028,Accuracy:0.94531\n",
      "Pass:3, Batch:300, Cost:0.09054,Accuracy:0.96875\n",
      "Pass:3, Batch:400, Cost:0.14579,Accuracy:0.92969\n",
      "Test:3,Cost:0.10163,Accuracy:0.96687\n",
      "save models to /Users/meininghang/hand.inference.model\n",
      "Pass:4, Batch:0, Cost:0.09900,Accuracy:0.96875\n",
      "Pass:4, Batch:100, Cost:0.09868,Accuracy:0.96875\n",
      "Pass:4, Batch:200, Cost:0.06681,Accuracy:0.96875\n",
      "Pass:4, Batch:300, Cost:0.08996,Accuracy:0.96875\n",
      "Pass:4, Batch:400, Cost:0.07497,Accuracy:0.97656\n",
      "Test:4,Cost:0.08555,Accuracy:0.97132\n",
      "save models to /Users/meininghang/hand.inference.model\n"
     ]
    }
   ],
   "source": [
    "#开始训练和测试\n",
    "for pass_id in range(5):\n",
    "    #进行训练\n",
    "    for batch_id, data in enumerate(train_reader()): #遍历 train_reader\n",
    "        train_cost, train_acc = exe.run(program=fluid.default_main_program(),#运行主程序\n",
    "                                        feed=feeder.feed(data),#传入数据\n",
    "                                        fetch_list=[avg_cost,acc]) #误差,准确率\n",
    "        #每 100 个 batch 打印一次\n",
    "        if batch_id % 100 == 0:\n",
    "            print('Pass:%d, Batch:%d, Cost:%.5f,Accuracy:%.5f'%(pass_id,batch_id,train_cost[0],train_acc[0]))\n",
    "    #进行测试\n",
    "    test_accs = []\n",
    "    test_costs = []\n",
    "    #每训练一轮,进行一次测试\n",
    "    for batch_id, data in enumerate(test_reader()):#遍历 test_reader\n",
    "        test_cost,test_acc = exe.run(program=fluid.default_main_program(),#执行训练程序\n",
    "                                    feed=feeder.feed(data),\n",
    "                                    fetch_list=[avg_cost,acc])\n",
    "        test_accs.append(test_acc[0])\n",
    "        test_costs.append(test_cost[0])\n",
    "    #求测试结果的平均值\n",
    "    test_cost = (sum(test_costs)/len(test_costs))\n",
    "    test_acc = (sum(test_accs)/len(test_accs))\n",
    "    print('Test:%d,Cost:%.5f,Accuracy:%.5f'%(pass_id,test_cost,test_acc))\n",
    "    \n",
    "    #保存 model\n",
    "    model_save_dir = '/Users/meininghang/hand.inference.model'\n",
    "    if not os.path.exists(model_save_dir):\n",
    "        os.makedirs(model_save_dir)\n",
    "    print('save models to %s'%(model_save_dir))\n",
    "    fluid.io.save_inference_model(model_save_dir,['image'],[model],exe)"
   ]
  },
  {
   "cell_type": "markdown",
   "metadata": {},
   "source": [
    "## step5:模型预测"
   ]
  },
  {
   "cell_type": "code",
   "execution_count": 13,
   "metadata": {},
   "outputs": [],
   "source": [
    "#图像预处理\n",
    "def load_image(file):\n",
    "    im = Image.open(file).convert('L') #将 RGB 转化为灰度图像,L 代表灰度图像,灰度图像的像素值在 0~255 之间\n",
    "    im = im.resize((28,28),Image.ANTIALIAS) #将图像大小更改为 28*28\n",
    "    im = np.array(im).reshape(1,1,28,28).astype(np.float32) #一维向量化\n",
    "    im = im / 255.0 * 2.0 - 1.0 #归一化[-1,1]\n",
    "    return im"
   ]
  },
  {
   "cell_type": "code",
   "execution_count": 14,
   "metadata": {},
   "outputs": [],
   "source": [
    "infer_exe = fluid.Executor(place)\n",
    "inference_scope = fluid.core.Scope()"
   ]
  },
  {
   "cell_type": "code",
   "execution_count": null,
   "metadata": {},
   "outputs": [],
   "source": [
    "#加载数据并进行预测\n",
    "with fluid.scope_guard(inference_scope):\n",
    "    #获取预先训练好的模型\n",
    "    #从指定目录中加载 推理 model(inference model)\n",
    "    [inference_program, feed_target_names, fetch_targets] = fluid.io.load_inference_model(model_save_dir, infer_exe)\n",
    "    \n",
    "    img = load"
   ]
  },
  {
   "cell_type": "code",
   "execution_count": 15,
   "metadata": {},
   "outputs": [
    {
     "ename": "FileNotFoundError",
     "evalue": "[Errno 2] No such file or directory: 'data/6.png'",
     "output_type": "error",
     "traceback": [
      "\u001b[0;31m---------------------------------------------------------------------------\u001b[0m",
      "\u001b[0;31mFileNotFoundError\u001b[0m                         Traceback (most recent call last)",
      "\u001b[0;32m<ipython-input-15-eeacc41d4c82>\u001b[0m in \u001b[0;36m<module>\u001b[0;34m\u001b[0m\n\u001b[0;32m----> 1\u001b[0;31m \u001b[0mimg\u001b[0m \u001b[0;34m=\u001b[0m \u001b[0mImage\u001b[0m\u001b[0;34m.\u001b[0m\u001b[0mopen\u001b[0m\u001b[0;34m(\u001b[0m\u001b[0;34m'data/6.png'\u001b[0m\u001b[0;34m)\u001b[0m\u001b[0;34m\u001b[0m\u001b[0;34m\u001b[0m\u001b[0m\n\u001b[0m",
      "\u001b[0;32m/usr/local/lib/python3.7/site-packages/PIL/Image.py\u001b[0m in \u001b[0;36mopen\u001b[0;34m(fp, mode)\u001b[0m\n\u001b[1;32m   2807\u001b[0m \u001b[0;34m\u001b[0m\u001b[0m\n\u001b[1;32m   2808\u001b[0m     \u001b[0;32mif\u001b[0m \u001b[0mfilename\u001b[0m\u001b[0;34m:\u001b[0m\u001b[0;34m\u001b[0m\u001b[0;34m\u001b[0m\u001b[0m\n\u001b[0;32m-> 2809\u001b[0;31m         \u001b[0mfp\u001b[0m \u001b[0;34m=\u001b[0m \u001b[0mbuiltins\u001b[0m\u001b[0;34m.\u001b[0m\u001b[0mopen\u001b[0m\u001b[0;34m(\u001b[0m\u001b[0mfilename\u001b[0m\u001b[0;34m,\u001b[0m \u001b[0;34m\"rb\"\u001b[0m\u001b[0;34m)\u001b[0m\u001b[0;34m\u001b[0m\u001b[0;34m\u001b[0m\u001b[0m\n\u001b[0m\u001b[1;32m   2810\u001b[0m         \u001b[0mexclusive_fp\u001b[0m \u001b[0;34m=\u001b[0m \u001b[0;32mTrue\u001b[0m\u001b[0;34m\u001b[0m\u001b[0;34m\u001b[0m\u001b[0m\n\u001b[1;32m   2811\u001b[0m \u001b[0;34m\u001b[0m\u001b[0m\n",
      "\u001b[0;31mFileNotFoundError\u001b[0m: [Errno 2] No such file or directory: 'data/6.png'"
     ]
    }
   ],
   "source": [
    "img = Image.open('data/6.png')"
   ]
  },
  {
   "cell_type": "code",
   "execution_count": null,
   "metadata": {},
   "outputs": [],
   "source": [
    "#差不多是这个意思,当然还有点问题,比如下载的 mnist 在哪?不过这个不重要,重要的是gan'jue"
   ]
  }
 ],
 "metadata": {
  "file_extension": ".py",
  "kernelspec": {
   "display_name": "Python 3.7.7 64-bit",
   "language": "python",
   "name": "python37764bit3b7b5d42d44946a88de85840a9791756"
  },
  "language_info": {
   "codemirror_mode": {
    "name": "ipython",
    "version": 3
   },
   "file_extension": ".py",
   "mimetype": "text/x-python",
   "name": "python",
   "nbconvert_exporter": "python",
   "pygments_lexer": "ipython3",
   "version": "3.7.7"
  },
  "mimetype": "text/x-python",
  "name": "python",
  "npconvert_exporter": "python",
  "pygments_lexer": "ipython3",
  "version": 3
 },
 "nbformat": 4,
 "nbformat_minor": 4
}
